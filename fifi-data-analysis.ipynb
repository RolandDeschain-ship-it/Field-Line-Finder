{
 "cells": [
  {
   "cell_type": "code",
   "execution_count": 67,
   "id": "62dc39ef",
   "metadata": {
    "_cell_guid": "b1076dfc-b9ad-4769-8c92-a6c4dae69d19",
    "_uuid": "8f2839f25d086af736a60e9eeb907d3b93b6e0e5",
    "execution": {
     "iopub.execute_input": "2023-04-14T14:51:23.939332Z",
     "iopub.status.busy": "2023-04-14T14:51:23.938341Z",
     "iopub.status.idle": "2023-04-14T14:51:24.236768Z",
     "shell.execute_reply": "2023-04-14T14:51:24.235363Z"
    },
    "papermill": {
     "duration": 0.30789,
     "end_time": "2023-04-14T14:51:24.239899",
     "exception": false,
     "start_time": "2023-04-14T14:51:23.932009",
     "status": "completed"
    },
    "tags": [],
    "ExecuteTime": {
     "start_time": "2023-04-28T19:16:17.774147Z",
     "end_time": "2023-04-28T19:16:17.833627Z"
    }
   },
   "outputs": [],
   "source": [
    "# This Python 3 environment comes with many helpful analytics libraries installed\n",
    "# It is defined by the kaggle/python Docker image: https://github.com/kaggle/docker-python\n",
    "# For example, here's several helpful packages to load\n",
    "import numpy as np # linear algebra\n",
    "import cv2\n",
    "import xml.etree.ElementTree as ET\n",
    "import os\n",
    "import matplotlib.pyplot as plt\n",
    "import numpy as np\n",
    "import shapely\n",
    "from shapely.ops import unary_union\n",
    "from shapely.geometry import LineString\n",
    "from shapely.ops import linemerge\n",
    "from statistics import mean, median\n",
    "\n",
    "from shapely.geometry import LineString\n",
    "\n"
   ]
  },
  {
   "cell_type": "code",
   "execution_count": 68,
   "id": "65f86a7c",
   "metadata": {
    "execution": {
     "iopub.execute_input": "2023-04-14T14:51:36.478344Z",
     "iopub.status.busy": "2023-04-14T14:51:36.477854Z",
     "iopub.status.idle": "2023-04-14T14:51:36.800884Z",
     "shell.execute_reply": "2023-04-14T14:51:36.799684Z"
    },
    "papermill": {
     "duration": 0.330891,
     "end_time": "2023-04-14T14:51:36.803896",
     "exception": false,
     "start_time": "2023-04-14T14:51:36.473005",
     "status": "completed"
    },
    "tags": [],
    "ExecuteTime": {
     "start_time": "2023-04-28T19:16:17.823506Z",
     "end_time": "2023-04-28T19:16:17.836051Z"
    }
   },
   "outputs": [],
   "source": [
    "images_path = f'/home/ohm/FiFi/FiFi_Dataset/Selected_Pictues_2.0/All/'\n",
    "\n",
    "# Parse the XML file\n",
    "xml_file = '/home/ohm/PycharmProjects/FiFi/annotations/annotations_unchanged.xml'\n",
    "tree = ET.parse(xml_file)\n",
    "root = tree.getroot()\n",
    "\n",
    "xml_file_compare = '/home/ohm/PycharmProjects/FiFi/annotations/annotations_changes_999.xml'\n",
    "tree_compare = ET.parse(xml_file_compare)\n",
    "root_compare = tree_compare.getroot()\n",
    "\n",
    "buffer_size = 5\n",
    "\n",
    "# Function to parse points from a string\n",
    "def parse_points(points_str):\n",
    "    points = []\n",
    "    for point in points_str.split(';'):\n",
    "        x, y = point.split(',')\n",
    "        points.append((float(x), float(y)))\n",
    "    points = np.array(points, dtype=np.int32)\n",
    "    return points\n",
    "\n"
   ]
  },
  {
   "cell_type": "code",
   "execution_count": 69,
   "id": "daac4541",
   "metadata": {
    "execution": {
     "iopub.execute_input": "2023-04-14T14:51:36.811775Z",
     "iopub.status.busy": "2023-04-14T14:51:36.811370Z",
     "iopub.status.idle": "2023-04-14T14:51:36.819624Z",
     "shell.execute_reply": "2023-04-14T14:51:36.818439Z"
    },
    "papermill": {
     "duration": 0.014984,
     "end_time": "2023-04-14T14:51:36.821959",
     "exception": false,
     "start_time": "2023-04-14T14:51:36.806975",
     "status": "completed"
    },
    "tags": [],
    "ExecuteTime": {
     "start_time": "2023-04-28T19:16:17.823770Z",
     "end_time": "2023-04-28T19:16:17.836353Z"
    }
   },
   "outputs": [],
   "source": [
    "import numpy as np\n",
    "from matplotlib.path import Path\n",
    "from matplotlib.patches import PathPatch\n",
    "from matplotlib.collections import PatchCollection\n",
    "\n",
    "\n",
    "def plot_polygon(poly, img, line_color=(0, 255, 0), line_thickness=2):\n",
    "    # Get the exterior coordinates of the polygon\n",
    "    exterior_coords = np.array(poly.exterior.coords).astype(int)\n",
    "\n",
    "    # Draw the polygon on the image\n",
    "    cv2.polylines(img, [exterior_coords], isClosed=True, color=line_color, thickness=line_thickness)\n",
    "\n",
    "def plot_img(element, image):\n",
    "\n",
    "    for polygon in element.iter('polygon'):\n",
    "        str_point = polygon.get('points')\n",
    "        pointss = parse_points(str_point)\n",
    "        pointss = np.append(pointss, [pointss[0]], axis=0)\n",
    "        for point_idx, ele in np.ndenumerate(pointss):\n",
    "            point_idx = point_idx[0]\n",
    "            plot_polygon(LineString([pointss[point_idx], pointss[(point_idx + 1) % len(pointss)]]).buffer(buffer_size+4), image, line_thickness=1)\n",
    "\n",
    "    for line in element.iter('line'):\n",
    "        str_point = line.get('points')\n",
    "        pointss = parse_points(str_point)\n",
    "        plt.plot(*LineString(pointss).xy, color=\"red\", linewidth=2, zorder=2)\n",
    "\n",
    "    print(element.attrib['name'])\n",
    "    plt.imshow(cv2.cvtColor(image, cv2.COLOR_BGR2RGB))\n",
    "    plt.show()\n",
    "\n"
   ]
  },
  {
   "cell_type": "code",
   "execution_count": 70,
   "outputs": [],
   "source": [
    "def calc_metrics(element):\n",
    "    ground_truth = []\n",
    "    detector_output = []\n",
    "    iou = 0\n",
    "\n",
    "    for line_element in element.iter('line'):\n",
    "        points_str = line_element.get('points')\n",
    "        points = parse_points(points_str)\n",
    "        detector_output.append(LineString(points).buffer(buffer_size))\n",
    "\n",
    "    for polygon_element in element.iter('polygon'):\n",
    "        points_str = polygon_element.get('points')\n",
    "        points = parse_points(points_str)\n",
    "        points = np.append(points, [points[0]], axis=0)\n",
    "        for point_idx, ele in np.ndenumerate(points):\n",
    "            point_idx = point_idx[0]\n",
    "            ground_truth.append(LineString([points[point_idx], points[(point_idx + 1) % len(points)]]).buffer(buffer_size))\n",
    "\n",
    "\n",
    "    union_all_poly = unary_union(ground_truth)\n",
    "    union_all_line = unary_union(detector_output)\n",
    "\n",
    "    intersection = union_all_poly.intersection(union_all_line)\n",
    "\n",
    "    union = union_all_poly.union(union_all_line)\n",
    "\n",
    "    iou = intersection.area / union.area\n",
    "\n",
    "    # calculate false positives area\n",
    "    # get the area where the detector output is not in the ground truth\n",
    "    diff = calc_false_positives(element)\n",
    "\n",
    "    return diff, iou\n",
    "\n",
    "def calc_false_positives(ele):\n",
    "    ground_truth = []\n",
    "    detector_output = []\n",
    "\n",
    "    for line_element in ele.iter('line'):\n",
    "        points_str = line_element.get('points')\n",
    "        points = parse_points(points_str)\n",
    "        detector_output.append(LineString(points))\n",
    "\n",
    "    for polygon_element in ele.iter('polygon'):\n",
    "        points_str = polygon_element.get('points')\n",
    "        points = parse_points(points_str)\n",
    "        points = np.append(points, [points[0]], axis=0)\n",
    "        for point_idx, ele in np.ndenumerate(points):\n",
    "            point_idx = point_idx[0]\n",
    "            ground_truth.append(LineString([points[point_idx], points[(point_idx + 1) % len(points)]]).buffer(buffer_size+4))\n",
    "\n",
    "    # calculate the lenght of the detector_output lines that are not in the ground_truth polygons\n",
    "    diff = unary_union(detector_output).difference(unary_union(ground_truth))\n",
    "\n",
    "    return diff.length\n",
    "\n",
    "# a function that calculates the true_positives for a given element\n",
    "def calc_true_positives(element):\n",
    "    ground_truth = []\n",
    "    detector_output = []\n",
    "\n",
    "    for line_element in element.iter('line'):\n",
    "        points_str = line_element.get('points')\n",
    "        points = parse_points(points_str)\n",
    "        detector_output.append(LineString(points))\n",
    "\n",
    "    for polygon_element in element.iter('polygon'):\n",
    "        points_str = polygon_element.get('points')\n",
    "        points = parse_points(points_str)\n",
    "        points = np.append(points, [points[0]], axis=0)\n",
    "        for point_idx, ele in np.ndenumerate(points):\n",
    "            point_idx = point_idx[0]\n",
    "            ground_truth.append(LineString([points[point_idx], points[(point_idx + 1) % len(points)]]).buffer(buffer_size+4))\n",
    "\n",
    "    # calculate the lenght of the detector_output lines that are in the ground_truth polygons\n",
    "    intersection = unary_union(detector_output).intersection(unary_union(ground_truth))\n",
    "\n",
    "    return intersection.length\n",
    "\n",
    "\n",
    "def calc_metrics_for_all_images(xml_root, xml_root_compare_plot=None):\n",
    "    iou_array = []\n",
    "    true_positives = 0\n",
    "    false_positives = 0\n",
    "\n",
    "    for image_element in xml_root.iter('image'):\n",
    "        image_name = image_element.get('name')\n",
    "        image_path = images_path + image_name\n",
    "\n",
    "        img = cv2.imread(image_path)\n",
    "\n",
    "        if not os.path.exists(image_path):\n",
    "            continue\n",
    "\n",
    "        false_positive, iou = calc_metrics(image_element)\n",
    "        iou_array.append(iou)\n",
    "\n",
    "        false_positives += false_positive\n",
    "\n",
    "        true_positive = calc_true_positives(image_element)\n",
    "        true_positives += true_positive\n",
    "\n",
    "        # check if xml_root_compare_plot is None\n",
    "        if xml_root_compare_plot is not None:\n",
    "            image_element_compare = None\n",
    "            for ele in xml_root_compare_plot.iter('image'):\n",
    "                if ele.attrib['name'] == image_element.attrib['name']:\n",
    "                    image_element_compare = ele\n",
    "                    compare_false_positive, compare_iou = calc_metrics(image_element_compare)\n",
    "\n",
    "    # calculate the precision\n",
    "    precision = true_positives / (true_positives + false_positives)\n",
    "\n",
    "    return precision, iou_array"
   ],
   "metadata": {
    "collapsed": false,
    "ExecuteTime": {
     "start_time": "2023-04-28T19:16:17.824023Z",
     "end_time": "2023-04-28T19:16:17.836455Z"
    }
   }
  },
  {
   "cell_type": "code",
   "execution_count": 71,
   "id": "6ef0f91b",
   "metadata": {
    "execution": {
     "iopub.execute_input": "2023-04-14T14:51:36.830134Z",
     "iopub.status.busy": "2023-04-14T14:51:36.829713Z",
     "iopub.status.idle": "2023-04-14T14:52:25.395959Z",
     "shell.execute_reply": "2023-04-14T14:52:25.394363Z"
    },
    "papermill": {
     "duration": 48.575528,
     "end_time": "2023-04-14T14:52:25.400572",
     "exception": false,
     "start_time": "2023-04-14T14:51:36.825044",
     "status": "completed"
    },
    "tags": [],
    "ExecuteTime": {
     "start_time": "2023-04-28T19:16:17.834268Z",
     "end_time": "2023-04-28T19:16:37.350217Z"
    }
   },
   "outputs": [],
   "source": [
    "precision, ious = calc_metrics_for_all_images(root, xml_root_compare_plot=root_compare)\n",
    "precision_compare, ious_compare = calc_metrics_for_all_images(root_compare)"
   ]
  },
  {
   "cell_type": "code",
   "execution_count": 72,
   "outputs": [],
   "source": [
    "def print_metrics(precision, iou_array, name=\"\"):\n",
    "    print(f\"Metrics for: {name}\")\n",
    "    print(f\"Length {len(iou_array)}\")\n",
    "    print(f\"Mean {mean(iou_array)}\")\n",
    "    print(f\"Median {median(iou_array)}\")\n",
    "    print(f\"Imges with no detection: {len([iou for iou in iou_array if iou < 0.001])}\")\n",
    "    print(f\"Precision: {precision}\")\n",
    "    plt.hist(iou_array, bins='auto')\n",
    "    plt.show()"
   ],
   "metadata": {
    "collapsed": false,
    "ExecuteTime": {
     "start_time": "2023-04-28T19:16:37.391563Z",
     "end_time": "2023-04-28T19:16:37.391925Z"
    }
   }
  },
  {
   "cell_type": "code",
   "execution_count": 73,
   "id": "c4d4de26",
   "metadata": {
    "execution": {
     "iopub.execute_input": "2023-04-14T14:52:25.408642Z",
     "iopub.status.busy": "2023-04-14T14:52:25.408189Z",
     "iopub.status.idle": "2023-04-14T14:52:25.904779Z",
     "shell.execute_reply": "2023-04-14T14:52:25.903362Z"
    },
    "papermill": {
     "duration": 0.503562,
     "end_time": "2023-04-14T14:52:25.907210",
     "exception": false,
     "start_time": "2023-04-14T14:52:25.403648",
     "status": "completed"
    },
    "tags": [],
    "ExecuteTime": {
     "start_time": "2023-04-28T19:16:37.391855Z",
     "end_time": "2023-04-28T19:16:37.557122Z"
    }
   },
   "outputs": [
    {
     "name": "stdout",
     "output_type": "stream",
     "text": [
      "Metrics for: /home/ohm/PycharmProjects/FiFi/annotations/annotations_unchanged.xml\n",
      "Length 160\n",
      "Mean 0.13409544400570192\n",
      "Median 0.0\n",
      "Imges with no detection: 101\n",
      "Precision: 0.958998140455674\n"
     ]
    },
    {
     "data": {
      "text/plain": "<Figure size 640x480 with 1 Axes>",
      "image/png": "[encoded data removed]"
     },
     "metadata": {},
     "output_type": "display_data"
    },
    {
     "name": "stdout",
     "output_type": "stream",
     "text": [
      "Metrics for: /home/ohm/PycharmProjects/FiFi/annotations/annotations_changes_999.xml\n",
      "Length 160\n",
      "Mean 0.19102665979416752\n",
      "Median 0.1340518759400079\n",
      "Imges with no detection: 73\n",
      "Precision: 0.9469892412988273\n"
     ]
    },
    {
     "data": {
      "text/plain": "<Figure size 640x480 with 1 Axes>",
      "image/png": "[encoded data removed]"
     },
     "metadata": {},
     "output_type": "display_data"
    }
   ],
   "source": [
    "print_metrics(precision, ious, name=xml_file)\n",
    "print_metrics(precision_compare, ious_compare, name=xml_file_compare)"
   ]
  },
  {
   "cell_type": "code",
   "execution_count": 73,
   "id": "88248215",
   "metadata": {
    "papermill": {
     "duration": 0.003298,
     "end_time": "2023-04-14T14:52:25.914208",
     "exception": false,
     "start_time": "2023-04-14T14:52:25.910910",
     "status": "completed"
    },
    "tags": [],
    "ExecuteTime": {
     "start_time": "2023-04-28T19:16:37.548904Z",
     "end_time": "2023-04-28T19:16:37.557398Z"
    }
   },
   "outputs": [],
   "source": []
  }
 ],
 "metadata": {
  "kernelspec": {
   "display_name": "Python 3",
   "language": "python",
   "name": "python3"
  },
  "language_info": {
   "codemirror_mode": {
    "name": "ipython",
    "version": 3
   },
   "file_extension": ".py",
   "mimetype": "text/x-python",
   "name": "python",
   "nbconvert_exporter": "python",
   "pygments_lexer": "ipython3",
   "version": "3.7.12"
  },
  "papermill": {
   "default_parameters": {},
   "duration": 73.451329,
   "end_time": "2023-04-14T14:52:26.641398",
   "environment_variables": {},
   "exception": null,
   "input_path": "__notebook__.ipynb",
   "output_path": "__notebook__.ipynb",
   "parameters": {},
   "start_time": "2023-04-14T14:51:13.190069",
   "version": "2.4.0"
  }
 },
 "nbformat": 4,
 "nbformat_minor": 5
}
