{
 "cells": [
  {
   "cell_type": "code",
   "execution_count": 11,
   "outputs": [],
   "source": [
    "import subprocess\n",
    "import time\n",
    "import shutil\n",
    "import xml.etree.ElementTree as ET\n",
    "from evaluation.metrics import calc_metrics_for_all_images\n",
    "from statistics import mean, median\n",
    "import os\n",
    "import signal\n",
    "import skopt\n",
    "import wandb\n"
   ],
   "metadata": {
    "collapsed": false,
    "ExecuteTime": {
     "end_time": "2023-05-26T13:49:54.910029976Z",
     "start_time": "2023-05-26T13:49:54.863096762Z"
    }
   }
  },
  {
   "cell_type": "code",
   "execution_count": 12,
   "outputs": [
    {
     "data": {
      "text/plain": "<IPython.core.display.HTML object>",
      "text/html": "Finishing last run (ID:o63ge0w5) before initializing another..."
     },
     "metadata": {},
     "output_type": "display_data"
    },
    {
     "data": {
      "text/plain": "<IPython.core.display.HTML object>",
      "text/html": "Waiting for W&B process to finish... <strong style=\"color:green\">(success).</strong>"
     },
     "metadata": {},
     "output_type": "display_data"
    },
    {
     "data": {
      "text/plain": "<IPython.core.display.HTML object>",
      "text/html": "<style>\n    table.wandb td:nth-child(1) { padding: 0 10px; text-align: left ; width: auto;} td:nth-child(2) {text-align: left ; width: 100%}\n    .wandb-row { display: flex; flex-direction: row; flex-wrap: wrap; justify-content: flex-start; width: 100% }\n    .wandb-col { display: flex; flex-direction: column; flex-basis: 100%; flex: 1; padding: 10px; }\n    </style>\n<div class=\"wandb-row\"><div class=\"wandb-col\"><h3>Run history:</h3><br/><table class=\"wandb\"><tr><td>F1</td><td>▁▆▁▁▁▁▁▁▁▁▁▁▁▁▁▁▁▁▃▆▆▁▁▇▄▁█▇▁▇▁▁▁▁██</td></tr><tr><td>IoU</td><td>▁▆▁▁▁▁▁▁▁▁▁▁▁▁▁▁▁▁▃▅▆▁▁▇▃▁█▆▁▆▁▁▁▁██</td></tr><tr><td>Presicion</td><td>▆▁▆▆▆▆▆▆▆▆▆▆▆▆▆▇▆▆▇▆▄▆▆▃█▆▄▇▆▃▆▆▆▆▂▅</td></tr><tr><td>Recall</td><td>▁▆▁▁▁▁▁▁▁▁▁▁▁▁▁▁▁▁▃▆▆▁▁▆▄▁█▇▁▇▁▁▁▁██</td></tr><tr><td>V_COLORBORDER</td><td>▄▄▆▂▅█▄▇▂▇█▁█▃▄▃▆▆▅▂▂▃▇▁▅▅▅▃▂▆▂▄▄▂▂▂</td></tr><tr><td>V_GREENGAIN</td><td>▇▇▂█▅▆█▇▄▆▇▃▄▇▄▇▆▁▃▃██▃▆▆█▄▇▁▇▅▇▂▇█▂</td></tr><tr><td>V_GREENREGIONCOLORDIST</td><td>▄▄▇█▃▃▅▃▇▇▁▇▃▆▇▄▁▁█▇▅▃▃█▅▅▃█▇▁▆▁▆▁▃▆</td></tr><tr><td>V_LINESPACINGDOWN</td><td>▇▃▅▂▆▄█▇▇▃█▄▇▁▅▃▁▆▂▁▁▁▆▁▃▄▃▇▇▅▅█▅▇▃▃</td></tr><tr><td>V_LINESPACINGUP</td><td>▇▇▆▂▃▄▆▆▁▆█▄▅█▂▇▇▃▂▃▅▂▁▁▅▅▅▃█▃▇█▄▃▃▃</td></tr><tr><td>V_MAXEDGESINLINE</td><td>▆▆▅▃▅▆▇▇▆▄█▂▆▃▇▇▇▄▁▁▃▃▁▃▆▆▄▅▄▅▆▆▂▄▅▆</td></tr><tr><td>V_MAXLINEBORDER</td><td>▃█▁▄▁▆▁▅▃▄██▄██▇▄▃███▇██▆▅██████████</td></tr><tr><td>V_MINFIELDAREA</td><td>▁▂▄▅▅▃▄▇▄▇█▁▇▁▅▃▄█▂▅▁▇▇▁▁▂▁▁▁▂▁▂▁▁▁▁</td></tr><tr><td>V_PIXELSPACING</td><td>▃▇▂▇█▇▁▅▅▆▁▇▃▆▇▅▇▆▁▃▆▆▆█▂█▇█▇█▃▇▄▄▇▇</td></tr><tr><td>V_TEDGEDOWN</td><td>▇▄▆▃▂▅▅▄▃▅▁▃▄▇▂▄▄▅▄█▅▆▂▅▄▅▅▄▄▅▅▅▅▅▅▅</td></tr><tr><td>V_TEDGEUP</td><td>▅▄▅▂▆█▁▃▁▂▁▅▄▄▃▃▂▄▅▄▄▄▅▃▃▃▂▃▇▂▃▂▅▁▅▆</td></tr><tr><td>best_score</td><td>▁▆▆▆▆▆▆▆▆▆▆▆▆▆▆▆▆▆▆▆▆▆▆▇▇▇██████████</td></tr></table><br/></div><div class=\"wandb-col\"><h3>Run summary:</h3><br/><table class=\"wandb\"><tr><td>F1</td><td>0.31663</td></tr><tr><td>IoU</td><td>0.24331</td></tr><tr><td>Presicion</td><td>0.93985</td></tr><tr><td>Recall</td><td>0.19038</td></tr><tr><td>V_COLORBORDER</td><td>3</td></tr><tr><td>V_GREENGAIN</td><td>1.35468</td></tr><tr><td>V_GREENREGIONCOLORDIST</td><td>581</td></tr><tr><td>V_LINESPACINGDOWN</td><td>10</td></tr><tr><td>V_LINESPACINGUP</td><td>10</td></tr><tr><td>V_MAXEDGESINLINE</td><td>7</td></tr><tr><td>V_MAXLINEBORDER</td><td>20</td></tr><tr><td>V_MINFIELDAREA</td><td>116</td></tr><tr><td>V_PIXELSPACING</td><td>27</td></tr><tr><td>V_TEDGEDOWN</td><td>17</td></tr><tr><td>V_TEDGEUP</td><td>21</td></tr><tr><td>best_score</td><td>0.31663</td></tr></table><br/></div></div>"
     },
     "metadata": {},
     "output_type": "display_data"
    },
    {
     "data": {
      "text/plain": "<IPython.core.display.HTML object>",
      "text/html": " View run <strong style=\"color:#cdcd00\">colorful-sound-6</strong> at: <a href='https://wandb.ai/htwk-robots/old-vision-parameter-optimisation/runs/o63ge0w5' target=\"_blank\">https://wandb.ai/htwk-robots/old-vision-parameter-optimisation/runs/o63ge0w5</a><br/>Synced 5 W&B file(s), 0 media file(s), 0 artifact file(s) and 0 other file(s)"
     },
     "metadata": {},
     "output_type": "display_data"
    },
    {
     "data": {
      "text/plain": "<IPython.core.display.HTML object>",
      "text/html": "Find logs at: <code>./wandb/run-20230526_154005-o63ge0w5/logs</code>"
     },
     "metadata": {},
     "output_type": "display_data"
    },
    {
     "data": {
      "text/plain": "<IPython.core.display.HTML object>",
      "text/html": "Successfully finished last run (ID:o63ge0w5). Initializing new run:<br/>"
     },
     "metadata": {},
     "output_type": "display_data"
    },
    {
     "data": {
      "text/plain": "VBox(children=(Label(value='Waiting for wandb.init()...\\r'), FloatProgress(value=0.01666971593337318, max=1.0)…",
      "application/vnd.jupyter.widget-view+json": {
       "version_major": 2,
       "version_minor": 0,
       "model_id": "cd05d50a20a34b198aba617dbc9d50c5"
      }
     },
     "metadata": {},
     "output_type": "display_data"
    },
    {
     "data": {
      "text/plain": "<IPython.core.display.HTML object>",
      "text/html": "Tracking run with wandb version 0.15.3"
     },
     "metadata": {},
     "output_type": "display_data"
    },
    {
     "data": {
      "text/plain": "<IPython.core.display.HTML object>",
      "text/html": "Run data is saved locally in <code>/home/ohm/PycharmProjects/FiFi/wandb/run-20230526_154954-jkgvg2w6</code>"
     },
     "metadata": {},
     "output_type": "display_data"
    },
    {
     "data": {
      "text/plain": "<IPython.core.display.HTML object>",
      "text/html": "Syncing run <strong><a href='https://wandb.ai/htwk-robots/old-vision-parameter-optimisation/runs/jkgvg2w6' target=\"_blank\">snowy-plasma-7</a></strong> to <a href='https://wandb.ai/htwk-robots/old-vision-parameter-optimisation' target=\"_blank\">Weights & Biases</a> (<a href='https://wandb.me/run' target=\"_blank\">docs</a>)<br/>"
     },
     "metadata": {},
     "output_type": "display_data"
    },
    {
     "data": {
      "text/plain": "<IPython.core.display.HTML object>",
      "text/html": " View project at <a href='https://wandb.ai/htwk-robots/old-vision-parameter-optimisation' target=\"_blank\">https://wandb.ai/htwk-robots/old-vision-parameter-optimisation</a>"
     },
     "metadata": {},
     "output_type": "display_data"
    },
    {
     "data": {
      "text/plain": "<IPython.core.display.HTML object>",
      "text/html": " View run at <a href='https://wandb.ai/htwk-robots/old-vision-parameter-optimisation/runs/jkgvg2w6' target=\"_blank\">https://wandb.ai/htwk-robots/old-vision-parameter-optimisation/runs/jkgvg2w6</a>"
     },
     "metadata": {},
     "output_type": "display_data"
    },
    {
     "data": {
      "text/html": "<button onClick=\"this.nextSibling.style.display='block';this.style.display='none';\">Display W&B run</button><iframe src='https://wandb.ai/htwk-robots/old-vision-parameter-optimisation/runs/jkgvg2w6?jupyter=true' style='border:none;width:100%;height:420px;display:none;'></iframe>",
      "text/plain": "<wandb.sdk.wandb_run.Run at 0x7f718c4923d0>"
     },
     "execution_count": 12,
     "metadata": {},
     "output_type": "execute_result"
    }
   ],
   "source": [
    "# start a new wandb run to track this script\n",
    "wandb.init(\n",
    "    # set the wandb project where this run will be logged\n",
    "    project=\"old-vision-parameter-optimisation\",\n",
    "\n",
    "    # track hyperparameters and run metadata\n",
    "    config={\n",
    "        \"metric\": \"f1\",\n",
    "        \"f1_beta\": 1,\n",
    "        \"epochs\": 250,\n",
    "        \"minimizer\": \"gbrt\"\n",
    "    }\n",
    ")"
   ],
   "metadata": {
    "collapsed": false,
    "ExecuteTime": {
     "end_time": "2023-05-26T13:50:03.171693051Z",
     "start_time": "2023-05-26T13:49:54.903612643Z"
    }
   }
  },
  {
   "cell_type": "code",
   "execution_count": 13,
   "outputs": [],
   "source": [
    "def execute_vison():\n",
    "    # Define the command you want to execute\n",
    "    command = \"LD_LIBRARY_PATH=/home/ohm/Documents/HTWKRobots/hackingweekend/naoTeamRepo/firmware_5.0/build/build/vision/:/home/ohm/Documents/HTWKRobots/hackingweekend/naoTeamRepo/firmware_5.0/build/build/imagetools/:/home/ohm/Documents/HTWKRobots/hackingweekend/naoTeamRepo/firmware_5.0/build/build/option_framework/:/home/ohm/Documents/HTWKRobots/hackingweekend/naoTeamRepo/firmware_5.0/build/build/vision_primitives/:/home/ohm/Documents/HTWKRobots/hackingweekend/naoTeamRepo/firmware_5.0/build/build/visualizer/:/home/ohm/Documents/HTWKRobots/hackingweekend/naoTeamRepo/firmware_5.0/build/build/flightrecorder/client/:/home/ohm/Documents/HTWKRobots/hackingweekend/naoTeamRepo/firmware_5.0/build/build/naomessages/:/home/ohm/Documents/HTWKRobots/hackingweekend/naoTeamRepo/firmware_5.0/build/build/sockethelper/:/home/ohm/Documents/HTWKRobots/hackingweekend/naoTeamRepo/firmware_5.0/build/build/vision/tfliteexecuter/:/home/ohm/Documents/HTWKRobots/hackingweekend/naoTeamRepo/firmware_5.0/build/build/cam_utils/:/home/ohm/Documents/HTWKRobots/hackingweekend/naoTeamRepo/firmware_5.0/build/build/cam_utils/libCameraUtils.so:/home/ohm/Documents/HTWKRobots/hackingweekend/naoTeamRepo/firmware_5.0/build/build/utils/:/home/ohm/Documents/HTWKRobots/hackingweekend/naoTeamRepo/firmware_5.0/cmake-build-debug/3rdparty/easy_profiler/:/home/ohm/Documents/HTWKRobots/hackingweekend/naoTeamRepo/firmware_5.0/build/build/3rdparty/liblodepng/ /home/ohm/Documents/HTWKRobots/hackingweekend/naoTeamRepo/firmware_5.0/build/build/vision/demo/demo -d /home/ohm/PycharmProjects/FiFi/dataset/images\"\n",
    "\n",
    "    # Start the process\n",
    "    process = subprocess.Popen(command, stdout=subprocess.PIPE, shell=True, preexec_fn=os.setsid)\n",
    "\n",
    "    # Wait for 5 seconds\n",
    "    time.sleep(5)\n",
    "\n",
    "    os.killpg(os.getpgid(process.pid), signal.SIGTERM)\n"
   ],
   "metadata": {
    "collapsed": false,
    "ExecuteTime": {
     "end_time": "2023-05-26T13:50:03.227348677Z",
     "start_time": "2023-05-26T13:50:03.175427317Z"
    }
   }
  },
  {
   "cell_type": "code",
   "execution_count": 14,
   "outputs": [],
   "source": [
    "def evaluate(params):\n",
    "    # copy and replace anotations file from dataset to /home/ohm/Documents/HTWKRobots/hackingweekend/naoTeamRepo/firmware_5.0/vision/demo/\n",
    "    shutil.copyfile(\"/home/ohm/PycharmProjects/FiFi/dataset/annotations.xml\", \"/home/ohm/Documents/HTWKRobots/hackingweekend/naoTeamRepo/firmware_5.0/vision/demo/annotations.xml\")\n",
    "\n",
    "    # convert all ints in params to strings\n",
    "    params = [str(int) for int in params]\n",
    "\n",
    "    # env viriables for region classifier\n",
    "    os.environ[\"V_TEDGEUP\"] = params[0]#\"12\"\n",
    "    os.environ[\"V_TEDGEDOWN\"] = params[1]#\"16\"\n",
    "    os.environ[\"V_LINESPACINGUP\"] = params[2]#\"10\"\n",
    "    os.environ[\"V_LINESPACINGDOWN\"] = params[3]#\"20\"\n",
    "    os.environ[\"V_MAXEDGESINLINE\"] = params[4]#\"3\"\n",
    "    os.environ[\"V_GREENREGIONCOLORDIST\"] = params[5]#\"360\"\n",
    "    os.environ[\"V_MAXLINEBORDER\"] = params[6]#\"6\"\n",
    "\n",
    "    # env variables for field color detector\n",
    "    os.environ[\"V_MINFIELDAREA\"] = params[7]#\"500\"\n",
    "    os.environ[\"V_PIXELSPACING\"] = params[8]#\"16\"\n",
    "    os.environ[\"V_COLORBORDER\"] = params[9]#\"8\"\n",
    "    os.environ[\"V_GREENGAIN\"] = params[10]#\"2\"\n",
    "\n",
    "    execute_vison()\n",
    "\n",
    "    # Parse the XML file\n",
    "    xml_file = '/home/ohm/Documents/HTWKRobots/hackingweekend/naoTeamRepo/firmware_5.0/vision/demo/annotations.xml'\n",
    "    tree = ET.parse(xml_file)\n",
    "    root = tree.getroot()\n",
    "\n",
    "    presicion, recall, iou, f1 = calc_metrics_for_all_images(root, \"/home/ohm/PycharmProjects/FiFi/dataset/images/\")\n",
    "\n",
    "    print(\"F1: \" + str(f1))\n",
    "    print(\"Presicion: \" + str(presicion))\n",
    "    print(\"Recall: \" + str(recall))\n",
    "    print(\"IoU: \" + str(mean(iou)))\n",
    "\n",
    "\n",
    "    return f1, presicion, recall, mean(iou)\n",
    "    #print(\"Presicion: \" + str(presicion))\n",
    "    #print(\"IoU: \" + str(mean(iou)))\n"
   ],
   "metadata": {
    "collapsed": false,
    "ExecuteTime": {
     "end_time": "2023-05-26T13:50:03.227800977Z",
     "start_time": "2023-05-26T13:50:03.219314562Z"
    }
   }
  },
  {
   "cell_type": "code",
   "execution_count": 15,
   "outputs": [
    {
     "name": "stderr",
     "output_type": "stream",
     "text": [
      "INFO: Created TensorFlow Lite XNNPACK delegate for CPU.\n",
      "Error connect socket: : Connection refused\n",
      "Error: bind to port 40588 on 127.0.0.1 failed in file ../../sockethelper/sockethelper.cpp line 51. Exiting.\n",
      "Segmentation fault\n",
      "/home/ohm/PycharmProjects/FiFi/venv/lib/python3.8/site-packages/shapely/set_operations.py:426: RuntimeWarning: divide by zero encountered in unary_union\n",
      "  return lib.unary_union(collections, **kwargs)\n"
     ]
    },
    {
     "name": "stdout",
     "output_type": "stream",
     "text": [
      "F1: 0.08904158516053173\n",
      "Presicion: 0.9528132492669349\n",
      "Recall: 0.04670302029490031\n",
      "IoU: 0.05793207074615064\n"
     ]
    },
    {
     "name": "stderr",
     "output_type": "stream",
     "text": [
      "INFO: Created TensorFlow Lite XNNPACK delegate for CPU.\n",
      "Error connect socket: : Connection refused\n",
      "Error: bind to port 40588 on 127.0.0.1 failed in file ../../sockethelper/sockethelper.cpp line 51. Exiting.\n",
      "Error connect socket: : Connection refused\n",
      "Error: bind to port 40588 on 127.0.0.1 failed in file ../../sockethelper/sockethelper.cpp line 51. Exiting.\n",
      "Error connect socket: : Connection refused\n",
      "Error: bind to port 40588 on 127.0.0.1 failed in file ../../sockethelper/sockethelper.cpp line 51. Exiting.\n",
      "Error connect socket: : Connection refused\n",
      "Error: bind to port 40588 on 127.0.0.1 failed in file ../../sockethelper/sockethelper.cpp line 51. Exiting.\n"
     ]
    },
    {
     "name": "stdout",
     "output_type": "stream",
     "text": [
      "F1: 0.25713898219271153\n",
      "Presicion: 0.9070208269808568\n",
      "Recall: 0.14980410561724145\n",
      "IoU: 0.200301258729169\n"
     ]
    },
    {
     "name": "stderr",
     "output_type": "stream",
     "text": [
      "INFO: Created TensorFlow Lite XNNPACK delegate for CPU.\n"
     ]
    },
    {
     "name": "stdout",
     "output_type": "stream",
     "text": [
      "F1: 0.08904158516053173\n",
      "Presicion: 0.9528132492669349\n",
      "Recall: 0.04670302029490031\n",
      "IoU: 0.05793207074615064\n"
     ]
    },
    {
     "name": "stderr",
     "output_type": "stream",
     "text": [
      "INFO: Created TensorFlow Lite XNNPACK delegate for CPU.\n",
      "Error connect socket: : Connection refused\n",
      "Error: bind to port 40588 on 127.0.0.1 failed in file ../../sockethelper/sockethelper.cpp line 51. Exiting.\n",
      "Segmentation fault\n"
     ]
    },
    {
     "name": "stdout",
     "output_type": "stream",
     "text": [
      "F1: 0.08904158516053173\n",
      "Presicion: 0.9528132492669349\n",
      "Recall: 0.04670302029490031\n",
      "IoU: 0.05793207074615064\n"
     ]
    },
    {
     "name": "stderr",
     "output_type": "stream",
     "text": [
      "INFO: Created TensorFlow Lite XNNPACK delegate for CPU.\n",
      "Error connect socket: : Connection refused\n",
      "Error: bind to port 40588 on 127.0.0.1 failed in file ../../sockethelper/sockethelper.cpp line 51. Exiting.\n",
      "Segmentation fault\n"
     ]
    },
    {
     "name": "stdout",
     "output_type": "stream",
     "text": [
      "F1: 0.08904158516053173\n",
      "Presicion: 0.9528132492669349\n",
      "Recall: 0.04670302029490031\n",
      "IoU: 0.05793207074615064\n"
     ]
    },
    {
     "name": "stderr",
     "output_type": "stream",
     "text": [
      "INFO: Created TensorFlow Lite XNNPACK delegate for CPU.\n",
      "Segmentation fault\n"
     ]
    },
    {
     "name": "stdout",
     "output_type": "stream",
     "text": [
      "F1: 0.08904158516053173\n",
      "Presicion: 0.9528132492669349\n",
      "Recall: 0.04670302029490031\n",
      "IoU: 0.05793207074615064\n"
     ]
    },
    {
     "name": "stderr",
     "output_type": "stream",
     "text": [
      "INFO: Created TensorFlow Lite XNNPACK delegate for CPU.\n",
      "Segmentation fault\n"
     ]
    },
    {
     "name": "stdout",
     "output_type": "stream",
     "text": [
      "F1: 0.08904158516053173\n",
      "Presicion: 0.9528132492669349\n",
      "Recall: 0.04670302029490031\n",
      "IoU: 0.05793207074615064\n"
     ]
    },
    {
     "name": "stderr",
     "output_type": "stream",
     "text": [
      "INFO: Created TensorFlow Lite XNNPACK delegate for CPU.\n",
      "Segmentation fault\n"
     ]
    },
    {
     "name": "stdout",
     "output_type": "stream",
     "text": [
      "F1: 0.08904158516053173\n",
      "Presicion: 0.9528132492669349\n",
      "Recall: 0.04670302029490031\n",
      "IoU: 0.05793207074615064\n"
     ]
    },
    {
     "name": "stderr",
     "output_type": "stream",
     "text": [
      "INFO: Created TensorFlow Lite XNNPACK delegate for CPU.\n",
      "Error connect socket: : Connection refused\n",
      "Error: bind to port 40588 on 127.0.0.1 failed in file ../../sockethelper/sockethelper.cpp line 51. Exiting.\n",
      "Segmentation fault\n"
     ]
    },
    {
     "name": "stdout",
     "output_type": "stream",
     "text": [
      "F1: 0.09356808007151755\n",
      "Presicion: 0.9505092408090633\n",
      "Recall: 0.04920595590154918\n",
      "IoU: 0.060876340813811644\n"
     ]
    },
    {
     "name": "stderr",
     "output_type": "stream",
     "text": [
      "INFO: Created TensorFlow Lite XNNPACK delegate for CPU.\n",
      "Segmentation fault\n"
     ]
    },
    {
     "name": "stdout",
     "output_type": "stream",
     "text": [
      "F1: 0.08904158516053173\n",
      "Presicion: 0.9528132492669349\n",
      "Recall: 0.04670302029490031\n",
      "IoU: 0.05793207074615064\n"
     ]
    },
    {
     "name": "stderr",
     "output_type": "stream",
     "text": [
      "INFO: Created TensorFlow Lite XNNPACK delegate for CPU.\n",
      "Error connect socket: : Connection refused\n",
      "Error: bind to port 40588 on 127.0.0.1 failed in file ../../sockethelper/sockethelper.cpp line 51. Exiting.\n",
      "Error connect socket: : Connection refused\n",
      "Error: bind to port 40588 on 127.0.0.1 failed in file ../../sockethelper/sockethelper.cpp line 51. Exiting.\n",
      "Error connect socket: : Connection refused\n",
      "Error: bind to port 40588 on 127.0.0.1 failed in file ../../sockethelper/sockethelper.cpp line 51. Exiting.\n",
      "Error connect socket: : Connection refused\n",
      "Error: bind to port 40588 on 127.0.0.1 failed in file ../../sockethelper/sockethelper.cpp line 51. Exiting.\n",
      "/home/ohm/PycharmProjects/FiFi/venv/lib/python3.8/site-packages/shapely/set_operations.py:426: RuntimeWarning: divide by zero encountered in unary_union\n",
      "  return lib.unary_union(collections, **kwargs)\n"
     ]
    },
    {
     "name": "stdout",
     "output_type": "stream",
     "text": [
      "F1: 0.08904158516053173\n",
      "Presicion: 0.9528132492669349\n",
      "Recall: 0.04670302029490031\n",
      "IoU: 0.05793207074615064\n"
     ]
    },
    {
     "name": "stderr",
     "output_type": "stream",
     "text": [
      "INFO: Created TensorFlow Lite XNNPACK delegate for CPU.\n",
      "Segmentation fault\n",
      "/home/ohm/PycharmProjects/FiFi/venv/lib/python3.8/site-packages/shapely/set_operations.py:426: RuntimeWarning: divide by zero encountered in unary_union\n",
      "  return lib.unary_union(collections, **kwargs)\n"
     ]
    },
    {
     "name": "stdout",
     "output_type": "stream",
     "text": [
      "F1: 0.08904158516053173\n",
      "Presicion: 0.9528132492669349\n",
      "Recall: 0.04670302029490031\n",
      "IoU: 0.05793207074615064\n"
     ]
    },
    {
     "name": "stderr",
     "output_type": "stream",
     "text": [
      "INFO: Created TensorFlow Lite XNNPACK delegate for CPU.\n",
      "Error connect socket: : Connection refused\n",
      "Error: bind to port 40588 on 127.0.0.1 failed in file ../../sockethelper/sockethelper.cpp line 51. Exiting.\n",
      "Segmentation fault\n",
      "/home/ohm/PycharmProjects/FiFi/venv/lib/python3.8/site-packages/shapely/set_operations.py:426: RuntimeWarning: divide by zero encountered in unary_union\n",
      "  return lib.unary_union(collections, **kwargs)\n"
     ]
    },
    {
     "name": "stdout",
     "output_type": "stream",
     "text": [
      "F1: 0.08904158516053173\n",
      "Presicion: 0.9528132492669349\n",
      "Recall: 0.04670302029490031\n",
      "IoU: 0.05793207074615064\n"
     ]
    },
    {
     "name": "stderr",
     "output_type": "stream",
     "text": [
      "INFO: Created TensorFlow Lite XNNPACK delegate for CPU.\n",
      "Segmentation fault\n",
      "/home/ohm/PycharmProjects/FiFi/venv/lib/python3.8/site-packages/shapely/set_operations.py:426: RuntimeWarning: divide by zero encountered in unary_union\n",
      "  return lib.unary_union(collections, **kwargs)\n"
     ]
    },
    {
     "name": "stdout",
     "output_type": "stream",
     "text": [
      "F1: 0.08904158516053173\n",
      "Presicion: 0.9528132492669349\n",
      "Recall: 0.04670302029490031\n",
      "IoU: 0.05793207074615064\n"
     ]
    },
    {
     "name": "stderr",
     "output_type": "stream",
     "text": [
      "INFO: Created TensorFlow Lite XNNPACK delegate for CPU.\n",
      "Segmentation fault\n",
      "/home/ohm/PycharmProjects/FiFi/venv/lib/python3.8/site-packages/shapely/set_operations.py:426: RuntimeWarning: divide by zero encountered in unary_union\n",
      "  return lib.unary_union(collections, **kwargs)\n"
     ]
    },
    {
     "name": "stdout",
     "output_type": "stream",
     "text": [
      "F1: 0.08904158516053173\n",
      "Presicion: 0.9528132492669349\n",
      "Recall: 0.04670302029490031\n",
      "IoU: 0.05793207074615064\n"
     ]
    },
    {
     "name": "stderr",
     "output_type": "stream",
     "text": [
      "INFO: Created TensorFlow Lite XNNPACK delegate for CPU.\n",
      "Segmentation fault\n",
      "/home/ohm/PycharmProjects/FiFi/venv/lib/python3.8/site-packages/shapely/set_operations.py:426: RuntimeWarning: divide by zero encountered in unary_union\n",
      "  return lib.unary_union(collections, **kwargs)\n"
     ]
    },
    {
     "name": "stdout",
     "output_type": "stream",
     "text": [
      "F1: 0.08904158516053173\n",
      "Presicion: 0.9528132492669349\n",
      "Recall: 0.04670302029490031\n",
      "IoU: 0.05793207074615064\n"
     ]
    },
    {
     "name": "stderr",
     "output_type": "stream",
     "text": [
      "INFO: Created TensorFlow Lite XNNPACK delegate for CPU.\n",
      "Error connect socket: : Connection refused\n",
      "Error: bind to port 40588 on 127.0.0.1 failed in file ../../sockethelper/sockethelper.cpp line 51. Exiting.\n",
      "Segmentation fault\n",
      "/home/ohm/PycharmProjects/FiFi/venv/lib/python3.8/site-packages/shapely/set_operations.py:426: RuntimeWarning: divide by zero encountered in unary_union\n",
      "  return lib.unary_union(collections, **kwargs)\n"
     ]
    },
    {
     "name": "stdout",
     "output_type": "stream",
     "text": [
      "F1: 0.08904158516053173\n",
      "Presicion: 0.9528132492669349\n",
      "Recall: 0.04670302029490031\n",
      "IoU: 0.05793207074615064\n"
     ]
    },
    {
     "name": "stderr",
     "output_type": "stream",
     "text": [
      "INFO: Created TensorFlow Lite XNNPACK delegate for CPU.\n",
      "Error connect socket: : Connection refused\n",
      "Error: bind to port 40588 on 127.0.0.1 failed in file ../../sockethelper/sockethelper.cpp line 51. Exiting.\n",
      "Error connect socket: : Connection refused\n",
      "Error: bind to port 40588 on 127.0.0.1 failed in file ../../sockethelper/sockethelper.cpp line 51. Exiting.\n",
      "Error connect socket: : Connection refused\n",
      "Error: bind to port 40588 on 127.0.0.1 failed in file ../../sockethelper/sockethelper.cpp line 51. Exiting.\n",
      "Error connect socket: : Connection refused\n",
      "Error: bind to port 40588 on 127.0.0.1 failed in file ../../sockethelper/sockethelper.cpp line 51. Exiting.\n",
      "/home/ohm/PycharmProjects/FiFi/venv/lib/python3.8/site-packages/shapely/set_operations.py:426: RuntimeWarning: divide by zero encountered in unary_union\n",
      "  return lib.unary_union(collections, **kwargs)\n"
     ]
    },
    {
     "name": "stdout",
     "output_type": "stream",
     "text": [
      "F1: 0.20632165277962194\n",
      "Presicion: 0.9747034405842386\n",
      "Recall: 0.1153715386695144\n",
      "IoU: 0.12121931532297339\n"
     ]
    },
    {
     "name": "stderr",
     "output_type": "stream",
     "text": [
      "INFO: Created TensorFlow Lite XNNPACK delegate for CPU.\n",
      "Segmentation fault\n",
      "/home/ohm/PycharmProjects/FiFi/venv/lib/python3.8/site-packages/shapely/set_operations.py:426: RuntimeWarning: divide by zero encountered in unary_union\n",
      "  return lib.unary_union(collections, **kwargs)\n"
     ]
    },
    {
     "name": "stdout",
     "output_type": "stream",
     "text": [
      "F1: 0.08904158516053173\n",
      "Presicion: 0.9528132492669349\n",
      "Recall: 0.04670302029490031\n",
      "IoU: 0.05793207074615064\n"
     ]
    },
    {
     "name": "stderr",
     "output_type": "stream",
     "text": [
      "INFO: Created TensorFlow Lite XNNPACK delegate for CPU.\n",
      "Error connect socket: : Connection refused\n",
      "Error: bind to port 40588 on 127.0.0.1 failed in file ../../sockethelper/sockethelper.cpp line 51. Exiting.\n",
      "Error connect socket: : Connection refused\n",
      "Error: bind to port 40588 on 127.0.0.1 failed in file ../../sockethelper/sockethelper.cpp line 51. Exiting.\n",
      "Error connect socket: : Connection refused\n",
      "Error: bind to port 40588 on 127.0.0.1 failed in file ../../sockethelper/sockethelper.cpp line 51. Exiting.\n",
      "Error connect socket: : Connection refused\n",
      "Error: bind to port 40588 on 127.0.0.1 failed in file ../../sockethelper/sockethelper.cpp line 51. Exiting.\n",
      "/home/ohm/PycharmProjects/FiFi/venv/lib/python3.8/site-packages/shapely/set_operations.py:426: RuntimeWarning: divide by zero encountered in unary_union\n",
      "  return lib.unary_union(collections, **kwargs)\n"
     ]
    },
    {
     "name": "stdout",
     "output_type": "stream",
     "text": [
      "F1: 0.20793545498877922\n",
      "Presicion: 0.9563642844761241\n",
      "Recall: 0.11664878336188683\n",
      "IoU: 0.1320124501479555\n"
     ]
    },
    {
     "name": "stderr",
     "output_type": "stream",
     "text": [
      "INFO: Created TensorFlow Lite XNNPACK delegate for CPU.\n",
      "Error connect socket: : Connection refused\n",
      "Error: bind to port 40588 on 127.0.0.1 failed in file ../../sockethelper/sockethelper.cpp line 51. Exiting.\n",
      "Error connect socket: : Connection refused\n",
      "Error: bind to port 40588 on 127.0.0.1 failed in file ../../sockethelper/sockethelper.cpp line 51. Exiting.\n",
      "Error connect socket: : Connection refused\n",
      "Error: bind to port 40588 on 127.0.0.1 failed in file ../../sockethelper/sockethelper.cpp line 51. Exiting.\n",
      "Error connect socket: : Connection refused\n",
      "Error: bind to port 40588 on 127.0.0.1 failed in file ../../sockethelper/sockethelper.cpp line 51. Exiting.\n",
      "/home/ohm/PycharmProjects/FiFi/venv/lib/python3.8/site-packages/shapely/set_operations.py:426: RuntimeWarning: divide by zero encountered in unary_union\n",
      "  return lib.unary_union(collections, **kwargs)\n"
     ]
    },
    {
     "name": "stdout",
     "output_type": "stream",
     "text": [
      "F1: 0.2453699303367573\n",
      "Presicion: 0.9624693966677591\n",
      "Recall: 0.14060813701319674\n",
      "IoU: 0.14889711374494388\n"
     ]
    },
    {
     "name": "stderr",
     "output_type": "stream",
     "text": [
      "INFO: Created TensorFlow Lite XNNPACK delegate for CPU.\n",
      "Floating point exception\n",
      "/home/ohm/PycharmProjects/FiFi/venv/lib/python3.8/site-packages/shapely/set_operations.py:426: RuntimeWarning: divide by zero encountered in unary_union\n",
      "  return lib.unary_union(collections, **kwargs)\n"
     ]
    },
    {
     "name": "stdout",
     "output_type": "stream",
     "text": [
      "F1: 0.08904158516053173\n",
      "Presicion: 0.9528132492669349\n",
      "Recall: 0.04670302029490031\n",
      "IoU: 0.05793207074615064\n"
     ]
    },
    {
     "name": "stderr",
     "output_type": "stream",
     "text": [
      "INFO: Created TensorFlow Lite XNNPACK delegate for CPU.\n",
      "Error connect socket: : Connection refused\n",
      "Error: bind to port 40588 on 127.0.0.1 failed in file ../../sockethelper/sockethelper.cpp line 51. Exiting.\n",
      "Segmentation fault\n",
      "/home/ohm/PycharmProjects/FiFi/venv/lib/python3.8/site-packages/shapely/set_operations.py:426: RuntimeWarning: divide by zero encountered in unary_union\n",
      "  return lib.unary_union(collections, **kwargs)\n"
     ]
    },
    {
     "name": "stdout",
     "output_type": "stream",
     "text": [
      "F1: 0.08904158516053173\n",
      "Presicion: 0.9528132492669349\n",
      "Recall: 0.04670302029490031\n",
      "IoU: 0.05793207074615064\n"
     ]
    },
    {
     "name": "stderr",
     "output_type": "stream",
     "text": [
      "INFO: Created TensorFlow Lite XNNPACK delegate for CPU.\n",
      "Segmentation fault\n",
      "/home/ohm/PycharmProjects/FiFi/venv/lib/python3.8/site-packages/shapely/set_operations.py:426: RuntimeWarning: divide by zero encountered in unary_union\n",
      "  return lib.unary_union(collections, **kwargs)\n"
     ]
    },
    {
     "name": "stdout",
     "output_type": "stream",
     "text": [
      "F1: 0.08904158516053173\n",
      "Presicion: 0.9528132492669349\n",
      "Recall: 0.04670302029490031\n",
      "IoU: 0.05793207074615064\n"
     ]
    },
    {
     "name": "stderr",
     "output_type": "stream",
     "text": [
      "INFO: Created TensorFlow Lite XNNPACK delegate for CPU.\n",
      "Error connect socket: : Connection refused\n",
      "Error: bind to port 40588 on 127.0.0.1 failed in file ../../sockethelper/sockethelper.cpp line 51. Exiting.\n",
      "Error connect socket: : Connection refused\n",
      "Error: bind to port 40588 on 127.0.0.1 failed in file ../../sockethelper/sockethelper.cpp line 51. Exiting.\n",
      "Error connect socket: : Connection refused\n",
      "Error: bind to port 40588 on 127.0.0.1 failed in file ../../sockethelper/sockethelper.cpp line 51. Exiting.\n",
      "Error connect socket: : Connection refused\n",
      "Error: bind to port 40588 on 127.0.0.1 failed in file ../../sockethelper/sockethelper.cpp line 51. Exiting.\n",
      "/home/ohm/PycharmProjects/FiFi/venv/lib/python3.8/site-packages/shapely/set_operations.py:426: RuntimeWarning: divide by zero encountered in unary_union\n",
      "  return lib.unary_union(collections, **kwargs)\n",
      "/home/ohm/PycharmProjects/FiFi/venv/lib/python3.8/site-packages/shapely/set_operations.py:133: RuntimeWarning: invalid value encountered in intersection\n",
      "  return lib.intersection(a, b, **kwargs)\n"
     ]
    },
    {
     "name": "stdout",
     "output_type": "stream",
     "text": [
      "F1: 0.26038192909607083\n",
      "Presicion: 0.9228706180902587\n",
      "Recall: 0.15157373522242484\n",
      "IoU: 0.19343580432224788\n"
     ]
    },
    {
     "name": "stderr",
     "output_type": "stream",
     "text": [
      "INFO: Created TensorFlow Lite XNNPACK delegate for CPU.\n",
      "Segmentation fault\n",
      "/home/ohm/PycharmProjects/FiFi/venv/lib/python3.8/site-packages/shapely/set_operations.py:426: RuntimeWarning: divide by zero encountered in unary_union\n",
      "  return lib.unary_union(collections, **kwargs)\n"
     ]
    },
    {
     "name": "stdout",
     "output_type": "stream",
     "text": [
      "F1: 0.08904158516053173\n",
      "Presicion: 0.9528132492669349\n",
      "Recall: 0.04670302029490031\n",
      "IoU: 0.05793207074615064\n"
     ]
    },
    {
     "name": "stderr",
     "output_type": "stream",
     "text": [
      "INFO: Created TensorFlow Lite XNNPACK delegate for CPU.\n",
      "Error connect socket: : Connection refused\n",
      "Error: bind to port 40588 on 127.0.0.1 failed in file ../../sockethelper/sockethelper.cpp line 51. Exiting.\n",
      "Segmentation fault\n",
      "/home/ohm/PycharmProjects/FiFi/venv/lib/python3.8/site-packages/shapely/set_operations.py:426: RuntimeWarning: divide by zero encountered in unary_union\n",
      "  return lib.unary_union(collections, **kwargs)\n"
     ]
    },
    {
     "name": "stdout",
     "output_type": "stream",
     "text": [
      "F1: 0.08904158516053173\n",
      "Presicion: 0.9528132492669349\n",
      "Recall: 0.04670302029490031\n",
      "IoU: 0.05793207074615064\n"
     ]
    },
    {
     "name": "stderr",
     "output_type": "stream",
     "text": [
      "INFO: Created TensorFlow Lite XNNPACK delegate for CPU.\n",
      "Segmentation fault\n",
      "/home/ohm/PycharmProjects/FiFi/venv/lib/python3.8/site-packages/shapely/set_operations.py:426: RuntimeWarning: divide by zero encountered in unary_union\n",
      "  return lib.unary_union(collections, **kwargs)\n"
     ]
    },
    {
     "name": "stdout",
     "output_type": "stream",
     "text": [
      "F1: 0.08904158516053173\n",
      "Presicion: 0.9528132492669349\n",
      "Recall: 0.04670302029490031\n",
      "IoU: 0.05793207074615064\n"
     ]
    },
    {
     "name": "stderr",
     "output_type": "stream",
     "text": [
      "INFO: Created TensorFlow Lite XNNPACK delegate for CPU.\n",
      "Segmentation fault\n",
      "/home/ohm/PycharmProjects/FiFi/venv/lib/python3.8/site-packages/shapely/set_operations.py:426: RuntimeWarning: divide by zero encountered in unary_union\n",
      "  return lib.unary_union(collections, **kwargs)\n"
     ]
    },
    {
     "name": "stdout",
     "output_type": "stream",
     "text": [
      "F1: 0.08904158516053173\n",
      "Presicion: 0.9528132492669349\n",
      "Recall: 0.04670302029490031\n",
      "IoU: 0.05793207074615064\n"
     ]
    },
    {
     "name": "stderr",
     "output_type": "stream",
     "text": [
      "INFO: Created TensorFlow Lite XNNPACK delegate for CPU.\n",
      "Segmentation fault\n",
      "/home/ohm/PycharmProjects/FiFi/venv/lib/python3.8/site-packages/shapely/set_operations.py:426: RuntimeWarning: divide by zero encountered in unary_union\n",
      "  return lib.unary_union(collections, **kwargs)\n"
     ]
    },
    {
     "name": "stdout",
     "output_type": "stream",
     "text": [
      "F1: 0.08904158516053173\n",
      "Presicion: 0.9528132492669349\n",
      "Recall: 0.04670302029490031\n",
      "IoU: 0.05793207074615064\n"
     ]
    },
    {
     "name": "stderr",
     "output_type": "stream",
     "text": [
      "INFO: Created TensorFlow Lite XNNPACK delegate for CPU.\n",
      "Error connect socket: : Connection refused\n",
      "Error: bind to port 40588 on 127.0.0.1 failed in file ../../sockethelper/sockethelper.cpp line 51. Exiting.\n",
      "Error connect socket: : Connection refused\n",
      "Error: bind to port 40588 on 127.0.0.1 failed in file ../../sockethelper/sockethelper.cpp line 51. Exiting.\n",
      "Error connect socket: : Connection refused\n",
      "Error: bind to port 40588 on 127.0.0.1 failed in file ../../sockethelper/sockethelper.cpp line 51. Exiting.\n",
      "Error connect socket: : Connection refused\n",
      "Error: bind to port 40588 on 127.0.0.1 failed in file ../../sockethelper/sockethelper.cpp line 51. Exiting.\n",
      "/home/ohm/PycharmProjects/FiFi/venv/lib/python3.8/site-packages/shapely/set_operations.py:426: RuntimeWarning: divide by zero encountered in unary_union\n",
      "  return lib.unary_union(collections, **kwargs)\n",
      "/home/ohm/PycharmProjects/FiFi/venv/lib/python3.8/site-packages/shapely/set_operations.py:133: RuntimeWarning: invalid value encountered in intersection\n",
      "  return lib.intersection(a, b, **kwargs)\n"
     ]
    },
    {
     "name": "stdout",
     "output_type": "stream",
     "text": [
      "F1: 0.2795106733220477\n",
      "Presicion: 0.9382334719993212\n",
      "Recall: 0.1642163121853706\n",
      "IoU: 0.20115991476034745\n"
     ]
    },
    {
     "name": "stderr",
     "output_type": "stream",
     "text": [
      "INFO: Created TensorFlow Lite XNNPACK delegate for CPU.\n",
      "Error connect socket: : Connection refused\n",
      "Error: bind to port 40588 on 127.0.0.1 failed in file ../../sockethelper/sockethelper.cpp line 51. Exiting.\n",
      "Error connect socket: : Connection refused\n",
      "Error: bind to port 40588 on 127.0.0.1 failed in file ../../sockethelper/sockethelper.cpp line 51. Exiting.\n",
      "Segmentation fault\n",
      "/home/ohm/PycharmProjects/FiFi/venv/lib/python3.8/site-packages/shapely/set_operations.py:426: RuntimeWarning: divide by zero encountered in unary_union\n",
      "  return lib.unary_union(collections, **kwargs)\n"
     ]
    },
    {
     "name": "stdout",
     "output_type": "stream",
     "text": [
      "F1: 0.11244888889731298\n",
      "Presicion: 0.963198900188404\n",
      "Recall: 0.059709865822494115\n",
      "IoU: 0.0801233917970538\n"
     ]
    },
    {
     "name": "stderr",
     "output_type": "stream",
     "text": [
      "INFO: Created TensorFlow Lite XNNPACK delegate for CPU.\n",
      "Segmentation fault\n",
      "/home/ohm/PycharmProjects/FiFi/venv/lib/python3.8/site-packages/shapely/set_operations.py:426: RuntimeWarning: divide by zero encountered in unary_union\n",
      "  return lib.unary_union(collections, **kwargs)\n"
     ]
    },
    {
     "name": "stdout",
     "output_type": "stream",
     "text": [
      "F1: 0.08904158516053173\n",
      "Presicion: 0.9528132492669349\n",
      "Recall: 0.04670302029490031\n",
      "IoU: 0.05793207074615064\n"
     ]
    },
    {
     "name": "stderr",
     "output_type": "stream",
     "text": [
      "INFO: Created TensorFlow Lite XNNPACK delegate for CPU.\n",
      "Segmentation fault\n",
      "/home/ohm/PycharmProjects/FiFi/venv/lib/python3.8/site-packages/shapely/set_operations.py:426: RuntimeWarning: divide by zero encountered in unary_union\n",
      "  return lib.unary_union(collections, **kwargs)\n"
     ]
    },
    {
     "name": "stdout",
     "output_type": "stream",
     "text": [
      "F1: 0.08904158516053173\n",
      "Presicion: 0.9528132492669349\n",
      "Recall: 0.04670302029490031\n",
      "IoU: 0.05793207074615064\n"
     ]
    },
    {
     "name": "stderr",
     "output_type": "stream",
     "text": [
      "INFO: Created TensorFlow Lite XNNPACK delegate for CPU.\n",
      "Error connect socket: : Connection refused\n",
      "Error: bind to port 40588 on 127.0.0.1 failed in file ../../sockethelper/sockethelper.cpp line 51. Exiting.\n",
      "Error connect socket: : Connection refused\n",
      "Error: bind to port 40588 on 127.0.0.1 failed in file ../../sockethelper/sockethelper.cpp line 51. Exiting.\n",
      "Segmentation fault\n",
      "/home/ohm/PycharmProjects/FiFi/venv/lib/python3.8/site-packages/shapely/set_operations.py:426: RuntimeWarning: divide by zero encountered in unary_union\n",
      "  return lib.unary_union(collections, **kwargs)\n"
     ]
    },
    {
     "name": "stdout",
     "output_type": "stream",
     "text": [
      "F1: 0.12883032900421465\n",
      "Presicion: 0.8833673787174399\n",
      "Recall: 0.06948177687070461\n",
      "IoU: 0.0908259407501997\n"
     ]
    },
    {
     "name": "stderr",
     "output_type": "stream",
     "text": [
      "INFO: Created TensorFlow Lite XNNPACK delegate for CPU.\n",
      "Error connect socket: : Connection refused\n",
      "Error: bind to port 40588 on 127.0.0.1 failed in file ../../sockethelper/sockethelper.cpp line 51. Exiting.\n",
      "Error connect socket: : Connection refused\n",
      "Error: bind to port 40588 on 127.0.0.1 failed in file ../../sockethelper/sockethelper.cpp line 51. Exiting.\n",
      "Error connect socket: : Connection refused\n",
      "Error: bind to port 40588 on 127.0.0.1 failed in file ../../sockethelper/sockethelper.cpp line 51. Exiting.\n",
      "/home/ohm/PycharmProjects/FiFi/venv/lib/python3.8/site-packages/shapely/set_operations.py:426: RuntimeWarning: divide by zero encountered in unary_union\n",
      "  return lib.unary_union(collections, **kwargs)\n"
     ]
    },
    {
     "name": "stdout",
     "output_type": "stream",
     "text": [
      "F1: 0.08904158516053173\n",
      "Presicion: 0.9528132492669349\n",
      "Recall: 0.04670302029490031\n",
      "IoU: 0.05793207074615064\n"
     ]
    },
    {
     "name": "stderr",
     "output_type": "stream",
     "text": [
      "INFO: Created TensorFlow Lite XNNPACK delegate for CPU.\n",
      "Segmentation fault\n",
      "/home/ohm/PycharmProjects/FiFi/venv/lib/python3.8/site-packages/shapely/set_operations.py:426: RuntimeWarning: divide by zero encountered in unary_union\n",
      "  return lib.unary_union(collections, **kwargs)\n"
     ]
    },
    {
     "name": "stdout",
     "output_type": "stream",
     "text": [
      "F1: 0.08904158516053173\n",
      "Presicion: 0.9528132492669349\n",
      "Recall: 0.04670302029490031\n",
      "IoU: 0.05793207074615064\n"
     ]
    },
    {
     "name": "stderr",
     "output_type": "stream",
     "text": [
      "INFO: Created TensorFlow Lite XNNPACK delegate for CPU.\n",
      "Floating point exception\n",
      "/home/ohm/PycharmProjects/FiFi/venv/lib/python3.8/site-packages/shapely/set_operations.py:426: RuntimeWarning: divide by zero encountered in unary_union\n",
      "  return lib.unary_union(collections, **kwargs)\n"
     ]
    },
    {
     "name": "stdout",
     "output_type": "stream",
     "text": [
      "F1: 0.08904158516053173\n",
      "Presicion: 0.9528132492669349\n",
      "Recall: 0.04670302029490031\n",
      "IoU: 0.05793207074615064\n"
     ]
    },
    {
     "name": "stderr",
     "output_type": "stream",
     "text": [
      "INFO: Created TensorFlow Lite XNNPACK delegate for CPU.\n",
      "Error connect socket: : Connection refused\n",
      "Error: bind to port 40588 on 127.0.0.1 failed in file ../../sockethelper/sockethelper.cpp line 51. Exiting.\n",
      "Error connect socket: : Connection refused\n",
      "Error: bind to port 40588 on 127.0.0.1 failed in file ../../sockethelper/sockethelper.cpp line 51. Exiting.\n",
      "Error connect socket: : Connection refused\n",
      "Error: bind to port 40588 on 127.0.0.1 failed in file ../../sockethelper/sockethelper.cpp line 51. Exiting.\n",
      "Error connect socket: : Connection refused\n",
      "Error: bind to port 40588 on 127.0.0.1 failed in file ../../sockethelper/sockethelper.cpp line 51. Exiting.\n",
      "/home/ohm/PycharmProjects/FiFi/venv/lib/python3.8/site-packages/shapely/set_operations.py:426: RuntimeWarning: divide by zero encountered in unary_union\n",
      "  return lib.unary_union(collections, **kwargs)\n"
     ]
    },
    {
     "name": "stdout",
     "output_type": "stream",
     "text": [
      "F1: 0.25614917416420885\n",
      "Presicion: 0.957270480864575\n",
      "Recall: 0.1478565227854121\n",
      "IoU: 0.16817542786747214\n"
     ]
    },
    {
     "name": "stderr",
     "output_type": "stream",
     "text": [
      "INFO: Created TensorFlow Lite XNNPACK delegate for CPU.\n",
      "Segmentation fault\n",
      "/home/ohm/PycharmProjects/FiFi/venv/lib/python3.8/site-packages/shapely/set_operations.py:426: RuntimeWarning: divide by zero encountered in unary_union\n",
      "  return lib.unary_union(collections, **kwargs)\n"
     ]
    },
    {
     "name": "stdout",
     "output_type": "stream",
     "text": [
      "F1: 0.08904158516053173\n",
      "Presicion: 0.9528132492669349\n",
      "Recall: 0.04670302029490031\n",
      "IoU: 0.05793207074615064\n"
     ]
    },
    {
     "name": "stderr",
     "output_type": "stream",
     "text": [
      "INFO: Created TensorFlow Lite XNNPACK delegate for CPU.\n",
      "Error connect socket: : Connection refused\n",
      "Error: bind to port 40588 on 127.0.0.1 failed in file ../../sockethelper/sockethelper.cpp line 51. Exiting.\n",
      "Error connect socket: : Connection refused\n",
      "Error: bind to port 40588 on 127.0.0.1 failed in file ../../sockethelper/sockethelper.cpp line 51. Exiting.\n",
      "Error connect socket: : Connection refused\n",
      "Error: bind to port 40588 on 127.0.0.1 failed in file ../../sockethelper/sockethelper.cpp line 51. Exiting.\n",
      "Error connect socket: : Connection refused\n",
      "Error: bind to port 40588 on 127.0.0.1 failed in file ../../sockethelper/sockethelper.cpp line 51. Exiting.\n",
      "/home/ohm/PycharmProjects/FiFi/venv/lib/python3.8/site-packages/shapely/set_operations.py:426: RuntimeWarning: divide by zero encountered in unary_union\n",
      "  return lib.unary_union(collections, **kwargs)\n"
     ]
    },
    {
     "name": "stdout",
     "output_type": "stream",
     "text": [
      "F1: 0.08904158516053173\n",
      "Presicion: 0.9528132492669349\n",
      "Recall: 0.04670302029490031\n",
      "IoU: 0.05793207074615064\n"
     ]
    },
    {
     "name": "stderr",
     "output_type": "stream",
     "text": [
      "INFO: Created TensorFlow Lite XNNPACK delegate for CPU.\n",
      "Error connect socket: : Connection refused\n",
      "Error: bind to port 40588 on 127.0.0.1 failed in file ../../sockethelper/sockethelper.cpp line 51. Exiting.\n",
      "Error connect socket: : Connection refused\n",
      "Error: bind to port 40588 on 127.0.0.1 failed in file ../../sockethelper/sockethelper.cpp line 51. Exiting.\n",
      "Error connect socket: : Connection refused\n",
      "Error: bind to port 40588 on 127.0.0.1 failed in file ../../sockethelper/sockethelper.cpp line 51. Exiting.\n",
      "Error connect socket: : Connection refused\n",
      "Error: bind to port 40588 on 127.0.0.1 failed in file ../../sockethelper/sockethelper.cpp line 51. Exiting.\n",
      "/home/ohm/PycharmProjects/FiFi/venv/lib/python3.8/site-packages/shapely/set_operations.py:426: RuntimeWarning: divide by zero encountered in unary_union\n",
      "  return lib.unary_union(collections, **kwargs)\n",
      "/home/ohm/PycharmProjects/FiFi/venv/lib/python3.8/site-packages/shapely/set_operations.py:133: RuntimeWarning: invalid value encountered in intersection\n",
      "  return lib.intersection(a, b, **kwargs)\n"
     ]
    },
    {
     "name": "stdout",
     "output_type": "stream",
     "text": [
      "F1: 0.22674636637532414\n",
      "Presicion: 0.9242683122517199\n",
      "Recall: 0.12922415849311097\n",
      "IoU: 0.15645253504496678\n"
     ]
    },
    {
     "name": "stderr",
     "output_type": "stream",
     "text": [
      "INFO: Created TensorFlow Lite XNNPACK delegate for CPU.\n",
      "Error connect socket: : Connection refused\n",
      "Error: bind to port 40588 on 127.0.0.1 failed in file ../../sockethelper/sockethelper.cpp line 51. Exiting.\n",
      "Error connect socket: : Connection refused\n",
      "Error: bind to port 40588 on 127.0.0.1 failed in file ../../sockethelper/sockethelper.cpp line 51. Exiting.\n",
      "Error connect socket: : Connection refused\n",
      "Error: bind to port 40588 on 127.0.0.1 failed in file ../../sockethelper/sockethelper.cpp line 51. Exiting.\n",
      "Error connect socket: : Connection refused\n",
      "Error: bind to port 40588 on 127.0.0.1 failed in file ../../sockethelper/sockethelper.cpp line 51. Exiting.\n",
      "/home/ohm/PycharmProjects/FiFi/venv/lib/python3.8/site-packages/shapely/set_operations.py:426: RuntimeWarning: divide by zero encountered in unary_union\n",
      "  return lib.unary_union(collections, **kwargs)\n",
      "/home/ohm/PycharmProjects/FiFi/venv/lib/python3.8/site-packages/shapely/set_operations.py:133: RuntimeWarning: invalid value encountered in intersection\n",
      "  return lib.intersection(a, b, **kwargs)\n"
     ]
    },
    {
     "name": "stdout",
     "output_type": "stream",
     "text": [
      "F1: 0.2281157081465425\n",
      "Presicion: 0.9056950438136707\n",
      "Recall: 0.13049113215115654\n",
      "IoU: 0.17181246497137012\n"
     ]
    },
    {
     "name": "stderr",
     "output_type": "stream",
     "text": [
      "INFO: Created TensorFlow Lite XNNPACK delegate for CPU.\n",
      "Error connect socket: : Connection refused\n",
      "Error: bind to port 40588 on 127.0.0.1 failed in file ../../sockethelper/sockethelper.cpp line 51. Exiting.\n",
      "Error connect socket: : Connection refused\n",
      "Error: bind to port 40588 on 127.0.0.1 failed in file ../../sockethelper/sockethelper.cpp line 51. Exiting.\n",
      "Error connect socket: : Connection refused\n",
      "Error: bind to port 40588 on 127.0.0.1 failed in file ../../sockethelper/sockethelper.cpp line 51. Exiting.\n",
      "Error connect socket: : Connection refused\n",
      "Error: bind to port 40588 on 127.0.0.1 failed in file ../../sockethelper/sockethelper.cpp line 51. Exiting.\n",
      "/home/ohm/PycharmProjects/FiFi/venv/lib/python3.8/site-packages/shapely/set_operations.py:426: RuntimeWarning: divide by zero encountered in unary_union\n",
      "  return lib.unary_union(collections, **kwargs)\n"
     ]
    },
    {
     "name": "stdout",
     "output_type": "stream",
     "text": [
      "F1: 0.2209592740029514\n",
      "Presicion: 0.9472270270133684\n",
      "Recall: 0.12506677565009983\n",
      "IoU: 0.1627831236168008\n"
     ]
    },
    {
     "name": "stderr",
     "output_type": "stream",
     "text": [
      "INFO: Created TensorFlow Lite XNNPACK delegate for CPU.\n",
      "Error connect socket: : Connection refused\n",
      "Error: bind to port 40588 on 127.0.0.1 failed in file ../../sockethelper/sockethelper.cpp line 51. Exiting.\n",
      "Segmentation fault\n",
      "/home/ohm/PycharmProjects/FiFi/venv/lib/python3.8/site-packages/shapely/set_operations.py:426: RuntimeWarning: divide by zero encountered in unary_union\n",
      "  return lib.unary_union(collections, **kwargs)\n"
     ]
    },
    {
     "name": "stdout",
     "output_type": "stream",
     "text": [
      "F1: 0.09251923324095856\n",
      "Presicion: 0.9546720349930864\n",
      "Recall: 0.048615322120088574\n",
      "IoU: 0.06109099365446296\n"
     ]
    },
    {
     "name": "stderr",
     "output_type": "stream",
     "text": [
      "INFO: Created TensorFlow Lite XNNPACK delegate for CPU.\n",
      "Segmentation fault\n",
      "/home/ohm/PycharmProjects/FiFi/venv/lib/python3.8/site-packages/shapely/set_operations.py:426: RuntimeWarning: divide by zero encountered in unary_union\n",
      "  return lib.unary_union(collections, **kwargs)\n"
     ]
    },
    {
     "name": "stdout",
     "output_type": "stream",
     "text": [
      "F1: 0.08904158516053173\n",
      "Presicion: 0.9528132492669349\n",
      "Recall: 0.04670302029490031\n",
      "IoU: 0.05793207074615064\n"
     ]
    },
    {
     "name": "stderr",
     "output_type": "stream",
     "text": [
      "INFO: Created TensorFlow Lite XNNPACK delegate for CPU.\n",
      "Error connect socket: : Connection refused\n",
      "Error: bind to port 40588 on 127.0.0.1 failed in file ../../sockethelper/sockethelper.cpp line 51. Exiting.\n",
      "Error connect socket: : Connection refused\n",
      "Error: bind to port 40588 on 127.0.0.1 failed in file ../../sockethelper/sockethelper.cpp line 51. Exiting.\n",
      "Error connect socket: : Connection refused\n",
      "Error: bind to port 40588 on 127.0.0.1 failed in file ../../sockethelper/sockethelper.cpp line 51. Exiting.\n",
      "Error connect socket: : Connection refused\n",
      "Error: bind to port 40588 on 127.0.0.1 failed in file ../../sockethelper/sockethelper.cpp line 51. Exiting.\n",
      "/home/ohm/PycharmProjects/FiFi/venv/lib/python3.8/site-packages/shapely/set_operations.py:426: RuntimeWarning: divide by zero encountered in unary_union\n",
      "  return lib.unary_union(collections, **kwargs)\n",
      "/home/ohm/PycharmProjects/FiFi/venv/lib/python3.8/site-packages/shapely/set_operations.py:133: RuntimeWarning: invalid value encountered in intersection\n",
      "  return lib.intersection(a, b, **kwargs)\n"
     ]
    },
    {
     "name": "stdout",
     "output_type": "stream",
     "text": [
      "F1: 0.22444333591010346\n",
      "Presicion: 0.9625059101115352\n",
      "Recall: 0.1270328359553828\n",
      "IoU: 0.14389216658424805\n"
     ]
    },
    {
     "name": "stderr",
     "output_type": "stream",
     "text": [
      "INFO: Created TensorFlow Lite XNNPACK delegate for CPU.\n",
      "Error connect socket: : Connection refused\n",
      "Error: bind to port 40588 on 127.0.0.1 failed in file ../../sockethelper/sockethelper.cpp line 51. Exiting.\n",
      "Error connect socket: : Connection refused\n",
      "Error: bind to port 40588 on 127.0.0.1 failed in file ../../sockethelper/sockethelper.cpp line 51. Exiting.\n",
      "Error connect socket: : Connection refused\n",
      "Error: bind to port 40588 on 127.0.0.1 failed in file ../../sockethelper/sockethelper.cpp line 51. Exiting.\n",
      "Error connect socket: : Connection refused\n",
      "Error: bind to port 40588 on 127.0.0.1 failed in file ../../sockethelper/sockethelper.cpp line 51. Exiting.\n",
      "/home/ohm/PycharmProjects/FiFi/venv/lib/python3.8/site-packages/shapely/set_operations.py:426: RuntimeWarning: divide by zero encountered in unary_union\n",
      "  return lib.unary_union(collections, **kwargs)\n",
      "/home/ohm/PycharmProjects/FiFi/venv/lib/python3.8/site-packages/shapely/set_operations.py:133: RuntimeWarning: invalid value encountered in intersection\n",
      "  return lib.intersection(a, b, **kwargs)\n"
     ]
    },
    {
     "name": "stdout",
     "output_type": "stream",
     "text": [
      "F1: 0.2631290594163101\n",
      "Presicion: 0.9218137852728745\n",
      "Recall: 0.15346803085724336\n",
      "IoU: 0.1889974619451197\n"
     ]
    },
    {
     "name": "stderr",
     "output_type": "stream",
     "text": [
      "INFO: Created TensorFlow Lite XNNPACK delegate for CPU.\n",
      "Error connect socket: : Connection refused\n",
      "Error: bind to port 40588 on 127.0.0.1 failed in file ../../sockethelper/sockethelper.cpp line 51. Exiting.\n",
      "Segmentation fault\n",
      "/home/ohm/PycharmProjects/FiFi/venv/lib/python3.8/site-packages/shapely/set_operations.py:426: RuntimeWarning: divide by zero encountered in unary_union\n",
      "  return lib.unary_union(collections, **kwargs)\n"
     ]
    },
    {
     "name": "stdout",
     "output_type": "stream",
     "text": [
      "F1: 0.09550753872314209\n",
      "Presicion: 0.9554623553903381\n",
      "Recall: 0.05026605416678038\n",
      "IoU: 0.061769814538111194\n"
     ]
    },
    {
     "name": "stderr",
     "output_type": "stream",
     "text": [
      "INFO: Created TensorFlow Lite XNNPACK delegate for CPU.\n",
      "Error connect socket: : Connection refused\n",
      "Error: bind to port 40588 on 127.0.0.1 failed in file ../../sockethelper/sockethelper.cpp line 51. Exiting.\n",
      "Segmentation fault\n",
      "/home/ohm/PycharmProjects/FiFi/venv/lib/python3.8/site-packages/shapely/set_operations.py:426: RuntimeWarning: divide by zero encountered in unary_union\n",
      "  return lib.unary_union(collections, **kwargs)\n"
     ]
    },
    {
     "name": "stdout",
     "output_type": "stream",
     "text": [
      "F1: 0.08904158516053173\n",
      "Presicion: 0.9528132492669349\n",
      "Recall: 0.04670302029490031\n",
      "IoU: 0.05793207074615064\n"
     ]
    },
    {
     "name": "stderr",
     "output_type": "stream",
     "text": [
      "INFO: Created TensorFlow Lite XNNPACK delegate for CPU.\n",
      "Error connect socket: : Connection refused\n",
      "Error: bind to port 40588 on 127.0.0.1 failed in file ../../sockethelper/sockethelper.cpp line 51. Exiting.\n",
      "Error connect socket: : Connection refused\n",
      "Error: bind to port 40588 on 127.0.0.1 failed in file ../../sockethelper/sockethelper.cpp line 51. Exiting.\n",
      "Error connect socket: : Connection refused\n",
      "Error: bind to port 40588 on 127.0.0.1 failed in file ../../sockethelper/sockethelper.cpp line 51. Exiting.\n",
      "Error connect socket: : Connection refused\n",
      "Error: bind to port 40588 on 127.0.0.1 failed in file ../../sockethelper/sockethelper.cpp line 51. Exiting.\n",
      "/home/ohm/PycharmProjects/FiFi/venv/lib/python3.8/site-packages/shapely/set_operations.py:426: RuntimeWarning: divide by zero encountered in unary_union\n",
      "  return lib.unary_union(collections, **kwargs)\n"
     ]
    },
    {
     "name": "stdout",
     "output_type": "stream",
     "text": [
      "F1: 0.08904158516053173\n",
      "Presicion: 0.9528132492669349\n",
      "Recall: 0.04670302029490031\n",
      "IoU: 0.05793207074615064\n"
     ]
    },
    {
     "name": "stderr",
     "output_type": "stream",
     "text": [
      "INFO: Created TensorFlow Lite XNNPACK delegate for CPU.\n",
      "Error connect socket: : Connection refused\n",
      "Error: bind to port 40588 on 127.0.0.1 failed in file ../../sockethelper/sockethelper.cpp line 51. Exiting.\n",
      "Error connect socket: : Connection refused\n",
      "Error: bind to port 40588 on 127.0.0.1 failed in file ../../sockethelper/sockethelper.cpp line 51. Exiting.\n",
      "Error connect socket: : Connection refused\n",
      "Error: bind to port 40588 on 127.0.0.1 failed in file ../../sockethelper/sockethelper.cpp line 51. Exiting.\n",
      "Error connect socket: : Connection refused\n",
      "Error: bind to port 40588 on 127.0.0.1 failed in file ../../sockethelper/sockethelper.cpp line 51. Exiting.\n",
      "/home/ohm/PycharmProjects/FiFi/venv/lib/python3.8/site-packages/shapely/set_operations.py:426: RuntimeWarning: divide by zero encountered in unary_union\n",
      "  return lib.unary_union(collections, **kwargs)\n",
      "/home/ohm/PycharmProjects/FiFi/venv/lib/python3.8/site-packages/shapely/set_operations.py:133: RuntimeWarning: invalid value encountered in intersection\n",
      "  return lib.intersection(a, b, **kwargs)\n"
     ]
    },
    {
     "name": "stdout",
     "output_type": "stream",
     "text": [
      "F1: 0.20598365336220958\n",
      "Presicion: 0.933350780183065\n",
      "Recall: 0.11576620132760601\n",
      "IoU: 0.12743800632542368\n"
     ]
    },
    {
     "name": "stderr",
     "output_type": "stream",
     "text": [
      "INFO: Created TensorFlow Lite XNNPACK delegate for CPU.\n",
      "Segmentation fault\n",
      "/home/ohm/PycharmProjects/FiFi/venv/lib/python3.8/site-packages/shapely/set_operations.py:426: RuntimeWarning: divide by zero encountered in unary_union\n",
      "  return lib.unary_union(collections, **kwargs)\n"
     ]
    },
    {
     "name": "stdout",
     "output_type": "stream",
     "text": [
      "F1: 0.08904158516053173\n",
      "Presicion: 0.9528132492669349\n",
      "Recall: 0.04670302029490031\n",
      "IoU: 0.05793207074615064\n"
     ]
    },
    {
     "name": "stderr",
     "output_type": "stream",
     "text": [
      "INFO: Created TensorFlow Lite XNNPACK delegate for CPU.\n",
      "Error connect socket: : Connection refused\n",
      "Error: bind to port 40588 on 127.0.0.1 failed in file ../../sockethelper/sockethelper.cpp line 51. Exiting.\n",
      "Error connect socket: : Connection refused\n",
      "Error: bind to port 40588 on 127.0.0.1 failed in file ../../sockethelper/sockethelper.cpp line 51. Exiting.\n",
      "Error connect socket: : Connection refused\n",
      "Error: bind to port 40588 on 127.0.0.1 failed in file ../../sockethelper/sockethelper.cpp line 51. Exiting.\n",
      "Error connect socket: : Connection refused\n",
      "Error: bind to port 40588 on 127.0.0.1 failed in file ../../sockethelper/sockethelper.cpp line 51. Exiting.\n",
      "/home/ohm/PycharmProjects/FiFi/venv/lib/python3.8/site-packages/shapely/set_operations.py:426: RuntimeWarning: divide by zero encountered in unary_union\n",
      "  return lib.unary_union(collections, **kwargs)\n",
      "/home/ohm/PycharmProjects/FiFi/venv/lib/python3.8/site-packages/shapely/set_operations.py:133: RuntimeWarning: invalid value encountered in intersection\n",
      "  return lib.intersection(a, b, **kwargs)\n"
     ]
    },
    {
     "name": "stdout",
     "output_type": "stream",
     "text": [
      "F1: 0.2763897051696456\n",
      "Presicion: 0.9021843206675143\n",
      "Recall: 0.16319234021887202\n",
      "IoU: 0.21124194459374723\n"
     ]
    },
    {
     "name": "stderr",
     "output_type": "stream",
     "text": [
      "INFO: Created TensorFlow Lite XNNPACK delegate for CPU.\n",
      "Error connect socket: : Connection refused\n",
      "Error: bind to port 40588 on 127.0.0.1 failed in file ../../sockethelper/sockethelper.cpp line 51. Exiting.\n",
      "Error connect socket: : Connection refused\n",
      "Error: bind to port 40588 on 127.0.0.1 failed in file ../../sockethelper/sockethelper.cpp line 51. Exiting.\n",
      "Error connect socket: : Connection refused\n",
      "Error: bind to port 40588 on 127.0.0.1 failed in file ../../sockethelper/sockethelper.cpp line 51. Exiting.\n",
      "Error connect socket: : Connection refused\n",
      "Error: bind to port 40588 on 127.0.0.1 failed in file ../../sockethelper/sockethelper.cpp line 51. Exiting.\n",
      "/home/ohm/PycharmProjects/FiFi/venv/lib/python3.8/site-packages/shapely/set_operations.py:426: RuntimeWarning: divide by zero encountered in unary_union\n",
      "  return lib.unary_union(collections, **kwargs)\n",
      "/home/ohm/PycharmProjects/FiFi/venv/lib/python3.8/site-packages/shapely/set_operations.py:133: RuntimeWarning: invalid value encountered in intersection\n",
      "  return lib.intersection(a, b, **kwargs)\n"
     ]
    },
    {
     "name": "stdout",
     "output_type": "stream",
     "text": [
      "F1: 0.15810501133861482\n",
      "Presicion: 0.9101591370363555\n",
      "Recall: 0.08657175580730317\n",
      "IoU: 0.10599069087045121\n"
     ]
    },
    {
     "name": "stderr",
     "output_type": "stream",
     "text": [
      "INFO: Created TensorFlow Lite XNNPACK delegate for CPU.\n",
      "Error connect socket: : Connection refused\n",
      "Error: bind to port 40588 on 127.0.0.1 failed in file ../../sockethelper/sockethelper.cpp line 51. Exiting.\n",
      "Error connect socket: : Connection refused\n",
      "Error: bind to port 40588 on 127.0.0.1 failed in file ../../sockethelper/sockethelper.cpp line 51. Exiting.\n",
      "Error connect socket: : Connection refused\n",
      "Error: bind to port 40588 on 127.0.0.1 failed in file ../../sockethelper/sockethelper.cpp line 51. Exiting.\n",
      "Error connect socket: : Connection refused\n",
      "Error: bind to port 40588 on 127.0.0.1 failed in file ../../sockethelper/sockethelper.cpp line 51. Exiting.\n",
      "/home/ohm/PycharmProjects/FiFi/venv/lib/python3.8/site-packages/shapely/set_operations.py:426: RuntimeWarning: divide by zero encountered in unary_union\n",
      "  return lib.unary_union(collections, **kwargs)\n",
      "/home/ohm/PycharmProjects/FiFi/venv/lib/python3.8/site-packages/shapely/set_operations.py:133: RuntimeWarning: invalid value encountered in intersection\n",
      "  return lib.intersection(a, b, **kwargs)\n"
     ]
    },
    {
     "name": "stdout",
     "output_type": "stream",
     "text": [
      "F1: 0.2333641257058451\n",
      "Presicion: 0.9398819429031816\n",
      "Recall: 0.13322082108352648\n",
      "IoU: 0.15947532318860316\n"
     ]
    },
    {
     "name": "stderr",
     "output_type": "stream",
     "text": [
      "INFO: Created TensorFlow Lite XNNPACK delegate for CPU.\n",
      "Error connect socket: : Connection refused\n",
      "Error: bind to port 40588 on 127.0.0.1 failed in file ../../sockethelper/sockethelper.cpp line 51. Exiting.\n",
      "Error connect socket: : Connection refused\n",
      "Error: bind to port 40588 on 127.0.0.1 failed in file ../../sockethelper/sockethelper.cpp line 51. Exiting.\n",
      "Error connect socket: : Connection refused\n",
      "Error: bind to port 40588 on 127.0.0.1 failed in file ../../sockethelper/sockethelper.cpp line 51. Exiting.\n",
      "Error connect socket: : Connection refused\n",
      "Error: bind to port 40588 on 127.0.0.1 failed in file ../../sockethelper/sockethelper.cpp line 51. Exiting.\n",
      "/home/ohm/PycharmProjects/FiFi/venv/lib/python3.8/site-packages/shapely/set_operations.py:426: RuntimeWarning: divide by zero encountered in unary_union\n",
      "  return lib.unary_union(collections, **kwargs)\n",
      "/home/ohm/PycharmProjects/FiFi/venv/lib/python3.8/site-packages/shapely/set_operations.py:133: RuntimeWarning: invalid value encountered in intersection\n",
      "  return lib.intersection(a, b, **kwargs)\n"
     ]
    },
    {
     "name": "stdout",
     "output_type": "stream",
     "text": [
      "F1: 0.18588017266695833\n",
      "Presicion: 0.9057212153354488\n",
      "Recall: 0.10356762102818987\n",
      "IoU: 0.13934797763254775\n"
     ]
    },
    {
     "name": "stderr",
     "output_type": "stream",
     "text": [
      "INFO: Created TensorFlow Lite XNNPACK delegate for CPU.\n",
      "Error connect socket: : Connection refused\n",
      "Error: bind to port 40588 on 127.0.0.1 failed in file ../../sockethelper/sockethelper.cpp line 51. Exiting.\n",
      "Error connect socket: : Connection refused\n",
      "Error: bind to port 40588 on 127.0.0.1 failed in file ../../sockethelper/sockethelper.cpp line 51. Exiting.\n",
      "Error connect socket: : Connection refused\n",
      "Error: bind to port 40588 on 127.0.0.1 failed in file ../../sockethelper/sockethelper.cpp line 51. Exiting.\n",
      "Error connect socket: : Connection refused\n",
      "Error: bind to port 40588 on 127.0.0.1 failed in file ../../sockethelper/sockethelper.cpp line 51. Exiting.\n",
      "/home/ohm/PycharmProjects/FiFi/venv/lib/python3.8/site-packages/shapely/set_operations.py:426: RuntimeWarning: divide by zero encountered in unary_union\n",
      "  return lib.unary_union(collections, **kwargs)\n"
     ]
    },
    {
     "name": "stdout",
     "output_type": "stream",
     "text": [
      "F1: 0.16104054482368751\n",
      "Presicion: 0.9743132862609212\n",
      "Recall: 0.08777420499893858\n",
      "IoU: 0.09189909395457796\n"
     ]
    },
    {
     "name": "stderr",
     "output_type": "stream",
     "text": [
      "INFO: Created TensorFlow Lite XNNPACK delegate for CPU.\n",
      "Error connect socket: : Connection refused\n",
      "Error: bind to port 40588 on 127.0.0.1 failed in file ../../sockethelper/sockethelper.cpp line 51. Exiting.\n",
      "Error connect socket: : Connection refused\n",
      "Error: bind to port 40588 on 127.0.0.1 failed in file ../../sockethelper/sockethelper.cpp line 51. Exiting.\n",
      "Error connect socket: : Connection refused\n",
      "Error: bind to port 40588 on 127.0.0.1 failed in file ../../sockethelper/sockethelper.cpp line 51. Exiting.\n",
      "Error connect socket: : Connection refused\n",
      "Error: bind to port 40588 on 127.0.0.1 failed in file ../../sockethelper/sockethelper.cpp line 51. Exiting.\n",
      "/home/ohm/PycharmProjects/FiFi/venv/lib/python3.8/site-packages/shapely/set_operations.py:426: RuntimeWarning: divide by zero encountered in unary_union\n",
      "  return lib.unary_union(collections, **kwargs)\n",
      "/home/ohm/PycharmProjects/FiFi/venv/lib/python3.8/site-packages/shapely/set_operations.py:133: RuntimeWarning: invalid value encountered in intersection\n",
      "  return lib.intersection(a, b, **kwargs)\n"
     ]
    },
    {
     "name": "stdout",
     "output_type": "stream",
     "text": [
      "F1: 0.2341335270788309\n",
      "Presicion: 0.9540787385329239\n",
      "Recall: 0.13344003839692234\n",
      "IoU: 0.1524407216949496\n"
     ]
    },
    {
     "name": "stderr",
     "output_type": "stream",
     "text": [
      "INFO: Created TensorFlow Lite XNNPACK delegate for CPU.\n",
      "Error connect socket: : Connection refused\n",
      "Error: bind to port 40588 on 127.0.0.1 failed in file ../../sockethelper/sockethelper.cpp line 51. Exiting.\n",
      "Segmentation fault\n",
      "/home/ohm/PycharmProjects/FiFi/venv/lib/python3.8/site-packages/shapely/set_operations.py:426: RuntimeWarning: divide by zero encountered in unary_union\n",
      "  return lib.unary_union(collections, **kwargs)\n"
     ]
    },
    {
     "name": "stdout",
     "output_type": "stream",
     "text": [
      "F1: 0.09452767765948158\n",
      "Presicion: 0.9511410963626349\n",
      "Recall: 0.049735270036032\n",
      "IoU: 0.0622452901758074\n"
     ]
    },
    {
     "name": "stderr",
     "output_type": "stream",
     "text": [
      "INFO: Created TensorFlow Lite XNNPACK delegate for CPU.\n",
      "Error connect socket: : Connection refused\n",
      "Error: bind to port 40588 on 127.0.0.1 failed in file ../../sockethelper/sockethelper.cpp line 51. Exiting.\n",
      "Error connect socket: : Connection refused\n",
      "Error: bind to port 40588 on 127.0.0.1 failed in file ../../sockethelper/sockethelper.cpp line 51. Exiting.\n",
      "Error connect socket: : Connection refused\n",
      "Error: bind to port 40588 on 127.0.0.1 failed in file ../../sockethelper/sockethelper.cpp line 51. Exiting.\n",
      "Error connect socket: : Connection refused\n",
      "Error: bind to port 40588 on 127.0.0.1 failed in file ../../sockethelper/sockethelper.cpp line 51. Exiting.\n",
      "/home/ohm/PycharmProjects/FiFi/venv/lib/python3.8/site-packages/shapely/set_operations.py:426: RuntimeWarning: divide by zero encountered in unary_union\n",
      "  return lib.unary_union(collections, **kwargs)\n",
      "/home/ohm/PycharmProjects/FiFi/venv/lib/python3.8/site-packages/shapely/set_operations.py:133: RuntimeWarning: invalid value encountered in intersection\n",
      "  return lib.intersection(a, b, **kwargs)\n"
     ]
    },
    {
     "name": "stdout",
     "output_type": "stream",
     "text": [
      "F1: 0.26277456827156387\n",
      "Presicion: 0.9152550458943132\n",
      "Recall: 0.15340964463425388\n",
      "IoU: 0.2028046159286145\n"
     ]
    },
    {
     "name": "stderr",
     "output_type": "stream",
     "text": [
      "INFO: Created TensorFlow Lite XNNPACK delegate for CPU.\n",
      "Error connect socket: : Connection refused\n",
      "Error: bind to port 40588 on 127.0.0.1 failed in file ../../sockethelper/sockethelper.cpp line 51. Exiting.\n",
      "Error connect socket: : Connection refused\n",
      "Error: bind to port 40588 on 127.0.0.1 failed in file ../../sockethelper/sockethelper.cpp line 51. Exiting.\n",
      "Error connect socket: : Connection refused\n",
      "Error: bind to port 40588 on 127.0.0.1 failed in file ../../sockethelper/sockethelper.cpp line 51. Exiting.\n",
      "Error connect socket: : Connection refused\n",
      "Error: bind to port 40588 on 127.0.0.1 failed in file ../../sockethelper/sockethelper.cpp line 51. Exiting.\n",
      "/home/ohm/PycharmProjects/FiFi/venv/lib/python3.8/site-packages/shapely/set_operations.py:426: RuntimeWarning: divide by zero encountered in unary_union\n",
      "  return lib.unary_union(collections, **kwargs)\n",
      "/home/ohm/PycharmProjects/FiFi/venv/lib/python3.8/site-packages/shapely/set_operations.py:133: RuntimeWarning: invalid value encountered in intersection\n",
      "  return lib.intersection(a, b, **kwargs)\n"
     ]
    },
    {
     "name": "stdout",
     "output_type": "stream",
     "text": [
      "F1: 0.23665132322713875\n",
      "Presicion: 0.9067813684796359\n",
      "Recall: 0.13608311085816877\n",
      "IoU: 0.16844971057406294\n"
     ]
    },
    {
     "name": "stderr",
     "output_type": "stream",
     "text": [
      "INFO: Created TensorFlow Lite XNNPACK delegate for CPU.\n",
      "Error connect socket: : Connection refused\n",
      "Error: bind to port 40588 on 127.0.0.1 failed in file ../../sockethelper/sockethelper.cpp line 51. Exiting.\n",
      "Error connect socket: : Connection refused\n",
      "Error: bind to port 40588 on 127.0.0.1 failed in file ../../sockethelper/sockethelper.cpp line 51. Exiting.\n",
      "Error connect socket: : Connection refused\n",
      "Error: bind to port 40588 on 127.0.0.1 failed in file ../../sockethelper/sockethelper.cpp line 51. Exiting.\n",
      "Error connect socket: : Connection refused\n",
      "Error: bind to port 40588 on 127.0.0.1 failed in file ../../sockethelper/sockethelper.cpp line 51. Exiting.\n",
      "/home/ohm/PycharmProjects/FiFi/venv/lib/python3.8/site-packages/shapely/set_operations.py:426: RuntimeWarning: divide by zero encountered in unary_union\n",
      "  return lib.unary_union(collections, **kwargs)\n",
      "/home/ohm/PycharmProjects/FiFi/venv/lib/python3.8/site-packages/shapely/set_operations.py:133: RuntimeWarning: invalid value encountered in intersection\n",
      "  return lib.intersection(a, b, **kwargs)\n"
     ]
    },
    {
     "name": "stdout",
     "output_type": "stream",
     "text": [
      "F1: 0.14026293920327074\n",
      "Presicion: 0.9681550430175833\n",
      "Recall: 0.07560841160414444\n",
      "IoU: 0.08274441901366157\n"
     ]
    },
    {
     "name": "stderr",
     "output_type": "stream",
     "text": [
      "INFO: Created TensorFlow Lite XNNPACK delegate for CPU.\n",
      "Error connect socket: : Connection refused\n",
      "Error: bind to port 40588 on 127.0.0.1 failed in file ../../sockethelper/sockethelper.cpp line 51. Exiting.\n",
      "Error connect socket: : Connection refused\n",
      "Error: bind to port 40588 on 127.0.0.1 failed in file ../../sockethelper/sockethelper.cpp line 51. Exiting.\n",
      "Error connect socket: : Connection refused\n",
      "Error: bind to port 40588 on 127.0.0.1 failed in file ../../sockethelper/sockethelper.cpp line 51. Exiting.\n",
      "Error connect socket: : Connection refused\n",
      "Error: bind to port 40588 on 127.0.0.1 failed in file ../../sockethelper/sockethelper.cpp line 51. Exiting.\n",
      "/home/ohm/PycharmProjects/FiFi/venv/lib/python3.8/site-packages/shapely/set_operations.py:426: RuntimeWarning: divide by zero encountered in unary_union\n",
      "  return lib.unary_union(collections, **kwargs)\n",
      "/home/ohm/PycharmProjects/FiFi/venv/lib/python3.8/site-packages/shapely/set_operations.py:133: RuntimeWarning: invalid value encountered in intersection\n",
      "  return lib.intersection(a, b, **kwargs)\n"
     ]
    },
    {
     "name": "stdout",
     "output_type": "stream",
     "text": [
      "F1: 0.2051145213382019\n",
      "Presicion: 0.8302803804787663\n",
      "Recall: 0.11701054850569036\n",
      "IoU: 0.16275205539176613\n"
     ]
    },
    {
     "name": "stderr",
     "output_type": "stream",
     "text": [
      "INFO: Created TensorFlow Lite XNNPACK delegate for CPU.\n",
      "Error connect socket: : Connection refused\n",
      "Error: bind to port 40588 on 127.0.0.1 failed in file ../../sockethelper/sockethelper.cpp line 51. Exiting.\n",
      "Error connect socket: : Connection refused\n",
      "Error: bind to port 40588 on 127.0.0.1 failed in file ../../sockethelper/sockethelper.cpp line 51. Exiting.\n",
      "Error connect socket: : Connection refused\n",
      "Error: bind to port 40588 on 127.0.0.1 failed in file ../../sockethelper/sockethelper.cpp line 51. Exiting.\n",
      "Error connect socket: : Connection refused\n",
      "Error: bind to port 40588 on 127.0.0.1 failed in file ../../sockethelper/sockethelper.cpp line 51. Exiting.\n",
      "/home/ohm/PycharmProjects/FiFi/venv/lib/python3.8/site-packages/shapely/set_operations.py:426: RuntimeWarning: divide by zero encountered in unary_union\n",
      "  return lib.unary_union(collections, **kwargs)\n",
      "/home/ohm/PycharmProjects/FiFi/venv/lib/python3.8/site-packages/shapely/set_operations.py:133: RuntimeWarning: invalid value encountered in intersection\n",
      "  return lib.intersection(a, b, **kwargs)\n"
     ]
    },
    {
     "name": "stdout",
     "output_type": "stream",
     "text": [
      "F1: 0.21933142006253725\n",
      "Presicion: 0.918784594911984\n",
      "Recall: 0.12452949356344427\n",
      "IoU: 0.17779303977902747\n"
     ]
    },
    {
     "name": "stderr",
     "output_type": "stream",
     "text": [
      "INFO: Created TensorFlow Lite XNNPACK delegate for CPU.\n",
      "Error connect socket: : Connection refused\n",
      "Error: bind to port 40588 on 127.0.0.1 failed in file ../../sockethelper/sockethelper.cpp line 51. Exiting.\n",
      "Error connect socket: : Connection refused\n",
      "Error: bind to port 40588 on 127.0.0.1 failed in file ../../sockethelper/sockethelper.cpp line 51. Exiting.\n",
      "Error connect socket: : Connection refused\n",
      "Error: bind to port 40588 on 127.0.0.1 failed in file ../../sockethelper/sockethelper.cpp line 51. Exiting.\n",
      "Error connect socket: : Connection refused\n",
      "Error: bind to port 40588 on 127.0.0.1 failed in file ../../sockethelper/sockethelper.cpp line 51. Exiting.\n",
      "/home/ohm/PycharmProjects/FiFi/venv/lib/python3.8/site-packages/shapely/set_operations.py:426: RuntimeWarning: divide by zero encountered in unary_union\n",
      "  return lib.unary_union(collections, **kwargs)\n",
      "/home/ohm/PycharmProjects/FiFi/venv/lib/python3.8/site-packages/shapely/set_operations.py:133: RuntimeWarning: invalid value encountered in intersection\n",
      "  return lib.intersection(a, b, **kwargs)\n"
     ]
    },
    {
     "name": "stdout",
     "output_type": "stream",
     "text": [
      "F1: 0.12835505900438682\n",
      "Presicion: 0.9590360720521375\n",
      "Recall: 0.06878021819226089\n",
      "IoU: 0.08817161316218813\n"
     ]
    },
    {
     "name": "stderr",
     "output_type": "stream",
     "text": [
      "INFO: Created TensorFlow Lite XNNPACK delegate for CPU.\n",
      "Error connect socket: : Connection refused\n",
      "Error: bind to port 40588 on 127.0.0.1 failed in file ../../sockethelper/sockethelper.cpp line 51. Exiting.\n",
      "Error connect socket: : Connection refused\n",
      "Error: bind to port 40588 on 127.0.0.1 failed in file ../../sockethelper/sockethelper.cpp line 51. Exiting.\n",
      "Error connect socket: : Connection refused\n",
      "Error: bind to port 40588 on 127.0.0.1 failed in file ../../sockethelper/sockethelper.cpp line 51. Exiting.\n",
      "Error connect socket: : Connection refused\n",
      "Error: bind to port 40588 on 127.0.0.1 failed in file ../../sockethelper/sockethelper.cpp line 51. Exiting.\n",
      "/home/ohm/PycharmProjects/FiFi/venv/lib/python3.8/site-packages/shapely/set_operations.py:426: RuntimeWarning: divide by zero encountered in unary_union\n",
      "  return lib.unary_union(collections, **kwargs)\n",
      "/home/ohm/PycharmProjects/FiFi/venv/lib/python3.8/site-packages/shapely/set_operations.py:133: RuntimeWarning: invalid value encountered in intersection\n",
      "  return lib.intersection(a, b, **kwargs)\n"
     ]
    },
    {
     "name": "stdout",
     "output_type": "stream",
     "text": [
      "F1: 0.2445538123801949\n",
      "Presicion: 0.9052395648270906\n",
      "Recall: 0.14137314484527186\n",
      "IoU: 0.17967694594000455\n"
     ]
    },
    {
     "name": "stderr",
     "output_type": "stream",
     "text": [
      "INFO: Created TensorFlow Lite XNNPACK delegate for CPU.\n",
      "Error connect socket: : Connection refused\n",
      "Error: bind to port 40588 on 127.0.0.1 failed in file ../../sockethelper/sockethelper.cpp line 51. Exiting.\n",
      "Error connect socket: : Connection refused\n",
      "Error: bind to port 40588 on 127.0.0.1 failed in file ../../sockethelper/sockethelper.cpp line 51. Exiting.\n",
      "Error connect socket: : Connection refused\n",
      "Error: bind to port 40588 on 127.0.0.1 failed in file ../../sockethelper/sockethelper.cpp line 51. Exiting.\n",
      "Error connect socket: : Connection refused\n",
      "Error: bind to port 40588 on 127.0.0.1 failed in file ../../sockethelper/sockethelper.cpp line 51. Exiting.\n",
      "/home/ohm/PycharmProjects/FiFi/venv/lib/python3.8/site-packages/shapely/set_operations.py:426: RuntimeWarning: divide by zero encountered in unary_union\n",
      "  return lib.unary_union(collections, **kwargs)\n",
      "/home/ohm/PycharmProjects/FiFi/venv/lib/python3.8/site-packages/shapely/set_operations.py:133: RuntimeWarning: invalid value encountered in intersection\n",
      "  return lib.intersection(a, b, **kwargs)\n"
     ]
    },
    {
     "name": "stdout",
     "output_type": "stream",
     "text": [
      "F1: 0.26284471398862486\n",
      "Presicion: 0.917542908394605\n",
      "Recall: 0.15339333318514561\n",
      "IoU: 0.1883661984942875\n"
     ]
    },
    {
     "name": "stderr",
     "output_type": "stream",
     "text": [
      "INFO: Created TensorFlow Lite XNNPACK delegate for CPU.\n",
      "Error connect socket: : Connection refused\n",
      "Error: bind to port 40588 on 127.0.0.1 failed in file ../../sockethelper/sockethelper.cpp line 51. Exiting.\n",
      "Error connect socket: : Connection refused\n",
      "Error: bind to port 40588 on 127.0.0.1 failed in file ../../sockethelper/sockethelper.cpp line 51. Exiting.\n",
      "Error connect socket: : Connection refused\n",
      "Error: bind to port 40588 on 127.0.0.1 failed in file ../../sockethelper/sockethelper.cpp line 51. Exiting.\n",
      "Error connect socket: : Connection refused\n",
      "Error: bind to port 40588 on 127.0.0.1 failed in file ../../sockethelper/sockethelper.cpp line 51. Exiting.\n",
      "/home/ohm/PycharmProjects/FiFi/venv/lib/python3.8/site-packages/shapely/set_operations.py:426: RuntimeWarning: divide by zero encountered in unary_union\n",
      "  return lib.unary_union(collections, **kwargs)\n",
      "/home/ohm/PycharmProjects/FiFi/venv/lib/python3.8/site-packages/shapely/set_operations.py:133: RuntimeWarning: invalid value encountered in intersection\n",
      "  return lib.intersection(a, b, **kwargs)\n"
     ]
    },
    {
     "name": "stdout",
     "output_type": "stream",
     "text": [
      "F1: 0.26157087401427126\n",
      "Presicion: 0.9360641421060729\n",
      "Recall: 0.1520263197286599\n",
      "IoU: 0.19052626234406228\n"
     ]
    },
    {
     "name": "stderr",
     "output_type": "stream",
     "text": [
      "INFO: Created TensorFlow Lite XNNPACK delegate for CPU.\n",
      "Error connect socket: : Connection refused\n",
      "Error: bind to port 40588 on 127.0.0.1 failed in file ../../sockethelper/sockethelper.cpp line 51. Exiting.\n",
      "Error connect socket: : Connection refused\n",
      "Error: bind to port 40588 on 127.0.0.1 failed in file ../../sockethelper/sockethelper.cpp line 51. Exiting.\n",
      "Error connect socket: : Connection refused\n",
      "Error: bind to port 40588 on 127.0.0.1 failed in file ../../sockethelper/sockethelper.cpp line 51. Exiting.\n",
      "Error connect socket: : Connection refused\n",
      "Error: bind to port 40588 on 127.0.0.1 failed in file ../../sockethelper/sockethelper.cpp line 51. Exiting.\n",
      "/home/ohm/PycharmProjects/FiFi/venv/lib/python3.8/site-packages/shapely/set_operations.py:426: RuntimeWarning: divide by zero encountered in unary_union\n",
      "  return lib.unary_union(collections, **kwargs)\n",
      "/home/ohm/PycharmProjects/FiFi/venv/lib/python3.8/site-packages/shapely/set_operations.py:133: RuntimeWarning: invalid value encountered in intersection\n",
      "  return lib.intersection(a, b, **kwargs)\n"
     ]
    },
    {
     "name": "stdout",
     "output_type": "stream",
     "text": [
      "F1: 0.22267716369627644\n",
      "Presicion: 0.8757897732159107\n",
      "Recall: 0.1275545024300329\n",
      "IoU: 0.18787386036677794\n"
     ]
    },
    {
     "name": "stderr",
     "output_type": "stream",
     "text": [
      "INFO: Created TensorFlow Lite XNNPACK delegate for CPU.\n",
      "Error connect socket: : Connection refused\n",
      "Error: bind to port 40588 on 127.0.0.1 failed in file ../../sockethelper/sockethelper.cpp line 51. Exiting.\n",
      "Error connect socket: : Connection refused\n",
      "Error: bind to port 40588 on 127.0.0.1 failed in file ../../sockethelper/sockethelper.cpp line 51. Exiting.\n",
      "Error connect socket: : Connection refused\n",
      "Error: bind to port 40588 on 127.0.0.1 failed in file ../../sockethelper/sockethelper.cpp line 51. Exiting.\n",
      "/home/ohm/PycharmProjects/FiFi/venv/lib/python3.8/site-packages/shapely/set_operations.py:426: RuntimeWarning: divide by zero encountered in unary_union\n",
      "  return lib.unary_union(collections, **kwargs)\n"
     ]
    },
    {
     "name": "stdout",
     "output_type": "stream",
     "text": [
      "F1: 0.08904158516053173\n",
      "Presicion: 0.9528132492669349\n",
      "Recall: 0.04670302029490031\n",
      "IoU: 0.05793207074615064\n"
     ]
    },
    {
     "name": "stderr",
     "output_type": "stream",
     "text": [
      "INFO: Created TensorFlow Lite XNNPACK delegate for CPU.\n",
      "Error connect socket: : Connection refused\n",
      "Error: bind to port 40588 on 127.0.0.1 failed in file ../../sockethelper/sockethelper.cpp line 51. Exiting.\n",
      "Error connect socket: : Connection refused\n",
      "Error: bind to port 40588 on 127.0.0.1 failed in file ../../sockethelper/sockethelper.cpp line 51. Exiting.\n",
      "Error connect socket: : Connection refused\n",
      "Error: bind to port 40588 on 127.0.0.1 failed in file ../../sockethelper/sockethelper.cpp line 51. Exiting.\n",
      "Error connect socket: : Connection refused\n",
      "Error: bind to port 40588 on 127.0.0.1 failed in file ../../sockethelper/sockethelper.cpp line 51. Exiting.\n",
      "/home/ohm/PycharmProjects/FiFi/venv/lib/python3.8/site-packages/shapely/set_operations.py:426: RuntimeWarning: divide by zero encountered in unary_union\n",
      "  return lib.unary_union(collections, **kwargs)\n",
      "/home/ohm/PycharmProjects/FiFi/venv/lib/python3.8/site-packages/shapely/set_operations.py:133: RuntimeWarning: invalid value encountered in intersection\n",
      "  return lib.intersection(a, b, **kwargs)\n"
     ]
    },
    {
     "name": "stdout",
     "output_type": "stream",
     "text": [
      "F1: 0.10648642950848448\n",
      "Presicion: 0.9070530675789089\n",
      "Recall: 0.05656343869870462\n",
      "IoU: 0.07238777883575213\n"
     ]
    },
    {
     "name": "stderr",
     "output_type": "stream",
     "text": [
      "INFO: Created TensorFlow Lite XNNPACK delegate for CPU.\n",
      "Error connect socket: : Connection refused\n",
      "Error: bind to port 40588 on 127.0.0.1 failed in file ../../sockethelper/sockethelper.cpp line 51. Exiting.\n",
      "Error connect socket: : Connection refused\n",
      "Error: bind to port 40588 on 127.0.0.1 failed in file ../../sockethelper/sockethelper.cpp line 51. Exiting.\n",
      "Error connect socket: : Connection refused\n",
      "Error: bind to port 40588 on 127.0.0.1 failed in file ../../sockethelper/sockethelper.cpp line 51. Exiting.\n",
      "Error connect socket: : Connection refused\n",
      "Error: bind to port 40588 on 127.0.0.1 failed in file ../../sockethelper/sockethelper.cpp line 51. Exiting.\n",
      "/home/ohm/PycharmProjects/FiFi/venv/lib/python3.8/site-packages/shapely/set_operations.py:426: RuntimeWarning: divide by zero encountered in unary_union\n",
      "  return lib.unary_union(collections, **kwargs)\n",
      "/home/ohm/PycharmProjects/FiFi/venv/lib/python3.8/site-packages/shapely/set_operations.py:133: RuntimeWarning: invalid value encountered in intersection\n",
      "  return lib.intersection(a, b, **kwargs)\n"
     ]
    },
    {
     "name": "stdout",
     "output_type": "stream",
     "text": [
      "F1: 0.21823858709912453\n",
      "Presicion: 0.9397980372850709\n",
      "Recall: 0.12345337915672543\n",
      "IoU: 0.14909815376883018\n"
     ]
    },
    {
     "name": "stderr",
     "output_type": "stream",
     "text": [
      "INFO: Created TensorFlow Lite XNNPACK delegate for CPU.\n",
      "Error connect socket: : Connection refused\n",
      "Error: bind to port 40588 on 127.0.0.1 failed in file ../../sockethelper/sockethelper.cpp line 51. Exiting.\n",
      "Error connect socket: : Connection refused\n",
      "Error: bind to port 40588 on 127.0.0.1 failed in file ../../sockethelper/sockethelper.cpp line 51. Exiting.\n",
      "Error connect socket: : Connection refused\n",
      "Error: bind to port 40588 on 127.0.0.1 failed in file ../../sockethelper/sockethelper.cpp line 51. Exiting.\n",
      "Error connect socket: : Connection refused\n",
      "Error: bind to port 40588 on 127.0.0.1 failed in file ../../sockethelper/sockethelper.cpp line 51. Exiting.\n",
      "/home/ohm/PycharmProjects/FiFi/venv/lib/python3.8/site-packages/shapely/set_operations.py:426: RuntimeWarning: divide by zero encountered in unary_union\n",
      "  return lib.unary_union(collections, **kwargs)\n",
      "/home/ohm/PycharmProjects/FiFi/venv/lib/python3.8/site-packages/shapely/set_operations.py:133: RuntimeWarning: invalid value encountered in intersection\n",
      "  return lib.intersection(a, b, **kwargs)\n"
     ]
    },
    {
     "name": "stdout",
     "output_type": "stream",
     "text": [
      "F1: 0.25113303130939973\n",
      "Presicion: 0.9352465595868371\n",
      "Recall: 0.14503957784984947\n",
      "IoU: 0.17759265161654836\n"
     ]
    },
    {
     "name": "stderr",
     "output_type": "stream",
     "text": [
      "INFO: Created TensorFlow Lite XNNPACK delegate for CPU.\n",
      "Error connect socket: : Connection refused\n",
      "Error: bind to port 40588 on 127.0.0.1 failed in file ../../sockethelper/sockethelper.cpp line 51. Exiting.\n",
      "Error connect socket: : Connection refused\n",
      "Error: bind to port 40588 on 127.0.0.1 failed in file ../../sockethelper/sockethelper.cpp line 51. Exiting.\n",
      "Error connect socket: : Connection refused\n",
      "Error: bind to port 40588 on 127.0.0.1 failed in file ../../sockethelper/sockethelper.cpp line 51. Exiting.\n",
      "Error connect socket: : Connection refused\n",
      "Error: bind to port 40588 on 127.0.0.1 failed in file ../../sockethelper/sockethelper.cpp line 51. Exiting.\n",
      "/home/ohm/PycharmProjects/FiFi/venv/lib/python3.8/site-packages/shapely/set_operations.py:426: RuntimeWarning: divide by zero encountered in unary_union\n",
      "  return lib.unary_union(collections, **kwargs)\n",
      "/home/ohm/PycharmProjects/FiFi/venv/lib/python3.8/site-packages/shapely/set_operations.py:133: RuntimeWarning: invalid value encountered in intersection\n",
      "  return lib.intersection(a, b, **kwargs)\n"
     ]
    },
    {
     "name": "stdout",
     "output_type": "stream",
     "text": [
      "F1: 0.25794334244333134\n",
      "Presicion: 0.9344384593543581\n",
      "Recall: 0.1496226679142434\n",
      "IoU: 0.1884571488240227\n"
     ]
    },
    {
     "name": "stderr",
     "output_type": "stream",
     "text": [
      "INFO: Created TensorFlow Lite XNNPACK delegate for CPU.\n",
      "Error connect socket: : Connection refused\n",
      "Error: bind to port 40588 on 127.0.0.1 failed in file ../../sockethelper/sockethelper.cpp line 51. Exiting.\n",
      "Error connect socket: : Connection refused\n",
      "Error: bind to port 40588 on 127.0.0.1 failed in file ../../sockethelper/sockethelper.cpp line 51. Exiting.\n",
      "Error connect socket: : Connection refused\n",
      "Error: bind to port 40588 on 127.0.0.1 failed in file ../../sockethelper/sockethelper.cpp line 51. Exiting.\n",
      "Error connect socket: : Connection refused\n",
      "Error: bind to port 40588 on 127.0.0.1 failed in file ../../sockethelper/sockethelper.cpp line 51. Exiting.\n",
      "/home/ohm/PycharmProjects/FiFi/venv/lib/python3.8/site-packages/shapely/set_operations.py:426: RuntimeWarning: divide by zero encountered in unary_union\n",
      "  return lib.unary_union(collections, **kwargs)\n",
      "/home/ohm/PycharmProjects/FiFi/venv/lib/python3.8/site-packages/shapely/set_operations.py:133: RuntimeWarning: invalid value encountered in intersection\n",
      "  return lib.intersection(a, b, **kwargs)\n"
     ]
    },
    {
     "name": "stdout",
     "output_type": "stream",
     "text": [
      "F1: 0.24730854802692948\n",
      "Presicion: 0.9446067487086935\n",
      "Recall: 0.14227944410930182\n",
      "IoU: 0.17602944949036678\n"
     ]
    },
    {
     "name": "stderr",
     "output_type": "stream",
     "text": [
      "INFO: Created TensorFlow Lite XNNPACK delegate for CPU.\n",
      "Error connect socket: : Connection refused\n",
      "Error: bind to port 40588 on 127.0.0.1 failed in file ../../sockethelper/sockethelper.cpp line 51. Exiting.\n",
      "Error connect socket: : Connection refused\n",
      "Error: bind to port 40588 on 127.0.0.1 failed in file ../../sockethelper/sockethelper.cpp line 51. Exiting.\n",
      "Error connect socket: : Connection refused\n",
      "Error: bind to port 40588 on 127.0.0.1 failed in file ../../sockethelper/sockethelper.cpp line 51. Exiting.\n",
      "Error connect socket: : Connection refused\n",
      "Error: bind to port 40588 on 127.0.0.1 failed in file ../../sockethelper/sockethelper.cpp line 51. Exiting.\n",
      "/home/ohm/PycharmProjects/FiFi/venv/lib/python3.8/site-packages/shapely/set_operations.py:426: RuntimeWarning: divide by zero encountered in unary_union\n",
      "  return lib.unary_union(collections, **kwargs)\n",
      "/home/ohm/PycharmProjects/FiFi/venv/lib/python3.8/site-packages/shapely/set_operations.py:133: RuntimeWarning: invalid value encountered in intersection\n",
      "  return lib.intersection(a, b, **kwargs)\n"
     ]
    },
    {
     "name": "stdout",
     "output_type": "stream",
     "text": [
      "F1: 0.28790029512688414\n",
      "Presicion: 0.9427652687850064\n",
      "Recall: 0.16989062419318937\n",
      "IoU: 0.19905835232753427\n"
     ]
    },
    {
     "name": "stderr",
     "output_type": "stream",
     "text": [
      "INFO: Created TensorFlow Lite XNNPACK delegate for CPU.\n",
      "/home/ohm/PycharmProjects/FiFi/venv/lib/python3.8/site-packages/shapely/set_operations.py:426: RuntimeWarning: divide by zero encountered in unary_union\n",
      "  return lib.unary_union(collections, **kwargs)\n"
     ]
    },
    {
     "name": "stdout",
     "output_type": "stream",
     "text": [
      "F1: 0.08904158516053173\n",
      "Presicion: 0.9528132492669349\n",
      "Recall: 0.04670302029490031\n",
      "IoU: 0.05793207074615064\n"
     ]
    },
    {
     "name": "stderr",
     "output_type": "stream",
     "text": [
      "INFO: Created TensorFlow Lite XNNPACK delegate for CPU.\n",
      "Error connect socket: : Connection refused\n",
      "Error: bind to port 40588 on 127.0.0.1 failed in file ../../sockethelper/sockethelper.cpp line 51. Exiting.\n",
      "Error connect socket: : Connection refused\n",
      "Error: bind to port 40588 on 127.0.0.1 failed in file ../../sockethelper/sockethelper.cpp line 51. Exiting.\n",
      "Error connect socket: : Connection refused\n",
      "Error: bind to port 40588 on 127.0.0.1 failed in file ../../sockethelper/sockethelper.cpp line 51. Exiting.\n",
      "Error connect socket: : Connection refused\n",
      "Error: bind to port 40588 on 127.0.0.1 failed in file ../../sockethelper/sockethelper.cpp line 51. Exiting.\n",
      "/home/ohm/PycharmProjects/FiFi/venv/lib/python3.8/site-packages/shapely/set_operations.py:426: RuntimeWarning: divide by zero encountered in unary_union\n",
      "  return lib.unary_union(collections, **kwargs)\n",
      "/home/ohm/PycharmProjects/FiFi/venv/lib/python3.8/site-packages/shapely/set_operations.py:133: RuntimeWarning: invalid value encountered in intersection\n",
      "  return lib.intersection(a, b, **kwargs)\n"
     ]
    },
    {
     "name": "stdout",
     "output_type": "stream",
     "text": [
      "F1: 0.2746400877308592\n",
      "Presicion: 0.9361741126555538\n",
      "Recall: 0.16092484877774904\n",
      "IoU: 0.2121333914072988\n"
     ]
    },
    {
     "name": "stderr",
     "output_type": "stream",
     "text": [
      "INFO: Created TensorFlow Lite XNNPACK delegate for CPU.\n",
      "Error connect socket: : Connection refused\n",
      "Error: bind to port 40588 on 127.0.0.1 failed in file ../../sockethelper/sockethelper.cpp line 51. Exiting.\n",
      "Error connect socket: : Connection refused\n",
      "Error: bind to port 40588 on 127.0.0.1 failed in file ../../sockethelper/sockethelper.cpp line 51. Exiting.\n",
      "Error connect socket: : Connection refused\n",
      "Error: bind to port 40588 on 127.0.0.1 failed in file ../../sockethelper/sockethelper.cpp line 51. Exiting.\n",
      "Error connect socket: : Connection refused\n",
      "Error: bind to port 40588 on 127.0.0.1 failed in file ../../sockethelper/sockethelper.cpp line 51. Exiting.\n",
      "/home/ohm/PycharmProjects/FiFi/venv/lib/python3.8/site-packages/shapely/set_operations.py:426: RuntimeWarning: divide by zero encountered in unary_union\n",
      "  return lib.unary_union(collections, **kwargs)\n",
      "/home/ohm/PycharmProjects/FiFi/venv/lib/python3.8/site-packages/shapely/set_operations.py:133: RuntimeWarning: invalid value encountered in intersection\n",
      "  return lib.intersection(a, b, **kwargs)\n"
     ]
    },
    {
     "name": "stdout",
     "output_type": "stream",
     "text": [
      "F1: 0.2739542032519657\n",
      "Presicion: 0.9225349259216017\n",
      "Recall: 0.16086169139081485\n",
      "IoU: 0.209482386054922\n"
     ]
    },
    {
     "name": "stderr",
     "output_type": "stream",
     "text": [
      "INFO: Created TensorFlow Lite XNNPACK delegate for CPU.\n",
      "Error connect socket: : Connection refused\n",
      "Error: bind to port 40588 on 127.0.0.1 failed in file ../../sockethelper/sockethelper.cpp line 51. Exiting.\n",
      "Error connect socket: : Connection refused\n",
      "Error: bind to port 40588 on 127.0.0.1 failed in file ../../sockethelper/sockethelper.cpp line 51. Exiting.\n",
      "Error connect socket: : Connection refused\n",
      "Error: bind to port 40588 on 127.0.0.1 failed in file ../../sockethelper/sockethelper.cpp line 51. Exiting.\n",
      "Error connect socket: : Connection refused\n",
      "Error: bind to port 40588 on 127.0.0.1 failed in file ../../sockethelper/sockethelper.cpp line 51. Exiting.\n",
      "/home/ohm/PycharmProjects/FiFi/venv/lib/python3.8/site-packages/shapely/set_operations.py:426: RuntimeWarning: divide by zero encountered in unary_union\n",
      "  return lib.unary_union(collections, **kwargs)\n",
      "/home/ohm/PycharmProjects/FiFi/venv/lib/python3.8/site-packages/shapely/set_operations.py:133: RuntimeWarning: invalid value encountered in intersection\n",
      "  return lib.intersection(a, b, **kwargs)\n"
     ]
    },
    {
     "name": "stdout",
     "output_type": "stream",
     "text": [
      "F1: 0.2645277439942947\n",
      "Presicion: 0.9245882380697905\n",
      "Recall: 0.15434287471971905\n",
      "IoU: 0.18956914603671543\n"
     ]
    },
    {
     "name": "stderr",
     "output_type": "stream",
     "text": [
      "INFO: Created TensorFlow Lite XNNPACK delegate for CPU.\n",
      "Error connect socket: : Connection refused\n",
      "Error: bind to port 40588 on 127.0.0.1 failed in file ../../sockethelper/sockethelper.cpp line 51. Exiting.\n",
      "Error connect socket: : Connection refused\n",
      "Error: bind to port 40588 on 127.0.0.1 failed in file ../../sockethelper/sockethelper.cpp line 51. Exiting.\n",
      "Error connect socket: : Connection refused\n",
      "Error: bind to port 40588 on 127.0.0.1 failed in file ../../sockethelper/sockethelper.cpp line 51. Exiting.\n",
      "Error connect socket: : Connection refused\n",
      "Error: bind to port 40588 on 127.0.0.1 failed in file ../../sockethelper/sockethelper.cpp line 51. Exiting.\n",
      "/home/ohm/PycharmProjects/FiFi/venv/lib/python3.8/site-packages/shapely/set_operations.py:426: RuntimeWarning: divide by zero encountered in unary_union\n",
      "  return lib.unary_union(collections, **kwargs)\n",
      "/home/ohm/PycharmProjects/FiFi/venv/lib/python3.8/site-packages/shapely/set_operations.py:133: RuntimeWarning: invalid value encountered in intersection\n",
      "  return lib.intersection(a, b, **kwargs)\n"
     ]
    },
    {
     "name": "stdout",
     "output_type": "stream",
     "text": [
      "F1: 0.2330730726865327\n",
      "Presicion: 0.8397645518738324\n",
      "Recall: 0.13531452061828436\n",
      "IoU: 0.18777978521064106\n"
     ]
    },
    {
     "name": "stderr",
     "output_type": "stream",
     "text": [
      "INFO: Created TensorFlow Lite XNNPACK delegate for CPU.\n",
      "Error connect socket: : Connection refused\n",
      "Error: bind to port 40588 on 127.0.0.1 failed in file ../../sockethelper/sockethelper.cpp line 51. Exiting.\n",
      "Segmentation fault\n",
      "/home/ohm/PycharmProjects/FiFi/venv/lib/python3.8/site-packages/shapely/set_operations.py:426: RuntimeWarning: divide by zero encountered in unary_union\n",
      "  return lib.unary_union(collections, **kwargs)\n"
     ]
    },
    {
     "name": "stdout",
     "output_type": "stream",
     "text": [
      "F1: 0.09192754086901818\n",
      "Presicion: 0.9491319786768893\n",
      "Recall: 0.04830294510128311\n",
      "IoU: 0.060189353025518165\n"
     ]
    },
    {
     "name": "stderr",
     "output_type": "stream",
     "text": [
      "INFO: Created TensorFlow Lite XNNPACK delegate for CPU.\n",
      "Error connect socket: : Connection refused\n",
      "Error: bind to port 40588 on 127.0.0.1 failed in file ../../sockethelper/sockethelper.cpp line 51. Exiting.\n",
      "Segmentation fault\n",
      "/home/ohm/PycharmProjects/FiFi/venv/lib/python3.8/site-packages/shapely/set_operations.py:426: RuntimeWarning: divide by zero encountered in unary_union\n",
      "  return lib.unary_union(collections, **kwargs)\n"
     ]
    },
    {
     "name": "stdout",
     "output_type": "stream",
     "text": [
      "F1: 0.09095204454383429\n",
      "Presicion: 0.9536314078052952\n",
      "Recall: 0.04775324116487266\n",
      "IoU: 0.058789568019424865\n"
     ]
    },
    {
     "name": "stderr",
     "output_type": "stream",
     "text": [
      "INFO: Created TensorFlow Lite XNNPACK delegate for CPU.\n",
      "Error connect socket: : Connection refused\n",
      "Error: bind to port 40588 on 127.0.0.1 failed in file ../../sockethelper/sockethelper.cpp line 51. Exiting.\n",
      "Error connect socket: : Connection refused\n",
      "Error: bind to port 40588 on 127.0.0.1 failed in file ../../sockethelper/sockethelper.cpp line 51. Exiting.\n",
      "Error connect socket: : Connection refused\n",
      "Error: bind to port 40588 on 127.0.0.1 failed in file ../../sockethelper/sockethelper.cpp line 51. Exiting.\n",
      "Error connect socket: : Connection refused\n",
      "Error: bind to port 40588 on 127.0.0.1 failed in file ../../sockethelper/sockethelper.cpp line 51. Exiting.\n",
      "/home/ohm/PycharmProjects/FiFi/venv/lib/python3.8/site-packages/shapely/set_operations.py:426: RuntimeWarning: divide by zero encountered in unary_union\n",
      "  return lib.unary_union(collections, **kwargs)\n",
      "/home/ohm/PycharmProjects/FiFi/venv/lib/python3.8/site-packages/shapely/set_operations.py:133: RuntimeWarning: invalid value encountered in intersection\n",
      "  return lib.intersection(a, b, **kwargs)\n"
     ]
    },
    {
     "name": "stdout",
     "output_type": "stream",
     "text": [
      "F1: 0.16445051243356767\n",
      "Presicion: 0.8754906719210431\n",
      "Recall: 0.09074824565520952\n",
      "IoU: 0.11759178648127122\n"
     ]
    },
    {
     "name": "stderr",
     "output_type": "stream",
     "text": [
      "INFO: Created TensorFlow Lite XNNPACK delegate for CPU.\n",
      "Error connect socket: : Connection refused\n",
      "Error: bind to port 40588 on 127.0.0.1 failed in file ../../sockethelper/sockethelper.cpp line 51. Exiting.\n",
      "Error connect socket: : Connection refused\n",
      "Error: bind to port 40588 on 127.0.0.1 failed in file ../../sockethelper/sockethelper.cpp line 51. Exiting.\n",
      "Error connect socket: : Connection refused\n",
      "Error: bind to port 40588 on 127.0.0.1 failed in file ../../sockethelper/sockethelper.cpp line 51. Exiting.\n",
      "Error connect socket: : Connection refused\n",
      "Error: bind to port 40588 on 127.0.0.1 failed in file ../../sockethelper/sockethelper.cpp line 51. Exiting.\n",
      "/home/ohm/PycharmProjects/FiFi/venv/lib/python3.8/site-packages/shapely/set_operations.py:426: RuntimeWarning: divide by zero encountered in unary_union\n",
      "  return lib.unary_union(collections, **kwargs)\n",
      "/home/ohm/PycharmProjects/FiFi/venv/lib/python3.8/site-packages/shapely/set_operations.py:133: RuntimeWarning: invalid value encountered in intersection\n",
      "  return lib.intersection(a, b, **kwargs)\n"
     ]
    },
    {
     "name": "stdout",
     "output_type": "stream",
     "text": [
      "F1: 0.2310376935205094\n",
      "Presicion: 0.9008252063191058\n",
      "Recall: 0.13251171049348054\n",
      "IoU: 0.19140921868210525\n"
     ]
    },
    {
     "name": "stderr",
     "output_type": "stream",
     "text": [
      "INFO: Created TensorFlow Lite XNNPACK delegate for CPU.\n",
      "Error connect socket: : Connection refused\n",
      "Error: bind to port 40588 on 127.0.0.1 failed in file ../../sockethelper/sockethelper.cpp line 51. Exiting.\n",
      "Error connect socket: : Connection refused\n",
      "Error: bind to port 40588 on 127.0.0.1 failed in file ../../sockethelper/sockethelper.cpp line 51. Exiting.\n",
      "Error connect socket: : Connection refused\n",
      "Error: bind to port 40588 on 127.0.0.1 failed in file ../../sockethelper/sockethelper.cpp line 51. Exiting.\n",
      "Error connect socket: : Connection refused\n",
      "Error: bind to port 40588 on 127.0.0.1 failed in file ../../sockethelper/sockethelper.cpp line 51. Exiting.\n",
      "/home/ohm/PycharmProjects/FiFi/venv/lib/python3.8/site-packages/shapely/set_operations.py:426: RuntimeWarning: divide by zero encountered in unary_union\n",
      "  return lib.unary_union(collections, **kwargs)\n"
     ]
    },
    {
     "name": "stdout",
     "output_type": "stream",
     "text": [
      "F1: 0.22219158322775473\n",
      "Presicion: 0.9488133938056377\n",
      "Recall: 0.12582900825158724\n",
      "IoU: 0.13326248761719273\n"
     ]
    },
    {
     "name": "stderr",
     "output_type": "stream",
     "text": [
      "INFO: Created TensorFlow Lite XNNPACK delegate for CPU.\n",
      "Error connect socket: : Connection refused\n",
      "Error: bind to port 40588 on 127.0.0.1 failed in file ../../sockethelper/sockethelper.cpp line 51. Exiting.\n",
      "Error connect socket: : Connection refused\n",
      "Error: bind to port 40588 on 127.0.0.1 failed in file ../../sockethelper/sockethelper.cpp line 51. Exiting.\n",
      "Error connect socket: : Connection refused\n",
      "Error: bind to port 40588 on 127.0.0.1 failed in file ../../sockethelper/sockethelper.cpp line 51. Exiting.\n",
      "Error connect socket: : Connection refused\n",
      "Error: bind to port 40588 on 127.0.0.1 failed in file ../../sockethelper/sockethelper.cpp line 51. Exiting.\n",
      "/home/ohm/PycharmProjects/FiFi/venv/lib/python3.8/site-packages/shapely/set_operations.py:426: RuntimeWarning: divide by zero encountered in unary_union\n",
      "  return lib.unary_union(collections, **kwargs)\n",
      "/home/ohm/PycharmProjects/FiFi/venv/lib/python3.8/site-packages/shapely/set_operations.py:133: RuntimeWarning: invalid value encountered in intersection\n",
      "  return lib.intersection(a, b, **kwargs)\n"
     ]
    },
    {
     "name": "stdout",
     "output_type": "stream",
     "text": [
      "F1: 0.2605518340790321\n",
      "Presicion: 0.9281942741159762\n",
      "Recall: 0.15154603121845395\n",
      "IoU: 0.1769695211994131\n"
     ]
    },
    {
     "name": "stderr",
     "output_type": "stream",
     "text": [
      "INFO: Created TensorFlow Lite XNNPACK delegate for CPU.\n",
      "Error connect socket: : Connection refused\n",
      "Error: bind to port 40588 on 127.0.0.1 failed in file ../../sockethelper/sockethelper.cpp line 51. Exiting.\n",
      "Error connect socket: : Connection refused\n",
      "Error: bind to port 40588 on 127.0.0.1 failed in file ../../sockethelper/sockethelper.cpp line 51. Exiting.\n",
      "Error connect socket: : Connection refused\n",
      "Error: bind to port 40588 on 127.0.0.1 failed in file ../../sockethelper/sockethelper.cpp line 51. Exiting.\n",
      "Error connect socket: : Connection refused\n",
      "Error: bind to port 40588 on 127.0.0.1 failed in file ../../sockethelper/sockethelper.cpp line 51. Exiting.\n",
      "/home/ohm/PycharmProjects/FiFi/venv/lib/python3.8/site-packages/shapely/set_operations.py:426: RuntimeWarning: divide by zero encountered in unary_union\n",
      "  return lib.unary_union(collections, **kwargs)\n",
      "/home/ohm/PycharmProjects/FiFi/venv/lib/python3.8/site-packages/shapely/set_operations.py:133: RuntimeWarning: invalid value encountered in intersection\n",
      "  return lib.intersection(a, b, **kwargs)\n"
     ]
    },
    {
     "name": "stdout",
     "output_type": "stream",
     "text": [
      "F1: 0.24983123393156695\n",
      "Presicion: 0.933021969883592\n",
      "Recall: 0.14422484687791284\n",
      "IoU: 0.17886143588686418\n"
     ]
    },
    {
     "name": "stderr",
     "output_type": "stream",
     "text": [
      "INFO: Created TensorFlow Lite XNNPACK delegate for CPU.\n",
      "Error connect socket: : Connection refused\n",
      "Error: bind to port 40588 on 127.0.0.1 failed in file ../../sockethelper/sockethelper.cpp line 51. Exiting.\n",
      "Error connect socket: : Connection refused\n",
      "Error: bind to port 40588 on 127.0.0.1 failed in file ../../sockethelper/sockethelper.cpp line 51. Exiting.\n",
      "Error connect socket: : Connection refused\n",
      "Error: bind to port 40588 on 127.0.0.1 failed in file ../../sockethelper/sockethelper.cpp line 51. Exiting.\n",
      "Error connect socket: : Connection refused\n",
      "Error: bind to port 40588 on 127.0.0.1 failed in file ../../sockethelper/sockethelper.cpp line 51. Exiting.\n",
      "/home/ohm/PycharmProjects/FiFi/venv/lib/python3.8/site-packages/shapely/set_operations.py:426: RuntimeWarning: divide by zero encountered in unary_union\n",
      "  return lib.unary_union(collections, **kwargs)\n",
      "/home/ohm/PycharmProjects/FiFi/venv/lib/python3.8/site-packages/shapely/set_operations.py:133: RuntimeWarning: invalid value encountered in intersection\n",
      "  return lib.intersection(a, b, **kwargs)\n"
     ]
    },
    {
     "name": "stdout",
     "output_type": "stream",
     "text": [
      "F1: 0.2530881377465766\n",
      "Presicion: 0.9123837980337368\n",
      "Recall: 0.1469215081561246\n",
      "IoU: 0.19264395383781238\n"
     ]
    },
    {
     "name": "stderr",
     "output_type": "stream",
     "text": [
      "INFO: Created TensorFlow Lite XNNPACK delegate for CPU.\n",
      "Error connect socket: : Connection refused\n",
      "Error: bind to port 40588 on 127.0.0.1 failed in file ../../sockethelper/sockethelper.cpp line 51. Exiting.\n",
      "Error connect socket: : Connection refused\n",
      "Error: bind to port 40588 on 127.0.0.1 failed in file ../../sockethelper/sockethelper.cpp line 51. Exiting.\n",
      "Error connect socket: : Connection refused\n",
      "Error: bind to port 40588 on 127.0.0.1 failed in file ../../sockethelper/sockethelper.cpp line 51. Exiting.\n",
      "Error connect socket: : Connection refused\n",
      "Error: bind to port 40588 on 127.0.0.1 failed in file ../../sockethelper/sockethelper.cpp line 51. Exiting.\n",
      "/home/ohm/PycharmProjects/FiFi/venv/lib/python3.8/site-packages/shapely/set_operations.py:426: RuntimeWarning: divide by zero encountered in unary_union\n",
      "  return lib.unary_union(collections, **kwargs)\n",
      "/home/ohm/PycharmProjects/FiFi/venv/lib/python3.8/site-packages/shapely/set_operations.py:133: RuntimeWarning: invalid value encountered in intersection\n",
      "  return lib.intersection(a, b, **kwargs)\n"
     ]
    },
    {
     "name": "stdout",
     "output_type": "stream",
     "text": [
      "F1: 0.2209115439116319\n",
      "Presicion: 0.9296285578561692\n",
      "Recall: 0.12534942781005148\n",
      "IoU: 0.13706371523797514\n"
     ]
    },
    {
     "name": "stderr",
     "output_type": "stream",
     "text": [
      "INFO: Created TensorFlow Lite XNNPACK delegate for CPU.\n",
      "Error connect socket: : Connection refused\n",
      "Error: bind to port 40588 on 127.0.0.1 failed in file ../../sockethelper/sockethelper.cpp line 51. Exiting.\n",
      "Error connect socket: : Connection refused\n",
      "Error: bind to port 40588 on 127.0.0.1 failed in file ../../sockethelper/sockethelper.cpp line 51. Exiting.\n",
      "Error connect socket: : Connection refused\n",
      "Error: bind to port 40588 on 127.0.0.1 failed in file ../../sockethelper/sockethelper.cpp line 51. Exiting.\n",
      "Error connect socket: : Connection refused\n",
      "Error: bind to port 40588 on 127.0.0.1 failed in file ../../sockethelper/sockethelper.cpp line 51. Exiting.\n",
      "/home/ohm/PycharmProjects/FiFi/venv/lib/python3.8/site-packages/shapely/set_operations.py:426: RuntimeWarning: divide by zero encountered in unary_union\n",
      "  return lib.unary_union(collections, **kwargs)\n",
      "/home/ohm/PycharmProjects/FiFi/venv/lib/python3.8/site-packages/shapely/set_operations.py:133: RuntimeWarning: invalid value encountered in intersection\n",
      "  return lib.intersection(a, b, **kwargs)\n"
     ]
    },
    {
     "name": "stdout",
     "output_type": "stream",
     "text": [
      "F1: 0.20801660944607753\n",
      "Presicion: 0.9519387142019137\n",
      "Recall: 0.11676610575297104\n",
      "IoU: 0.133293385039813\n"
     ]
    },
    {
     "name": "stderr",
     "output_type": "stream",
     "text": [
      "INFO: Created TensorFlow Lite XNNPACK delegate for CPU.\n",
      "Error connect socket: : Connection refused\n",
      "Error: bind to port 40588 on 127.0.0.1 failed in file ../../sockethelper/sockethelper.cpp line 51. Exiting.\n",
      "Error connect socket: : Connection refused\n",
      "Error: bind to port 40588 on 127.0.0.1 failed in file ../../sockethelper/sockethelper.cpp line 51. Exiting.\n",
      "Error connect socket: : Connection refused\n",
      "Error: bind to port 40588 on 127.0.0.1 failed in file ../../sockethelper/sockethelper.cpp line 51. Exiting.\n",
      "Error connect socket: : Connection refused\n",
      "Error: bind to port 40588 on 127.0.0.1 failed in file ../../sockethelper/sockethelper.cpp line 51. Exiting.\n",
      "/home/ohm/PycharmProjects/FiFi/venv/lib/python3.8/site-packages/shapely/set_operations.py:426: RuntimeWarning: divide by zero encountered in unary_union\n",
      "  return lib.unary_union(collections, **kwargs)\n",
      "/home/ohm/PycharmProjects/FiFi/venv/lib/python3.8/site-packages/shapely/set_operations.py:133: RuntimeWarning: invalid value encountered in intersection\n",
      "  return lib.intersection(a, b, **kwargs)\n"
     ]
    },
    {
     "name": "stdout",
     "output_type": "stream",
     "text": [
      "F1: 0.2552213118821586\n",
      "Presicion: 0.9221828863247417\n",
      "Recall: 0.14810530562427987\n",
      "IoU: 0.20943282680814881\n"
     ]
    },
    {
     "name": "stderr",
     "output_type": "stream",
     "text": [
      "INFO: Created TensorFlow Lite XNNPACK delegate for CPU.\n",
      "Error connect socket: : Connection refused\n",
      "Error: bind to port 40588 on 127.0.0.1 failed in file ../../sockethelper/sockethelper.cpp line 51. Exiting.\n",
      "Error connect socket: : Connection refused\n",
      "Error: bind to port 40588 on 127.0.0.1 failed in file ../../sockethelper/sockethelper.cpp line 51. Exiting.\n",
      "Error connect socket: : Connection refused\n",
      "Error: bind to port 40588 on 127.0.0.1 failed in file ../../sockethelper/sockethelper.cpp line 51. Exiting.\n",
      "Error connect socket: : Connection refused\n",
      "Error: bind to port 40588 on 127.0.0.1 failed in file ../../sockethelper/sockethelper.cpp line 51. Exiting.\n",
      "/home/ohm/PycharmProjects/FiFi/venv/lib/python3.8/site-packages/shapely/set_operations.py:426: RuntimeWarning: divide by zero encountered in unary_union\n",
      "  return lib.unary_union(collections, **kwargs)\n",
      "/home/ohm/PycharmProjects/FiFi/venv/lib/python3.8/site-packages/shapely/set_operations.py:133: RuntimeWarning: invalid value encountered in intersection\n",
      "  return lib.intersection(a, b, **kwargs)\n"
     ]
    },
    {
     "name": "stdout",
     "output_type": "stream",
     "text": [
      "F1: 0.12990573781637038\n",
      "Presicion: 0.7857457087344666\n",
      "Recall: 0.07080597252727869\n",
      "IoU: 0.09295615030738634\n"
     ]
    },
    {
     "name": "stderr",
     "output_type": "stream",
     "text": [
      "INFO: Created TensorFlow Lite XNNPACK delegate for CPU.\n",
      "Error connect socket: : Connection refused\n",
      "Error: bind to port 40588 on 127.0.0.1 failed in file ../../sockethelper/sockethelper.cpp line 51. Exiting.\n",
      "Error connect socket: : Connection refused\n",
      "Error: bind to port 40588 on 127.0.0.1 failed in file ../../sockethelper/sockethelper.cpp line 51. Exiting.\n",
      "Error connect socket: : Connection refused\n",
      "Error: bind to port 40588 on 127.0.0.1 failed in file ../../sockethelper/sockethelper.cpp line 51. Exiting.\n",
      "Error connect socket: : Connection refused\n",
      "Error: bind to port 40588 on 127.0.0.1 failed in file ../../sockethelper/sockethelper.cpp line 51. Exiting.\n",
      "/home/ohm/PycharmProjects/FiFi/venv/lib/python3.8/site-packages/shapely/set_operations.py:426: RuntimeWarning: divide by zero encountered in unary_union\n",
      "  return lib.unary_union(collections, **kwargs)\n",
      "/home/ohm/PycharmProjects/FiFi/venv/lib/python3.8/site-packages/shapely/set_operations.py:133: RuntimeWarning: invalid value encountered in intersection\n",
      "  return lib.intersection(a, b, **kwargs)\n"
     ]
    },
    {
     "name": "stdout",
     "output_type": "stream",
     "text": [
      "F1: 0.20468293412050284\n",
      "Presicion: 0.92097770227006\n",
      "Recall: 0.11513564282424042\n",
      "IoU: 0.1349021753199776\n"
     ]
    },
    {
     "name": "stderr",
     "output_type": "stream",
     "text": [
      "INFO: Created TensorFlow Lite XNNPACK delegate for CPU.\n",
      "Error connect socket: : Connection refused\n",
      "Error: bind to port 40588 on 127.0.0.1 failed in file ../../sockethelper/sockethelper.cpp line 51. Exiting.\n",
      "Segmentation fault\n",
      "/home/ohm/PycharmProjects/FiFi/venv/lib/python3.8/site-packages/shapely/set_operations.py:426: RuntimeWarning: divide by zero encountered in unary_union\n",
      "  return lib.unary_union(collections, **kwargs)\n"
     ]
    },
    {
     "name": "stdout",
     "output_type": "stream",
     "text": [
      "F1: 0.0890265260789379\n",
      "Presicion: 0.9493763849705965\n",
      "Recall: 0.04670302029490031\n",
      "IoU: 0.057926258472055694\n"
     ]
    },
    {
     "name": "stderr",
     "output_type": "stream",
     "text": [
      "INFO: Created TensorFlow Lite XNNPACK delegate for CPU.\n",
      "Segmentation fault\n",
      "/home/ohm/PycharmProjects/FiFi/venv/lib/python3.8/site-packages/shapely/set_operations.py:426: RuntimeWarning: divide by zero encountered in unary_union\n",
      "  return lib.unary_union(collections, **kwargs)\n"
     ]
    },
    {
     "name": "stdout",
     "output_type": "stream",
     "text": [
      "F1: 0.08904158516053173\n",
      "Presicion: 0.9528132492669349\n",
      "Recall: 0.04670302029490031\n",
      "IoU: 0.05793207074615064\n"
     ]
    },
    {
     "name": "stderr",
     "output_type": "stream",
     "text": [
      "INFO: Created TensorFlow Lite XNNPACK delegate for CPU.\n",
      "Error connect socket: : Connection refused\n",
      "Error: bind to port 40588 on 127.0.0.1 failed in file ../../sockethelper/sockethelper.cpp line 51. Exiting.\n",
      "Error connect socket: : Connection refused\n",
      "Error: bind to port 40588 on 127.0.0.1 failed in file ../../sockethelper/sockethelper.cpp line 51. Exiting.\n",
      "Error connect socket: : Connection refused\n",
      "Error: bind to port 40588 on 127.0.0.1 failed in file ../../sockethelper/sockethelper.cpp line 51. Exiting.\n",
      "/home/ohm/PycharmProjects/FiFi/venv/lib/python3.8/site-packages/shapely/set_operations.py:426: RuntimeWarning: divide by zero encountered in unary_union\n",
      "  return lib.unary_union(collections, **kwargs)\n"
     ]
    },
    {
     "name": "stdout",
     "output_type": "stream",
     "text": [
      "F1: 0.08904158516053173\n",
      "Presicion: 0.9528132492669349\n",
      "Recall: 0.04670302029490031\n",
      "IoU: 0.05793207074615064\n"
     ]
    },
    {
     "name": "stderr",
     "output_type": "stream",
     "text": [
      "INFO: Created TensorFlow Lite XNNPACK delegate for CPU.\n",
      "Error connect socket: : Connection refused\n",
      "Error: bind to port 40588 on 127.0.0.1 failed in file ../../sockethelper/sockethelper.cpp line 51. Exiting.\n",
      "Segmentation fault\n",
      "/home/ohm/PycharmProjects/FiFi/venv/lib/python3.8/site-packages/shapely/set_operations.py:426: RuntimeWarning: divide by zero encountered in unary_union\n",
      "  return lib.unary_union(collections, **kwargs)\n"
     ]
    },
    {
     "name": "stdout",
     "output_type": "stream",
     "text": [
      "F1: 0.08904158516053173\n",
      "Presicion: 0.9528132492669349\n",
      "Recall: 0.04670302029490031\n",
      "IoU: 0.05793207074615064\n"
     ]
    },
    {
     "name": "stderr",
     "output_type": "stream",
     "text": [
      "INFO: Created TensorFlow Lite XNNPACK delegate for CPU.\n",
      "Error connect socket: : Connection refused\n",
      "Error: bind to port 40588 on 127.0.0.1 failed in file ../../sockethelper/sockethelper.cpp line 51. Exiting.\n",
      "Error connect socket: : Connection refused\n",
      "Error: bind to port 40588 on 127.0.0.1 failed in file ../../sockethelper/sockethelper.cpp line 51. Exiting.\n",
      "Error connect socket: : Connection refused\n",
      "Error: bind to port 40588 on 127.0.0.1 failed in file ../../sockethelper/sockethelper.cpp line 51. Exiting.\n",
      "Error connect socket: : Connection refused\n",
      "Error: bind to port 40588 on 127.0.0.1 failed in file ../../sockethelper/sockethelper.cpp line 51. Exiting.\n",
      "/home/ohm/PycharmProjects/FiFi/venv/lib/python3.8/site-packages/shapely/set_operations.py:426: RuntimeWarning: divide by zero encountered in unary_union\n",
      "  return lib.unary_union(collections, **kwargs)\n",
      "/home/ohm/PycharmProjects/FiFi/venv/lib/python3.8/site-packages/shapely/set_operations.py:133: RuntimeWarning: invalid value encountered in intersection\n",
      "  return lib.intersection(a, b, **kwargs)\n"
     ]
    },
    {
     "name": "stdout",
     "output_type": "stream",
     "text": [
      "F1: 0.1983911368394967\n",
      "Presicion: 0.9034644786046505\n",
      "Recall: 0.11142998488109683\n",
      "IoU: 0.15638066371476267\n"
     ]
    },
    {
     "name": "stderr",
     "output_type": "stream",
     "text": [
      "INFO: Created TensorFlow Lite XNNPACK delegate for CPU.\n",
      "Error connect socket: : Connection refused\n",
      "Error: bind to port 40588 on 127.0.0.1 failed in file ../../sockethelper/sockethelper.cpp line 51. Exiting.\n",
      "Error connect socket: : Connection refused\n",
      "Error: bind to port 40588 on 127.0.0.1 failed in file ../../sockethelper/sockethelper.cpp line 51. Exiting.\n",
      "Error connect socket: : Connection refused\n",
      "Error: bind to port 40588 on 127.0.0.1 failed in file ../../sockethelper/sockethelper.cpp line 51. Exiting.\n",
      "Error connect socket: : Connection refused\n",
      "Error: bind to port 40588 on 127.0.0.1 failed in file ../../sockethelper/sockethelper.cpp line 51. Exiting.\n",
      "/home/ohm/PycharmProjects/FiFi/venv/lib/python3.8/site-packages/shapely/set_operations.py:426: RuntimeWarning: divide by zero encountered in unary_union\n",
      "  return lib.unary_union(collections, **kwargs)\n",
      "/home/ohm/PycharmProjects/FiFi/venv/lib/python3.8/site-packages/shapely/set_operations.py:133: RuntimeWarning: invalid value encountered in intersection\n",
      "  return lib.intersection(a, b, **kwargs)\n"
     ]
    },
    {
     "name": "stdout",
     "output_type": "stream",
     "text": [
      "F1: 0.1894902361602717\n",
      "Presicion: 0.9556735508880848\n",
      "Recall: 0.10517181216751922\n",
      "IoU: 0.12624064886725433\n"
     ]
    },
    {
     "name": "stderr",
     "output_type": "stream",
     "text": [
      "INFO: Created TensorFlow Lite XNNPACK delegate for CPU.\n",
      "Segmentation fault\n",
      "/home/ohm/PycharmProjects/FiFi/venv/lib/python3.8/site-packages/shapely/set_operations.py:426: RuntimeWarning: divide by zero encountered in unary_union\n",
      "  return lib.unary_union(collections, **kwargs)\n"
     ]
    },
    {
     "name": "stdout",
     "output_type": "stream",
     "text": [
      "F1: 0.08904158516053173\n",
      "Presicion: 0.9528132492669349\n",
      "Recall: 0.04670302029490031\n",
      "IoU: 0.05793207074615064\n"
     ]
    },
    {
     "name": "stderr",
     "output_type": "stream",
     "text": [
      "INFO: Created TensorFlow Lite XNNPACK delegate for CPU.\n",
      "Error connect socket: : Connection refused\n",
      "Error: bind to port 40588 on 127.0.0.1 failed in file ../../sockethelper/sockethelper.cpp line 51. Exiting.\n",
      "Error connect socket: : Connection refused\n",
      "Error: bind to port 40588 on 127.0.0.1 failed in file ../../sockethelper/sockethelper.cpp line 51. Exiting.\n",
      "Error connect socket: : Connection refused\n",
      "Error: bind to port 40588 on 127.0.0.1 failed in file ../../sockethelper/sockethelper.cpp line 51. Exiting.\n",
      "Error connect socket: : Connection refused\n",
      "Error: bind to port 40588 on 127.0.0.1 failed in file ../../sockethelper/sockethelper.cpp line 51. Exiting.\n",
      "/home/ohm/PycharmProjects/FiFi/venv/lib/python3.8/site-packages/shapely/set_operations.py:426: RuntimeWarning: divide by zero encountered in unary_union\n",
      "  return lib.unary_union(collections, **kwargs)\n",
      "/home/ohm/PycharmProjects/FiFi/venv/lib/python3.8/site-packages/shapely/set_operations.py:133: RuntimeWarning: invalid value encountered in intersection\n",
      "  return lib.intersection(a, b, **kwargs)\n"
     ]
    },
    {
     "name": "stdout",
     "output_type": "stream",
     "text": [
      "F1: 0.13446970009380685\n",
      "Presicion: 0.8828419875582822\n",
      "Recall: 0.0727773776351524\n",
      "IoU: 0.09360790811228502\n"
     ]
    },
    {
     "name": "stderr",
     "output_type": "stream",
     "text": [
      "INFO: Created TensorFlow Lite XNNPACK delegate for CPU.\n",
      "Error connect socket: : Connection refused\n",
      "Error: bind to port 40588 on 127.0.0.1 failed in file ../../sockethelper/sockethelper.cpp line 51. Exiting.\n",
      "Error connect socket: : Connection refused\n",
      "Error: bind to port 40588 on 127.0.0.1 failed in file ../../sockethelper/sockethelper.cpp line 51. Exiting.\n",
      "Error connect socket: : Connection refused\n",
      "Error: bind to port 40588 on 127.0.0.1 failed in file ../../sockethelper/sockethelper.cpp line 51. Exiting.\n",
      "Error connect socket: : Connection refused\n",
      "Error: bind to port 40588 on 127.0.0.1 failed in file ../../sockethelper/sockethelper.cpp line 51. Exiting.\n",
      "/home/ohm/PycharmProjects/FiFi/venv/lib/python3.8/site-packages/shapely/set_operations.py:426: RuntimeWarning: divide by zero encountered in unary_union\n",
      "  return lib.unary_union(collections, **kwargs)\n",
      "/home/ohm/PycharmProjects/FiFi/venv/lib/python3.8/site-packages/shapely/set_operations.py:133: RuntimeWarning: invalid value encountered in intersection\n",
      "  return lib.intersection(a, b, **kwargs)\n"
     ]
    },
    {
     "name": "stdout",
     "output_type": "stream",
     "text": [
      "F1: 0.22017119419892692\n",
      "Presicion: 0.9372471794897673\n",
      "Recall: 0.12473671115836932\n",
      "IoU: 0.14886719271617513\n"
     ]
    },
    {
     "name": "stderr",
     "output_type": "stream",
     "text": [
      "INFO: Created TensorFlow Lite XNNPACK delegate for CPU.\n",
      "Error connect socket: : Connection refused\n",
      "Error: bind to port 40588 on 127.0.0.1 failed in file ../../sockethelper/sockethelper.cpp line 51. Exiting.\n",
      "Error connect socket: : Connection refused\n",
      "Error: bind to port 40588 on 127.0.0.1 failed in file ../../sockethelper/sockethelper.cpp line 51. Exiting.\n",
      "Error connect socket: : Connection refused\n",
      "Error: bind to port 40588 on 127.0.0.1 failed in file ../../sockethelper/sockethelper.cpp line 51. Exiting.\n",
      "Error connect socket: : Connection refused\n",
      "Error: bind to port 40588 on 127.0.0.1 failed in file ../../sockethelper/sockethelper.cpp line 51. Exiting.\n",
      "/home/ohm/PycharmProjects/FiFi/venv/lib/python3.8/site-packages/shapely/set_operations.py:426: RuntimeWarning: divide by zero encountered in unary_union\n",
      "  return lib.unary_union(collections, **kwargs)\n",
      "/home/ohm/PycharmProjects/FiFi/venv/lib/python3.8/site-packages/shapely/set_operations.py:133: RuntimeWarning: invalid value encountered in intersection\n",
      "  return lib.intersection(a, b, **kwargs)\n"
     ]
    },
    {
     "name": "stdout",
     "output_type": "stream",
     "text": [
      "F1: 0.25103878629789134\n",
      "Presicion: 0.923790766401486\n",
      "Recall: 0.14525593711680174\n",
      "IoU: 0.17998717800878275\n"
     ]
    },
    {
     "name": "stderr",
     "output_type": "stream",
     "text": [
      "INFO: Created TensorFlow Lite XNNPACK delegate for CPU.\n",
      "Floating point exception\n",
      "/home/ohm/PycharmProjects/FiFi/venv/lib/python3.8/site-packages/shapely/set_operations.py:426: RuntimeWarning: divide by zero encountered in unary_union\n",
      "  return lib.unary_union(collections, **kwargs)\n"
     ]
    },
    {
     "name": "stdout",
     "output_type": "stream",
     "text": [
      "F1: 0.08904158516053173\n",
      "Presicion: 0.9528132492669349\n",
      "Recall: 0.04670302029490031\n",
      "IoU: 0.05793207074615064\n"
     ]
    },
    {
     "name": "stderr",
     "output_type": "stream",
     "text": [
      "INFO: Created TensorFlow Lite XNNPACK delegate for CPU.\n",
      "Error connect socket: : Connection refused\n",
      "Error: bind to port 40588 on 127.0.0.1 failed in file ../../sockethelper/sockethelper.cpp line 51. Exiting.\n",
      "Error connect socket: : Connection refused\n",
      "Error: bind to port 40588 on 127.0.0.1 failed in file ../../sockethelper/sockethelper.cpp line 51. Exiting.\n",
      "Error connect socket: : Connection refused\n",
      "Error: bind to port 40588 on 127.0.0.1 failed in file ../../sockethelper/sockethelper.cpp line 51. Exiting.\n",
      "Error connect socket: : Connection refused\n",
      "Error: bind to port 40588 on 127.0.0.1 failed in file ../../sockethelper/sockethelper.cpp line 51. Exiting.\n",
      "/home/ohm/PycharmProjects/FiFi/venv/lib/python3.8/site-packages/shapely/set_operations.py:426: RuntimeWarning: divide by zero encountered in unary_union\n",
      "  return lib.unary_union(collections, **kwargs)\n",
      "/home/ohm/PycharmProjects/FiFi/venv/lib/python3.8/site-packages/shapely/set_operations.py:133: RuntimeWarning: invalid value encountered in intersection\n",
      "  return lib.intersection(a, b, **kwargs)\n"
     ]
    },
    {
     "name": "stdout",
     "output_type": "stream",
     "text": [
      "F1: 0.26954765471453196\n",
      "Presicion: 0.940329675008385\n",
      "Recall: 0.15732221378322217\n",
      "IoU: 0.20025605273782757\n"
     ]
    },
    {
     "name": "stderr",
     "output_type": "stream",
     "text": [
      "INFO: Created TensorFlow Lite XNNPACK delegate for CPU.\n",
      "Error connect socket: : Connection refused\n",
      "Error: bind to port 40588 on 127.0.0.1 failed in file ../../sockethelper/sockethelper.cpp line 51. Exiting.\n",
      "Error connect socket: : Connection refused\n",
      "Error: bind to port 40588 on 127.0.0.1 failed in file ../../sockethelper/sockethelper.cpp line 51. Exiting.\n",
      "Error connect socket: : Connection refused\n",
      "Error: bind to port 40588 on 127.0.0.1 failed in file ../../sockethelper/sockethelper.cpp line 51. Exiting.\n",
      "Error connect socket: : Connection refused\n",
      "Error: bind to port 40588 on 127.0.0.1 failed in file ../../sockethelper/sockethelper.cpp line 51. Exiting.\n",
      "/home/ohm/PycharmProjects/FiFi/venv/lib/python3.8/site-packages/shapely/set_operations.py:426: RuntimeWarning: divide by zero encountered in unary_union\n",
      "  return lib.unary_union(collections, **kwargs)\n",
      "/home/ohm/PycharmProjects/FiFi/venv/lib/python3.8/site-packages/shapely/set_operations.py:133: RuntimeWarning: invalid value encountered in intersection\n",
      "  return lib.intersection(a, b, **kwargs)\n"
     ]
    },
    {
     "name": "stdout",
     "output_type": "stream",
     "text": [
      "F1: 0.20746487861060112\n",
      "Presicion: 0.8879130813939063\n",
      "Recall: 0.11745430182867056\n",
      "IoU: 0.15877298265945333\n"
     ]
    },
    {
     "name": "stderr",
     "output_type": "stream",
     "text": [
      "INFO: Created TensorFlow Lite XNNPACK delegate for CPU.\n",
      "Segmentation fault\n",
      "/home/ohm/PycharmProjects/FiFi/venv/lib/python3.8/site-packages/shapely/set_operations.py:426: RuntimeWarning: divide by zero encountered in unary_union\n",
      "  return lib.unary_union(collections, **kwargs)\n"
     ]
    },
    {
     "name": "stdout",
     "output_type": "stream",
     "text": [
      "F1: 0.08904158516053173\n",
      "Presicion: 0.9528132492669349\n",
      "Recall: 0.04670302029490031\n",
      "IoU: 0.05793207074615064\n"
     ]
    },
    {
     "name": "stderr",
     "output_type": "stream",
     "text": [
      "INFO: Created TensorFlow Lite XNNPACK delegate for CPU.\n",
      "Error connect socket: : Connection refused\n",
      "Error: bind to port 40588 on 127.0.0.1 failed in file ../../sockethelper/sockethelper.cpp line 51. Exiting.\n",
      "Error connect socket: : Connection refused\n",
      "Error: bind to port 40588 on 127.0.0.1 failed in file ../../sockethelper/sockethelper.cpp line 51. Exiting.\n",
      "Error connect socket: : Connection refused\n",
      "Error: bind to port 40588 on 127.0.0.1 failed in file ../../sockethelper/sockethelper.cpp line 51. Exiting.\n",
      "Error connect socket: : Connection refused\n",
      "Error: bind to port 40588 on 127.0.0.1 failed in file ../../sockethelper/sockethelper.cpp line 51. Exiting.\n",
      "/home/ohm/PycharmProjects/FiFi/venv/lib/python3.8/site-packages/shapely/set_operations.py:426: RuntimeWarning: divide by zero encountered in unary_union\n",
      "  return lib.unary_union(collections, **kwargs)\n",
      "/home/ohm/PycharmProjects/FiFi/venv/lib/python3.8/site-packages/shapely/set_operations.py:133: RuntimeWarning: invalid value encountered in intersection\n",
      "  return lib.intersection(a, b, **kwargs)\n"
     ]
    },
    {
     "name": "stdout",
     "output_type": "stream",
     "text": [
      "F1: 0.2080064243691397\n",
      "Presicion: 0.9475705728454773\n",
      "Recall: 0.11682574260612877\n",
      "IoU: 0.12771005357667542\n"
     ]
    },
    {
     "name": "stderr",
     "output_type": "stream",
     "text": [
      "INFO: Created TensorFlow Lite XNNPACK delegate for CPU.\n",
      "Error connect socket: : Connection refused\n",
      "Error: bind to port 40588 on 127.0.0.1 failed in file ../../sockethelper/sockethelper.cpp line 51. Exiting.\n",
      "Error connect socket: : Connection refused\n",
      "Error: bind to port 40588 on 127.0.0.1 failed in file ../../sockethelper/sockethelper.cpp line 51. Exiting.\n",
      "Error connect socket: : Connection refused\n",
      "Error: bind to port 40588 on 127.0.0.1 failed in file ../../sockethelper/sockethelper.cpp line 51. Exiting.\n",
      "Error connect socket: : Connection refused\n",
      "Error: bind to port 40588 on 127.0.0.1 failed in file ../../sockethelper/sockethelper.cpp line 51. Exiting.\n",
      "/home/ohm/PycharmProjects/FiFi/venv/lib/python3.8/site-packages/shapely/set_operations.py:426: RuntimeWarning: divide by zero encountered in unary_union\n",
      "  return lib.unary_union(collections, **kwargs)\n",
      "/home/ohm/PycharmProjects/FiFi/venv/lib/python3.8/site-packages/shapely/set_operations.py:133: RuntimeWarning: invalid value encountered in intersection\n",
      "  return lib.intersection(a, b, **kwargs)\n"
     ]
    },
    {
     "name": "stdout",
     "output_type": "stream",
     "text": [
      "F1: 0.25733463585882144\n",
      "Presicion: 0.9429557943194581\n",
      "Recall: 0.14899829298697498\n",
      "IoU: 0.1915020844358587\n"
     ]
    },
    {
     "name": "stderr",
     "output_type": "stream",
     "text": [
      "INFO: Created TensorFlow Lite XNNPACK delegate for CPU.\n",
      "Error connect socket: : Connection refused\n",
      "Error: bind to port 40588 on 127.0.0.1 failed in file ../../sockethelper/sockethelper.cpp line 51. Exiting.\n",
      "Segmentation fault\n",
      "/home/ohm/PycharmProjects/FiFi/venv/lib/python3.8/site-packages/shapely/set_operations.py:426: RuntimeWarning: divide by zero encountered in unary_union\n",
      "  return lib.unary_union(collections, **kwargs)\n"
     ]
    },
    {
     "name": "stdout",
     "output_type": "stream",
     "text": [
      "F1: 0.09484471102939185\n",
      "Presicion: 0.9464914072982809\n",
      "Recall: 0.049923698207007317\n",
      "IoU: 0.06290934189985405\n"
     ]
    },
    {
     "name": "stderr",
     "output_type": "stream",
     "text": [
      "INFO: Created TensorFlow Lite XNNPACK delegate for CPU.\n",
      "Error connect socket: : Connection refused\n",
      "Error: bind to port 40588 on 127.0.0.1 failed in file ../../sockethelper/sockethelper.cpp line 51. Exiting.\n",
      "Error connect socket: : Connection refused\n",
      "Error: bind to port 40588 on 127.0.0.1 failed in file ../../sockethelper/sockethelper.cpp line 51. Exiting.\n",
      "Error connect socket: : Connection refused\n",
      "Error: bind to port 40588 on 127.0.0.1 failed in file ../../sockethelper/sockethelper.cpp line 51. Exiting.\n",
      "Error connect socket: : Connection refused\n",
      "Error: bind to port 40588 on 127.0.0.1 failed in file ../../sockethelper/sockethelper.cpp line 51. Exiting.\n",
      "/home/ohm/PycharmProjects/FiFi/venv/lib/python3.8/site-packages/shapely/set_operations.py:426: RuntimeWarning: divide by zero encountered in unary_union\n",
      "  return lib.unary_union(collections, **kwargs)\n",
      "/home/ohm/PycharmProjects/FiFi/venv/lib/python3.8/site-packages/shapely/set_operations.py:133: RuntimeWarning: invalid value encountered in intersection\n",
      "  return lib.intersection(a, b, **kwargs)\n"
     ]
    },
    {
     "name": "stdout",
     "output_type": "stream",
     "text": [
      "F1: 0.2503751501985538\n",
      "Presicion: 0.9390281628640672\n",
      "Recall: 0.14444433028554746\n",
      "IoU: 0.18104053633419426\n"
     ]
    },
    {
     "name": "stderr",
     "output_type": "stream",
     "text": [
      "INFO: Created TensorFlow Lite XNNPACK delegate for CPU.\n",
      "Error connect socket: : Connection refused\n",
      "Error: bind to port 40588 on 127.0.0.1 failed in file ../../sockethelper/sockethelper.cpp line 51. Exiting.\n",
      "Error connect socket: : Connection refused\n",
      "Error: bind to port 40588 on 127.0.0.1 failed in file ../../sockethelper/sockethelper.cpp line 51. Exiting.\n",
      "Error connect socket: : Connection refused\n",
      "Error: bind to port 40588 on 127.0.0.1 failed in file ../../sockethelper/sockethelper.cpp line 51. Exiting.\n",
      "Error connect socket: : Connection refused\n",
      "Error: bind to port 40588 on 127.0.0.1 failed in file ../../sockethelper/sockethelper.cpp line 51. Exiting.\n",
      "/home/ohm/PycharmProjects/FiFi/venv/lib/python3.8/site-packages/shapely/set_operations.py:426: RuntimeWarning: divide by zero encountered in unary_union\n",
      "  return lib.unary_union(collections, **kwargs)\n",
      "/home/ohm/PycharmProjects/FiFi/venv/lib/python3.8/site-packages/shapely/set_operations.py:133: RuntimeWarning: invalid value encountered in intersection\n",
      "  return lib.intersection(a, b, **kwargs)\n"
     ]
    },
    {
     "name": "stdout",
     "output_type": "stream",
     "text": [
      "F1: 0.1436238141662955\n",
      "Presicion: 0.9251392273164699\n",
      "Recall: 0.07785525044816341\n",
      "IoU: 0.09596524462293955\n"
     ]
    },
    {
     "name": "stderr",
     "output_type": "stream",
     "text": [
      "INFO: Created TensorFlow Lite XNNPACK delegate for CPU.\n",
      "Error connect socket: : Connection refused\n",
      "Error: bind to port 40588 on 127.0.0.1 failed in file ../../sockethelper/sockethelper.cpp line 51. Exiting.\n",
      "Error connect socket: : Connection refused\n",
      "Error: bind to port 40588 on 127.0.0.1 failed in file ../../sockethelper/sockethelper.cpp line 51. Exiting.\n",
      "Error connect socket: : Connection refused\n",
      "Error: bind to port 40588 on 127.0.0.1 failed in file ../../sockethelper/sockethelper.cpp line 51. Exiting.\n",
      "Error connect socket: : Connection refused\n",
      "Error: bind to port 40588 on 127.0.0.1 failed in file ../../sockethelper/sockethelper.cpp line 51. Exiting.\n",
      "/home/ohm/PycharmProjects/FiFi/venv/lib/python3.8/site-packages/shapely/set_operations.py:426: RuntimeWarning: divide by zero encountered in unary_union\n",
      "  return lib.unary_union(collections, **kwargs)\n",
      "/home/ohm/PycharmProjects/FiFi/venv/lib/python3.8/site-packages/shapely/set_operations.py:133: RuntimeWarning: invalid value encountered in intersection\n",
      "  return lib.intersection(a, b, **kwargs)\n"
     ]
    },
    {
     "name": "stdout",
     "output_type": "stream",
     "text": [
      "F1: 0.2417792084465275\n",
      "Presicion: 0.9549166998925395\n",
      "Recall: 0.138412172117212\n",
      "IoU: 0.15339049479636502\n"
     ]
    },
    {
     "name": "stderr",
     "output_type": "stream",
     "text": [
      "INFO: Created TensorFlow Lite XNNPACK delegate for CPU.\n",
      "Error connect socket: : Connection refused\n",
      "Error: bind to port 40588 on 127.0.0.1 failed in file ../../sockethelper/sockethelper.cpp line 51. Exiting.\n",
      "Error connect socket: : Connection refused\n",
      "Error: bind to port 40588 on 127.0.0.1 failed in file ../../sockethelper/sockethelper.cpp line 51. Exiting.\n",
      "Segmentation fault\n",
      "/home/ohm/PycharmProjects/FiFi/venv/lib/python3.8/site-packages/shapely/set_operations.py:426: RuntimeWarning: divide by zero encountered in unary_union\n",
      "  return lib.unary_union(collections, **kwargs)\n",
      "/home/ohm/PycharmProjects/FiFi/venv/lib/python3.8/site-packages/shapely/set_operations.py:133: RuntimeWarning: invalid value encountered in intersection\n",
      "  return lib.intersection(a, b, **kwargs)\n"
     ]
    },
    {
     "name": "stdout",
     "output_type": "stream",
     "text": [
      "F1: 0.23908183816887116\n",
      "Presicion: 0.9564430088521094\n",
      "Recall: 0.13661583323540694\n",
      "IoU: 0.16458068863677863\n"
     ]
    },
    {
     "name": "stderr",
     "output_type": "stream",
     "text": [
      "INFO: Created TensorFlow Lite XNNPACK delegate for CPU.\n",
      "Error connect socket: : Connection refused\n",
      "Error: bind to port 40588 on 127.0.0.1 failed in file ../../sockethelper/sockethelper.cpp line 51. Exiting.\n",
      "Error connect socket: : Connection refused\n",
      "Error: bind to port 40588 on 127.0.0.1 failed in file ../../sockethelper/sockethelper.cpp line 51. Exiting.\n",
      "Error connect socket: : Connection refused\n",
      "Error: bind to port 40588 on 127.0.0.1 failed in file ../../sockethelper/sockethelper.cpp line 51. Exiting.\n",
      "Error connect socket: : Connection refused\n",
      "Error: bind to port 40588 on 127.0.0.1 failed in file ../../sockethelper/sockethelper.cpp line 51. Exiting.\n",
      "/home/ohm/PycharmProjects/FiFi/venv/lib/python3.8/site-packages/shapely/set_operations.py:426: RuntimeWarning: divide by zero encountered in unary_union\n",
      "  return lib.unary_union(collections, **kwargs)\n",
      "/home/ohm/PycharmProjects/FiFi/venv/lib/python3.8/site-packages/shapely/set_operations.py:133: RuntimeWarning: invalid value encountered in intersection\n",
      "  return lib.intersection(a, b, **kwargs)\n"
     ]
    },
    {
     "name": "stdout",
     "output_type": "stream",
     "text": [
      "F1: 0.21016952906623507\n",
      "Presicion: 0.9584361110892516\n",
      "Recall: 0.11802528168533877\n",
      "IoU: 0.13505881096189326\n"
     ]
    },
    {
     "name": "stderr",
     "output_type": "stream",
     "text": [
      "INFO: Created TensorFlow Lite XNNPACK delegate for CPU.\n",
      "Error connect socket: : Connection refused\n",
      "Error: bind to port 40588 on 127.0.0.1 failed in file ../../sockethelper/sockethelper.cpp line 51. Exiting.\n",
      "Error connect socket: : Connection refused\n",
      "Error: bind to port 40588 on 127.0.0.1 failed in file ../../sockethelper/sockethelper.cpp line 51. Exiting.\n",
      "Error connect socket: : Connection refused\n",
      "Error: bind to port 40588 on 127.0.0.1 failed in file ../../sockethelper/sockethelper.cpp line 51. Exiting.\n",
      "Error connect socket: : Connection refused\n",
      "Error: bind to port 40588 on 127.0.0.1 failed in file ../../sockethelper/sockethelper.cpp line 51. Exiting.\n",
      "/home/ohm/PycharmProjects/FiFi/venv/lib/python3.8/site-packages/shapely/set_operations.py:426: RuntimeWarning: divide by zero encountered in unary_union\n",
      "  return lib.unary_union(collections, **kwargs)\n",
      "/home/ohm/PycharmProjects/FiFi/venv/lib/python3.8/site-packages/shapely/set_operations.py:133: RuntimeWarning: invalid value encountered in intersection\n",
      "  return lib.intersection(a, b, **kwargs)\n"
     ]
    },
    {
     "name": "stdout",
     "output_type": "stream",
     "text": [
      "F1: 0.09144706028000701\n",
      "Presicion: 0.9409162820498529\n",
      "Recall: 0.0480589391387957\n",
      "IoU: 0.05931794448574181\n"
     ]
    },
    {
     "name": "stderr",
     "output_type": "stream",
     "text": [
      "INFO: Created TensorFlow Lite XNNPACK delegate for CPU.\n",
      "Floating point exception\n",
      "/home/ohm/PycharmProjects/FiFi/venv/lib/python3.8/site-packages/shapely/set_operations.py:426: RuntimeWarning: divide by zero encountered in unary_union\n",
      "  return lib.unary_union(collections, **kwargs)\n"
     ]
    },
    {
     "name": "stdout",
     "output_type": "stream",
     "text": [
      "F1: 0.08904158516053173\n",
      "Presicion: 0.9528132492669349\n",
      "Recall: 0.04670302029490031\n",
      "IoU: 0.05793207074615064\n"
     ]
    },
    {
     "name": "stderr",
     "output_type": "stream",
     "text": [
      "INFO: Created TensorFlow Lite XNNPACK delegate for CPU.\n",
      "Error connect socket: : Connection refused\n",
      "Error: bind to port 40588 on 127.0.0.1 failed in file ../../sockethelper/sockethelper.cpp line 51. Exiting.\n",
      "Error connect socket: : Connection refused\n",
      "Error: bind to port 40588 on 127.0.0.1 failed in file ../../sockethelper/sockethelper.cpp line 51. Exiting.\n",
      "Error connect socket: : Connection refused\n",
      "Error: bind to port 40588 on 127.0.0.1 failed in file ../../sockethelper/sockethelper.cpp line 51. Exiting.\n",
      "Error connect socket: : Connection refused\n",
      "Error: bind to port 40588 on 127.0.0.1 failed in file ../../sockethelper/sockethelper.cpp line 51. Exiting.\n",
      "/home/ohm/PycharmProjects/FiFi/venv/lib/python3.8/site-packages/shapely/set_operations.py:426: RuntimeWarning: divide by zero encountered in unary_union\n",
      "  return lib.unary_union(collections, **kwargs)\n",
      "/home/ohm/PycharmProjects/FiFi/venv/lib/python3.8/site-packages/shapely/set_operations.py:133: RuntimeWarning: invalid value encountered in intersection\n",
      "  return lib.intersection(a, b, **kwargs)\n"
     ]
    },
    {
     "name": "stdout",
     "output_type": "stream",
     "text": [
      "F1: 0.16892788164495556\n",
      "Presicion: 0.9297175831238461\n",
      "Recall: 0.09290419702751335\n",
      "IoU: 0.12993729334348095\n"
     ]
    },
    {
     "name": "stderr",
     "output_type": "stream",
     "text": [
      "INFO: Created TensorFlow Lite XNNPACK delegate for CPU.\n",
      "Error connect socket: : Connection refused\n",
      "Error: bind to port 40588 on 127.0.0.1 failed in file ../../sockethelper/sockethelper.cpp line 51. Exiting.\n",
      "Error connect socket: : Connection refused\n",
      "Error: bind to port 40588 on 127.0.0.1 failed in file ../../sockethelper/sockethelper.cpp line 51. Exiting.\n",
      "Error connect socket: : Connection refused\n",
      "Error: bind to port 40588 on 127.0.0.1 failed in file ../../sockethelper/sockethelper.cpp line 51. Exiting.\n",
      "Error connect socket: : Connection refused\n",
      "Error: bind to port 40588 on 127.0.0.1 failed in file ../../sockethelper/sockethelper.cpp line 51. Exiting.\n",
      "/home/ohm/PycharmProjects/FiFi/venv/lib/python3.8/site-packages/shapely/set_operations.py:426: RuntimeWarning: divide by zero encountered in unary_union\n",
      "  return lib.unary_union(collections, **kwargs)\n",
      "/home/ohm/PycharmProjects/FiFi/venv/lib/python3.8/site-packages/shapely/set_operations.py:133: RuntimeWarning: invalid value encountered in intersection\n",
      "  return lib.intersection(a, b, **kwargs)\n"
     ]
    },
    {
     "name": "stdout",
     "output_type": "stream",
     "text": [
      "F1: 0.25360408077480207\n",
      "Presicion: 0.9254435196344706\n",
      "Recall: 0.14693467544858838\n",
      "IoU: 0.18135882586512564\n"
     ]
    },
    {
     "name": "stderr",
     "output_type": "stream",
     "text": [
      "INFO: Created TensorFlow Lite XNNPACK delegate for CPU.\n",
      "Error connect socket: : Connection refused\n",
      "Error: bind to port 40588 on 127.0.0.1 failed in file ../../sockethelper/sockethelper.cpp line 51. Exiting.\n",
      "Error connect socket: : Connection refused\n",
      "Error: bind to port 40588 on 127.0.0.1 failed in file ../../sockethelper/sockethelper.cpp line 51. Exiting.\n",
      "Error connect socket: : Connection refused\n",
      "Error: bind to port 40588 on 127.0.0.1 failed in file ../../sockethelper/sockethelper.cpp line 51. Exiting.\n",
      "Error connect socket: : Connection refused\n",
      "Error: bind to port 40588 on 127.0.0.1 failed in file ../../sockethelper/sockethelper.cpp line 51. Exiting.\n",
      "/home/ohm/PycharmProjects/FiFi/venv/lib/python3.8/site-packages/shapely/set_operations.py:426: RuntimeWarning: divide by zero encountered in unary_union\n",
      "  return lib.unary_union(collections, **kwargs)\n",
      "/home/ohm/PycharmProjects/FiFi/venv/lib/python3.8/site-packages/shapely/set_operations.py:133: RuntimeWarning: invalid value encountered in intersection\n",
      "  return lib.intersection(a, b, **kwargs)\n"
     ]
    },
    {
     "name": "stdout",
     "output_type": "stream",
     "text": [
      "F1: 0.2418990762362001\n",
      "Presicion: 0.9477499410022266\n",
      "Recall: 0.13864279361235496\n",
      "IoU: 0.16984442640468206\n"
     ]
    },
    {
     "name": "stderr",
     "output_type": "stream",
     "text": [
      "INFO: Created TensorFlow Lite XNNPACK delegate for CPU.\n",
      "Error connect socket: : Connection refused\n",
      "Error: bind to port 40588 on 127.0.0.1 failed in file ../../sockethelper/sockethelper.cpp line 51. Exiting.\n",
      "Segmentation fault\n",
      "/home/ohm/PycharmProjects/FiFi/venv/lib/python3.8/site-packages/shapely/set_operations.py:426: RuntimeWarning: divide by zero encountered in unary_union\n",
      "  return lib.unary_union(collections, **kwargs)\n"
     ]
    },
    {
     "name": "stdout",
     "output_type": "stream",
     "text": [
      "F1: 0.0910752101271739\n",
      "Presicion: 0.9485857357614585\n",
      "Recall: 0.04783390955106171\n",
      "IoU: 0.0586047071711941\n"
     ]
    },
    {
     "name": "stderr",
     "output_type": "stream",
     "text": [
      "INFO: Created TensorFlow Lite XNNPACK delegate for CPU.\n",
      "Error connect socket: : Connection refused\n",
      "Error: bind to port 40588 on 127.0.0.1 failed in file ../../sockethelper/sockethelper.cpp line 51. Exiting.\n",
      "Error connect socket: : Connection refused\n",
      "Error: bind to port 40588 on 127.0.0.1 failed in file ../../sockethelper/sockethelper.cpp line 51. Exiting.\n",
      "Error connect socket: : Connection refused\n",
      "Error: bind to port 40588 on 127.0.0.1 failed in file ../../sockethelper/sockethelper.cpp line 51. Exiting.\n",
      "Error connect socket: : Connection refused\n",
      "Error: bind to port 40588 on 127.0.0.1 failed in file ../../sockethelper/sockethelper.cpp line 51. Exiting.\n",
      "/home/ohm/PycharmProjects/FiFi/venv/lib/python3.8/site-packages/shapely/set_operations.py:426: RuntimeWarning: divide by zero encountered in unary_union\n",
      "  return lib.unary_union(collections, **kwargs)\n",
      "/home/ohm/PycharmProjects/FiFi/venv/lib/python3.8/site-packages/shapely/set_operations.py:133: RuntimeWarning: invalid value encountered in intersection\n",
      "  return lib.intersection(a, b, **kwargs)\n"
     ]
    },
    {
     "name": "stdout",
     "output_type": "stream",
     "text": [
      "F1: 0.20406643475974304\n",
      "Presicion: 0.920328694950246\n",
      "Recall: 0.11475573355434564\n",
      "IoU: 0.15869830371673302\n"
     ]
    },
    {
     "name": "stderr",
     "output_type": "stream",
     "text": [
      "INFO: Created TensorFlow Lite XNNPACK delegate for CPU.\n",
      "Floating point exception\n",
      "/home/ohm/PycharmProjects/FiFi/venv/lib/python3.8/site-packages/shapely/set_operations.py:426: RuntimeWarning: divide by zero encountered in unary_union\n",
      "  return lib.unary_union(collections, **kwargs)\n"
     ]
    },
    {
     "name": "stdout",
     "output_type": "stream",
     "text": [
      "F1: 0.08904158516053173\n",
      "Presicion: 0.9528132492669349\n",
      "Recall: 0.04670302029490031\n",
      "IoU: 0.05793207074615064\n"
     ]
    },
    {
     "name": "stderr",
     "output_type": "stream",
     "text": [
      "INFO: Created TensorFlow Lite XNNPACK delegate for CPU.\n",
      "Segmentation fault\n",
      "/home/ohm/PycharmProjects/FiFi/venv/lib/python3.8/site-packages/shapely/set_operations.py:426: RuntimeWarning: divide by zero encountered in unary_union\n",
      "  return lib.unary_union(collections, **kwargs)\n"
     ]
    },
    {
     "name": "stdout",
     "output_type": "stream",
     "text": [
      "F1: 0.08904158516053173\n",
      "Presicion: 0.9528132492669349\n",
      "Recall: 0.04670302029490031\n",
      "IoU: 0.05793207074615064\n"
     ]
    },
    {
     "name": "stderr",
     "output_type": "stream",
     "text": [
      "INFO: Created TensorFlow Lite XNNPACK delegate for CPU.\n",
      "Error connect socket: : Connection refused\n",
      "Error: bind to port 40588 on 127.0.0.1 failed in file ../../sockethelper/sockethelper.cpp line 51. Exiting.\n",
      "Error connect socket: : Connection refused\n",
      "Error: bind to port 40588 on 127.0.0.1 failed in file ../../sockethelper/sockethelper.cpp line 51. Exiting.\n",
      "Error connect socket: : Connection refused\n",
      "Error: bind to port 40588 on 127.0.0.1 failed in file ../../sockethelper/sockethelper.cpp line 51. Exiting.\n",
      "Error connect socket: : Connection refused\n",
      "Error: bind to port 40588 on 127.0.0.1 failed in file ../../sockethelper/sockethelper.cpp line 51. Exiting.\n",
      "/home/ohm/PycharmProjects/FiFi/venv/lib/python3.8/site-packages/shapely/set_operations.py:426: RuntimeWarning: divide by zero encountered in unary_union\n",
      "  return lib.unary_union(collections, **kwargs)\n",
      "/home/ohm/PycharmProjects/FiFi/venv/lib/python3.8/site-packages/shapely/set_operations.py:133: RuntimeWarning: invalid value encountered in intersection\n",
      "  return lib.intersection(a, b, **kwargs)\n"
     ]
    },
    {
     "name": "stdout",
     "output_type": "stream",
     "text": [
      "F1: 0.21135344787587904\n",
      "Presicion: 0.8908517032737283\n",
      "Recall: 0.11989975737145848\n",
      "IoU: 0.16952395536429052\n"
     ]
    },
    {
     "name": "stderr",
     "output_type": "stream",
     "text": [
      "INFO: Created TensorFlow Lite XNNPACK delegate for CPU.\n",
      "Error connect socket: : Connection refused\n",
      "Error: bind to port 40588 on 127.0.0.1 failed in file ../../sockethelper/sockethelper.cpp line 51. Exiting.\n",
      "Error connect socket: : Connection refused\n",
      "Error: bind to port 40588 on 127.0.0.1 failed in file ../../sockethelper/sockethelper.cpp line 51. Exiting.\n",
      "Error connect socket: : Connection refused\n",
      "Error: bind to port 40588 on 127.0.0.1 failed in file ../../sockethelper/sockethelper.cpp line 51. Exiting.\n",
      "Error connect socket: : Connection refused\n",
      "Error: bind to port 40588 on 127.0.0.1 failed in file ../../sockethelper/sockethelper.cpp line 51. Exiting.\n",
      "/home/ohm/PycharmProjects/FiFi/venv/lib/python3.8/site-packages/shapely/set_operations.py:426: RuntimeWarning: divide by zero encountered in unary_union\n",
      "  return lib.unary_union(collections, **kwargs)\n",
      "/home/ohm/PycharmProjects/FiFi/venv/lib/python3.8/site-packages/shapely/set_operations.py:133: RuntimeWarning: invalid value encountered in intersection\n",
      "  return lib.intersection(a, b, **kwargs)\n"
     ]
    },
    {
     "name": "stdout",
     "output_type": "stream",
     "text": [
      "F1: 0.25521102423647934\n",
      "Presicion: 0.9388918150839181\n",
      "Recall: 0.1476763140822746\n",
      "IoU: 0.19399170263307847\n"
     ]
    },
    {
     "name": "stderr",
     "output_type": "stream",
     "text": [
      "INFO: Created TensorFlow Lite XNNPACK delegate for CPU.\n",
      "Error connect socket: : Connection refused\n",
      "Error: bind to port 40588 on 127.0.0.1 failed in file ../../sockethelper/sockethelper.cpp line 51. Exiting.\n",
      "Segmentation fault\n",
      "/home/ohm/PycharmProjects/FiFi/venv/lib/python3.8/site-packages/shapely/set_operations.py:426: RuntimeWarning: divide by zero encountered in unary_union\n",
      "  return lib.unary_union(collections, **kwargs)\n"
     ]
    },
    {
     "name": "stdout",
     "output_type": "stream",
     "text": [
      "F1: 0.09061612709420555\n",
      "Presicion: 0.951185654399348\n",
      "Recall: 0.047574176146772035\n",
      "IoU: 0.058628947163533035\n"
     ]
    },
    {
     "name": "stderr",
     "output_type": "stream",
     "text": [
      "INFO: Created TensorFlow Lite XNNPACK delegate for CPU.\n",
      "Error connect socket: : Connection refused\n",
      "Error: bind to port 40588 on 127.0.0.1 failed in file ../../sockethelper/sockethelper.cpp line 51. Exiting.\n",
      "Segmentation fault\n",
      "/home/ohm/PycharmProjects/FiFi/venv/lib/python3.8/site-packages/shapely/set_operations.py:426: RuntimeWarning: divide by zero encountered in unary_union\n",
      "  return lib.unary_union(collections, **kwargs)\n"
     ]
    },
    {
     "name": "stdout",
     "output_type": "stream",
     "text": [
      "F1: 0.09361638475191346\n",
      "Presicion: 0.9552312155194482\n",
      "Recall: 0.04922007188328455\n",
      "IoU: 0.06249118835553315\n"
     ]
    },
    {
     "name": "stderr",
     "output_type": "stream",
     "text": [
      "INFO: Created TensorFlow Lite XNNPACK delegate for CPU.\n",
      "Error connect socket: : Connection refused\n",
      "Error: bind to port 40588 on 127.0.0.1 failed in file ../../sockethelper/sockethelper.cpp line 51. Exiting.\n",
      "Error connect socket: : Connection refused\n",
      "Error: bind to port 40588 on 127.0.0.1 failed in file ../../sockethelper/sockethelper.cpp line 51. Exiting.\n",
      "Error connect socket: : Connection refused\n",
      "Error: bind to port 40588 on 127.0.0.1 failed in file ../../sockethelper/sockethelper.cpp line 51. Exiting.\n",
      "Error connect socket: : Connection refused\n",
      "Error: bind to port 40588 on 127.0.0.1 failed in file ../../sockethelper/sockethelper.cpp line 51. Exiting.\n",
      "/home/ohm/PycharmProjects/FiFi/venv/lib/python3.8/site-packages/shapely/set_operations.py:426: RuntimeWarning: divide by zero encountered in unary_union\n",
      "  return lib.unary_union(collections, **kwargs)\n",
      "/home/ohm/PycharmProjects/FiFi/venv/lib/python3.8/site-packages/shapely/set_operations.py:133: RuntimeWarning: invalid value encountered in intersection\n",
      "  return lib.intersection(a, b, **kwargs)\n"
     ]
    },
    {
     "name": "stdout",
     "output_type": "stream",
     "text": [
      "F1: 0.23146693554111744\n",
      "Presicion: 0.9359850110448306\n",
      "Recall: 0.1320628921672895\n",
      "IoU: 0.15761695048348773\n"
     ]
    },
    {
     "name": "stderr",
     "output_type": "stream",
     "text": [
      "INFO: Created TensorFlow Lite XNNPACK delegate for CPU.\n",
      "Segmentation fault\n",
      "/home/ohm/PycharmProjects/FiFi/venv/lib/python3.8/site-packages/shapely/set_operations.py:426: RuntimeWarning: divide by zero encountered in unary_union\n",
      "  return lib.unary_union(collections, **kwargs)\n"
     ]
    },
    {
     "name": "stdout",
     "output_type": "stream",
     "text": [
      "F1: 0.08904158516053173\n",
      "Presicion: 0.9528132492669349\n",
      "Recall: 0.04670302029490031\n",
      "IoU: 0.05793207074615064\n"
     ]
    },
    {
     "name": "stderr",
     "output_type": "stream",
     "text": [
      "INFO: Created TensorFlow Lite XNNPACK delegate for CPU.\n",
      "Error connect socket: : Connection refused\n",
      "Error: bind to port 40588 on 127.0.0.1 failed in file ../../sockethelper/sockethelper.cpp line 51. Exiting.\n",
      "Error connect socket: : Connection refused\n",
      "Error: bind to port 40588 on 127.0.0.1 failed in file ../../sockethelper/sockethelper.cpp line 51. Exiting.\n",
      "Error connect socket: : Connection refused\n",
      "Error: bind to port 40588 on 127.0.0.1 failed in file ../../sockethelper/sockethelper.cpp line 51. Exiting.\n",
      "Error connect socket: : Connection refused\n",
      "Error: bind to port 40588 on 127.0.0.1 failed in file ../../sockethelper/sockethelper.cpp line 51. Exiting.\n",
      "/home/ohm/PycharmProjects/FiFi/venv/lib/python3.8/site-packages/shapely/set_operations.py:426: RuntimeWarning: divide by zero encountered in unary_union\n",
      "  return lib.unary_union(collections, **kwargs)\n"
     ]
    },
    {
     "name": "stdout",
     "output_type": "stream",
     "text": [
      "F1: 0.08904158516053173\n",
      "Presicion: 0.9528132492669349\n",
      "Recall: 0.04670302029490031\n",
      "IoU: 0.05793207074615064\n"
     ]
    },
    {
     "name": "stderr",
     "output_type": "stream",
     "text": [
      "INFO: Created TensorFlow Lite XNNPACK delegate for CPU.\n",
      "Error connect socket: : Connection refused\n",
      "Error: bind to port 40588 on 127.0.0.1 failed in file ../../sockethelper/sockethelper.cpp line 51. Exiting.\n",
      "Error connect socket: : Connection refused\n",
      "Error: bind to port 40588 on 127.0.0.1 failed in file ../../sockethelper/sockethelper.cpp line 51. Exiting.\n",
      "Error connect socket: : Connection refused\n",
      "Error: bind to port 40588 on 127.0.0.1 failed in file ../../sockethelper/sockethelper.cpp line 51. Exiting.\n",
      "Error connect socket: : Connection refused\n",
      "Error: bind to port 40588 on 127.0.0.1 failed in file ../../sockethelper/sockethelper.cpp line 51. Exiting.\n",
      "/home/ohm/PycharmProjects/FiFi/venv/lib/python3.8/site-packages/shapely/set_operations.py:426: RuntimeWarning: divide by zero encountered in unary_union\n",
      "  return lib.unary_union(collections, **kwargs)\n",
      "/home/ohm/PycharmProjects/FiFi/venv/lib/python3.8/site-packages/shapely/set_operations.py:133: RuntimeWarning: invalid value encountered in intersection\n",
      "  return lib.intersection(a, b, **kwargs)\n"
     ]
    },
    {
     "name": "stdout",
     "output_type": "stream",
     "text": [
      "F1: 0.21872895675116186\n",
      "Presicion: 0.9576636379797786\n",
      "Recall: 0.12346397263412\n",
      "IoU: 0.11888811588503648\n"
     ]
    },
    {
     "name": "stderr",
     "output_type": "stream",
     "text": [
      "INFO: Created TensorFlow Lite XNNPACK delegate for CPU.\n",
      "Error connect socket: : Connection refused\n",
      "Error: bind to port 40588 on 127.0.0.1 failed in file ../../sockethelper/sockethelper.cpp line 51. Exiting.\n",
      "Error connect socket: : Connection refused\n",
      "Error: bind to port 40588 on 127.0.0.1 failed in file ../../sockethelper/sockethelper.cpp line 51. Exiting.\n",
      "Error connect socket: : Connection refused\n",
      "Error: bind to port 40588 on 127.0.0.1 failed in file ../../sockethelper/sockethelper.cpp line 51. Exiting.\n",
      "Error connect socket: : Connection refused\n",
      "Error: bind to port 40588 on 127.0.0.1 failed in file ../../sockethelper/sockethelper.cpp line 51. Exiting.\n",
      "/home/ohm/PycharmProjects/FiFi/venv/lib/python3.8/site-packages/shapely/set_operations.py:426: RuntimeWarning: divide by zero encountered in unary_union\n",
      "  return lib.unary_union(collections, **kwargs)\n",
      "/home/ohm/PycharmProjects/FiFi/venv/lib/python3.8/site-packages/shapely/set_operations.py:133: RuntimeWarning: invalid value encountered in intersection\n",
      "  return lib.intersection(a, b, **kwargs)\n"
     ]
    },
    {
     "name": "stdout",
     "output_type": "stream",
     "text": [
      "F1: 0.17270686021772313\n",
      "Presicion: 0.9528736705237069\n",
      "Recall: 0.09495901661887321\n",
      "IoU: 0.09966290644373246\n"
     ]
    },
    {
     "name": "stderr",
     "output_type": "stream",
     "text": [
      "INFO: Created TensorFlow Lite XNNPACK delegate for CPU.\n",
      "Error connect socket: : Connection refused\n",
      "Error: bind to port 40588 on 127.0.0.1 failed in file ../../sockethelper/sockethelper.cpp line 51. Exiting.\n",
      "Error connect socket: : Connection refused\n",
      "Error: bind to port 40588 on 127.0.0.1 failed in file ../../sockethelper/sockethelper.cpp line 51. Exiting.\n",
      "Error connect socket: : Connection refused\n",
      "Error: bind to port 40588 on 127.0.0.1 failed in file ../../sockethelper/sockethelper.cpp line 51. Exiting.\n",
      "Error connect socket: : Connection refused\n",
      "Error: bind to port 40588 on 127.0.0.1 failed in file ../../sockethelper/sockethelper.cpp line 51. Exiting.\n",
      "/home/ohm/PycharmProjects/FiFi/venv/lib/python3.8/site-packages/shapely/set_operations.py:426: RuntimeWarning: divide by zero encountered in unary_union\n",
      "  return lib.unary_union(collections, **kwargs)\n",
      "/home/ohm/PycharmProjects/FiFi/venv/lib/python3.8/site-packages/shapely/set_operations.py:133: RuntimeWarning: invalid value encountered in intersection\n",
      "  return lib.intersection(a, b, **kwargs)\n"
     ]
    },
    {
     "name": "stdout",
     "output_type": "stream",
     "text": [
      "F1: 0.20545582984828129\n",
      "Presicion: 0.9467980883635364\n",
      "Recall: 0.11523045895037994\n",
      "IoU: 0.12345334834819131\n"
     ]
    },
    {
     "name": "stderr",
     "output_type": "stream",
     "text": [
      "INFO: Created TensorFlow Lite XNNPACK delegate for CPU.\n",
      "Error connect socket: : Connection refused\n",
      "Error: bind to port 40588 on 127.0.0.1 failed in file ../../sockethelper/sockethelper.cpp line 51. Exiting.\n",
      "Error connect socket: : Connection refused\n",
      "Error: bind to port 40588 on 127.0.0.1 failed in file ../../sockethelper/sockethelper.cpp line 51. Exiting.\n",
      "Error connect socket: : Connection refused\n",
      "Error: bind to port 40588 on 127.0.0.1 failed in file ../../sockethelper/sockethelper.cpp line 51. Exiting.\n",
      "Error connect socket: : Connection refused\n",
      "Error: bind to port 40588 on 127.0.0.1 failed in file ../../sockethelper/sockethelper.cpp line 51. Exiting.\n",
      "/home/ohm/PycharmProjects/FiFi/venv/lib/python3.8/site-packages/shapely/set_operations.py:426: RuntimeWarning: divide by zero encountered in unary_union\n",
      "  return lib.unary_union(collections, **kwargs)\n",
      "/home/ohm/PycharmProjects/FiFi/venv/lib/python3.8/site-packages/shapely/set_operations.py:133: RuntimeWarning: invalid value encountered in intersection\n",
      "  return lib.intersection(a, b, **kwargs)\n"
     ]
    },
    {
     "name": "stdout",
     "output_type": "stream",
     "text": [
      "F1: 0.19765738280163492\n",
      "Presicion: 0.9178351433301036\n",
      "Recall: 0.11075425098705785\n",
      "IoU: 0.1322459356828955\n"
     ]
    },
    {
     "name": "stderr",
     "output_type": "stream",
     "text": [
      "INFO: Created TensorFlow Lite XNNPACK delegate for CPU.\n",
      "Error connect socket: : Connection refused\n",
      "Error: bind to port 40588 on 127.0.0.1 failed in file ../../sockethelper/sockethelper.cpp line 51. Exiting.\n",
      "Error connect socket: : Connection refused\n",
      "Error: bind to port 40588 on 127.0.0.1 failed in file ../../sockethelper/sockethelper.cpp line 51. Exiting.\n",
      "Error connect socket: : Connection refused\n",
      "Error: bind to port 40588 on 127.0.0.1 failed in file ../../sockethelper/sockethelper.cpp line 51. Exiting.\n",
      "Error connect socket: : Connection refused\n",
      "Error: bind to port 40588 on 127.0.0.1 failed in file ../../sockethelper/sockethelper.cpp line 51. Exiting.\n",
      "/home/ohm/PycharmProjects/FiFi/venv/lib/python3.8/site-packages/shapely/set_operations.py:426: RuntimeWarning: divide by zero encountered in unary_union\n",
      "  return lib.unary_union(collections, **kwargs)\n",
      "/home/ohm/PycharmProjects/FiFi/venv/lib/python3.8/site-packages/shapely/set_operations.py:133: RuntimeWarning: invalid value encountered in intersection\n",
      "  return lib.intersection(a, b, **kwargs)\n"
     ]
    },
    {
     "name": "stdout",
     "output_type": "stream",
     "text": [
      "F1: 0.23459911467638025\n",
      "Presicion: 0.9386149091664985\n",
      "Recall: 0.13405217997102709\n",
      "IoU: 0.15354559917123375\n"
     ]
    },
    {
     "name": "stderr",
     "output_type": "stream",
     "text": [
      "INFO: Created TensorFlow Lite XNNPACK delegate for CPU.\n",
      "Segmentation fault\n",
      "/home/ohm/PycharmProjects/FiFi/venv/lib/python3.8/site-packages/shapely/set_operations.py:426: RuntimeWarning: divide by zero encountered in unary_union\n",
      "  return lib.unary_union(collections, **kwargs)\n"
     ]
    },
    {
     "name": "stdout",
     "output_type": "stream",
     "text": [
      "F1: 0.08904158516053173\n",
      "Presicion: 0.9528132492669349\n",
      "Recall: 0.04670302029490031\n",
      "IoU: 0.05793207074615064\n"
     ]
    },
    {
     "name": "stderr",
     "output_type": "stream",
     "text": [
      "INFO: Created TensorFlow Lite XNNPACK delegate for CPU.\n",
      "Error connect socket: : Connection refused\n",
      "Error: bind to port 40588 on 127.0.0.1 failed in file ../../sockethelper/sockethelper.cpp line 51. Exiting.\n",
      "Error connect socket: : Connection refused\n",
      "Error: bind to port 40588 on 127.0.0.1 failed in file ../../sockethelper/sockethelper.cpp line 51. Exiting.\n",
      "Error connect socket: : Connection refused\n",
      "Error: bind to port 40588 on 127.0.0.1 failed in file ../../sockethelper/sockethelper.cpp line 51. Exiting.\n",
      "Error connect socket: : Connection refused\n",
      "Error: bind to port 40588 on 127.0.0.1 failed in file ../../sockethelper/sockethelper.cpp line 51. Exiting.\n",
      "/home/ohm/PycharmProjects/FiFi/venv/lib/python3.8/site-packages/shapely/set_operations.py:426: RuntimeWarning: divide by zero encountered in unary_union\n",
      "  return lib.unary_union(collections, **kwargs)\n"
     ]
    },
    {
     "name": "stdout",
     "output_type": "stream",
     "text": [
      "F1: 0.08904158516053173\n",
      "Presicion: 0.9528132492669349\n",
      "Recall: 0.04670302029490031\n",
      "IoU: 0.05793207074615064\n"
     ]
    },
    {
     "name": "stderr",
     "output_type": "stream",
     "text": [
      "INFO: Created TensorFlow Lite XNNPACK delegate for CPU.\n",
      "Error connect socket: : Connection refused\n",
      "Error: bind to port 40588 on 127.0.0.1 failed in file ../../sockethelper/sockethelper.cpp line 51. Exiting.\n",
      "Segmentation fault\n",
      "/home/ohm/PycharmProjects/FiFi/venv/lib/python3.8/site-packages/shapely/set_operations.py:426: RuntimeWarning: divide by zero encountered in unary_union\n",
      "  return lib.unary_union(collections, **kwargs)\n"
     ]
    },
    {
     "name": "stdout",
     "output_type": "stream",
     "text": [
      "F1: 0.09242749145854\n",
      "Presicion: 0.95401210981228\n",
      "Recall: 0.048566372015931086\n",
      "IoU: 0.060178406309871806\n"
     ]
    },
    {
     "name": "stderr",
     "output_type": "stream",
     "text": [
      "INFO: Created TensorFlow Lite XNNPACK delegate for CPU.\n",
      "Error connect socket: : Connection refused\n",
      "Error: bind to port 40588 on 127.0.0.1 failed in file ../../sockethelper/sockethelper.cpp line 51. Exiting.\n",
      "Error connect socket: : Connection refused\n",
      "Error: bind to port 40588 on 127.0.0.1 failed in file ../../sockethelper/sockethelper.cpp line 51. Exiting.\n",
      "Error connect socket: : Connection refused\n",
      "Error: bind to port 40588 on 127.0.0.1 failed in file ../../sockethelper/sockethelper.cpp line 51. Exiting.\n",
      "Error connect socket: : Connection refused\n",
      "Error: bind to port 40588 on 127.0.0.1 failed in file ../../sockethelper/sockethelper.cpp line 51. Exiting.\n",
      "/home/ohm/PycharmProjects/FiFi/venv/lib/python3.8/site-packages/shapely/set_operations.py:426: RuntimeWarning: divide by zero encountered in unary_union\n",
      "  return lib.unary_union(collections, **kwargs)\n",
      "/home/ohm/PycharmProjects/FiFi/venv/lib/python3.8/site-packages/shapely/set_operations.py:133: RuntimeWarning: invalid value encountered in intersection\n",
      "  return lib.intersection(a, b, **kwargs)\n"
     ]
    },
    {
     "name": "stdout",
     "output_type": "stream",
     "text": [
      "F1: 0.22639334898836264\n",
      "Presicion: 0.9292034247489943\n",
      "Recall: 0.12889934743474266\n",
      "IoU: 0.1701307024070433\n"
     ]
    },
    {
     "name": "stderr",
     "output_type": "stream",
     "text": [
      "INFO: Created TensorFlow Lite XNNPACK delegate for CPU.\n",
      "Error connect socket: : Connection refused\n",
      "Error: bind to port 40588 on 127.0.0.1 failed in file ../../sockethelper/sockethelper.cpp line 51. Exiting.\n",
      "Error connect socket: : Connection refused\n",
      "Error: bind to port 40588 on 127.0.0.1 failed in file ../../sockethelper/sockethelper.cpp line 51. Exiting.\n",
      "Error connect socket: : Connection refused\n",
      "Error: bind to port 40588 on 127.0.0.1 failed in file ../../sockethelper/sockethelper.cpp line 51. Exiting.\n",
      "Error connect socket: : Connection refused\n",
      "Error: bind to port 40588 on 127.0.0.1 failed in file ../../sockethelper/sockethelper.cpp line 51. Exiting.\n",
      "/home/ohm/PycharmProjects/FiFi/venv/lib/python3.8/site-packages/shapely/set_operations.py:426: RuntimeWarning: divide by zero encountered in unary_union\n",
      "  return lib.unary_union(collections, **kwargs)\n"
     ]
    },
    {
     "name": "stdout",
     "output_type": "stream",
     "text": [
      "F1: 0.24589825989201716\n",
      "Presicion: 0.9448258274685977\n",
      "Recall: 0.141341777651007\n",
      "IoU: 0.14853731641645662\n"
     ]
    },
    {
     "name": "stderr",
     "output_type": "stream",
     "text": [
      "INFO: Created TensorFlow Lite XNNPACK delegate for CPU.\n",
      "Error connect socket: : Connection refused\n",
      "Error: bind to port 40588 on 127.0.0.1 failed in file ../../sockethelper/sockethelper.cpp line 51. Exiting.\n",
      "Error connect socket: : Connection refused\n",
      "Error: bind to port 40588 on 127.0.0.1 failed in file ../../sockethelper/sockethelper.cpp line 51. Exiting.\n",
      "Error connect socket: : Connection refused\n",
      "Error: bind to port 40588 on 127.0.0.1 failed in file ../../sockethelper/sockethelper.cpp line 51. Exiting.\n",
      "Error connect socket: : Connection refused\n",
      "Error: bind to port 40588 on 127.0.0.1 failed in file ../../sockethelper/sockethelper.cpp line 51. Exiting.\n",
      "/home/ohm/PycharmProjects/FiFi/venv/lib/python3.8/site-packages/shapely/set_operations.py:426: RuntimeWarning: divide by zero encountered in unary_union\n",
      "  return lib.unary_union(collections, **kwargs)\n"
     ]
    },
    {
     "name": "stdout",
     "output_type": "stream",
     "text": [
      "F1: 0.08904158516053173\n",
      "Presicion: 0.9528132492669349\n",
      "Recall: 0.04670302029490031\n",
      "IoU: 0.05793207074615064\n"
     ]
    },
    {
     "name": "stderr",
     "output_type": "stream",
     "text": [
      "INFO: Created TensorFlow Lite XNNPACK delegate for CPU.\n",
      "Floating point exception\n",
      "/home/ohm/PycharmProjects/FiFi/venv/lib/python3.8/site-packages/shapely/set_operations.py:426: RuntimeWarning: divide by zero encountered in unary_union\n",
      "  return lib.unary_union(collections, **kwargs)\n"
     ]
    },
    {
     "name": "stdout",
     "output_type": "stream",
     "text": [
      "F1: 0.08904158516053173\n",
      "Presicion: 0.9528132492669349\n",
      "Recall: 0.04670302029490031\n",
      "IoU: 0.05793207074615064\n"
     ]
    },
    {
     "name": "stderr",
     "output_type": "stream",
     "text": [
      "INFO: Created TensorFlow Lite XNNPACK delegate for CPU.\n",
      "Error connect socket: : Connection refused\n",
      "Error: bind to port 40588 on 127.0.0.1 failed in file ../../sockethelper/sockethelper.cpp line 51. Exiting.\n",
      "Segmentation fault\n",
      "/home/ohm/PycharmProjects/FiFi/venv/lib/python3.8/site-packages/shapely/set_operations.py:426: RuntimeWarning: divide by zero encountered in unary_union\n",
      "  return lib.unary_union(collections, **kwargs)\n"
     ]
    },
    {
     "name": "stdout",
     "output_type": "stream",
     "text": [
      "F1: 0.08904158516053173\n",
      "Presicion: 0.9528132492669349\n",
      "Recall: 0.04670302029490031\n",
      "IoU: 0.05793207074615064\n"
     ]
    },
    {
     "name": "stderr",
     "output_type": "stream",
     "text": [
      "INFO: Created TensorFlow Lite XNNPACK delegate for CPU.\n",
      "Error connect socket: : Connection refused\n",
      "Error: bind to port 40588 on 127.0.0.1 failed in file ../../sockethelper/sockethelper.cpp line 51. Exiting.\n",
      "Error connect socket: : Connection refused\n",
      "Error: bind to port 40588 on 127.0.0.1 failed in file ../../sockethelper/sockethelper.cpp line 51. Exiting.\n",
      "Error connect socket: : Connection refused\n",
      "Error: bind to port 40588 on 127.0.0.1 failed in file ../../sockethelper/sockethelper.cpp line 51. Exiting.\n",
      "Error connect socket: : Connection refused\n",
      "Error: bind to port 40588 on 127.0.0.1 failed in file ../../sockethelper/sockethelper.cpp line 51. Exiting.\n",
      "/home/ohm/PycharmProjects/FiFi/venv/lib/python3.8/site-packages/shapely/set_operations.py:426: RuntimeWarning: divide by zero encountered in unary_union\n",
      "  return lib.unary_union(collections, **kwargs)\n"
     ]
    },
    {
     "name": "stdout",
     "output_type": "stream",
     "text": [
      "F1: 0.23985690436260731\n",
      "Presicion: 0.942707089521018\n",
      "Recall: 0.13740925806258805\n",
      "IoU: 0.13696019470210327\n"
     ]
    },
    {
     "name": "stderr",
     "output_type": "stream",
     "text": [
      "INFO: Created TensorFlow Lite XNNPACK delegate for CPU.\n",
      "Segmentation fault\n",
      "/home/ohm/PycharmProjects/FiFi/venv/lib/python3.8/site-packages/shapely/set_operations.py:426: RuntimeWarning: divide by zero encountered in unary_union\n",
      "  return lib.unary_union(collections, **kwargs)\n"
     ]
    },
    {
     "name": "stdout",
     "output_type": "stream",
     "text": [
      "F1: 0.08904158516053173\n",
      "Presicion: 0.9528132492669349\n",
      "Recall: 0.04670302029490031\n",
      "IoU: 0.05793207074615064\n"
     ]
    },
    {
     "name": "stderr",
     "output_type": "stream",
     "text": [
      "INFO: Created TensorFlow Lite XNNPACK delegate for CPU.\n",
      "Error connect socket: : Connection refused\n",
      "Error: bind to port 40588 on 127.0.0.1 failed in file ../../sockethelper/sockethelper.cpp line 51. Exiting.\n",
      "Error connect socket: : Connection refused\n",
      "Error: bind to port 40588 on 127.0.0.1 failed in file ../../sockethelper/sockethelper.cpp line 51. Exiting.\n",
      "Error connect socket: : Connection refused\n",
      "Error: bind to port 40588 on 127.0.0.1 failed in file ../../sockethelper/sockethelper.cpp line 51. Exiting.\n",
      "Error connect socket: : Connection refused\n",
      "Error: bind to port 40588 on 127.0.0.1 failed in file ../../sockethelper/sockethelper.cpp line 51. Exiting.\n",
      "/home/ohm/PycharmProjects/FiFi/venv/lib/python3.8/site-packages/shapely/set_operations.py:426: RuntimeWarning: divide by zero encountered in unary_union\n",
      "  return lib.unary_union(collections, **kwargs)\n"
     ]
    },
    {
     "name": "stdout",
     "output_type": "stream",
     "text": [
      "F1: 0.20577533306468204\n",
      "Presicion: 0.9469401131797457\n",
      "Recall: 0.11542938946261334\n",
      "IoU: 0.10752121214667434\n"
     ]
    },
    {
     "name": "stderr",
     "output_type": "stream",
     "text": [
      "INFO: Created TensorFlow Lite XNNPACK delegate for CPU.\n",
      "Error connect socket: : Connection refused\n",
      "Error: bind to port 40588 on 127.0.0.1 failed in file ../../sockethelper/sockethelper.cpp line 51. Exiting.\n",
      "Segmentation fault\n",
      "/home/ohm/PycharmProjects/FiFi/venv/lib/python3.8/site-packages/shapely/set_operations.py:426: RuntimeWarning: divide by zero encountered in unary_union\n",
      "  return lib.unary_union(collections, **kwargs)\n"
     ]
    },
    {
     "name": "stdout",
     "output_type": "stream",
     "text": [
      "F1: 0.09004971349690173\n",
      "Presicion: 0.9533661086906897\n",
      "Recall: 0.04725665864105877\n",
      "IoU: 0.05826866321801005\n"
     ]
    },
    {
     "name": "stderr",
     "output_type": "stream",
     "text": [
      "INFO: Created TensorFlow Lite XNNPACK delegate for CPU.\n",
      "Segmentation fault\n",
      "/home/ohm/PycharmProjects/FiFi/venv/lib/python3.8/site-packages/shapely/set_operations.py:426: RuntimeWarning: divide by zero encountered in unary_union\n",
      "  return lib.unary_union(collections, **kwargs)\n"
     ]
    },
    {
     "name": "stdout",
     "output_type": "stream",
     "text": [
      "F1: 0.08904158516053173\n",
      "Presicion: 0.9528132492669349\n",
      "Recall: 0.04670302029490031\n",
      "IoU: 0.05793207074615064\n"
     ]
    },
    {
     "name": "stderr",
     "output_type": "stream",
     "text": [
      "INFO: Created TensorFlow Lite XNNPACK delegate for CPU.\n",
      "Error connect socket: : Connection refused\n",
      "Error: bind to port 40588 on 127.0.0.1 failed in file ../../sockethelper/sockethelper.cpp line 51. Exiting.\n",
      "Error connect socket: : Connection refused\n",
      "Error: bind to port 40588 on 127.0.0.1 failed in file ../../sockethelper/sockethelper.cpp line 51. Exiting.\n",
      "Error connect socket: : Connection refused\n",
      "Error: bind to port 40588 on 127.0.0.1 failed in file ../../sockethelper/sockethelper.cpp line 51. Exiting.\n",
      "Error connect socket: : Connection refused\n",
      "Error: bind to port 40588 on 127.0.0.1 failed in file ../../sockethelper/sockethelper.cpp line 51. Exiting.\n",
      "/home/ohm/PycharmProjects/FiFi/venv/lib/python3.8/site-packages/shapely/set_operations.py:426: RuntimeWarning: divide by zero encountered in unary_union\n",
      "  return lib.unary_union(collections, **kwargs)\n",
      "/home/ohm/PycharmProjects/FiFi/venv/lib/python3.8/site-packages/shapely/set_operations.py:133: RuntimeWarning: invalid value encountered in intersection\n",
      "  return lib.intersection(a, b, **kwargs)\n"
     ]
    },
    {
     "name": "stdout",
     "output_type": "stream",
     "text": [
      "F1: 0.22350376745006462\n",
      "Presicion: 0.9470576508354703\n",
      "Recall: 0.12670267660569728\n",
      "IoU: 0.14550212931004938\n"
     ]
    },
    {
     "name": "stderr",
     "output_type": "stream",
     "text": [
      "INFO: Created TensorFlow Lite XNNPACK delegate for CPU.\n",
      "Error connect socket: : Connection refused\n",
      "Error: bind to port 40588 on 127.0.0.1 failed in file ../../sockethelper/sockethelper.cpp line 51. Exiting.\n",
      "Error connect socket: : Connection refused\n",
      "Error: bind to port 40588 on 127.0.0.1 failed in file ../../sockethelper/sockethelper.cpp line 51. Exiting.\n",
      "Error connect socket: : Connection refused\n",
      "Error: bind to port 40588 on 127.0.0.1 failed in file ../../sockethelper/sockethelper.cpp line 51. Exiting.\n",
      "Error connect socket: : Connection refused\n",
      "Error: bind to port 40588 on 127.0.0.1 failed in file ../../sockethelper/sockethelper.cpp line 51. Exiting.\n",
      "/home/ohm/PycharmProjects/FiFi/venv/lib/python3.8/site-packages/shapely/set_operations.py:426: RuntimeWarning: divide by zero encountered in unary_union\n",
      "  return lib.unary_union(collections, **kwargs)\n",
      "/home/ohm/PycharmProjects/FiFi/venv/lib/python3.8/site-packages/shapely/set_operations.py:133: RuntimeWarning: invalid value encountered in intersection\n",
      "  return lib.intersection(a, b, **kwargs)\n"
     ]
    },
    {
     "name": "stdout",
     "output_type": "stream",
     "text": [
      "F1: 0.22461275921678514\n",
      "Presicion: 0.9578410845391971\n",
      "Recall: 0.12722323970555033\n",
      "IoU: 0.13656009135691413\n"
     ]
    },
    {
     "name": "stderr",
     "output_type": "stream",
     "text": [
      "INFO: Created TensorFlow Lite XNNPACK delegate for CPU.\n",
      "Error connect socket: : Connection refused\n",
      "Error: bind to port 40588 on 127.0.0.1 failed in file ../../sockethelper/sockethelper.cpp line 51. Exiting.\n",
      "Error connect socket: : Connection refused\n",
      "Error: bind to port 40588 on 127.0.0.1 failed in file ../../sockethelper/sockethelper.cpp line 51. Exiting.\n",
      "Error connect socket: : Connection refused\n",
      "Error: bind to port 40588 on 127.0.0.1 failed in file ../../sockethelper/sockethelper.cpp line 51. Exiting.\n",
      "Error connect socket: : Connection refused\n",
      "Error: bind to port 40588 on 127.0.0.1 failed in file ../../sockethelper/sockethelper.cpp line 51. Exiting.\n",
      "/home/ohm/PycharmProjects/FiFi/venv/lib/python3.8/site-packages/shapely/set_operations.py:426: RuntimeWarning: divide by zero encountered in unary_union\n",
      "  return lib.unary_union(collections, **kwargs)\n",
      "/home/ohm/PycharmProjects/FiFi/venv/lib/python3.8/site-packages/shapely/set_operations.py:133: RuntimeWarning: invalid value encountered in intersection\n",
      "  return lib.intersection(a, b, **kwargs)\n"
     ]
    },
    {
     "name": "stdout",
     "output_type": "stream",
     "text": [
      "F1: 0.26128880403005805\n",
      "Presicion: 0.9177321399966683\n",
      "Recall: 0.15232935396413777\n",
      "IoU: 0.19093215910542571\n"
     ]
    },
    {
     "name": "stderr",
     "output_type": "stream",
     "text": [
      "INFO: Created TensorFlow Lite XNNPACK delegate for CPU.\n",
      "Segmentation fault\n",
      "/home/ohm/PycharmProjects/FiFi/venv/lib/python3.8/site-packages/shapely/set_operations.py:426: RuntimeWarning: divide by zero encountered in unary_union\n",
      "  return lib.unary_union(collections, **kwargs)\n"
     ]
    },
    {
     "name": "stdout",
     "output_type": "stream",
     "text": [
      "F1: 0.08904158516053173\n",
      "Presicion: 0.9528132492669349\n",
      "Recall: 0.04670302029490031\n",
      "IoU: 0.05793207074615064\n"
     ]
    },
    {
     "name": "stderr",
     "output_type": "stream",
     "text": [
      "INFO: Created TensorFlow Lite XNNPACK delegate for CPU.\n",
      "Error connect socket: : Connection refused\n",
      "Error: bind to port 40588 on 127.0.0.1 failed in file ../../sockethelper/sockethelper.cpp line 51. Exiting.\n",
      "Error connect socket: : Connection refused\n",
      "Error: bind to port 40588 on 127.0.0.1 failed in file ../../sockethelper/sockethelper.cpp line 51. Exiting.\n",
      "Error connect socket: : Connection refused\n",
      "Error: bind to port 40588 on 127.0.0.1 failed in file ../../sockethelper/sockethelper.cpp line 51. Exiting.\n",
      "Error connect socket: : Connection refused\n",
      "Error: bind to port 40588 on 127.0.0.1 failed in file ../../sockethelper/sockethelper.cpp line 51. Exiting.\n",
      "/home/ohm/PycharmProjects/FiFi/venv/lib/python3.8/site-packages/shapely/set_operations.py:426: RuntimeWarning: divide by zero encountered in unary_union\n",
      "  return lib.unary_union(collections, **kwargs)\n",
      "/home/ohm/PycharmProjects/FiFi/venv/lib/python3.8/site-packages/shapely/set_operations.py:133: RuntimeWarning: invalid value encountered in intersection\n",
      "  return lib.intersection(a, b, **kwargs)\n"
     ]
    },
    {
     "name": "stdout",
     "output_type": "stream",
     "text": [
      "F1: 0.17372119896569863\n",
      "Presicion: 0.8594927507304175\n",
      "Recall: 0.09662561344238677\n",
      "IoU: 0.12946169349708164\n"
     ]
    },
    {
     "name": "stderr",
     "output_type": "stream",
     "text": [
      "INFO: Created TensorFlow Lite XNNPACK delegate for CPU.\n",
      "Error connect socket: : Connection refused\n",
      "Error: bind to port 40588 on 127.0.0.1 failed in file ../../sockethelper/sockethelper.cpp line 51. Exiting.\n",
      "Error connect socket: : Connection refused\n",
      "Error: bind to port 40588 on 127.0.0.1 failed in file ../../sockethelper/sockethelper.cpp line 51. Exiting.\n",
      "Error connect socket: : Connection refused\n",
      "Error: bind to port 40588 on 127.0.0.1 failed in file ../../sockethelper/sockethelper.cpp line 51. Exiting.\n",
      "Error connect socket: : Connection refused\n",
      "Error: bind to port 40588 on 127.0.0.1 failed in file ../../sockethelper/sockethelper.cpp line 51. Exiting.\n",
      "/home/ohm/PycharmProjects/FiFi/venv/lib/python3.8/site-packages/shapely/set_operations.py:426: RuntimeWarning: divide by zero encountered in unary_union\n",
      "  return lib.unary_union(collections, **kwargs)\n",
      "/home/ohm/PycharmProjects/FiFi/venv/lib/python3.8/site-packages/shapely/set_operations.py:133: RuntimeWarning: invalid value encountered in intersection\n",
      "  return lib.intersection(a, b, **kwargs)\n"
     ]
    },
    {
     "name": "stdout",
     "output_type": "stream",
     "text": [
      "F1: 0.24488312144018648\n",
      "Presicion: 0.9455922114064167\n",
      "Recall: 0.14065443072034453\n",
      "IoU: 0.1710602603529455\n"
     ]
    },
    {
     "name": "stderr",
     "output_type": "stream",
     "text": [
      "INFO: Created TensorFlow Lite XNNPACK delegate for CPU.\n",
      "Error connect socket: : Connection refused\n",
      "Error: bind to port 40588 on 127.0.0.1 failed in file ../../sockethelper/sockethelper.cpp line 51. Exiting.\n",
      "Error connect socket: : Connection refused\n",
      "Error: bind to port 40588 on 127.0.0.1 failed in file ../../sockethelper/sockethelper.cpp line 51. Exiting.\n",
      "Error connect socket: : Connection refused\n",
      "Error: bind to port 40588 on 127.0.0.1 failed in file ../../sockethelper/sockethelper.cpp line 51. Exiting.\n",
      "Error connect socket: : Connection refused\n",
      "Error: bind to port 40588 on 127.0.0.1 failed in file ../../sockethelper/sockethelper.cpp line 51. Exiting.\n",
      "/home/ohm/PycharmProjects/FiFi/venv/lib/python3.8/site-packages/shapely/set_operations.py:426: RuntimeWarning: divide by zero encountered in unary_union\n",
      "  return lib.unary_union(collections, **kwargs)\n"
     ]
    },
    {
     "name": "stdout",
     "output_type": "stream",
     "text": [
      "F1: 0.10374334822084678\n",
      "Presicion: 0.9598591772752807\n",
      "Recall: 0.05483500847971751\n",
      "IoU: 0.06932285765363234\n"
     ]
    },
    {
     "name": "stderr",
     "output_type": "stream",
     "text": [
      "INFO: Created TensorFlow Lite XNNPACK delegate for CPU.\n",
      "Error connect socket: : Connection refused\n",
      "Error: bind to port 40588 on 127.0.0.1 failed in file ../../sockethelper/sockethelper.cpp line 51. Exiting.\n",
      "Error connect socket: : Connection refused\n",
      "Error: bind to port 40588 on 127.0.0.1 failed in file ../../sockethelper/sockethelper.cpp line 51. Exiting.\n",
      "Error connect socket: : Connection refused\n",
      "Error: bind to port 40588 on 127.0.0.1 failed in file ../../sockethelper/sockethelper.cpp line 51. Exiting.\n",
      "Error connect socket: : Connection refused\n",
      "Error: bind to port 40588 on 127.0.0.1 failed in file ../../sockethelper/sockethelper.cpp line 51. Exiting.\n",
      "/home/ohm/PycharmProjects/FiFi/venv/lib/python3.8/site-packages/shapely/set_operations.py:426: RuntimeWarning: divide by zero encountered in unary_union\n",
      "  return lib.unary_union(collections, **kwargs)\n",
      "/home/ohm/PycharmProjects/FiFi/venv/lib/python3.8/site-packages/shapely/set_operations.py:133: RuntimeWarning: invalid value encountered in intersection\n",
      "  return lib.intersection(a, b, **kwargs)\n"
     ]
    },
    {
     "name": "stdout",
     "output_type": "stream",
     "text": [
      "F1: 0.2093338110880808\n",
      "Presicion: 0.9387902786832293\n",
      "Recall: 0.11780064746873406\n",
      "IoU: 0.14176398090849607\n"
     ]
    },
    {
     "name": "stderr",
     "output_type": "stream",
     "text": [
      "INFO: Created TensorFlow Lite XNNPACK delegate for CPU.\n",
      "Error connect socket: : Connection refused\n",
      "Error: bind to port 40588 on 127.0.0.1 failed in file ../../sockethelper/sockethelper.cpp line 51. Exiting.\n",
      "Error connect socket: : Connection refused\n",
      "Error: bind to port 40588 on 127.0.0.1 failed in file ../../sockethelper/sockethelper.cpp line 51. Exiting.\n",
      "Error connect socket: : Connection refused\n",
      "Error: bind to port 40588 on 127.0.0.1 failed in file ../../sockethelper/sockethelper.cpp line 51. Exiting.\n",
      "Error connect socket: : Connection refused\n",
      "Error: bind to port 40588 on 127.0.0.1 failed in file ../../sockethelper/sockethelper.cpp line 51. Exiting.\n",
      "/home/ohm/PycharmProjects/FiFi/venv/lib/python3.8/site-packages/shapely/set_operations.py:426: RuntimeWarning: divide by zero encountered in unary_union\n",
      "  return lib.unary_union(collections, **kwargs)\n",
      "/home/ohm/PycharmProjects/FiFi/venv/lib/python3.8/site-packages/shapely/set_operations.py:133: RuntimeWarning: invalid value encountered in intersection\n",
      "  return lib.intersection(a, b, **kwargs)\n"
     ]
    },
    {
     "name": "stdout",
     "output_type": "stream",
     "text": [
      "F1: 0.1451368545241047\n",
      "Presicion: 0.8606613391928367\n",
      "Recall: 0.07925060464946972\n",
      "IoU: 0.1032312843264889\n"
     ]
    },
    {
     "name": "stderr",
     "output_type": "stream",
     "text": [
      "INFO: Created TensorFlow Lite XNNPACK delegate for CPU.\n",
      "Error connect socket: : Connection refused\n",
      "Error: bind to port 40588 on 127.0.0.1 failed in file ../../sockethelper/sockethelper.cpp line 51. Exiting.\n",
      "Error connect socket: : Connection refused\n",
      "Error: bind to port 40588 on 127.0.0.1 failed in file ../../sockethelper/sockethelper.cpp line 51. Exiting.\n",
      "Error connect socket: : Connection refused\n",
      "Error: bind to port 40588 on 127.0.0.1 failed in file ../../sockethelper/sockethelper.cpp line 51. Exiting.\n",
      "Error connect socket: : Connection refused\n",
      "Error: bind to port 40588 on 127.0.0.1 failed in file ../../sockethelper/sockethelper.cpp line 51. Exiting.\n",
      "/home/ohm/PycharmProjects/FiFi/venv/lib/python3.8/site-packages/shapely/set_operations.py:426: RuntimeWarning: divide by zero encountered in unary_union\n",
      "  return lib.unary_union(collections, **kwargs)\n",
      "/home/ohm/PycharmProjects/FiFi/venv/lib/python3.8/site-packages/shapely/set_operations.py:133: RuntimeWarning: invalid value encountered in intersection\n",
      "  return lib.intersection(a, b, **kwargs)\n"
     ]
    },
    {
     "name": "stdout",
     "output_type": "stream",
     "text": [
      "F1: 0.22845202612307608\n",
      "Presicion: 0.8411528535261674\n",
      "Recall: 0.13217497481894824\n",
      "IoU: 0.18303969302152293\n"
     ]
    },
    {
     "name": "stderr",
     "output_type": "stream",
     "text": [
      "INFO: Created TensorFlow Lite XNNPACK delegate for CPU.\n",
      "Error connect socket: : Connection refused\n",
      "Error: bind to port 40588 on 127.0.0.1 failed in file ../../sockethelper/sockethelper.cpp line 51. Exiting.\n",
      "Error connect socket: : Connection refused\n",
      "Error: bind to port 40588 on 127.0.0.1 failed in file ../../sockethelper/sockethelper.cpp line 51. Exiting.\n",
      "Error connect socket: : Connection refused\n",
      "Error: bind to port 40588 on 127.0.0.1 failed in file ../../sockethelper/sockethelper.cpp line 51. Exiting.\n",
      "Error connect socket: : Connection refused\n",
      "Error: bind to port 40588 on 127.0.0.1 failed in file ../../sockethelper/sockethelper.cpp line 51. Exiting.\n",
      "/home/ohm/PycharmProjects/FiFi/venv/lib/python3.8/site-packages/shapely/set_operations.py:426: RuntimeWarning: divide by zero encountered in unary_union\n",
      "  return lib.unary_union(collections, **kwargs)\n",
      "/home/ohm/PycharmProjects/FiFi/venv/lib/python3.8/site-packages/shapely/set_operations.py:133: RuntimeWarning: invalid value encountered in intersection\n",
      "  return lib.intersection(a, b, **kwargs)\n"
     ]
    },
    {
     "name": "stdout",
     "output_type": "stream",
     "text": [
      "F1: 0.2596669184668429\n",
      "Presicion: 0.892234727904802\n",
      "Recall: 0.1519435052540588\n",
      "IoU: 0.21124448377604305\n"
     ]
    },
    {
     "name": "stderr",
     "output_type": "stream",
     "text": [
      "INFO: Created TensorFlow Lite XNNPACK delegate for CPU.\n",
      "Error connect socket: : Connection refused\n",
      "Error: bind to port 40588 on 127.0.0.1 failed in file ../../sockethelper/sockethelper.cpp line 51. Exiting.\n",
      "Error connect socket: : Connection refused\n",
      "Error: bind to port 40588 on 127.0.0.1 failed in file ../../sockethelper/sockethelper.cpp line 51. Exiting.\n",
      "Error connect socket: : Connection refused\n",
      "Error: bind to port 40588 on 127.0.0.1 failed in file ../../sockethelper/sockethelper.cpp line 51. Exiting.\n",
      "Error connect socket: : Connection refused\n",
      "Error: bind to port 40588 on 127.0.0.1 failed in file ../../sockethelper/sockethelper.cpp line 51. Exiting.\n",
      "/home/ohm/PycharmProjects/FiFi/venv/lib/python3.8/site-packages/shapely/set_operations.py:426: RuntimeWarning: divide by zero encountered in unary_union\n",
      "  return lib.unary_union(collections, **kwargs)\n",
      "/home/ohm/PycharmProjects/FiFi/venv/lib/python3.8/site-packages/shapely/set_operations.py:133: RuntimeWarning: invalid value encountered in intersection\n",
      "  return lib.intersection(a, b, **kwargs)\n"
     ]
    },
    {
     "name": "stdout",
     "output_type": "stream",
     "text": [
      "F1: 0.1653066310957516\n",
      "Presicion: 0.8185207629743327\n",
      "Recall: 0.09193701276121051\n",
      "IoU: 0.11504066573385324\n"
     ]
    },
    {
     "name": "stderr",
     "output_type": "stream",
     "text": [
      "INFO: Created TensorFlow Lite XNNPACK delegate for CPU.\n",
      "Error connect socket: : Connection refused\n",
      "Error: bind to port 40588 on 127.0.0.1 failed in file ../../sockethelper/sockethelper.cpp line 51. Exiting.\n",
      "Error connect socket: : Connection refused\n",
      "Error: bind to port 40588 on 127.0.0.1 failed in file ../../sockethelper/sockethelper.cpp line 51. Exiting.\n",
      "Error connect socket: : Connection refused\n",
      "Error: bind to port 40588 on 127.0.0.1 failed in file ../../sockethelper/sockethelper.cpp line 51. Exiting.\n",
      "Error connect socket: : Connection refused\n",
      "Error: bind to port 40588 on 127.0.0.1 failed in file ../../sockethelper/sockethelper.cpp line 51. Exiting.\n",
      "/home/ohm/PycharmProjects/FiFi/venv/lib/python3.8/site-packages/shapely/set_operations.py:426: RuntimeWarning: divide by zero encountered in unary_union\n",
      "  return lib.unary_union(collections, **kwargs)\n",
      "/home/ohm/PycharmProjects/FiFi/venv/lib/python3.8/site-packages/shapely/set_operations.py:133: RuntimeWarning: invalid value encountered in intersection\n",
      "  return lib.intersection(a, b, **kwargs)\n"
     ]
    },
    {
     "name": "stdout",
     "output_type": "stream",
     "text": [
      "F1: 0.2697537723452573\n",
      "Presicion: 0.9116202356826975\n",
      "Recall: 0.1582974593067259\n",
      "IoU: 0.21098934472206005\n"
     ]
    },
    {
     "name": "stderr",
     "output_type": "stream",
     "text": [
      "INFO: Created TensorFlow Lite XNNPACK delegate for CPU.\n",
      "Error connect socket: : Connection refused\n",
      "Error: bind to port 40588 on 127.0.0.1 failed in file ../../sockethelper/sockethelper.cpp line 51. Exiting.\n",
      "Error connect socket: : Connection refused\n",
      "Error: bind to port 40588 on 127.0.0.1 failed in file ../../sockethelper/sockethelper.cpp line 51. Exiting.\n",
      "Error connect socket: : Connection refused\n",
      "Error: bind to port 40588 on 127.0.0.1 failed in file ../../sockethelper/sockethelper.cpp line 51. Exiting.\n",
      "Error connect socket: : Connection refused\n",
      "Error: bind to port 40588 on 127.0.0.1 failed in file ../../sockethelper/sockethelper.cpp line 51. Exiting.\n",
      "/home/ohm/PycharmProjects/FiFi/venv/lib/python3.8/site-packages/shapely/set_operations.py:426: RuntimeWarning: divide by zero encountered in unary_union\n",
      "  return lib.unary_union(collections, **kwargs)\n",
      "/home/ohm/PycharmProjects/FiFi/venv/lib/python3.8/site-packages/shapely/set_operations.py:133: RuntimeWarning: invalid value encountered in intersection\n",
      "  return lib.intersection(a, b, **kwargs)\n"
     ]
    },
    {
     "name": "stdout",
     "output_type": "stream",
     "text": [
      "F1: 0.26770020069782124\n",
      "Presicion: 0.927018495091782\n",
      "Recall: 0.1564377998615991\n",
      "IoU: 0.20345148837233967\n"
     ]
    },
    {
     "name": "stderr",
     "output_type": "stream",
     "text": [
      "INFO: Created TensorFlow Lite XNNPACK delegate for CPU.\n",
      "Error connect socket: : Connection refused\n",
      "Error: bind to port 40588 on 127.0.0.1 failed in file ../../sockethelper/sockethelper.cpp line 51. Exiting.\n",
      "Error connect socket: : Connection refused\n",
      "Error: bind to port 40588 on 127.0.0.1 failed in file ../../sockethelper/sockethelper.cpp line 51. Exiting.\n",
      "Error connect socket: : Connection refused\n",
      "Error: bind to port 40588 on 127.0.0.1 failed in file ../../sockethelper/sockethelper.cpp line 51. Exiting.\n",
      "Error connect socket: : Connection refused\n",
      "Error: bind to port 40588 on 127.0.0.1 failed in file ../../sockethelper/sockethelper.cpp line 51. Exiting.\n",
      "/home/ohm/PycharmProjects/FiFi/venv/lib/python3.8/site-packages/shapely/set_operations.py:426: RuntimeWarning: divide by zero encountered in unary_union\n",
      "  return lib.unary_union(collections, **kwargs)\n",
      "/home/ohm/PycharmProjects/FiFi/venv/lib/python3.8/site-packages/shapely/set_operations.py:133: RuntimeWarning: invalid value encountered in intersection\n",
      "  return lib.intersection(a, b, **kwargs)\n"
     ]
    },
    {
     "name": "stdout",
     "output_type": "stream",
     "text": [
      "F1: 0.25118252753742604\n",
      "Presicion: 0.915451750625774\n",
      "Recall: 0.14556082269396775\n",
      "IoU: 0.18914017176046655\n"
     ]
    },
    {
     "name": "stderr",
     "output_type": "stream",
     "text": [
      "INFO: Created TensorFlow Lite XNNPACK delegate for CPU.\n",
      "Error connect socket: : Connection refused\n",
      "Error: bind to port 40588 on 127.0.0.1 failed in file ../../sockethelper/sockethelper.cpp line 51. Exiting.\n",
      "Error connect socket: : Connection refused\n",
      "Error: bind to port 40588 on 127.0.0.1 failed in file ../../sockethelper/sockethelper.cpp line 51. Exiting.\n",
      "Error connect socket: : Connection refused\n",
      "Error: bind to port 40588 on 127.0.0.1 failed in file ../../sockethelper/sockethelper.cpp line 51. Exiting.\n",
      "Error connect socket: : Connection refused\n",
      "Error: bind to port 40588 on 127.0.0.1 failed in file ../../sockethelper/sockethelper.cpp line 51. Exiting.\n",
      "/home/ohm/PycharmProjects/FiFi/venv/lib/python3.8/site-packages/shapely/set_operations.py:426: RuntimeWarning: divide by zero encountered in unary_union\n",
      "  return lib.unary_union(collections, **kwargs)\n",
      "/home/ohm/PycharmProjects/FiFi/venv/lib/python3.8/site-packages/shapely/set_operations.py:133: RuntimeWarning: invalid value encountered in intersection\n",
      "  return lib.intersection(a, b, **kwargs)\n"
     ]
    },
    {
     "name": "stdout",
     "output_type": "stream",
     "text": [
      "F1: 0.2816363272517081\n",
      "Presicion: 0.9135089296126443\n",
      "Recall: 0.1664814122109896\n",
      "IoU: 0.22391278043716134\n"
     ]
    },
    {
     "name": "stderr",
     "output_type": "stream",
     "text": [
      "INFO: Created TensorFlow Lite XNNPACK delegate for CPU.\n",
      "Error connect socket: : Connection refused\n",
      "Error: bind to port 40588 on 127.0.0.1 failed in file ../../sockethelper/sockethelper.cpp line 51. Exiting.\n",
      "Error connect socket: : Connection refused\n",
      "Error: bind to port 40588 on 127.0.0.1 failed in file ../../sockethelper/sockethelper.cpp line 51. Exiting.\n",
      "Error connect socket: : Connection refused\n",
      "Error: bind to port 40588 on 127.0.0.1 failed in file ../../sockethelper/sockethelper.cpp line 51. Exiting.\n",
      "Error connect socket: : Connection refused\n",
      "Error: bind to port 40588 on 127.0.0.1 failed in file ../../sockethelper/sockethelper.cpp line 51. Exiting.\n",
      "/home/ohm/PycharmProjects/FiFi/venv/lib/python3.8/site-packages/shapely/set_operations.py:426: RuntimeWarning: divide by zero encountered in unary_union\n",
      "  return lib.unary_union(collections, **kwargs)\n",
      "/home/ohm/PycharmProjects/FiFi/venv/lib/python3.8/site-packages/shapely/set_operations.py:133: RuntimeWarning: invalid value encountered in intersection\n",
      "  return lib.intersection(a, b, **kwargs)\n"
     ]
    },
    {
     "name": "stdout",
     "output_type": "stream",
     "text": [
      "F1: 0.18747090522596846\n",
      "Presicion: 0.9079225227041752\n",
      "Recall: 0.10452699598099291\n",
      "IoU: 0.13381227770893145\n"
     ]
    },
    {
     "name": "stderr",
     "output_type": "stream",
     "text": [
      "INFO: Created TensorFlow Lite XNNPACK delegate for CPU.\n",
      "Error connect socket: : Connection refused\n",
      "Error: bind to port 40588 on 127.0.0.1 failed in file ../../sockethelper/sockethelper.cpp line 51. Exiting.\n",
      "Error connect socket: : Connection refused\n",
      "Error: bind to port 40588 on 127.0.0.1 failed in file ../../sockethelper/sockethelper.cpp line 51. Exiting.\n",
      "Error connect socket: : Connection refused\n",
      "Error: bind to port 40588 on 127.0.0.1 failed in file ../../sockethelper/sockethelper.cpp line 51. Exiting.\n",
      "Error connect socket: : Connection refused\n",
      "Error: bind to port 40588 on 127.0.0.1 failed in file ../../sockethelper/sockethelper.cpp line 51. Exiting.\n",
      "/home/ohm/PycharmProjects/FiFi/venv/lib/python3.8/site-packages/shapely/set_operations.py:426: RuntimeWarning: divide by zero encountered in unary_union\n",
      "  return lib.unary_union(collections, **kwargs)\n",
      "/home/ohm/PycharmProjects/FiFi/venv/lib/python3.8/site-packages/shapely/set_operations.py:133: RuntimeWarning: invalid value encountered in intersection\n",
      "  return lib.intersection(a, b, **kwargs)\n"
     ]
    },
    {
     "name": "stdout",
     "output_type": "stream",
     "text": [
      "F1: 0.27681036719853697\n",
      "Presicion: 0.9516205584534718\n",
      "Recall: 0.1619610526094696\n",
      "IoU: 0.21234115643761106\n"
     ]
    },
    {
     "name": "stderr",
     "output_type": "stream",
     "text": [
      "INFO: Created TensorFlow Lite XNNPACK delegate for CPU.\n",
      "Error connect socket: : Connection refused\n",
      "Error: bind to port 40588 on 127.0.0.1 failed in file ../../sockethelper/sockethelper.cpp line 51. Exiting.\n",
      "Error connect socket: : Connection refused\n",
      "Error: bind to port 40588 on 127.0.0.1 failed in file ../../sockethelper/sockethelper.cpp line 51. Exiting.\n",
      "Error connect socket: : Connection refused\n",
      "Error: bind to port 40588 on 127.0.0.1 failed in file ../../sockethelper/sockethelper.cpp line 51. Exiting.\n",
      "Error connect socket: : Connection refused\n",
      "Error: bind to port 40588 on 127.0.0.1 failed in file ../../sockethelper/sockethelper.cpp line 51. Exiting.\n",
      "/home/ohm/PycharmProjects/FiFi/venv/lib/python3.8/site-packages/shapely/set_operations.py:426: RuntimeWarning: divide by zero encountered in unary_union\n",
      "  return lib.unary_union(collections, **kwargs)\n",
      "/home/ohm/PycharmProjects/FiFi/venv/lib/python3.8/site-packages/shapely/set_operations.py:133: RuntimeWarning: invalid value encountered in intersection\n",
      "  return lib.intersection(a, b, **kwargs)\n"
     ]
    },
    {
     "name": "stdout",
     "output_type": "stream",
     "text": [
      "F1: 0.23445373755220833\n",
      "Presicion: 0.9419450941164118\n",
      "Recall: 0.13388969777734208\n",
      "IoU: 0.16396398298289025\n"
     ]
    },
    {
     "name": "stderr",
     "output_type": "stream",
     "text": [
      "INFO: Created TensorFlow Lite XNNPACK delegate for CPU.\n",
      "Error connect socket: : Connection refused\n",
      "Error: bind to port 40588 on 127.0.0.1 failed in file ../../sockethelper/sockethelper.cpp line 51. Exiting.\n",
      "Error connect socket: : Connection refused\n",
      "Error: bind to port 40588 on 127.0.0.1 failed in file ../../sockethelper/sockethelper.cpp line 51. Exiting.\n",
      "Error connect socket: : Connection refused\n",
      "Error: bind to port 40588 on 127.0.0.1 failed in file ../../sockethelper/sockethelper.cpp line 51. Exiting.\n",
      "Error connect socket: : Connection refused\n",
      "Error: bind to port 40588 on 127.0.0.1 failed in file ../../sockethelper/sockethelper.cpp line 51. Exiting.\n",
      "/home/ohm/PycharmProjects/FiFi/venv/lib/python3.8/site-packages/shapely/set_operations.py:426: RuntimeWarning: divide by zero encountered in unary_union\n",
      "  return lib.unary_union(collections, **kwargs)\n",
      "/home/ohm/PycharmProjects/FiFi/venv/lib/python3.8/site-packages/shapely/set_operations.py:133: RuntimeWarning: invalid value encountered in intersection\n",
      "  return lib.intersection(a, b, **kwargs)\n"
     ]
    },
    {
     "name": "stdout",
     "output_type": "stream",
     "text": [
      "F1: 0.28136356193350276\n",
      "Presicion: 0.9128328767690435\n",
      "Recall: 0.16631324559015268\n",
      "IoU: 0.2197528852924403\n"
     ]
    },
    {
     "name": "stderr",
     "output_type": "stream",
     "text": [
      "INFO: Created TensorFlow Lite XNNPACK delegate for CPU.\n",
      "Error connect socket: : Connection refused\n",
      "Error: bind to port 40588 on 127.0.0.1 failed in file ../../sockethelper/sockethelper.cpp line 51. Exiting.\n",
      "Error connect socket: : Connection refused\n",
      "Error: bind to port 40588 on 127.0.0.1 failed in file ../../sockethelper/sockethelper.cpp line 51. Exiting.\n",
      "Error connect socket: : Connection refused\n",
      "Error: bind to port 40588 on 127.0.0.1 failed in file ../../sockethelper/sockethelper.cpp line 51. Exiting.\n",
      "Error connect socket: : Connection refused\n",
      "Error: bind to port 40588 on 127.0.0.1 failed in file ../../sockethelper/sockethelper.cpp line 51. Exiting.\n",
      "/home/ohm/PycharmProjects/FiFi/venv/lib/python3.8/site-packages/shapely/set_operations.py:426: RuntimeWarning: divide by zero encountered in unary_union\n",
      "  return lib.unary_union(collections, **kwargs)\n",
      "/home/ohm/PycharmProjects/FiFi/venv/lib/python3.8/site-packages/shapely/set_operations.py:133: RuntimeWarning: invalid value encountered in intersection\n",
      "  return lib.intersection(a, b, **kwargs)\n"
     ]
    },
    {
     "name": "stdout",
     "output_type": "stream",
     "text": [
      "F1: 0.2543107539858958\n",
      "Presicion: 0.8956730167809688\n",
      "Recall: 0.148193918024587\n",
      "IoU: 0.2047302204864917\n"
     ]
    },
    {
     "name": "stderr",
     "output_type": "stream",
     "text": [
      "INFO: Created TensorFlow Lite XNNPACK delegate for CPU.\n",
      "Error connect socket: : Connection refused\n",
      "Error: bind to port 40588 on 127.0.0.1 failed in file ../../sockethelper/sockethelper.cpp line 51. Exiting.\n",
      "Segmentation fault\n",
      "/home/ohm/PycharmProjects/FiFi/venv/lib/python3.8/site-packages/shapely/set_operations.py:426: RuntimeWarning: divide by zero encountered in unary_union\n",
      "  return lib.unary_union(collections, **kwargs)\n"
     ]
    },
    {
     "name": "stdout",
     "output_type": "stream",
     "text": [
      "F1: 0.09194597587180586\n",
      "Presicion: 0.9543748241247029\n",
      "Recall: 0.048299618657635\n",
      "IoU: 0.05950089929696196\n"
     ]
    },
    {
     "name": "stderr",
     "output_type": "stream",
     "text": [
      "INFO: Created TensorFlow Lite XNNPACK delegate for CPU.\n",
      "Error connect socket: : Connection refused\n",
      "Error: bind to port 40588 on 127.0.0.1 failed in file ../../sockethelper/sockethelper.cpp line 51. Exiting.\n",
      "Error connect socket: : Connection refused\n",
      "Error: bind to port 40588 on 127.0.0.1 failed in file ../../sockethelper/sockethelper.cpp line 51. Exiting.\n",
      "Error connect socket: : Connection refused\n",
      "Error: bind to port 40588 on 127.0.0.1 failed in file ../../sockethelper/sockethelper.cpp line 51. Exiting.\n",
      "Error connect socket: : Connection refused\n",
      "Error: bind to port 40588 on 127.0.0.1 failed in file ../../sockethelper/sockethelper.cpp line 51. Exiting.\n",
      "/home/ohm/PycharmProjects/FiFi/venv/lib/python3.8/site-packages/shapely/set_operations.py:426: RuntimeWarning: divide by zero encountered in unary_union\n",
      "  return lib.unary_union(collections, **kwargs)\n",
      "/home/ohm/PycharmProjects/FiFi/venv/lib/python3.8/site-packages/shapely/set_operations.py:133: RuntimeWarning: invalid value encountered in intersection\n",
      "  return lib.intersection(a, b, **kwargs)\n"
     ]
    },
    {
     "name": "stdout",
     "output_type": "stream",
     "text": [
      "F1: 0.27997062380074067\n",
      "Presicion: 0.9376762686986626\n",
      "Recall: 0.16455107559724907\n",
      "IoU: 0.21345972291307788\n"
     ]
    },
    {
     "name": "stderr",
     "output_type": "stream",
     "text": [
      "INFO: Created TensorFlow Lite XNNPACK delegate for CPU.\n",
      "Error connect socket: : Connection refused\n",
      "Error: bind to port 40588 on 127.0.0.1 failed in file ../../sockethelper/sockethelper.cpp line 51. Exiting.\n",
      "Error connect socket: : Connection refused\n",
      "Error: bind to port 40588 on 127.0.0.1 failed in file ../../sockethelper/sockethelper.cpp line 51. Exiting.\n",
      "Error connect socket: : Connection refused\n",
      "Error: bind to port 40588 on 127.0.0.1 failed in file ../../sockethelper/sockethelper.cpp line 51. Exiting.\n",
      "Error connect socket: : Connection refused\n",
      "Error: bind to port 40588 on 127.0.0.1 failed in file ../../sockethelper/sockethelper.cpp line 51. Exiting.\n",
      "/home/ohm/PycharmProjects/FiFi/venv/lib/python3.8/site-packages/shapely/set_operations.py:426: RuntimeWarning: divide by zero encountered in unary_union\n",
      "  return lib.unary_union(collections, **kwargs)\n",
      "/home/ohm/PycharmProjects/FiFi/venv/lib/python3.8/site-packages/shapely/set_operations.py:133: RuntimeWarning: invalid value encountered in intersection\n",
      "  return lib.intersection(a, b, **kwargs)\n"
     ]
    },
    {
     "name": "stdout",
     "output_type": "stream",
     "text": [
      "F1: 0.1297894107019565\n",
      "Presicion: 0.585028965125539\n",
      "Recall: 0.07299131253162343\n",
      "IoU: 0.08957112956120322\n"
     ]
    },
    {
     "name": "stderr",
     "output_type": "stream",
     "text": [
      "INFO: Created TensorFlow Lite XNNPACK delegate for CPU.\n",
      "Segmentation fault\n",
      "/home/ohm/PycharmProjects/FiFi/venv/lib/python3.8/site-packages/shapely/set_operations.py:426: RuntimeWarning: divide by zero encountered in unary_union\n",
      "  return lib.unary_union(collections, **kwargs)\n"
     ]
    },
    {
     "name": "stdout",
     "output_type": "stream",
     "text": [
      "F1: 0.08904158516053173\n",
      "Presicion: 0.9528132492669349\n",
      "Recall: 0.04670302029490031\n",
      "IoU: 0.05793207074615064\n"
     ]
    },
    {
     "name": "stderr",
     "output_type": "stream",
     "text": [
      "INFO: Created TensorFlow Lite XNNPACK delegate for CPU.\n",
      "Error connect socket: : Connection refused\n",
      "Error: bind to port 40588 on 127.0.0.1 failed in file ../../sockethelper/sockethelper.cpp line 51. Exiting.\n",
      "Error connect socket: : Connection refused\n",
      "Error: bind to port 40588 on 127.0.0.1 failed in file ../../sockethelper/sockethelper.cpp line 51. Exiting.\n",
      "Error connect socket: : Connection refused\n",
      "Error: bind to port 40588 on 127.0.0.1 failed in file ../../sockethelper/sockethelper.cpp line 51. Exiting.\n",
      "Error connect socket: : Connection refused\n",
      "Error: bind to port 40588 on 127.0.0.1 failed in file ../../sockethelper/sockethelper.cpp line 51. Exiting.\n",
      "/home/ohm/PycharmProjects/FiFi/venv/lib/python3.8/site-packages/shapely/set_operations.py:426: RuntimeWarning: divide by zero encountered in unary_union\n",
      "  return lib.unary_union(collections, **kwargs)\n",
      "/home/ohm/PycharmProjects/FiFi/venv/lib/python3.8/site-packages/shapely/set_operations.py:133: RuntimeWarning: invalid value encountered in intersection\n",
      "  return lib.intersection(a, b, **kwargs)\n"
     ]
    },
    {
     "name": "stdout",
     "output_type": "stream",
     "text": [
      "F1: 0.27293008451136785\n",
      "Presicion: 0.9318000990299856\n",
      "Recall: 0.15987996355108747\n",
      "IoU: 0.20325130785214737\n"
     ]
    },
    {
     "name": "stderr",
     "output_type": "stream",
     "text": [
      "INFO: Created TensorFlow Lite XNNPACK delegate for CPU.\n",
      "Error connect socket: : Connection refused\n",
      "Error: bind to port 40588 on 127.0.0.1 failed in file ../../sockethelper/sockethelper.cpp line 51. Exiting.\n",
      "Error connect socket: : Connection refused\n",
      "Error: bind to port 40588 on 127.0.0.1 failed in file ../../sockethelper/sockethelper.cpp line 51. Exiting.\n",
      "Error connect socket: : Connection refused\n",
      "Error: bind to port 40588 on 127.0.0.1 failed in file ../../sockethelper/sockethelper.cpp line 51. Exiting.\n",
      "Error connect socket: : Connection refused\n",
      "Error: bind to port 40588 on 127.0.0.1 failed in file ../../sockethelper/sockethelper.cpp line 51. Exiting.\n",
      "/home/ohm/PycharmProjects/FiFi/venv/lib/python3.8/site-packages/shapely/set_operations.py:426: RuntimeWarning: divide by zero encountered in unary_union\n",
      "  return lib.unary_union(collections, **kwargs)\n",
      "/home/ohm/PycharmProjects/FiFi/venv/lib/python3.8/site-packages/shapely/set_operations.py:133: RuntimeWarning: invalid value encountered in intersection\n",
      "  return lib.intersection(a, b, **kwargs)\n"
     ]
    },
    {
     "name": "stdout",
     "output_type": "stream",
     "text": [
      "F1: 0.23625887398818504\n",
      "Presicion: 0.90452865363137\n",
      "Recall: 0.13587432227540344\n",
      "IoU: 0.17200736822194862\n"
     ]
    },
    {
     "name": "stderr",
     "output_type": "stream",
     "text": [
      "INFO: Created TensorFlow Lite XNNPACK delegate for CPU.\n",
      "Error connect socket: : Connection refused\n",
      "Error: bind to port 40588 on 127.0.0.1 failed in file ../../sockethelper/sockethelper.cpp line 51. Exiting.\n",
      "Segmentation fault\n",
      "/home/ohm/PycharmProjects/FiFi/venv/lib/python3.8/site-packages/shapely/set_operations.py:426: RuntimeWarning: divide by zero encountered in unary_union\n",
      "  return lib.unary_union(collections, **kwargs)\n"
     ]
    },
    {
     "name": "stdout",
     "output_type": "stream",
     "text": [
      "F1: 0.09046297234342626\n",
      "Presicion: 0.9535893613769806\n",
      "Recall: 0.04748377835428441\n",
      "IoU: 0.05852952384472471\n"
     ]
    },
    {
     "name": "stderr",
     "output_type": "stream",
     "text": [
      "INFO: Created TensorFlow Lite XNNPACK delegate for CPU.\n",
      "Error connect socket: : Connection refused\n",
      "Error: bind to port 40588 on 127.0.0.1 failed in file ../../sockethelper/sockethelper.cpp line 51. Exiting.\n",
      "Error connect socket: : Connection refused\n",
      "Error: bind to port 40588 on 127.0.0.1 failed in file ../../sockethelper/sockethelper.cpp line 51. Exiting.\n",
      "Error connect socket: : Connection refused\n",
      "Error: bind to port 40588 on 127.0.0.1 failed in file ../../sockethelper/sockethelper.cpp line 51. Exiting.\n",
      "Error connect socket: : Connection refused\n",
      "Error: bind to port 40588 on 127.0.0.1 failed in file ../../sockethelper/sockethelper.cpp line 51. Exiting.\n",
      "/home/ohm/PycharmProjects/FiFi/venv/lib/python3.8/site-packages/shapely/set_operations.py:426: RuntimeWarning: divide by zero encountered in unary_union\n",
      "  return lib.unary_union(collections, **kwargs)\n",
      "/home/ohm/PycharmProjects/FiFi/venv/lib/python3.8/site-packages/shapely/set_operations.py:133: RuntimeWarning: invalid value encountered in intersection\n",
      "  return lib.intersection(a, b, **kwargs)\n"
     ]
    },
    {
     "name": "stdout",
     "output_type": "stream",
     "text": [
      "F1: 0.24579185710420962\n",
      "Presicion: 0.9536290488095148\n",
      "Recall: 0.14107674846452642\n",
      "IoU: 0.173915729699617\n"
     ]
    },
    {
     "name": "stderr",
     "output_type": "stream",
     "text": [
      "INFO: Created TensorFlow Lite XNNPACK delegate for CPU.\n",
      "Segmentation fault\n",
      "/home/ohm/PycharmProjects/FiFi/venv/lib/python3.8/site-packages/shapely/set_operations.py:426: RuntimeWarning: divide by zero encountered in unary_union\n",
      "  return lib.unary_union(collections, **kwargs)\n"
     ]
    },
    {
     "name": "stdout",
     "output_type": "stream",
     "text": [
      "F1: 0.08904158516053173\n",
      "Presicion: 0.9528132492669349\n",
      "Recall: 0.04670302029490031\n",
      "IoU: 0.05793207074615064\n"
     ]
    },
    {
     "name": "stderr",
     "output_type": "stream",
     "text": [
      "INFO: Created TensorFlow Lite XNNPACK delegate for CPU.\n",
      "Error connect socket: : Connection refused\n",
      "Error: bind to port 40588 on 127.0.0.1 failed in file ../../sockethelper/sockethelper.cpp line 51. Exiting.\n",
      "Segmentation fault\n",
      "/home/ohm/PycharmProjects/FiFi/venv/lib/python3.8/site-packages/shapely/set_operations.py:426: RuntimeWarning: divide by zero encountered in unary_union\n",
      "  return lib.unary_union(collections, **kwargs)\n"
     ]
    },
    {
     "name": "stdout",
     "output_type": "stream",
     "text": [
      "F1: 0.09115976748694393\n",
      "Presicion: 0.9496475684477315\n",
      "Recall: 0.04787785969949568\n",
      "IoU: 0.05870690333021151\n"
     ]
    },
    {
     "name": "stderr",
     "output_type": "stream",
     "text": [
      "INFO: Created TensorFlow Lite XNNPACK delegate for CPU.\n",
      "Error connect socket: : Connection refused\n",
      "Error: bind to port 40588 on 127.0.0.1 failed in file ../../sockethelper/sockethelper.cpp line 51. Exiting.\n",
      "Error connect socket: : Connection refused\n",
      "Error: bind to port 40588 on 127.0.0.1 failed in file ../../sockethelper/sockethelper.cpp line 51. Exiting.\n",
      "Error connect socket: : Connection refused\n",
      "Error: bind to port 40588 on 127.0.0.1 failed in file ../../sockethelper/sockethelper.cpp line 51. Exiting.\n",
      "Error connect socket: : Connection refused\n",
      "Error: bind to port 40588 on 127.0.0.1 failed in file ../../sockethelper/sockethelper.cpp line 51. Exiting.\n",
      "/home/ohm/PycharmProjects/FiFi/venv/lib/python3.8/site-packages/shapely/set_operations.py:426: RuntimeWarning: divide by zero encountered in unary_union\n",
      "  return lib.unary_union(collections, **kwargs)\n"
     ]
    },
    {
     "name": "stdout",
     "output_type": "stream",
     "text": [
      "F1: 0.29730577763805743\n",
      "Presicion: 0.9322668866521872\n",
      "Recall: 0.17685259098788583\n",
      "IoU: 0.2174633836671072\n"
     ]
    },
    {
     "name": "stderr",
     "output_type": "stream",
     "text": [
      "INFO: Created TensorFlow Lite XNNPACK delegate for CPU.\n",
      "Error connect socket: : Connection refused\n",
      "Error: bind to port 40588 on 127.0.0.1 failed in file ../../sockethelper/sockethelper.cpp line 51. Exiting.\n",
      "Error connect socket: : Connection refused\n",
      "Error: bind to port 40588 on 127.0.0.1 failed in file ../../sockethelper/sockethelper.cpp line 51. Exiting.\n",
      "Error connect socket: : Connection refused\n",
      "Error: bind to port 40588 on 127.0.0.1 failed in file ../../sockethelper/sockethelper.cpp line 51. Exiting.\n",
      "Error connect socket: : Connection refused\n",
      "Error: bind to port 40588 on 127.0.0.1 failed in file ../../sockethelper/sockethelper.cpp line 51. Exiting.\n",
      "/home/ohm/PycharmProjects/FiFi/venv/lib/python3.8/site-packages/shapely/set_operations.py:426: RuntimeWarning: divide by zero encountered in unary_union\n",
      "  return lib.unary_union(collections, **kwargs)\n"
     ]
    },
    {
     "name": "stdout",
     "output_type": "stream",
     "text": [
      "F1: 0.1077621759468043\n",
      "Presicion: 0.9563965268121273\n",
      "Recall: 0.057097843627945906\n",
      "IoU: 0.0653775275595684\n"
     ]
    },
    {
     "name": "stderr",
     "output_type": "stream",
     "text": [
      "INFO: Created TensorFlow Lite XNNPACK delegate for CPU.\n",
      "Segmentation fault\n",
      "/home/ohm/PycharmProjects/FiFi/venv/lib/python3.8/site-packages/shapely/set_operations.py:426: RuntimeWarning: divide by zero encountered in unary_union\n",
      "  return lib.unary_union(collections, **kwargs)\n"
     ]
    },
    {
     "name": "stdout",
     "output_type": "stream",
     "text": [
      "F1: 0.08904158516053173\n",
      "Presicion: 0.9528132492669349\n",
      "Recall: 0.04670302029490031\n",
      "IoU: 0.05793207074615064\n"
     ]
    },
    {
     "name": "stderr",
     "output_type": "stream",
     "text": [
      "INFO: Created TensorFlow Lite XNNPACK delegate for CPU.\n",
      "Error connect socket: : Connection refused\n",
      "Error: bind to port 40588 on 127.0.0.1 failed in file ../../sockethelper/sockethelper.cpp line 51. Exiting.\n",
      "Error connect socket: : Connection refused\n",
      "Error: bind to port 40588 on 127.0.0.1 failed in file ../../sockethelper/sockethelper.cpp line 51. Exiting.\n",
      "Error connect socket: : Connection refused\n",
      "Error: bind to port 40588 on 127.0.0.1 failed in file ../../sockethelper/sockethelper.cpp line 51. Exiting.\n",
      "Error connect socket: : Connection refused\n",
      "Error: bind to port 40588 on 127.0.0.1 failed in file ../../sockethelper/sockethelper.cpp line 51. Exiting.\n",
      "/home/ohm/PycharmProjects/FiFi/venv/lib/python3.8/site-packages/shapely/set_operations.py:426: RuntimeWarning: divide by zero encountered in unary_union\n",
      "  return lib.unary_union(collections, **kwargs)\n",
      "/home/ohm/PycharmProjects/FiFi/venv/lib/python3.8/site-packages/shapely/set_operations.py:133: RuntimeWarning: invalid value encountered in intersection\n",
      "  return lib.intersection(a, b, **kwargs)\n"
     ]
    },
    {
     "name": "stdout",
     "output_type": "stream",
     "text": [
      "F1: 0.21589506178532625\n",
      "Presicion: 0.9399507031493355\n",
      "Recall: 0.12195308978280113\n",
      "IoU: 0.1374463634960898\n"
     ]
    },
    {
     "name": "stderr",
     "output_type": "stream",
     "text": [
      "INFO: Created TensorFlow Lite XNNPACK delegate for CPU.\n",
      "Error connect socket: : Connection refused\n",
      "Error: bind to port 40588 on 127.0.0.1 failed in file ../../sockethelper/sockethelper.cpp line 51. Exiting.\n",
      "Segmentation fault\n",
      "/home/ohm/PycharmProjects/FiFi/venv/lib/python3.8/site-packages/shapely/set_operations.py:426: RuntimeWarning: divide by zero encountered in unary_union\n",
      "  return lib.unary_union(collections, **kwargs)\n"
     ]
    },
    {
     "name": "stdout",
     "output_type": "stream",
     "text": [
      "F1: 0.08904158516053173\n",
      "Presicion: 0.9528132492669349\n",
      "Recall: 0.04670302029490031\n",
      "IoU: 0.05793207074615064\n"
     ]
    },
    {
     "name": "stderr",
     "output_type": "stream",
     "text": [
      "INFO: Created TensorFlow Lite XNNPACK delegate for CPU.\n",
      "Error connect socket: : Connection refused\n",
      "Error: bind to port 40588 on 127.0.0.1 failed in file ../../sockethelper/sockethelper.cpp line 51. Exiting.\n",
      "Error connect socket: : Connection refused\n",
      "Error: bind to port 40588 on 127.0.0.1 failed in file ../../sockethelper/sockethelper.cpp line 51. Exiting.\n",
      "Error connect socket: : Connection refused\n",
      "Error: bind to port 40588 on 127.0.0.1 failed in file ../../sockethelper/sockethelper.cpp line 51. Exiting.\n",
      "Error connect socket: : Connection refused\n",
      "Error: bind to port 40588 on 127.0.0.1 failed in file ../../sockethelper/sockethelper.cpp line 51. Exiting.\n",
      "Segmentation fault\n",
      "/home/ohm/PycharmProjects/FiFi/venv/lib/python3.8/site-packages/shapely/set_operations.py:426: RuntimeWarning: divide by zero encountered in unary_union\n",
      "  return lib.unary_union(collections, **kwargs)\n",
      "/home/ohm/PycharmProjects/FiFi/venv/lib/python3.8/site-packages/shapely/set_operations.py:133: RuntimeWarning: invalid value encountered in intersection\n",
      "  return lib.intersection(a, b, **kwargs)\n"
     ]
    },
    {
     "name": "stdout",
     "output_type": "stream",
     "text": [
      "F1: 0.11024178658520276\n",
      "Presicion: 0.8066355986869062\n",
      "Recall: 0.05916381202135759\n",
      "IoU: 0.07222000684105805\n"
     ]
    },
    {
     "name": "stderr",
     "output_type": "stream",
     "text": [
      "INFO: Created TensorFlow Lite XNNPACK delegate for CPU.\n",
      "Error connect socket: : Connection refused\n",
      "Error: bind to port 40588 on 127.0.0.1 failed in file ../../sockethelper/sockethelper.cpp line 51. Exiting.\n",
      "Error connect socket: : Connection refused\n",
      "Error: bind to port 40588 on 127.0.0.1 failed in file ../../sockethelper/sockethelper.cpp line 51. Exiting.\n",
      "Error connect socket: : Connection refused\n",
      "Error: bind to port 40588 on 127.0.0.1 failed in file ../../sockethelper/sockethelper.cpp line 51. Exiting.\n",
      "Error connect socket: : Connection refused\n",
      "Error: bind to port 40588 on 127.0.0.1 failed in file ../../sockethelper/sockethelper.cpp line 51. Exiting.\n",
      "/home/ohm/PycharmProjects/FiFi/venv/lib/python3.8/site-packages/shapely/set_operations.py:426: RuntimeWarning: divide by zero encountered in unary_union\n",
      "  return lib.unary_union(collections, **kwargs)\n"
     ]
    },
    {
     "name": "stdout",
     "output_type": "stream",
     "text": [
      "F1: 0.08904158516053173\n",
      "Presicion: 0.9528132492669349\n",
      "Recall: 0.04670302029490031\n",
      "IoU: 0.05793207074615064\n"
     ]
    },
    {
     "name": "stderr",
     "output_type": "stream",
     "text": [
      "INFO: Created TensorFlow Lite XNNPACK delegate for CPU.\n",
      "Error connect socket: : Connection refused\n",
      "Error: bind to port 40588 on 127.0.0.1 failed in file ../../sockethelper/sockethelper.cpp line 51. Exiting.\n",
      "Error connect socket: : Connection refused\n",
      "Error: bind to port 40588 on 127.0.0.1 failed in file ../../sockethelper/sockethelper.cpp line 51. Exiting.\n",
      "Error connect socket: : Connection refused\n",
      "Error: bind to port 40588 on 127.0.0.1 failed in file ../../sockethelper/sockethelper.cpp line 51. Exiting.\n",
      "Error connect socket: : Connection refused\n",
      "Error: bind to port 40588 on 127.0.0.1 failed in file ../../sockethelper/sockethelper.cpp line 51. Exiting.\n",
      "/home/ohm/PycharmProjects/FiFi/venv/lib/python3.8/site-packages/shapely/set_operations.py:426: RuntimeWarning: divide by zero encountered in unary_union\n",
      "  return lib.unary_union(collections, **kwargs)\n",
      "/home/ohm/PycharmProjects/FiFi/venv/lib/python3.8/site-packages/shapely/set_operations.py:133: RuntimeWarning: invalid value encountered in intersection\n",
      "  return lib.intersection(a, b, **kwargs)\n"
     ]
    },
    {
     "name": "stdout",
     "output_type": "stream",
     "text": [
      "F1: 0.24576994816915573\n",
      "Presicion: 0.9123631308332226\n",
      "Recall: 0.1420124404073417\n",
      "IoU: 0.17715253763112782\n"
     ]
    },
    {
     "name": "stderr",
     "output_type": "stream",
     "text": [
      "INFO: Created TensorFlow Lite XNNPACK delegate for CPU.\n",
      "Segmentation fault\n",
      "/home/ohm/PycharmProjects/FiFi/venv/lib/python3.8/site-packages/shapely/set_operations.py:426: RuntimeWarning: divide by zero encountered in unary_union\n",
      "  return lib.unary_union(collections, **kwargs)\n"
     ]
    },
    {
     "name": "stdout",
     "output_type": "stream",
     "text": [
      "F1: 0.08904158516053173\n",
      "Presicion: 0.9528132492669349\n",
      "Recall: 0.04670302029490031\n",
      "IoU: 0.05793207074615064\n"
     ]
    },
    {
     "name": "stderr",
     "output_type": "stream",
     "text": [
      "INFO: Created TensorFlow Lite XNNPACK delegate for CPU.\n",
      "Segmentation fault\n",
      "/home/ohm/PycharmProjects/FiFi/venv/lib/python3.8/site-packages/shapely/set_operations.py:426: RuntimeWarning: divide by zero encountered in unary_union\n",
      "  return lib.unary_union(collections, **kwargs)\n"
     ]
    },
    {
     "name": "stdout",
     "output_type": "stream",
     "text": [
      "F1: 0.08904158516053173\n",
      "Presicion: 0.9528132492669349\n",
      "Recall: 0.04670302029490031\n",
      "IoU: 0.05793207074615064\n"
     ]
    },
    {
     "name": "stderr",
     "output_type": "stream",
     "text": [
      "INFO: Created TensorFlow Lite XNNPACK delegate for CPU.\n",
      "Error connect socket: : Connection refused\n",
      "Error: bind to port 40588 on 127.0.0.1 failed in file ../../sockethelper/sockethelper.cpp line 51. Exiting.\n",
      "Error connect socket: : Connection refused\n",
      "Error: bind to port 40588 on 127.0.0.1 failed in file ../../sockethelper/sockethelper.cpp line 51. Exiting.\n",
      "Error connect socket: : Connection refused\n",
      "Error: bind to port 40588 on 127.0.0.1 failed in file ../../sockethelper/sockethelper.cpp line 51. Exiting.\n",
      "Error connect socket: : Connection refused\n",
      "Error: bind to port 40588 on 127.0.0.1 failed in file ../../sockethelper/sockethelper.cpp line 51. Exiting.\n",
      "/home/ohm/PycharmProjects/FiFi/venv/lib/python3.8/site-packages/shapely/set_operations.py:426: RuntimeWarning: divide by zero encountered in unary_union\n",
      "  return lib.unary_union(collections, **kwargs)\n"
     ]
    },
    {
     "name": "stdout",
     "output_type": "stream",
     "text": [
      "F1: 0.25243670025295906\n",
      "Presicion: 0.9231286756612641\n",
      "Recall: 0.14620939729726337\n",
      "IoU: 0.18860018630716258\n"
     ]
    },
    {
     "name": "stderr",
     "output_type": "stream",
     "text": [
      "INFO: Created TensorFlow Lite XNNPACK delegate for CPU.\n",
      "Error connect socket: : Connection refused\n",
      "Error: bind to port 40588 on 127.0.0.1 failed in file ../../sockethelper/sockethelper.cpp line 51. Exiting.\n",
      "Error connect socket: : Connection refused\n",
      "Error: bind to port 40588 on 127.0.0.1 failed in file ../../sockethelper/sockethelper.cpp line 51. Exiting.\n",
      "Error connect socket: : Connection refused\n",
      "Error: bind to port 40588 on 127.0.0.1 failed in file ../../sockethelper/sockethelper.cpp line 51. Exiting.\n",
      "Error connect socket: : Connection refused\n",
      "Error: bind to port 40588 on 127.0.0.1 failed in file ../../sockethelper/sockethelper.cpp line 51. Exiting.\n",
      "/home/ohm/PycharmProjects/FiFi/venv/lib/python3.8/site-packages/shapely/set_operations.py:426: RuntimeWarning: divide by zero encountered in unary_union\n",
      "  return lib.unary_union(collections, **kwargs)\n",
      "/home/ohm/PycharmProjects/FiFi/venv/lib/python3.8/site-packages/shapely/set_operations.py:133: RuntimeWarning: invalid value encountered in intersection\n",
      "  return lib.intersection(a, b, **kwargs)\n"
     ]
    },
    {
     "name": "stdout",
     "output_type": "stream",
     "text": [
      "F1: 0.17888763430420349\n",
      "Presicion: 0.8947781492479029\n",
      "Recall: 0.09937782357390536\n",
      "IoU: 0.1360623353804343\n"
     ]
    },
    {
     "name": "stderr",
     "output_type": "stream",
     "text": [
      "INFO: Created TensorFlow Lite XNNPACK delegate for CPU.\n",
      "Error connect socket: : Connection refused\n",
      "Error: bind to port 40588 on 127.0.0.1 failed in file ../../sockethelper/sockethelper.cpp line 51. Exiting.\n",
      "Error connect socket: : Connection refused\n",
      "Error: bind to port 40588 on 127.0.0.1 failed in file ../../sockethelper/sockethelper.cpp line 51. Exiting.\n",
      "Error connect socket: : Connection refused\n",
      "Error: bind to port 40588 on 127.0.0.1 failed in file ../../sockethelper/sockethelper.cpp line 51. Exiting.\n",
      "Error connect socket: : Connection refused\n",
      "Error: bind to port 40588 on 127.0.0.1 failed in file ../../sockethelper/sockethelper.cpp line 51. Exiting.\n",
      "/home/ohm/PycharmProjects/FiFi/venv/lib/python3.8/site-packages/shapely/set_operations.py:426: RuntimeWarning: divide by zero encountered in unary_union\n",
      "  return lib.unary_union(collections, **kwargs)\n",
      "/home/ohm/PycharmProjects/FiFi/venv/lib/python3.8/site-packages/shapely/set_operations.py:133: RuntimeWarning: invalid value encountered in intersection\n",
      "  return lib.intersection(a, b, **kwargs)\n"
     ]
    },
    {
     "name": "stdout",
     "output_type": "stream",
     "text": [
      "F1: 0.2719536753879491\n",
      "Presicion: 0.9417449653842118\n",
      "Recall: 0.15892351398192214\n",
      "IoU: 0.194573232620145\n"
     ]
    },
    {
     "name": "stderr",
     "output_type": "stream",
     "text": [
      "INFO: Created TensorFlow Lite XNNPACK delegate for CPU.\n",
      "Error connect socket: : Connection refused\n",
      "Error: bind to port 40588 on 127.0.0.1 failed in file ../../sockethelper/sockethelper.cpp line 51. Exiting.\n",
      "Error connect socket: : Connection refused\n",
      "Error: bind to port 40588 on 127.0.0.1 failed in file ../../sockethelper/sockethelper.cpp line 51. Exiting.\n",
      "Error connect socket: : Connection refused\n",
      "Error: bind to port 40588 on 127.0.0.1 failed in file ../../sockethelper/sockethelper.cpp line 51. Exiting.\n",
      "Error connect socket: : Connection refused\n",
      "Error: bind to port 40588 on 127.0.0.1 failed in file ../../sockethelper/sockethelper.cpp line 51. Exiting.\n",
      "/home/ohm/PycharmProjects/FiFi/venv/lib/python3.8/site-packages/shapely/set_operations.py:426: RuntimeWarning: divide by zero encountered in unary_union\n",
      "  return lib.unary_union(collections, **kwargs)\n"
     ]
    },
    {
     "name": "stdout",
     "output_type": "stream",
     "text": [
      "F1: 0.2650276188741022\n",
      "Presicion: 0.9359486854201744\n",
      "Recall: 0.15436985554163662\n",
      "IoU: 0.17800691863794976\n"
     ]
    },
    {
     "name": "stderr",
     "output_type": "stream",
     "text": [
      "INFO: Created TensorFlow Lite XNNPACK delegate for CPU.\n",
      "Error connect socket: : Connection refused\n",
      "Error: bind to port 40588 on 127.0.0.1 failed in file ../../sockethelper/sockethelper.cpp line 51. Exiting.\n",
      "Error connect socket: : Connection refused\n",
      "Error: bind to port 40588 on 127.0.0.1 failed in file ../../sockethelper/sockethelper.cpp line 51. Exiting.\n",
      "Error connect socket: : Connection refused\n",
      "Error: bind to port 40588 on 127.0.0.1 failed in file ../../sockethelper/sockethelper.cpp line 51. Exiting.\n",
      "Error connect socket: : Connection refused\n",
      "Error: bind to port 40588 on 127.0.0.1 failed in file ../../sockethelper/sockethelper.cpp line 51. Exiting.\n",
      "/home/ohm/PycharmProjects/FiFi/venv/lib/python3.8/site-packages/shapely/set_operations.py:426: RuntimeWarning: divide by zero encountered in unary_union\n",
      "  return lib.unary_union(collections, **kwargs)\n"
     ]
    },
    {
     "name": "stdout",
     "output_type": "stream",
     "text": [
      "F1: 0.22444148637856418\n",
      "Presicion: 0.9516957631597422\n",
      "Recall: 0.1272223750453413\n",
      "IoU: 0.13671456565275827\n"
     ]
    },
    {
     "name": "stderr",
     "output_type": "stream",
     "text": [
      "INFO: Created TensorFlow Lite XNNPACK delegate for CPU.\n",
      "Error connect socket: : Connection refused\n",
      "Error: bind to port 40588 on 127.0.0.1 failed in file ../../sockethelper/sockethelper.cpp line 51. Exiting.\n",
      "Error connect socket: : Connection refused\n",
      "Error: bind to port 40588 on 127.0.0.1 failed in file ../../sockethelper/sockethelper.cpp line 51. Exiting.\n",
      "Error connect socket: : Connection refused\n",
      "Error: bind to port 40588 on 127.0.0.1 failed in file ../../sockethelper/sockethelper.cpp line 51. Exiting.\n",
      "Error connect socket: : Connection refused\n",
      "Error: bind to port 40588 on 127.0.0.1 failed in file ../../sockethelper/sockethelper.cpp line 51. Exiting.\n",
      "/home/ohm/PycharmProjects/FiFi/venv/lib/python3.8/site-packages/shapely/set_operations.py:426: RuntimeWarning: divide by zero encountered in unary_union\n",
      "  return lib.unary_union(collections, **kwargs)\n"
     ]
    },
    {
     "name": "stdout",
     "output_type": "stream",
     "text": [
      "F1: 0.24386030578519646\n",
      "Presicion: 0.9607084827376274\n",
      "Recall: 0.13965469542716655\n",
      "IoU: 0.13795923938139779\n"
     ]
    },
    {
     "name": "stderr",
     "output_type": "stream",
     "text": [
      "INFO: Created TensorFlow Lite XNNPACK delegate for CPU.\n",
      "Error connect socket: : Connection refused\n",
      "Error: bind to port 40588 on 127.0.0.1 failed in file ../../sockethelper/sockethelper.cpp line 51. Exiting.\n",
      "Error connect socket: : Connection refused\n",
      "Error: bind to port 40588 on 127.0.0.1 failed in file ../../sockethelper/sockethelper.cpp line 51. Exiting.\n",
      "Error connect socket: : Connection refused\n",
      "Error: bind to port 40588 on 127.0.0.1 failed in file ../../sockethelper/sockethelper.cpp line 51. Exiting.\n",
      "Error connect socket: : Connection refused\n",
      "Error: bind to port 40588 on 127.0.0.1 failed in file ../../sockethelper/sockethelper.cpp line 51. Exiting.\n",
      "/home/ohm/PycharmProjects/FiFi/venv/lib/python3.8/site-packages/shapely/set_operations.py:426: RuntimeWarning: divide by zero encountered in unary_union\n",
      "  return lib.unary_union(collections, **kwargs)\n",
      "/home/ohm/PycharmProjects/FiFi/venv/lib/python3.8/site-packages/shapely/set_operations.py:133: RuntimeWarning: invalid value encountered in intersection\n",
      "  return lib.intersection(a, b, **kwargs)\n"
     ]
    },
    {
     "name": "stdout",
     "output_type": "stream",
     "text": [
      "F1: 0.2464231492148004\n",
      "Presicion: 0.927017057051115\n",
      "Recall: 0.14209809933112025\n",
      "IoU: 0.17065533916309014\n"
     ]
    },
    {
     "name": "stderr",
     "output_type": "stream",
     "text": [
      "INFO: Created TensorFlow Lite XNNPACK delegate for CPU.\n",
      "Error connect socket: : Connection refused\n",
      "Error: bind to port 40588 on 127.0.0.1 failed in file ../../sockethelper/sockethelper.cpp line 51. Exiting.\n",
      "Error connect socket: : Connection refused\n",
      "Error: bind to port 40588 on 127.0.0.1 failed in file ../../sockethelper/sockethelper.cpp line 51. Exiting.\n",
      "Error connect socket: : Connection refused\n",
      "Error: bind to port 40588 on 127.0.0.1 failed in file ../../sockethelper/sockethelper.cpp line 51. Exiting.\n",
      "Error connect socket: : Connection refused\n",
      "Error: bind to port 40588 on 127.0.0.1 failed in file ../../sockethelper/sockethelper.cpp line 51. Exiting.\n",
      "/home/ohm/PycharmProjects/FiFi/venv/lib/python3.8/site-packages/shapely/set_operations.py:426: RuntimeWarning: divide by zero encountered in unary_union\n",
      "  return lib.unary_union(collections, **kwargs)\n"
     ]
    },
    {
     "name": "stdout",
     "output_type": "stream",
     "text": [
      "F1: 0.24229164415738985\n",
      "Presicion: 0.9498803151992014\n",
      "Recall: 0.13885512503272163\n",
      "IoU: 0.13839228597838943\n"
     ]
    },
    {
     "name": "stderr",
     "output_type": "stream",
     "text": [
      "INFO: Created TensorFlow Lite XNNPACK delegate for CPU.\n",
      "Error connect socket: : Connection refused\n",
      "Error: bind to port 40588 on 127.0.0.1 failed in file ../../sockethelper/sockethelper.cpp line 51. Exiting.\n",
      "Segmentation fault\n",
      "/home/ohm/PycharmProjects/FiFi/venv/lib/python3.8/site-packages/shapely/set_operations.py:426: RuntimeWarning: divide by zero encountered in unary_union\n",
      "  return lib.unary_union(collections, **kwargs)\n"
     ]
    },
    {
     "name": "stdout",
     "output_type": "stream",
     "text": [
      "F1: 0.09108675301232465\n",
      "Presicion: 0.9441813757438481\n",
      "Recall: 0.04785153523675418\n",
      "IoU: 0.05858603683220167\n"
     ]
    },
    {
     "name": "stderr",
     "output_type": "stream",
     "text": [
      "INFO: Created TensorFlow Lite XNNPACK delegate for CPU.\n",
      "Error connect socket: : Connection refused\n",
      "Error: bind to port 40588 on 127.0.0.1 failed in file ../../sockethelper/sockethelper.cpp line 51. Exiting.\n",
      "Error connect socket: : Connection refused\n",
      "Error: bind to port 40588 on 127.0.0.1 failed in file ../../sockethelper/sockethelper.cpp line 51. Exiting.\n",
      "Error connect socket: : Connection refused\n",
      "Error: bind to port 40588 on 127.0.0.1 failed in file ../../sockethelper/sockethelper.cpp line 51. Exiting.\n",
      "Error connect socket: : Connection refused\n",
      "Error: bind to port 40588 on 127.0.0.1 failed in file ../../sockethelper/sockethelper.cpp line 51. Exiting.\n",
      "/home/ohm/PycharmProjects/FiFi/venv/lib/python3.8/site-packages/shapely/set_operations.py:426: RuntimeWarning: divide by zero encountered in unary_union\n",
      "  return lib.unary_union(collections, **kwargs)\n"
     ]
    },
    {
     "name": "stdout",
     "output_type": "stream",
     "text": [
      "F1: 0.23630272607210157\n",
      "Presicion: 0.9458222381523003\n",
      "Recall: 0.13501766219791989\n",
      "IoU: 0.14195405101943956\n"
     ]
    },
    {
     "name": "stderr",
     "output_type": "stream",
     "text": [
      "INFO: Created TensorFlow Lite XNNPACK delegate for CPU.\n",
      "Error connect socket: : Connection refused\n",
      "Error: bind to port 40588 on 127.0.0.1 failed in file ../../sockethelper/sockethelper.cpp line 51. Exiting.\n",
      "Error connect socket: : Connection refused\n",
      "Error: bind to port 40588 on 127.0.0.1 failed in file ../../sockethelper/sockethelper.cpp line 51. Exiting.\n",
      "Error connect socket: : Connection refused\n",
      "Error: bind to port 40588 on 127.0.0.1 failed in file ../../sockethelper/sockethelper.cpp line 51. Exiting.\n",
      "Error connect socket: : Connection refused\n",
      "Error: bind to port 40588 on 127.0.0.1 failed in file ../../sockethelper/sockethelper.cpp line 51. Exiting.\n",
      "/home/ohm/PycharmProjects/FiFi/venv/lib/python3.8/site-packages/shapely/set_operations.py:426: RuntimeWarning: divide by zero encountered in unary_union\n",
      "  return lib.unary_union(collections, **kwargs)\n",
      "/home/ohm/PycharmProjects/FiFi/venv/lib/python3.8/site-packages/shapely/set_operations.py:133: RuntimeWarning: invalid value encountered in intersection\n",
      "  return lib.intersection(a, b, **kwargs)\n"
     ]
    },
    {
     "name": "stdout",
     "output_type": "stream",
     "text": [
      "F1: 0.1465440545633669\n",
      "Presicion: 0.7076476607845839\n",
      "Recall: 0.08173513604316335\n",
      "IoU: 0.09661974956621709\n"
     ]
    },
    {
     "name": "stderr",
     "output_type": "stream",
     "text": [
      "INFO: Created TensorFlow Lite XNNPACK delegate for CPU.\n",
      "Error connect socket: : Connection refused\n",
      "Error: bind to port 40588 on 127.0.0.1 failed in file ../../sockethelper/sockethelper.cpp line 51. Exiting.\n",
      "Error connect socket: : Connection refused\n",
      "Error: bind to port 40588 on 127.0.0.1 failed in file ../../sockethelper/sockethelper.cpp line 51. Exiting.\n",
      "Error connect socket: : Connection refused\n",
      "Error: bind to port 40588 on 127.0.0.1 failed in file ../../sockethelper/sockethelper.cpp line 51. Exiting.\n",
      "Error connect socket: : Connection refused\n",
      "Error: bind to port 40588 on 127.0.0.1 failed in file ../../sockethelper/sockethelper.cpp line 51. Exiting.\n",
      "/home/ohm/PycharmProjects/FiFi/venv/lib/python3.8/site-packages/shapely/set_operations.py:426: RuntimeWarning: divide by zero encountered in unary_union\n",
      "  return lib.unary_union(collections, **kwargs)\n",
      "/home/ohm/PycharmProjects/FiFi/venv/lib/python3.8/site-packages/shapely/set_operations.py:133: RuntimeWarning: invalid value encountered in intersection\n",
      "  return lib.intersection(a, b, **kwargs)\n"
     ]
    },
    {
     "name": "stdout",
     "output_type": "stream",
     "text": [
      "F1: 0.1976780039921785\n",
      "Presicion: 0.9532466288447793\n",
      "Recall: 0.11027282820339321\n",
      "IoU: 0.11348651935542106\n"
     ]
    },
    {
     "name": "stderr",
     "output_type": "stream",
     "text": [
      "INFO: Created TensorFlow Lite XNNPACK delegate for CPU.\n",
      "Error connect socket: : Connection refused\n",
      "Error: bind to port 40588 on 127.0.0.1 failed in file ../../sockethelper/sockethelper.cpp line 51. Exiting.\n",
      "Error connect socket: : Connection refused\n",
      "Error: bind to port 40588 on 127.0.0.1 failed in file ../../sockethelper/sockethelper.cpp line 51. Exiting.\n",
      "Error connect socket: : Connection refused\n",
      "Error: bind to port 40588 on 127.0.0.1 failed in file ../../sockethelper/sockethelper.cpp line 51. Exiting.\n",
      "Error connect socket: : Connection refused\n",
      "Error: bind to port 40588 on 127.0.0.1 failed in file ../../sockethelper/sockethelper.cpp line 51. Exiting.\n",
      "/home/ohm/PycharmProjects/FiFi/venv/lib/python3.8/site-packages/shapely/set_operations.py:426: RuntimeWarning: divide by zero encountered in unary_union\n",
      "  return lib.unary_union(collections, **kwargs)\n",
      "/home/ohm/PycharmProjects/FiFi/venv/lib/python3.8/site-packages/shapely/set_operations.py:133: RuntimeWarning: invalid value encountered in intersection\n",
      "  return lib.intersection(a, b, **kwargs)\n"
     ]
    },
    {
     "name": "stdout",
     "output_type": "stream",
     "text": [
      "F1: 0.2511983098670023\n",
      "Presicion: 0.9277921440054796\n",
      "Recall: 0.14526418309369388\n",
      "IoU: 0.16815834190673026\n"
     ]
    },
    {
     "name": "stderr",
     "output_type": "stream",
     "text": [
      "INFO: Created TensorFlow Lite XNNPACK delegate for CPU.\n",
      "Error connect socket: : Connection refused\n",
      "Error: bind to port 40588 on 127.0.0.1 failed in file ../../sockethelper/sockethelper.cpp line 51. Exiting.\n",
      "Error connect socket: : Connection refused\n",
      "Error: bind to port 40588 on 127.0.0.1 failed in file ../../sockethelper/sockethelper.cpp line 51. Exiting.\n",
      "Error connect socket: : Connection refused\n",
      "Error: bind to port 40588 on 127.0.0.1 failed in file ../../sockethelper/sockethelper.cpp line 51. Exiting.\n",
      "Error connect socket: : Connection refused\n",
      "Error: bind to port 40588 on 127.0.0.1 failed in file ../../sockethelper/sockethelper.cpp line 51. Exiting.\n",
      "/home/ohm/PycharmProjects/FiFi/venv/lib/python3.8/site-packages/shapely/set_operations.py:426: RuntimeWarning: divide by zero encountered in unary_union\n",
      "  return lib.unary_union(collections, **kwargs)\n",
      "/home/ohm/PycharmProjects/FiFi/venv/lib/python3.8/site-packages/shapely/set_operations.py:133: RuntimeWarning: invalid value encountered in intersection\n",
      "  return lib.intersection(a, b, **kwargs)\n"
     ]
    },
    {
     "name": "stdout",
     "output_type": "stream",
     "text": [
      "F1: 0.25627997660453533\n",
      "Presicion: 0.940789864778267\n",
      "Recall: 0.14834531543934779\n",
      "IoU: 0.19399475639845898\n"
     ]
    },
    {
     "name": "stderr",
     "output_type": "stream",
     "text": [
      "INFO: Created TensorFlow Lite XNNPACK delegate for CPU.\n",
      "Segmentation fault\n",
      "/home/ohm/PycharmProjects/FiFi/venv/lib/python3.8/site-packages/shapely/set_operations.py:426: RuntimeWarning: divide by zero encountered in unary_union\n",
      "  return lib.unary_union(collections, **kwargs)\n"
     ]
    },
    {
     "name": "stdout",
     "output_type": "stream",
     "text": [
      "F1: 0.08904158516053173\n",
      "Presicion: 0.9528132492669349\n",
      "Recall: 0.04670302029490031\n",
      "IoU: 0.05793207074615064\n"
     ]
    },
    {
     "name": "stderr",
     "output_type": "stream",
     "text": [
      "INFO: Created TensorFlow Lite XNNPACK delegate for CPU.\n",
      "Error connect socket: : Connection refused\n",
      "Error: bind to port 40588 on 127.0.0.1 failed in file ../../sockethelper/sockethelper.cpp line 51. Exiting.\n",
      "Error connect socket: : Connection refused\n",
      "Error: bind to port 40588 on 127.0.0.1 failed in file ../../sockethelper/sockethelper.cpp line 51. Exiting.\n",
      "Error connect socket: : Connection refused\n",
      "Error: bind to port 40588 on 127.0.0.1 failed in file ../../sockethelper/sockethelper.cpp line 51. Exiting.\n",
      "Error connect socket: : Connection refused\n",
      "Error: bind to port 40588 on 127.0.0.1 failed in file ../../sockethelper/sockethelper.cpp line 51. Exiting.\n",
      "/home/ohm/PycharmProjects/FiFi/venv/lib/python3.8/site-packages/shapely/set_operations.py:426: RuntimeWarning: divide by zero encountered in unary_union\n",
      "  return lib.unary_union(collections, **kwargs)\n",
      "/home/ohm/PycharmProjects/FiFi/venv/lib/python3.8/site-packages/shapely/set_operations.py:133: RuntimeWarning: invalid value encountered in intersection\n",
      "  return lib.intersection(a, b, **kwargs)\n"
     ]
    },
    {
     "name": "stdout",
     "output_type": "stream",
     "text": [
      "F1: 0.2522837694116884\n",
      "Presicion: 0.9040765475466916\n",
      "Recall: 0.146595755496273\n",
      "IoU: 0.18123741635521998\n"
     ]
    },
    {
     "name": "stderr",
     "output_type": "stream",
     "text": [
      "INFO: Created TensorFlow Lite XNNPACK delegate for CPU.\n",
      "Error connect socket: : Connection refused\n",
      "Error: bind to port 40588 on 127.0.0.1 failed in file ../../sockethelper/sockethelper.cpp line 51. Exiting.\n",
      "Error connect socket: : Connection refused\n",
      "Error: bind to port 40588 on 127.0.0.1 failed in file ../../sockethelper/sockethelper.cpp line 51. Exiting.\n",
      "Error connect socket: : Connection refused\n",
      "Error: bind to port 40588 on 127.0.0.1 failed in file ../../sockethelper/sockethelper.cpp line 51. Exiting.\n",
      "Error connect socket: : Connection refused\n",
      "Error: bind to port 40588 on 127.0.0.1 failed in file ../../sockethelper/sockethelper.cpp line 51. Exiting.\n",
      "/home/ohm/PycharmProjects/FiFi/venv/lib/python3.8/site-packages/shapely/set_operations.py:426: RuntimeWarning: divide by zero encountered in unary_union\n",
      "  return lib.unary_union(collections, **kwargs)\n",
      "/home/ohm/PycharmProjects/FiFi/venv/lib/python3.8/site-packages/shapely/set_operations.py:133: RuntimeWarning: invalid value encountered in intersection\n",
      "  return lib.intersection(a, b, **kwargs)\n"
     ]
    },
    {
     "name": "stdout",
     "output_type": "stream",
     "text": [
      "F1: 0.2457053207713776\n",
      "Presicion: 0.9219263201022097\n",
      "Recall: 0.14174050130037458\n",
      "IoU: 0.17896575706012235\n"
     ]
    },
    {
     "name": "stderr",
     "output_type": "stream",
     "text": [
      "INFO: Created TensorFlow Lite XNNPACK delegate for CPU.\n",
      "Error connect socket: : Connection refused\n",
      "Error: bind to port 40588 on 127.0.0.1 failed in file ../../sockethelper/sockethelper.cpp line 51. Exiting.\n",
      "Error connect socket: : Connection refused\n",
      "Error: bind to port 40588 on 127.0.0.1 failed in file ../../sockethelper/sockethelper.cpp line 51. Exiting.\n",
      "Error connect socket: : Connection refused\n",
      "Error: bind to port 40588 on 127.0.0.1 failed in file ../../sockethelper/sockethelper.cpp line 51. Exiting.\n",
      "Error connect socket: : Connection refused\n",
      "Error: bind to port 40588 on 127.0.0.1 failed in file ../../sockethelper/sockethelper.cpp line 51. Exiting.\n",
      "/home/ohm/PycharmProjects/FiFi/venv/lib/python3.8/site-packages/shapely/set_operations.py:426: RuntimeWarning: divide by zero encountered in unary_union\n",
      "  return lib.unary_union(collections, **kwargs)\n",
      "/home/ohm/PycharmProjects/FiFi/venv/lib/python3.8/site-packages/shapely/set_operations.py:133: RuntimeWarning: invalid value encountered in intersection\n",
      "  return lib.intersection(a, b, **kwargs)\n"
     ]
    },
    {
     "name": "stdout",
     "output_type": "stream",
     "text": [
      "F1: 0.2815910248705115\n",
      "Presicion: 0.9275598192543605\n",
      "Recall: 0.16599159231596658\n",
      "IoU: 0.2089151513235975\n"
     ]
    },
    {
     "name": "stderr",
     "output_type": "stream",
     "text": [
      "INFO: Created TensorFlow Lite XNNPACK delegate for CPU.\n",
      "Error connect socket: : Connection refused\n",
      "Error: bind to port 40588 on 127.0.0.1 failed in file ../../sockethelper/sockethelper.cpp line 51. Exiting.\n",
      "Segmentation fault\n",
      "/home/ohm/PycharmProjects/FiFi/venv/lib/python3.8/site-packages/shapely/set_operations.py:426: RuntimeWarning: divide by zero encountered in unary_union\n",
      "  return lib.unary_union(collections, **kwargs)\n"
     ]
    },
    {
     "name": "stdout",
     "output_type": "stream",
     "text": [
      "F1: 0.08904158516053173\n",
      "Presicion: 0.9528132492669349\n",
      "Recall: 0.04670302029490031\n",
      "IoU: 0.05793207074615064\n"
     ]
    },
    {
     "name": "stderr",
     "output_type": "stream",
     "text": [
      "INFO: Created TensorFlow Lite XNNPACK delegate for CPU.\n",
      "Error connect socket: : Connection refused\n",
      "Error: bind to port 40588 on 127.0.0.1 failed in file ../../sockethelper/sockethelper.cpp line 51. Exiting.\n",
      "Segmentation fault\n",
      "/home/ohm/PycharmProjects/FiFi/venv/lib/python3.8/site-packages/shapely/set_operations.py:426: RuntimeWarning: divide by zero encountered in unary_union\n",
      "  return lib.unary_union(collections, **kwargs)\n"
     ]
    },
    {
     "name": "stdout",
     "output_type": "stream",
     "text": [
      "F1: 0.09147776702605764\n",
      "Presicion: 0.9480598102988621\n",
      "Recall: 0.048057399467735226\n",
      "IoU: 0.058732848805459884\n"
     ]
    },
    {
     "name": "stderr",
     "output_type": "stream",
     "text": [
      "INFO: Created TensorFlow Lite XNNPACK delegate for CPU.\n",
      "Error connect socket: : Connection refused\n",
      "Error: bind to port 40588 on 127.0.0.1 failed in file ../../sockethelper/sockethelper.cpp line 51. Exiting.\n",
      "Error connect socket: : Connection refused\n",
      "Error: bind to port 40588 on 127.0.0.1 failed in file ../../sockethelper/sockethelper.cpp line 51. Exiting.\n",
      "Error connect socket: : Connection refused\n",
      "Error: bind to port 40588 on 127.0.0.1 failed in file ../../sockethelper/sockethelper.cpp line 51. Exiting.\n",
      "Error connect socket: : Connection refused\n",
      "Error: bind to port 40588 on 127.0.0.1 failed in file ../../sockethelper/sockethelper.cpp line 51. Exiting.\n",
      "/home/ohm/PycharmProjects/FiFi/venv/lib/python3.8/site-packages/shapely/set_operations.py:426: RuntimeWarning: divide by zero encountered in unary_union\n",
      "  return lib.unary_union(collections, **kwargs)\n"
     ]
    },
    {
     "name": "stdout",
     "output_type": "stream",
     "text": [
      "F1: 0.2533832716486615\n",
      "Presicion: 0.9236698180591378\n",
      "Recall: 0.14683117156775202\n",
      "IoU: 0.20075007639320447\n"
     ]
    },
    {
     "name": "stderr",
     "output_type": "stream",
     "text": [
      "INFO: Created TensorFlow Lite XNNPACK delegate for CPU.\n",
      "Error connect socket: : Connection refused\n",
      "Error: bind to port 40588 on 127.0.0.1 failed in file ../../sockethelper/sockethelper.cpp line 51. Exiting.\n",
      "Error connect socket: : Connection refused\n",
      "Error: bind to port 40588 on 127.0.0.1 failed in file ../../sockethelper/sockethelper.cpp line 51. Exiting.\n",
      "Error connect socket: : Connection refused\n",
      "Error: bind to port 40588 on 127.0.0.1 failed in file ../../sockethelper/sockethelper.cpp line 51. Exiting.\n",
      "Error connect socket: : Connection refused\n",
      "Error: bind to port 40588 on 127.0.0.1 failed in file ../../sockethelper/sockethelper.cpp line 51. Exiting.\n",
      "/home/ohm/PycharmProjects/FiFi/venv/lib/python3.8/site-packages/shapely/set_operations.py:426: RuntimeWarning: divide by zero encountered in unary_union\n",
      "  return lib.unary_union(collections, **kwargs)\n",
      "/home/ohm/PycharmProjects/FiFi/venv/lib/python3.8/site-packages/shapely/set_operations.py:133: RuntimeWarning: invalid value encountered in intersection\n",
      "  return lib.intersection(a, b, **kwargs)\n"
     ]
    },
    {
     "name": "stdout",
     "output_type": "stream",
     "text": [
      "F1: 0.2599041876445387\n",
      "Presicion: 0.9372628803462544\n",
      "Recall: 0.150870365906189\n",
      "IoU: 0.1954363195910758\n"
     ]
    },
    {
     "name": "stderr",
     "output_type": "stream",
     "text": [
      "INFO: Created TensorFlow Lite XNNPACK delegate for CPU.\n",
      "Segmentation fault\n",
      "/home/ohm/PycharmProjects/FiFi/venv/lib/python3.8/site-packages/shapely/set_operations.py:426: RuntimeWarning: divide by zero encountered in unary_union\n",
      "  return lib.unary_union(collections, **kwargs)\n"
     ]
    },
    {
     "name": "stdout",
     "output_type": "stream",
     "text": [
      "F1: 0.08904158516053173\n",
      "Presicion: 0.9528132492669349\n",
      "Recall: 0.04670302029490031\n",
      "IoU: 0.05793207074615064\n"
     ]
    },
    {
     "name": "stderr",
     "output_type": "stream",
     "text": [
      "INFO: Created TensorFlow Lite XNNPACK delegate for CPU.\n",
      "Error connect socket: : Connection refused\n",
      "Error: bind to port 40588 on 127.0.0.1 failed in file ../../sockethelper/sockethelper.cpp line 51. Exiting.\n",
      "Error connect socket: : Connection refused\n",
      "Error: bind to port 40588 on 127.0.0.1 failed in file ../../sockethelper/sockethelper.cpp line 51. Exiting.\n",
      "Error connect socket: : Connection refused\n",
      "Error: bind to port 40588 on 127.0.0.1 failed in file ../../sockethelper/sockethelper.cpp line 51. Exiting.\n",
      "Error connect socket: : Connection refused\n",
      "Error: bind to port 40588 on 127.0.0.1 failed in file ../../sockethelper/sockethelper.cpp line 51. Exiting.\n",
      "/home/ohm/PycharmProjects/FiFi/venv/lib/python3.8/site-packages/shapely/set_operations.py:426: RuntimeWarning: divide by zero encountered in unary_union\n",
      "  return lib.unary_union(collections, **kwargs)\n"
     ]
    },
    {
     "name": "stdout",
     "output_type": "stream",
     "text": [
      "F1: 0.25770964407055397\n",
      "Presicion: 0.9426561917004158\n",
      "Recall: 0.14925730079809213\n",
      "IoU: 0.184449351082975\n"
     ]
    },
    {
     "name": "stderr",
     "output_type": "stream",
     "text": [
      "INFO: Created TensorFlow Lite XNNPACK delegate for CPU.\n",
      "Error connect socket: : Connection refused\n",
      "Error: bind to port 40588 on 127.0.0.1 failed in file ../../sockethelper/sockethelper.cpp line 51. Exiting.\n",
      "Error connect socket: : Connection refused\n",
      "Error: bind to port 40588 on 127.0.0.1 failed in file ../../sockethelper/sockethelper.cpp line 51. Exiting.\n",
      "Error connect socket: : Connection refused\n",
      "Error: bind to port 40588 on 127.0.0.1 failed in file ../../sockethelper/sockethelper.cpp line 51. Exiting.\n",
      "Error connect socket: : Connection refused\n",
      "Error: bind to port 40588 on 127.0.0.1 failed in file ../../sockethelper/sockethelper.cpp line 51. Exiting.\n",
      "/home/ohm/PycharmProjects/FiFi/venv/lib/python3.8/site-packages/shapely/set_operations.py:426: RuntimeWarning: divide by zero encountered in unary_union\n",
      "  return lib.unary_union(collections, **kwargs)\n"
     ]
    },
    {
     "name": "stdout",
     "output_type": "stream",
     "text": [
      "F1: 0.08904158516053173\n",
      "Presicion: 0.9528132492669349\n",
      "Recall: 0.04670302029490031\n",
      "IoU: 0.05793207074615064\n"
     ]
    },
    {
     "name": "stderr",
     "output_type": "stream",
     "text": [
      "INFO: Created TensorFlow Lite XNNPACK delegate for CPU.\n",
      "Error connect socket: : Connection refused\n",
      "Error: bind to port 40588 on 127.0.0.1 failed in file ../../sockethelper/sockethelper.cpp line 51. Exiting.\n",
      "Error connect socket: : Connection refused\n",
      "Error: bind to port 40588 on 127.0.0.1 failed in file ../../sockethelper/sockethelper.cpp line 51. Exiting.\n",
      "Error connect socket: : Connection refused\n",
      "Error: bind to port 40588 on 127.0.0.1 failed in file ../../sockethelper/sockethelper.cpp line 51. Exiting.\n",
      "Error connect socket: : Connection refused\n",
      "Error: bind to port 40588 on 127.0.0.1 failed in file ../../sockethelper/sockethelper.cpp line 51. Exiting.\n",
      "/home/ohm/PycharmProjects/FiFi/venv/lib/python3.8/site-packages/shapely/set_operations.py:426: RuntimeWarning: divide by zero encountered in unary_union\n",
      "  return lib.unary_union(collections, **kwargs)\n",
      "/home/ohm/PycharmProjects/FiFi/venv/lib/python3.8/site-packages/shapely/set_operations.py:133: RuntimeWarning: invalid value encountered in intersection\n",
      "  return lib.intersection(a, b, **kwargs)\n"
     ]
    },
    {
     "name": "stdout",
     "output_type": "stream",
     "text": [
      "F1: 0.2517244536060728\n",
      "Presicion: 0.9391705913242864\n",
      "Recall: 0.14533983311677928\n",
      "IoU: 0.18597299106341672\n"
     ]
    },
    {
     "name": "stderr",
     "output_type": "stream",
     "text": [
      "INFO: Created TensorFlow Lite XNNPACK delegate for CPU.\n",
      "Error connect socket: : Connection refused\n",
      "Error: bind to port 40588 on 127.0.0.1 failed in file ../../sockethelper/sockethelper.cpp line 51. Exiting.\n",
      "Error connect socket: : Connection refused\n",
      "Error: bind to port 40588 on 127.0.0.1 failed in file ../../sockethelper/sockethelper.cpp line 51. Exiting.\n",
      "Error connect socket: : Connection refused\n",
      "Error: bind to port 40588 on 127.0.0.1 failed in file ../../sockethelper/sockethelper.cpp line 51. Exiting.\n",
      "Error connect socket: : Connection refused\n",
      "Error: bind to port 40588 on 127.0.0.1 failed in file ../../sockethelper/sockethelper.cpp line 51. Exiting.\n",
      "/home/ohm/PycharmProjects/FiFi/venv/lib/python3.8/site-packages/shapely/set_operations.py:426: RuntimeWarning: divide by zero encountered in unary_union\n",
      "  return lib.unary_union(collections, **kwargs)\n",
      "/home/ohm/PycharmProjects/FiFi/venv/lib/python3.8/site-packages/shapely/set_operations.py:133: RuntimeWarning: invalid value encountered in intersection\n",
      "  return lib.intersection(a, b, **kwargs)\n"
     ]
    },
    {
     "name": "stdout",
     "output_type": "stream",
     "text": [
      "F1: 0.2447680299789185\n",
      "Presicion: 0.9048089027442883\n",
      "Recall: 0.14152687120396334\n",
      "IoU: 0.19745074756713474\n"
     ]
    },
    {
     "name": "stderr",
     "output_type": "stream",
     "text": [
      "INFO: Created TensorFlow Lite XNNPACK delegate for CPU.\n",
      "Error connect socket: : Connection refused\n",
      "Error: bind to port 40588 on 127.0.0.1 failed in file ../../sockethelper/sockethelper.cpp line 51. Exiting.\n",
      "Error connect socket: : Connection refused\n",
      "Error: bind to port 40588 on 127.0.0.1 failed in file ../../sockethelper/sockethelper.cpp line 51. Exiting.\n",
      "Error connect socket: : Connection refused\n",
      "Error: bind to port 40588 on 127.0.0.1 failed in file ../../sockethelper/sockethelper.cpp line 51. Exiting.\n",
      "Error connect socket: : Connection refused\n",
      "Error: bind to port 40588 on 127.0.0.1 failed in file ../../sockethelper/sockethelper.cpp line 51. Exiting.\n",
      "/home/ohm/PycharmProjects/FiFi/venv/lib/python3.8/site-packages/shapely/set_operations.py:426: RuntimeWarning: divide by zero encountered in unary_union\n",
      "  return lib.unary_union(collections, **kwargs)\n"
     ]
    },
    {
     "name": "stdout",
     "output_type": "stream",
     "text": [
      "F1: 0.08904158516053173\n",
      "Presicion: 0.9528132492669349\n",
      "Recall: 0.04670302029490031\n",
      "IoU: 0.05793207074615064\n"
     ]
    },
    {
     "name": "stderr",
     "output_type": "stream",
     "text": [
      "INFO: Created TensorFlow Lite XNNPACK delegate for CPU.\n",
      "Error connect socket: : Connection refused\n",
      "Error: bind to port 40588 on 127.0.0.1 failed in file ../../sockethelper/sockethelper.cpp line 51. Exiting.\n",
      "Error connect socket: : Connection refused\n",
      "Error: bind to port 40588 on 127.0.0.1 failed in file ../../sockethelper/sockethelper.cpp line 51. Exiting.\n",
      "Error connect socket: : Connection refused\n",
      "Error: bind to port 40588 on 127.0.0.1 failed in file ../../sockethelper/sockethelper.cpp line 51. Exiting.\n",
      "Error connect socket: : Connection refused\n",
      "Error: bind to port 40588 on 127.0.0.1 failed in file ../../sockethelper/sockethelper.cpp line 51. Exiting.\n",
      "/home/ohm/PycharmProjects/FiFi/venv/lib/python3.8/site-packages/shapely/set_operations.py:426: RuntimeWarning: divide by zero encountered in unary_union\n",
      "  return lib.unary_union(collections, **kwargs)\n"
     ]
    },
    {
     "name": "stdout",
     "output_type": "stream",
     "text": [
      "F1: 0.25892138540380094\n",
      "Presicion: 0.9504134319950289\n",
      "Recall: 0.1498760834456928\n",
      "IoU: 0.17758566250444127\n"
     ]
    },
    {
     "name": "stderr",
     "output_type": "stream",
     "text": [
      "INFO: Created TensorFlow Lite XNNPACK delegate for CPU.\n",
      "Error connect socket: : Connection refused\n",
      "Error: bind to port 40588 on 127.0.0.1 failed in file ../../sockethelper/sockethelper.cpp line 51. Exiting.\n",
      "Error connect socket: : Connection refused\n",
      "Error: bind to port 40588 on 127.0.0.1 failed in file ../../sockethelper/sockethelper.cpp line 51. Exiting.\n",
      "Error connect socket: : Connection refused\n",
      "Error: bind to port 40588 on 127.0.0.1 failed in file ../../sockethelper/sockethelper.cpp line 51. Exiting.\n",
      "Error connect socket: : Connection refused\n",
      "Error: bind to port 40588 on 127.0.0.1 failed in file ../../sockethelper/sockethelper.cpp line 51. Exiting.\n",
      "/home/ohm/PycharmProjects/FiFi/venv/lib/python3.8/site-packages/shapely/set_operations.py:426: RuntimeWarning: divide by zero encountered in unary_union\n",
      "  return lib.unary_union(collections, **kwargs)\n",
      "/home/ohm/PycharmProjects/FiFi/venv/lib/python3.8/site-packages/shapely/set_operations.py:133: RuntimeWarning: invalid value encountered in intersection\n",
      "  return lib.intersection(a, b, **kwargs)\n"
     ]
    },
    {
     "name": "stdout",
     "output_type": "stream",
     "text": [
      "F1: 0.29758728764895265\n",
      "Presicion: 0.927617548558631\n",
      "Recall: 0.17722054277812652\n",
      "IoU: 0.21224906032185015\n"
     ]
    },
    {
     "name": "stderr",
     "output_type": "stream",
     "text": [
      "INFO: Created TensorFlow Lite XNNPACK delegate for CPU.\n",
      "Error connect socket: : Connection refused\n",
      "Error: bind to port 40588 on 127.0.0.1 failed in file ../../sockethelper/sockethelper.cpp line 51. Exiting.\n",
      "Error connect socket: : Connection refused\n",
      "Error: bind to port 40588 on 127.0.0.1 failed in file ../../sockethelper/sockethelper.cpp line 51. Exiting.\n",
      "Error connect socket: : Connection refused\n",
      "Error: bind to port 40588 on 127.0.0.1 failed in file ../../sockethelper/sockethelper.cpp line 51. Exiting.\n",
      "Error connect socket: : Connection refused\n",
      "Error: bind to port 40588 on 127.0.0.1 failed in file ../../sockethelper/sockethelper.cpp line 51. Exiting.\n",
      "/home/ohm/PycharmProjects/FiFi/venv/lib/python3.8/site-packages/shapely/set_operations.py:426: RuntimeWarning: divide by zero encountered in unary_union\n",
      "  return lib.unary_union(collections, **kwargs)\n",
      "/home/ohm/PycharmProjects/FiFi/venv/lib/python3.8/site-packages/shapely/set_operations.py:133: RuntimeWarning: invalid value encountered in intersection\n",
      "  return lib.intersection(a, b, **kwargs)\n"
     ]
    },
    {
     "name": "stdout",
     "output_type": "stream",
     "text": [
      "F1: 0.27565904209547426\n",
      "Presicion: 0.9204188482382452\n",
      "Recall: 0.16210403670008786\n",
      "IoU: 0.21410785761207304\n"
     ]
    },
    {
     "name": "stderr",
     "output_type": "stream",
     "text": [
      "INFO: Created TensorFlow Lite XNNPACK delegate for CPU.\n",
      "Error connect socket: : Connection refused\n",
      "Error: bind to port 40588 on 127.0.0.1 failed in file ../../sockethelper/sockethelper.cpp line 51. Exiting.\n",
      "Error connect socket: : Connection refused\n",
      "Error: bind to port 40588 on 127.0.0.1 failed in file ../../sockethelper/sockethelper.cpp line 51. Exiting.\n",
      "Error connect socket: : Connection refused\n",
      "Error: bind to port 40588 on 127.0.0.1 failed in file ../../sockethelper/sockethelper.cpp line 51. Exiting.\n",
      "Error connect socket: : Connection refused\n",
      "Error: bind to port 40588 on 127.0.0.1 failed in file ../../sockethelper/sockethelper.cpp line 51. Exiting.\n",
      "/home/ohm/PycharmProjects/FiFi/venv/lib/python3.8/site-packages/shapely/set_operations.py:426: RuntimeWarning: divide by zero encountered in unary_union\n",
      "  return lib.unary_union(collections, **kwargs)\n",
      "/home/ohm/PycharmProjects/FiFi/venv/lib/python3.8/site-packages/shapely/set_operations.py:133: RuntimeWarning: invalid value encountered in intersection\n",
      "  return lib.intersection(a, b, **kwargs)\n"
     ]
    },
    {
     "name": "stdout",
     "output_type": "stream",
     "text": [
      "F1: 0.2873368709252098\n",
      "Presicion: 0.9450681232415499\n",
      "Recall: 0.16942414720424223\n",
      "IoU: 0.20477264412686638\n"
     ]
    },
    {
     "name": "stderr",
     "output_type": "stream",
     "text": [
      "INFO: Created TensorFlow Lite XNNPACK delegate for CPU.\n",
      "Error connect socket: : Connection refused\n",
      "Error: bind to port 40588 on 127.0.0.1 failed in file ../../sockethelper/sockethelper.cpp line 51. Exiting.\n",
      "Error connect socket: : Connection refused\n",
      "Error: bind to port 40588 on 127.0.0.1 failed in file ../../sockethelper/sockethelper.cpp line 51. Exiting.\n",
      "Error connect socket: : Connection refused\n",
      "Error: bind to port 40588 on 127.0.0.1 failed in file ../../sockethelper/sockethelper.cpp line 51. Exiting.\n",
      "Error connect socket: : Connection refused\n",
      "Error: bind to port 40588 on 127.0.0.1 failed in file ../../sockethelper/sockethelper.cpp line 51. Exiting.\n",
      "/home/ohm/PycharmProjects/FiFi/venv/lib/python3.8/site-packages/shapely/set_operations.py:426: RuntimeWarning: divide by zero encountered in unary_union\n",
      "  return lib.unary_union(collections, **kwargs)\n"
     ]
    },
    {
     "name": "stdout",
     "output_type": "stream",
     "text": [
      "F1: 0.2610347792185842\n",
      "Presicion: 0.9463741677225994\n",
      "Recall: 0.15139702124000207\n",
      "IoU: 0.18601047828514256\n"
     ]
    },
    {
     "name": "stderr",
     "output_type": "stream",
     "text": [
      "INFO: Created TensorFlow Lite XNNPACK delegate for CPU.\n",
      "Error connect socket: : Connection refused\n",
      "Error: bind to port 40588 on 127.0.0.1 failed in file ../../sockethelper/sockethelper.cpp line 51. Exiting.\n",
      "Segmentation fault\n",
      "/home/ohm/PycharmProjects/FiFi/venv/lib/python3.8/site-packages/shapely/set_operations.py:426: RuntimeWarning: divide by zero encountered in unary_union\n",
      "  return lib.unary_union(collections, **kwargs)\n"
     ]
    },
    {
     "name": "stdout",
     "output_type": "stream",
     "text": [
      "F1: 0.09074930267026542\n",
      "Presicion: 0.9454341576348466\n",
      "Recall: 0.047662121185042025\n",
      "IoU: 0.058332287510631346\n"
     ]
    },
    {
     "name": "stderr",
     "output_type": "stream",
     "text": [
      "INFO: Created TensorFlow Lite XNNPACK delegate for CPU.\n",
      "Error connect socket: : Connection refused\n",
      "Error: bind to port 40588 on 127.0.0.1 failed in file ../../sockethelper/sockethelper.cpp line 51. Exiting.\n",
      "Error connect socket: : Connection refused\n",
      "Error: bind to port 40588 on 127.0.0.1 failed in file ../../sockethelper/sockethelper.cpp line 51. Exiting.\n",
      "Error connect socket: : Connection refused\n",
      "Error: bind to port 40588 on 127.0.0.1 failed in file ../../sockethelper/sockethelper.cpp line 51. Exiting.\n",
      "Error connect socket: : Connection refused\n",
      "Error: bind to port 40588 on 127.0.0.1 failed in file ../../sockethelper/sockethelper.cpp line 51. Exiting.\n",
      "/home/ohm/PycharmProjects/FiFi/venv/lib/python3.8/site-packages/shapely/set_operations.py:426: RuntimeWarning: divide by zero encountered in unary_union\n",
      "  return lib.unary_union(collections, **kwargs)\n",
      "/home/ohm/PycharmProjects/FiFi/venv/lib/python3.8/site-packages/shapely/set_operations.py:133: RuntimeWarning: invalid value encountered in intersection\n",
      "  return lib.intersection(a, b, **kwargs)\n"
     ]
    },
    {
     "name": "stdout",
     "output_type": "stream",
     "text": [
      "F1: 0.27794412913782457\n",
      "Presicion: 0.936873398316746\n",
      "Recall: 0.16317710586121026\n",
      "IoU: 0.19330783959856834\n"
     ]
    },
    {
     "name": "stderr",
     "output_type": "stream",
     "text": [
      "INFO: Created TensorFlow Lite XNNPACK delegate for CPU.\n",
      "Error connect socket: : Connection refused\n",
      "Error: bind to port 40588 on 127.0.0.1 failed in file ../../sockethelper/sockethelper.cpp line 51. Exiting.\n",
      "Error connect socket: : Connection refused\n",
      "Error: bind to port 40588 on 127.0.0.1 failed in file ../../sockethelper/sockethelper.cpp line 51. Exiting.\n",
      "Error connect socket: : Connection refused\n",
      "Error: bind to port 40588 on 127.0.0.1 failed in file ../../sockethelper/sockethelper.cpp line 51. Exiting.\n",
      "Error connect socket: : Connection refused\n",
      "Error: bind to port 40588 on 127.0.0.1 failed in file ../../sockethelper/sockethelper.cpp line 51. Exiting.\n",
      "/home/ohm/PycharmProjects/FiFi/venv/lib/python3.8/site-packages/shapely/set_operations.py:426: RuntimeWarning: divide by zero encountered in unary_union\n",
      "  return lib.unary_union(collections, **kwargs)\n",
      "/home/ohm/PycharmProjects/FiFi/venv/lib/python3.8/site-packages/shapely/set_operations.py:133: RuntimeWarning: invalid value encountered in intersection\n",
      "  return lib.intersection(a, b, **kwargs)\n"
     ]
    },
    {
     "name": "stdout",
     "output_type": "stream",
     "text": [
      "F1: 0.2809080902661826\n",
      "Presicion: 0.9279097051367211\n",
      "Recall: 0.16550604462491983\n",
      "IoU: 0.1915363882657218\n"
     ]
    },
    {
     "name": "stderr",
     "output_type": "stream",
     "text": [
      "INFO: Created TensorFlow Lite XNNPACK delegate for CPU.\n",
      "Error connect socket: : Connection refused\n",
      "Error: bind to port 40588 on 127.0.0.1 failed in file ../../sockethelper/sockethelper.cpp line 51. Exiting.\n",
      "Segmentation fault\n",
      "/home/ohm/PycharmProjects/FiFi/venv/lib/python3.8/site-packages/shapely/set_operations.py:426: RuntimeWarning: divide by zero encountered in unary_union\n",
      "  return lib.unary_union(collections, **kwargs)\n"
     ]
    },
    {
     "name": "stdout",
     "output_type": "stream",
     "text": [
      "F1: 0.09418372934671947\n",
      "Presicion: 0.9555155123627282\n",
      "Recall: 0.04953306457392897\n",
      "IoU: 0.06225133717130698\n"
     ]
    },
    {
     "name": "stderr",
     "output_type": "stream",
     "text": [
      "INFO: Created TensorFlow Lite XNNPACK delegate for CPU.\n",
      "Error connect socket: : Connection refused\n",
      "Error: bind to port 40588 on 127.0.0.1 failed in file ../../sockethelper/sockethelper.cpp line 51. Exiting.\n",
      "Error connect socket: : Connection refused\n",
      "Error: bind to port 40588 on 127.0.0.1 failed in file ../../sockethelper/sockethelper.cpp line 51. Exiting.\n",
      "Error connect socket: : Connection refused\n",
      "Error: bind to port 40588 on 127.0.0.1 failed in file ../../sockethelper/sockethelper.cpp line 51. Exiting.\n",
      "Error connect socket: : Connection refused\n",
      "Error: bind to port 40588 on 127.0.0.1 failed in file ../../sockethelper/sockethelper.cpp line 51. Exiting.\n",
      "/home/ohm/PycharmProjects/FiFi/venv/lib/python3.8/site-packages/shapely/set_operations.py:426: RuntimeWarning: divide by zero encountered in unary_union\n",
      "  return lib.unary_union(collections, **kwargs)\n"
     ]
    },
    {
     "name": "stdout",
     "output_type": "stream",
     "text": [
      "F1: 0.2960035351810984\n",
      "Presicion: 0.9321064063401558\n",
      "Recall: 0.1759374819422173\n",
      "IoU: 0.2129929643627825\n"
     ]
    },
    {
     "name": "stderr",
     "output_type": "stream",
     "text": [
      "INFO: Created TensorFlow Lite XNNPACK delegate for CPU.\n",
      "Error connect socket: : Connection refused\n",
      "Error: bind to port 40588 on 127.0.0.1 failed in file ../../sockethelper/sockethelper.cpp line 51. Exiting.\n",
      "Error connect socket: : Connection refused\n",
      "Error: bind to port 40588 on 127.0.0.1 failed in file ../../sockethelper/sockethelper.cpp line 51. Exiting.\n",
      "Error connect socket: : Connection refused\n",
      "Error: bind to port 40588 on 127.0.0.1 failed in file ../../sockethelper/sockethelper.cpp line 51. Exiting.\n",
      "Error connect socket: : Connection refused\n",
      "Error: bind to port 40588 on 127.0.0.1 failed in file ../../sockethelper/sockethelper.cpp line 51. Exiting.\n",
      "/home/ohm/PycharmProjects/FiFi/venv/lib/python3.8/site-packages/shapely/set_operations.py:426: RuntimeWarning: divide by zero encountered in unary_union\n",
      "  return lib.unary_union(collections, **kwargs)\n",
      "/home/ohm/PycharmProjects/FiFi/venv/lib/python3.8/site-packages/shapely/set_operations.py:133: RuntimeWarning: invalid value encountered in intersection\n",
      "  return lib.intersection(a, b, **kwargs)\n"
     ]
    },
    {
     "name": "stdout",
     "output_type": "stream",
     "text": [
      "F1: 0.29630652795621637\n",
      "Presicion: 0.9281381415648517\n",
      "Recall: 0.17629405267554796\n",
      "IoU: 0.21356936163816778\n"
     ]
    },
    {
     "name": "stderr",
     "output_type": "stream",
     "text": [
      "INFO: Created TensorFlow Lite XNNPACK delegate for CPU.\n",
      "Error connect socket: : Connection refused\n",
      "Error: bind to port 40588 on 127.0.0.1 failed in file ../../sockethelper/sockethelper.cpp line 51. Exiting.\n",
      "Error connect socket: : Connection refused\n",
      "Error: bind to port 40588 on 127.0.0.1 failed in file ../../sockethelper/sockethelper.cpp line 51. Exiting.\n",
      "Error connect socket: : Connection refused\n",
      "Error: bind to port 40588 on 127.0.0.1 failed in file ../../sockethelper/sockethelper.cpp line 51. Exiting.\n",
      "Error connect socket: : Connection refused\n",
      "Error: bind to port 40588 on 127.0.0.1 failed in file ../../sockethelper/sockethelper.cpp line 51. Exiting.\n",
      "/home/ohm/PycharmProjects/FiFi/venv/lib/python3.8/site-packages/shapely/set_operations.py:426: RuntimeWarning: divide by zero encountered in unary_union\n",
      "  return lib.unary_union(collections, **kwargs)\n"
     ]
    },
    {
     "name": "stdout",
     "output_type": "stream",
     "text": [
      "F1: 0.2792398540170875\n",
      "Presicion: 0.9432767897074986\n",
      "Recall: 0.16387620468457142\n",
      "IoU: 0.21014653325949226\n"
     ]
    },
    {
     "name": "stderr",
     "output_type": "stream",
     "text": [
      "INFO: Created TensorFlow Lite XNNPACK delegate for CPU.\n",
      "Error connect socket: : Connection refused\n",
      "Error: bind to port 40588 on 127.0.0.1 failed in file ../../sockethelper/sockethelper.cpp line 51. Exiting.\n",
      "Error connect socket: : Connection refused\n",
      "Error: bind to port 40588 on 127.0.0.1 failed in file ../../sockethelper/sockethelper.cpp line 51. Exiting.\n",
      "Error connect socket: : Connection refused\n",
      "Error: bind to port 40588 on 127.0.0.1 failed in file ../../sockethelper/sockethelper.cpp line 51. Exiting.\n",
      "Error connect socket: : Connection refused\n",
      "Error: bind to port 40588 on 127.0.0.1 failed in file ../../sockethelper/sockethelper.cpp line 51. Exiting.\n",
      "/home/ohm/PycharmProjects/FiFi/venv/lib/python3.8/site-packages/shapely/set_operations.py:426: RuntimeWarning: divide by zero encountered in unary_union\n",
      "  return lib.unary_union(collections, **kwargs)\n"
     ]
    },
    {
     "name": "stdout",
     "output_type": "stream",
     "text": [
      "F1: 0.2867823679272695\n",
      "Presicion: 0.9348603390873943\n",
      "Recall: 0.16936949468539358\n",
      "IoU: 0.20103582817521426\n"
     ]
    },
    {
     "name": "stderr",
     "output_type": "stream",
     "text": [
      "INFO: Created TensorFlow Lite XNNPACK delegate for CPU.\n",
      "Error connect socket: : Connection refused\n",
      "Error: bind to port 40588 on 127.0.0.1 failed in file ../../sockethelper/sockethelper.cpp line 51. Exiting.\n",
      "Error connect socket: : Connection refused\n",
      "Error: bind to port 40588 on 127.0.0.1 failed in file ../../sockethelper/sockethelper.cpp line 51. Exiting.\n",
      "Error connect socket: : Connection refused\n",
      "Error: bind to port 40588 on 127.0.0.1 failed in file ../../sockethelper/sockethelper.cpp line 51. Exiting.\n",
      "Error connect socket: : Connection refused\n",
      "Error: bind to port 40588 on 127.0.0.1 failed in file ../../sockethelper/sockethelper.cpp line 51. Exiting.\n",
      "/home/ohm/PycharmProjects/FiFi/venv/lib/python3.8/site-packages/shapely/set_operations.py:426: RuntimeWarning: divide by zero encountered in unary_union\n",
      "  return lib.unary_union(collections, **kwargs)\n",
      "/home/ohm/PycharmProjects/FiFi/venv/lib/python3.8/site-packages/shapely/set_operations.py:133: RuntimeWarning: invalid value encountered in intersection\n",
      "  return lib.intersection(a, b, **kwargs)\n"
     ]
    },
    {
     "name": "stdout",
     "output_type": "stream",
     "text": [
      "F1: 0.21105551232747968\n",
      "Presicion: 0.8052226799922972\n",
      "Recall: 0.12144341732077626\n",
      "IoU: 0.16742980397664528\n"
     ]
    },
    {
     "name": "stderr",
     "output_type": "stream",
     "text": [
      "INFO: Created TensorFlow Lite XNNPACK delegate for CPU.\n",
      "Error connect socket: : Connection refused\n",
      "Error: bind to port 40588 on 127.0.0.1 failed in file ../../sockethelper/sockethelper.cpp line 51. Exiting.\n",
      "Error connect socket: : Connection refused\n",
      "Error: bind to port 40588 on 127.0.0.1 failed in file ../../sockethelper/sockethelper.cpp line 51. Exiting.\n",
      "Error connect socket: : Connection refused\n",
      "Error: bind to port 40588 on 127.0.0.1 failed in file ../../sockethelper/sockethelper.cpp line 51. Exiting.\n",
      "Error connect socket: : Connection refused\n",
      "Error: bind to port 40588 on 127.0.0.1 failed in file ../../sockethelper/sockethelper.cpp line 51. Exiting.\n",
      "/home/ohm/PycharmProjects/FiFi/venv/lib/python3.8/site-packages/shapely/set_operations.py:426: RuntimeWarning: divide by zero encountered in unary_union\n",
      "  return lib.unary_union(collections, **kwargs)\n",
      "/home/ohm/PycharmProjects/FiFi/venv/lib/python3.8/site-packages/shapely/set_operations.py:133: RuntimeWarning: invalid value encountered in intersection\n",
      "  return lib.intersection(a, b, **kwargs)\n"
     ]
    },
    {
     "name": "stdout",
     "output_type": "stream",
     "text": [
      "F1: 0.30399549712674234\n",
      "Presicion: 0.9400146096627683\n",
      "Recall: 0.18131604961609402\n",
      "IoU: 0.22303728940767867\n"
     ]
    },
    {
     "name": "stderr",
     "output_type": "stream",
     "text": [
      "INFO: Created TensorFlow Lite XNNPACK delegate for CPU.\n",
      "Error connect socket: : Connection refused\n",
      "Error: bind to port 40588 on 127.0.0.1 failed in file ../../sockethelper/sockethelper.cpp line 51. Exiting.\n",
      "Error connect socket: : Connection refused\n",
      "Error: bind to port 40588 on 127.0.0.1 failed in file ../../sockethelper/sockethelper.cpp line 51. Exiting.\n",
      "Error connect socket: : Connection refused\n",
      "Error: bind to port 40588 on 127.0.0.1 failed in file ../../sockethelper/sockethelper.cpp line 51. Exiting.\n",
      "Error connect socket: : Connection refused\n",
      "Error: bind to port 40588 on 127.0.0.1 failed in file ../../sockethelper/sockethelper.cpp line 51. Exiting.\n",
      "/home/ohm/PycharmProjects/FiFi/venv/lib/python3.8/site-packages/shapely/set_operations.py:426: RuntimeWarning: divide by zero encountered in unary_union\n",
      "  return lib.unary_union(collections, **kwargs)\n",
      "/home/ohm/PycharmProjects/FiFi/venv/lib/python3.8/site-packages/shapely/set_operations.py:133: RuntimeWarning: invalid value encountered in intersection\n",
      "  return lib.intersection(a, b, **kwargs)\n"
     ]
    },
    {
     "name": "stdout",
     "output_type": "stream",
     "text": [
      "F1: 0.2948089147635097\n",
      "Presicion: 0.9458480338678149\n",
      "Recall: 0.17461749371380797\n",
      "IoU: 0.21264911302600384\n"
     ]
    },
    {
     "name": "stderr",
     "output_type": "stream",
     "text": [
      "INFO: Created TensorFlow Lite XNNPACK delegate for CPU.\n",
      "Error connect socket: : Connection refused\n",
      "Error: bind to port 40588 on 127.0.0.1 failed in file ../../sockethelper/sockethelper.cpp line 51. Exiting.\n",
      "Error connect socket: : Connection refused\n",
      "Error: bind to port 40588 on 127.0.0.1 failed in file ../../sockethelper/sockethelper.cpp line 51. Exiting.\n",
      "Error connect socket: : Connection refused\n",
      "Error: bind to port 40588 on 127.0.0.1 failed in file ../../sockethelper/sockethelper.cpp line 51. Exiting.\n",
      "Error connect socket: : Connection refused\n",
      "Error: bind to port 40588 on 127.0.0.1 failed in file ../../sockethelper/sockethelper.cpp line 51. Exiting.\n",
      "/home/ohm/PycharmProjects/FiFi/venv/lib/python3.8/site-packages/shapely/set_operations.py:426: RuntimeWarning: divide by zero encountered in unary_union\n",
      "  return lib.unary_union(collections, **kwargs)\n"
     ]
    },
    {
     "name": "stdout",
     "output_type": "stream",
     "text": [
      "F1: 0.30370333826087653\n",
      "Presicion: 0.9399287757490219\n",
      "Recall: 0.18111140681859347\n",
      "IoU: 0.22809373976358222\n"
     ]
    },
    {
     "name": "stderr",
     "output_type": "stream",
     "text": [
      "INFO: Created TensorFlow Lite XNNPACK delegate for CPU.\n",
      "Error connect socket: : Connection refused\n",
      "Error: bind to port 40588 on 127.0.0.1 failed in file ../../sockethelper/sockethelper.cpp line 51. Exiting.\n",
      "Error connect socket: : Connection refused\n",
      "Error: bind to port 40588 on 127.0.0.1 failed in file ../../sockethelper/sockethelper.cpp line 51. Exiting.\n",
      "Error connect socket: : Connection refused\n",
      "Error: bind to port 40588 on 127.0.0.1 failed in file ../../sockethelper/sockethelper.cpp line 51. Exiting.\n",
      "Error connect socket: : Connection refused\n",
      "Error: bind to port 40588 on 127.0.0.1 failed in file ../../sockethelper/sockethelper.cpp line 51. Exiting.\n",
      "/home/ohm/PycharmProjects/FiFi/venv/lib/python3.8/site-packages/shapely/set_operations.py:426: RuntimeWarning: divide by zero encountered in unary_union\n",
      "  return lib.unary_union(collections, **kwargs)\n",
      "/home/ohm/PycharmProjects/FiFi/venv/lib/python3.8/site-packages/shapely/set_operations.py:133: RuntimeWarning: invalid value encountered in intersection\n",
      "  return lib.intersection(a, b, **kwargs)\n"
     ]
    },
    {
     "name": "stdout",
     "output_type": "stream",
     "text": [
      "F1: 0.3082123662836725\n",
      "Presicion: 0.92530202040721\n",
      "Recall: 0.1849008458396499\n",
      "IoU: 0.23410352216919036\n"
     ]
    },
    {
     "name": "stderr",
     "output_type": "stream",
     "text": [
      "INFO: Created TensorFlow Lite XNNPACK delegate for CPU.\n",
      "Error connect socket: : Connection refused\n",
      "Error: bind to port 40588 on 127.0.0.1 failed in file ../../sockethelper/sockethelper.cpp line 51. Exiting.\n",
      "Error connect socket: : Connection refused\n",
      "Error: bind to port 40588 on 127.0.0.1 failed in file ../../sockethelper/sockethelper.cpp line 51. Exiting.\n",
      "Error connect socket: : Connection refused\n",
      "Error: bind to port 40588 on 127.0.0.1 failed in file ../../sockethelper/sockethelper.cpp line 51. Exiting.\n",
      "Error connect socket: : Connection refused\n",
      "Error: bind to port 40588 on 127.0.0.1 failed in file ../../sockethelper/sockethelper.cpp line 51. Exiting.\n",
      "/home/ohm/PycharmProjects/FiFi/venv/lib/python3.8/site-packages/shapely/set_operations.py:426: RuntimeWarning: divide by zero encountered in unary_union\n",
      "  return lib.unary_union(collections, **kwargs)\n",
      "/home/ohm/PycharmProjects/FiFi/venv/lib/python3.8/site-packages/shapely/set_operations.py:133: RuntimeWarning: invalid value encountered in intersection\n",
      "  return lib.intersection(a, b, **kwargs)\n"
     ]
    },
    {
     "name": "stdout",
     "output_type": "stream",
     "text": [
      "F1: 0.284673940012603\n",
      "Presicion: 0.9103919431167938\n",
      "Recall: 0.1687150467584459\n",
      "IoU: 0.21185825590363738\n"
     ]
    },
    {
     "name": "stderr",
     "output_type": "stream",
     "text": [
      "INFO: Created TensorFlow Lite XNNPACK delegate for CPU.\n",
      "Error connect socket: : Connection refused\n",
      "Error: bind to port 40588 on 127.0.0.1 failed in file ../../sockethelper/sockethelper.cpp line 51. Exiting.\n",
      "Error connect socket: : Connection refused\n",
      "Error: bind to port 40588 on 127.0.0.1 failed in file ../../sockethelper/sockethelper.cpp line 51. Exiting.\n",
      "Error connect socket: : Connection refused\n",
      "Error: bind to port 40588 on 127.0.0.1 failed in file ../../sockethelper/sockethelper.cpp line 51. Exiting.\n",
      "Error connect socket: : Connection refused\n",
      "Error: bind to port 40588 on 127.0.0.1 failed in file ../../sockethelper/sockethelper.cpp line 51. Exiting.\n",
      "/home/ohm/PycharmProjects/FiFi/venv/lib/python3.8/site-packages/shapely/set_operations.py:426: RuntimeWarning: divide by zero encountered in unary_union\n",
      "  return lib.unary_union(collections, **kwargs)\n",
      "/home/ohm/PycharmProjects/FiFi/venv/lib/python3.8/site-packages/shapely/set_operations.py:133: RuntimeWarning: invalid value encountered in intersection\n",
      "  return lib.intersection(a, b, **kwargs)\n"
     ]
    },
    {
     "name": "stdout",
     "output_type": "stream",
     "text": [
      "F1: 0.3003605116535937\n",
      "Presicion: 0.9067941414552001\n",
      "Recall: 0.179989527991383\n",
      "IoU: 0.22176389776381786\n"
     ]
    },
    {
     "name": "stderr",
     "output_type": "stream",
     "text": [
      "INFO: Created TensorFlow Lite XNNPACK delegate for CPU.\n",
      "Error connect socket: : Connection refused\n",
      "Error: bind to port 40588 on 127.0.0.1 failed in file ../../sockethelper/sockethelper.cpp line 51. Exiting.\n",
      "Error connect socket: : Connection refused\n",
      "Error: bind to port 40588 on 127.0.0.1 failed in file ../../sockethelper/sockethelper.cpp line 51. Exiting.\n",
      "Error connect socket: : Connection refused\n",
      "Error: bind to port 40588 on 127.0.0.1 failed in file ../../sockethelper/sockethelper.cpp line 51. Exiting.\n",
      "Error connect socket: : Connection refused\n",
      "Error: bind to port 40588 on 127.0.0.1 failed in file ../../sockethelper/sockethelper.cpp line 51. Exiting.\n",
      "/home/ohm/PycharmProjects/FiFi/venv/lib/python3.8/site-packages/shapely/set_operations.py:426: RuntimeWarning: divide by zero encountered in unary_union\n",
      "  return lib.unary_union(collections, **kwargs)\n"
     ]
    },
    {
     "name": "stdout",
     "output_type": "stream",
     "text": [
      "F1: 0.2925154927594687\n",
      "Presicion: 0.9183501748812611\n",
      "Recall: 0.17396340387153864\n",
      "IoU: 0.23028743897706153\n"
     ]
    },
    {
     "name": "stderr",
     "output_type": "stream",
     "text": [
      "INFO: Created TensorFlow Lite XNNPACK delegate for CPU.\n",
      "Error connect socket: : Connection refused\n",
      "Error: bind to port 40588 on 127.0.0.1 failed in file ../../sockethelper/sockethelper.cpp line 51. Exiting.\n",
      "Error connect socket: : Connection refused\n",
      "Error: bind to port 40588 on 127.0.0.1 failed in file ../../sockethelper/sockethelper.cpp line 51. Exiting.\n",
      "Error connect socket: : Connection refused\n",
      "Error: bind to port 40588 on 127.0.0.1 failed in file ../../sockethelper/sockethelper.cpp line 51. Exiting.\n",
      "Error connect socket: : Connection refused\n",
      "Error: bind to port 40588 on 127.0.0.1 failed in file ../../sockethelper/sockethelper.cpp line 51. Exiting.\n",
      "/home/ohm/PycharmProjects/FiFi/venv/lib/python3.8/site-packages/shapely/set_operations.py:426: RuntimeWarning: divide by zero encountered in unary_union\n",
      "  return lib.unary_union(collections, **kwargs)\n"
     ]
    },
    {
     "name": "stdout",
     "output_type": "stream",
     "text": [
      "F1: 0.3086384305833069\n",
      "Presicion: 0.9161587979924607\n",
      "Recall: 0.185578315959286\n",
      "IoU: 0.23472107816401133\n"
     ]
    },
    {
     "name": "stderr",
     "output_type": "stream",
     "text": [
      "INFO: Created TensorFlow Lite XNNPACK delegate for CPU.\n",
      "Error connect socket: : Connection refused\n",
      "Error: bind to port 40588 on 127.0.0.1 failed in file ../../sockethelper/sockethelper.cpp line 51. Exiting.\n",
      "Error connect socket: : Connection refused\n",
      "Error: bind to port 40588 on 127.0.0.1 failed in file ../../sockethelper/sockethelper.cpp line 51. Exiting.\n",
      "Error connect socket: : Connection refused\n",
      "Error: bind to port 40588 on 127.0.0.1 failed in file ../../sockethelper/sockethelper.cpp line 51. Exiting.\n",
      "Error connect socket: : Connection refused\n",
      "Error: bind to port 40588 on 127.0.0.1 failed in file ../../sockethelper/sockethelper.cpp line 51. Exiting.\n",
      "/home/ohm/PycharmProjects/FiFi/venv/lib/python3.8/site-packages/shapely/set_operations.py:426: RuntimeWarning: divide by zero encountered in unary_union\n",
      "  return lib.unary_union(collections, **kwargs)\n",
      "/home/ohm/PycharmProjects/FiFi/venv/lib/python3.8/site-packages/shapely/set_operations.py:133: RuntimeWarning: invalid value encountered in intersection\n",
      "  return lib.intersection(a, b, **kwargs)\n"
     ]
    },
    {
     "name": "stdout",
     "output_type": "stream",
     "text": [
      "F1: 0.28496085938021365\n",
      "Presicion: 0.9156188367649569\n",
      "Recall: 0.16873791820562964\n",
      "IoU: 0.21424436615736336\n"
     ]
    },
    {
     "name": "stderr",
     "output_type": "stream",
     "text": [
      "INFO: Created TensorFlow Lite XNNPACK delegate for CPU.\n",
      "Error connect socket: : Connection refused\n",
      "Error: bind to port 40588 on 127.0.0.1 failed in file ../../sockethelper/sockethelper.cpp line 51. Exiting.\n",
      "Error connect socket: : Connection refused\n",
      "Error: bind to port 40588 on 127.0.0.1 failed in file ../../sockethelper/sockethelper.cpp line 51. Exiting.\n",
      "Error connect socket: : Connection refused\n",
      "Error: bind to port 40588 on 127.0.0.1 failed in file ../../sockethelper/sockethelper.cpp line 51. Exiting.\n",
      "Error connect socket: : Connection refused\n",
      "Error: bind to port 40588 on 127.0.0.1 failed in file ../../sockethelper/sockethelper.cpp line 51. Exiting.\n",
      "/home/ohm/PycharmProjects/FiFi/venv/lib/python3.8/site-packages/shapely/set_operations.py:426: RuntimeWarning: divide by zero encountered in unary_union\n",
      "  return lib.unary_union(collections, **kwargs)\n",
      "/home/ohm/PycharmProjects/FiFi/venv/lib/python3.8/site-packages/shapely/set_operations.py:133: RuntimeWarning: invalid value encountered in intersection\n",
      "  return lib.intersection(a, b, **kwargs)\n"
     ]
    },
    {
     "name": "stdout",
     "output_type": "stream",
     "text": [
      "F1: 0.2792806559330763\n",
      "Presicion: 0.8990770743516135\n",
      "Recall: 0.16531649031635826\n",
      "IoU: 0.2188447216998064\n"
     ]
    },
    {
     "name": "stderr",
     "output_type": "stream",
     "text": [
      "INFO: Created TensorFlow Lite XNNPACK delegate for CPU.\n",
      "Error connect socket: : Connection refused\n",
      "Error: bind to port 40588 on 127.0.0.1 failed in file ../../sockethelper/sockethelper.cpp line 51. Exiting.\n",
      "Error connect socket: : Connection refused\n",
      "Error: bind to port 40588 on 127.0.0.1 failed in file ../../sockethelper/sockethelper.cpp line 51. Exiting.\n",
      "Error connect socket: : Connection refused\n",
      "Error: bind to port 40588 on 127.0.0.1 failed in file ../../sockethelper/sockethelper.cpp line 51. Exiting.\n",
      "Error connect socket: : Connection refused\n",
      "Error: bind to port 40588 on 127.0.0.1 failed in file ../../sockethelper/sockethelper.cpp line 51. Exiting.\n",
      "/home/ohm/PycharmProjects/FiFi/venv/lib/python3.8/site-packages/shapely/set_operations.py:426: RuntimeWarning: divide by zero encountered in unary_union\n",
      "  return lib.unary_union(collections, **kwargs)\n"
     ]
    },
    {
     "name": "stdout",
     "output_type": "stream",
     "text": [
      "F1: 0.30127036413373187\n",
      "Presicion: 0.9121684028197699\n",
      "Recall: 0.18043159469596176\n",
      "IoU: 0.225715174673805\n"
     ]
    },
    {
     "name": "stderr",
     "output_type": "stream",
     "text": [
      "INFO: Created TensorFlow Lite XNNPACK delegate for CPU.\n",
      "Error connect socket: : Connection refused\n",
      "Error: bind to port 40588 on 127.0.0.1 failed in file ../../sockethelper/sockethelper.cpp line 51. Exiting.\n",
      "Error connect socket: : Connection refused\n",
      "Error: bind to port 40588 on 127.0.0.1 failed in file ../../sockethelper/sockethelper.cpp line 51. Exiting.\n",
      "Error connect socket: : Connection refused\n",
      "Error: bind to port 40588 on 127.0.0.1 failed in file ../../sockethelper/sockethelper.cpp line 51. Exiting.\n",
      "Error connect socket: : Connection refused\n",
      "Error: bind to port 40588 on 127.0.0.1 failed in file ../../sockethelper/sockethelper.cpp line 51. Exiting.\n",
      "/home/ohm/PycharmProjects/FiFi/venv/lib/python3.8/site-packages/shapely/set_operations.py:426: RuntimeWarning: divide by zero encountered in unary_union\n",
      "  return lib.unary_union(collections, **kwargs)\n",
      "/home/ohm/PycharmProjects/FiFi/venv/lib/python3.8/site-packages/shapely/set_operations.py:133: RuntimeWarning: invalid value encountered in intersection\n",
      "  return lib.intersection(a, b, **kwargs)\n"
     ]
    },
    {
     "name": "stdout",
     "output_type": "stream",
     "text": [
      "F1: 0.2893361386124705\n",
      "Presicion: 0.9156056055722697\n",
      "Recall: 0.1718153403784944\n",
      "IoU: 0.22364942867547455\n"
     ]
    },
    {
     "name": "stderr",
     "output_type": "stream",
     "text": [
      "INFO: Created TensorFlow Lite XNNPACK delegate for CPU.\n",
      "Error connect socket: : Connection refused\n",
      "Error: bind to port 40588 on 127.0.0.1 failed in file ../../sockethelper/sockethelper.cpp line 51. Exiting.\n",
      "Error connect socket: : Connection refused\n",
      "Error: bind to port 40588 on 127.0.0.1 failed in file ../../sockethelper/sockethelper.cpp line 51. Exiting.\n",
      "Error connect socket: : Connection refused\n",
      "Error: bind to port 40588 on 127.0.0.1 failed in file ../../sockethelper/sockethelper.cpp line 51. Exiting.\n",
      "Error connect socket: : Connection refused\n",
      "Error: bind to port 40588 on 127.0.0.1 failed in file ../../sockethelper/sockethelper.cpp line 51. Exiting.\n",
      "/home/ohm/PycharmProjects/FiFi/venv/lib/python3.8/site-packages/shapely/set_operations.py:426: RuntimeWarning: divide by zero encountered in unary_union\n",
      "  return lib.unary_union(collections, **kwargs)\n",
      "/home/ohm/PycharmProjects/FiFi/venv/lib/python3.8/site-packages/shapely/set_operations.py:133: RuntimeWarning: invalid value encountered in intersection\n",
      "  return lib.intersection(a, b, **kwargs)\n"
     ]
    },
    {
     "name": "stdout",
     "output_type": "stream",
     "text": [
      "F1: 0.2933299527419285\n",
      "Presicion: 0.9127307514942503\n",
      "Recall: 0.17474430844977137\n",
      "IoU: 0.22008129560663542\n"
     ]
    },
    {
     "name": "stderr",
     "output_type": "stream",
     "text": [
      "INFO: Created TensorFlow Lite XNNPACK delegate for CPU.\n",
      "Error connect socket: : Connection refused\n",
      "Error: bind to port 40588 on 127.0.0.1 failed in file ../../sockethelper/sockethelper.cpp line 51. Exiting.\n",
      "Segmentation fault\n",
      "/home/ohm/PycharmProjects/FiFi/venv/lib/python3.8/site-packages/shapely/set_operations.py:426: RuntimeWarning: divide by zero encountered in unary_union\n",
      "  return lib.unary_union(collections, **kwargs)\n"
     ]
    },
    {
     "name": "stdout",
     "output_type": "stream",
     "text": [
      "F1: 0.08904158516053173\n",
      "Presicion: 0.9528132492669349\n",
      "Recall: 0.04670302029490031\n",
      "IoU: 0.05793207074615064\n"
     ]
    },
    {
     "name": "stderr",
     "output_type": "stream",
     "text": [
      "INFO: Created TensorFlow Lite XNNPACK delegate for CPU.\n",
      "Error connect socket: : Connection refused\n",
      "Error: bind to port 40588 on 127.0.0.1 failed in file ../../sockethelper/sockethelper.cpp line 51. Exiting.\n",
      "Segmentation fault\n",
      "/home/ohm/PycharmProjects/FiFi/venv/lib/python3.8/site-packages/shapely/set_operations.py:426: RuntimeWarning: divide by zero encountered in unary_union\n",
      "  return lib.unary_union(collections, **kwargs)\n"
     ]
    },
    {
     "name": "stdout",
     "output_type": "stream",
     "text": [
      "F1: 0.08904158516053173\n",
      "Presicion: 0.9528132492669349\n",
      "Recall: 0.04670302029490031\n",
      "IoU: 0.05793207074615064\n"
     ]
    },
    {
     "name": "stderr",
     "output_type": "stream",
     "text": [
      "INFO: Created TensorFlow Lite XNNPACK delegate for CPU.\n",
      "Error connect socket: : Connection refused\n",
      "Error: bind to port 40588 on 127.0.0.1 failed in file ../../sockethelper/sockethelper.cpp line 51. Exiting.\n",
      "Error connect socket: : Connection refused\n",
      "Error: bind to port 40588 on 127.0.0.1 failed in file ../../sockethelper/sockethelper.cpp line 51. Exiting.\n",
      "Error connect socket: : Connection refused\n",
      "Error: bind to port 40588 on 127.0.0.1 failed in file ../../sockethelper/sockethelper.cpp line 51. Exiting.\n",
      "Error connect socket: : Connection refused\n",
      "Error: bind to port 40588 on 127.0.0.1 failed in file ../../sockethelper/sockethelper.cpp line 51. Exiting.\n",
      "/home/ohm/PycharmProjects/FiFi/venv/lib/python3.8/site-packages/shapely/set_operations.py:426: RuntimeWarning: divide by zero encountered in unary_union\n",
      "  return lib.unary_union(collections, **kwargs)\n",
      "/home/ohm/PycharmProjects/FiFi/venv/lib/python3.8/site-packages/shapely/set_operations.py:133: RuntimeWarning: invalid value encountered in intersection\n",
      "  return lib.intersection(a, b, **kwargs)\n"
     ]
    },
    {
     "name": "stdout",
     "output_type": "stream",
     "text": [
      "F1: 0.30572405164288374\n",
      "Presicion: 0.9338863418855744\n",
      "Recall: 0.1827801710796958\n",
      "IoU: 0.22821121205437975\n"
     ]
    },
    {
     "name": "stderr",
     "output_type": "stream",
     "text": [
      "INFO: Created TensorFlow Lite XNNPACK delegate for CPU.\n",
      "Error connect socket: : Connection refused\n",
      "Error: bind to port 40588 on 127.0.0.1 failed in file ../../sockethelper/sockethelper.cpp line 51. Exiting.\n",
      "Error connect socket: : Connection refused\n",
      "Error: bind to port 40588 on 127.0.0.1 failed in file ../../sockethelper/sockethelper.cpp line 51. Exiting.\n",
      "Error connect socket: : Connection refused\n",
      "Error: bind to port 40588 on 127.0.0.1 failed in file ../../sockethelper/sockethelper.cpp line 51. Exiting.\n",
      "Error connect socket: : Connection refused\n",
      "Error: bind to port 40588 on 127.0.0.1 failed in file ../../sockethelper/sockethelper.cpp line 51. Exiting.\n",
      "/home/ohm/PycharmProjects/FiFi/venv/lib/python3.8/site-packages/shapely/set_operations.py:426: RuntimeWarning: divide by zero encountered in unary_union\n",
      "  return lib.unary_union(collections, **kwargs)\n",
      "/home/ohm/PycharmProjects/FiFi/venv/lib/python3.8/site-packages/shapely/set_operations.py:133: RuntimeWarning: invalid value encountered in intersection\n",
      "  return lib.intersection(a, b, **kwargs)\n"
     ]
    },
    {
     "name": "stdout",
     "output_type": "stream",
     "text": [
      "F1: 0.2941762087290744\n",
      "Presicion: 0.9412267436413857\n",
      "Recall: 0.17433134550093876\n",
      "IoU: 0.21462166655400605\n"
     ]
    },
    {
     "name": "stderr",
     "output_type": "stream",
     "text": [
      "INFO: Created TensorFlow Lite XNNPACK delegate for CPU.\n",
      "Error connect socket: : Connection refused\n",
      "Error: bind to port 40588 on 127.0.0.1 failed in file ../../sockethelper/sockethelper.cpp line 51. Exiting.\n",
      "Error connect socket: : Connection refused\n",
      "Error: bind to port 40588 on 127.0.0.1 failed in file ../../sockethelper/sockethelper.cpp line 51. Exiting.\n",
      "Error connect socket: : Connection refused\n",
      "Error: bind to port 40588 on 127.0.0.1 failed in file ../../sockethelper/sockethelper.cpp line 51. Exiting.\n",
      "Error connect socket: : Connection refused\n",
      "Error: bind to port 40588 on 127.0.0.1 failed in file ../../sockethelper/sockethelper.cpp line 51. Exiting.\n",
      "/home/ohm/PycharmProjects/FiFi/venv/lib/python3.8/site-packages/shapely/set_operations.py:426: RuntimeWarning: divide by zero encountered in unary_union\n",
      "  return lib.unary_union(collections, **kwargs)\n",
      "/home/ohm/PycharmProjects/FiFi/venv/lib/python3.8/site-packages/shapely/set_operations.py:133: RuntimeWarning: invalid value encountered in intersection\n",
      "  return lib.intersection(a, b, **kwargs)\n"
     ]
    },
    {
     "name": "stdout",
     "output_type": "stream",
     "text": [
      "F1: 0.3064543488819901\n",
      "Presicion: 0.9294692544415383\n",
      "Recall: 0.18347362408870635\n",
      "IoU: 0.22556965728032452\n"
     ]
    },
    {
     "name": "stderr",
     "output_type": "stream",
     "text": [
      "INFO: Created TensorFlow Lite XNNPACK delegate for CPU.\n",
      "Error connect socket: : Connection refused\n",
      "Error: bind to port 40588 on 127.0.0.1 failed in file ../../sockethelper/sockethelper.cpp line 51. Exiting.\n",
      "Error connect socket: : Connection refused\n",
      "Error: bind to port 40588 on 127.0.0.1 failed in file ../../sockethelper/sockethelper.cpp line 51. Exiting.\n",
      "Error connect socket: : Connection refused\n",
      "Error: bind to port 40588 on 127.0.0.1 failed in file ../../sockethelper/sockethelper.cpp line 51. Exiting.\n",
      "Error connect socket: : Connection refused\n",
      "Error: bind to port 40588 on 127.0.0.1 failed in file ../../sockethelper/sockethelper.cpp line 51. Exiting.\n",
      "/home/ohm/PycharmProjects/FiFi/venv/lib/python3.8/site-packages/shapely/set_operations.py:426: RuntimeWarning: divide by zero encountered in unary_union\n",
      "  return lib.unary_union(collections, **kwargs)\n",
      "/home/ohm/PycharmProjects/FiFi/venv/lib/python3.8/site-packages/shapely/set_operations.py:133: RuntimeWarning: invalid value encountered in intersection\n",
      "  return lib.intersection(a, b, **kwargs)\n"
     ]
    },
    {
     "name": "stdout",
     "output_type": "stream",
     "text": [
      "F1: 0.3050707148377295\n",
      "Presicion: 0.9114634796977358\n",
      "Recall: 0.1831931161444681\n",
      "IoU: 0.2294064695952816\n"
     ]
    },
    {
     "name": "stderr",
     "output_type": "stream",
     "text": [
      "INFO: Created TensorFlow Lite XNNPACK delegate for CPU.\n",
      "Error connect socket: : Connection refused\n",
      "Error: bind to port 40588 on 127.0.0.1 failed in file ../../sockethelper/sockethelper.cpp line 51. Exiting.\n",
      "Error connect socket: : Connection refused\n",
      "Error: bind to port 40588 on 127.0.0.1 failed in file ../../sockethelper/sockethelper.cpp line 51. Exiting.\n",
      "Error connect socket: : Connection refused\n",
      "Error: bind to port 40588 on 127.0.0.1 failed in file ../../sockethelper/sockethelper.cpp line 51. Exiting.\n",
      "Error connect socket: : Connection refused\n",
      "Error: bind to port 40588 on 127.0.0.1 failed in file ../../sockethelper/sockethelper.cpp line 51. Exiting.\n",
      "/home/ohm/PycharmProjects/FiFi/venv/lib/python3.8/site-packages/shapely/set_operations.py:426: RuntimeWarning: divide by zero encountered in unary_union\n",
      "  return lib.unary_union(collections, **kwargs)\n",
      "/home/ohm/PycharmProjects/FiFi/venv/lib/python3.8/site-packages/shapely/set_operations.py:133: RuntimeWarning: invalid value encountered in intersection\n",
      "  return lib.intersection(a, b, **kwargs)\n"
     ]
    },
    {
     "name": "stdout",
     "output_type": "stream",
     "text": [
      "F1: 0.233804371281631\n",
      "Presicion: 0.9337453551228565\n",
      "Recall: 0.13363259548958165\n",
      "IoU: 0.14552601744436852\n"
     ]
    },
    {
     "name": "stderr",
     "output_type": "stream",
     "text": [
      "INFO: Created TensorFlow Lite XNNPACK delegate for CPU.\n",
      "Segmentation fault\n",
      "/home/ohm/PycharmProjects/FiFi/venv/lib/python3.8/site-packages/shapely/set_operations.py:426: RuntimeWarning: divide by zero encountered in unary_union\n",
      "  return lib.unary_union(collections, **kwargs)\n"
     ]
    },
    {
     "name": "stdout",
     "output_type": "stream",
     "text": [
      "F1: 0.08904158516053173\n",
      "Presicion: 0.9528132492669349\n",
      "Recall: 0.04670302029490031\n",
      "IoU: 0.05793207074615064\n"
     ]
    },
    {
     "name": "stderr",
     "output_type": "stream",
     "text": [
      "INFO: Created TensorFlow Lite XNNPACK delegate for CPU.\n",
      "Error connect socket: : Connection refused\n",
      "Error: bind to port 40588 on 127.0.0.1 failed in file ../../sockethelper/sockethelper.cpp line 51. Exiting.\n",
      "Error connect socket: : Connection refused\n",
      "Error: bind to port 40588 on 127.0.0.1 failed in file ../../sockethelper/sockethelper.cpp line 51. Exiting.\n",
      "Error connect socket: : Connection refused\n",
      "Error: bind to port 40588 on 127.0.0.1 failed in file ../../sockethelper/sockethelper.cpp line 51. Exiting.\n",
      "Error connect socket: : Connection refused\n",
      "Error: bind to port 40588 on 127.0.0.1 failed in file ../../sockethelper/sockethelper.cpp line 51. Exiting.\n",
      "/home/ohm/PycharmProjects/FiFi/venv/lib/python3.8/site-packages/shapely/set_operations.py:426: RuntimeWarning: divide by zero encountered in unary_union\n",
      "  return lib.unary_union(collections, **kwargs)\n"
     ]
    },
    {
     "name": "stdout",
     "output_type": "stream",
     "text": [
      "F1: 0.2990659094397604\n",
      "Presicion: 0.9164654724129928\n",
      "Recall: 0.17868819854043902\n",
      "IoU: 0.2117957902509461\n"
     ]
    },
    {
     "name": "stderr",
     "output_type": "stream",
     "text": [
      "INFO: Created TensorFlow Lite XNNPACK delegate for CPU.\n",
      "Error connect socket: : Connection refused\n",
      "Error: bind to port 40588 on 127.0.0.1 failed in file ../../sockethelper/sockethelper.cpp line 51. Exiting.\n",
      "Error connect socket: : Connection refused\n",
      "Error: bind to port 40588 on 127.0.0.1 failed in file ../../sockethelper/sockethelper.cpp line 51. Exiting.\n",
      "Error connect socket: : Connection refused\n",
      "Error: bind to port 40588 on 127.0.0.1 failed in file ../../sockethelper/sockethelper.cpp line 51. Exiting.\n",
      "Error connect socket: : Connection refused\n",
      "Error: bind to port 40588 on 127.0.0.1 failed in file ../../sockethelper/sockethelper.cpp line 51. Exiting.\n",
      "/home/ohm/PycharmProjects/FiFi/venv/lib/python3.8/site-packages/shapely/set_operations.py:426: RuntimeWarning: divide by zero encountered in unary_union\n",
      "  return lib.unary_union(collections, **kwargs)\n",
      "/home/ohm/PycharmProjects/FiFi/venv/lib/python3.8/site-packages/shapely/set_operations.py:133: RuntimeWarning: invalid value encountered in intersection\n",
      "  return lib.intersection(a, b, **kwargs)\n"
     ]
    },
    {
     "name": "stdout",
     "output_type": "stream",
     "text": [
      "F1: 0.3042919689902001\n",
      "Presicion: 0.9172081214995361\n",
      "Recall: 0.1824028740709189\n",
      "IoU: 0.2242628065329527\n"
     ]
    },
    {
     "name": "stderr",
     "output_type": "stream",
     "text": [
      "INFO: Created TensorFlow Lite XNNPACK delegate for CPU.\n",
      "Error connect socket: : Connection refused\n",
      "Error: bind to port 40588 on 127.0.0.1 failed in file ../../sockethelper/sockethelper.cpp line 51. Exiting.\n",
      "Error connect socket: : Connection refused\n",
      "Error: bind to port 40588 on 127.0.0.1 failed in file ../../sockethelper/sockethelper.cpp line 51. Exiting.\n",
      "Error connect socket: : Connection refused\n",
      "Error: bind to port 40588 on 127.0.0.1 failed in file ../../sockethelper/sockethelper.cpp line 51. Exiting.\n",
      "Error connect socket: : Connection refused\n",
      "Error: bind to port 40588 on 127.0.0.1 failed in file ../../sockethelper/sockethelper.cpp line 51. Exiting.\n",
      "/home/ohm/PycharmProjects/FiFi/venv/lib/python3.8/site-packages/shapely/set_operations.py:426: RuntimeWarning: divide by zero encountered in unary_union\n",
      "  return lib.unary_union(collections, **kwargs)\n",
      "/home/ohm/PycharmProjects/FiFi/venv/lib/python3.8/site-packages/shapely/set_operations.py:133: RuntimeWarning: invalid value encountered in intersection\n",
      "  return lib.intersection(a, b, **kwargs)\n"
     ]
    },
    {
     "name": "stdout",
     "output_type": "stream",
     "text": [
      "F1: 0.30136951126989225\n",
      "Presicion: 0.9306332803547412\n",
      "Recall: 0.1797967993931169\n",
      "IoU: 0.22146501202409968\n"
     ]
    },
    {
     "name": "stderr",
     "output_type": "stream",
     "text": [
      "INFO: Created TensorFlow Lite XNNPACK delegate for CPU.\n",
      "Error connect socket: : Connection refused\n",
      "Error: bind to port 40588 on 127.0.0.1 failed in file ../../sockethelper/sockethelper.cpp line 51. Exiting.\n",
      "Error connect socket: : Connection refused\n",
      "Error: bind to port 40588 on 127.0.0.1 failed in file ../../sockethelper/sockethelper.cpp line 51. Exiting.\n",
      "Error connect socket: : Connection refused\n",
      "Error: bind to port 40588 on 127.0.0.1 failed in file ../../sockethelper/sockethelper.cpp line 51. Exiting.\n",
      "Error connect socket: : Connection refused\n",
      "Error: bind to port 40588 on 127.0.0.1 failed in file ../../sockethelper/sockethelper.cpp line 51. Exiting.\n",
      "/home/ohm/PycharmProjects/FiFi/venv/lib/python3.8/site-packages/shapely/set_operations.py:426: RuntimeWarning: divide by zero encountered in unary_union\n",
      "  return lib.unary_union(collections, **kwargs)\n",
      "/home/ohm/PycharmProjects/FiFi/venv/lib/python3.8/site-packages/shapely/set_operations.py:133: RuntimeWarning: invalid value encountered in intersection\n",
      "  return lib.intersection(a, b, **kwargs)\n"
     ]
    },
    {
     "name": "stdout",
     "output_type": "stream",
     "text": [
      "F1: 0.30834259695343547\n",
      "Presicion: 0.9175996396496274\n",
      "Recall: 0.1853055752543908\n",
      "IoU: 0.23361012192951672\n"
     ]
    },
    {
     "name": "stderr",
     "output_type": "stream",
     "text": [
      "INFO: Created TensorFlow Lite XNNPACK delegate for CPU.\n",
      "Error connect socket: : Connection refused\n",
      "Error: bind to port 40588 on 127.0.0.1 failed in file ../../sockethelper/sockethelper.cpp line 51. Exiting.\n",
      "Error connect socket: : Connection refused\n",
      "Error: bind to port 40588 on 127.0.0.1 failed in file ../../sockethelper/sockethelper.cpp line 51. Exiting.\n",
      "Error connect socket: : Connection refused\n",
      "Error: bind to port 40588 on 127.0.0.1 failed in file ../../sockethelper/sockethelper.cpp line 51. Exiting.\n",
      "Error connect socket: : Connection refused\n",
      "Error: bind to port 40588 on 127.0.0.1 failed in file ../../sockethelper/sockethelper.cpp line 51. Exiting.\n",
      "/home/ohm/PycharmProjects/FiFi/venv/lib/python3.8/site-packages/shapely/set_operations.py:426: RuntimeWarning: divide by zero encountered in unary_union\n",
      "  return lib.unary_union(collections, **kwargs)\n",
      "/home/ohm/PycharmProjects/FiFi/venv/lib/python3.8/site-packages/shapely/set_operations.py:133: RuntimeWarning: invalid value encountered in intersection\n",
      "  return lib.intersection(a, b, **kwargs)\n"
     ]
    },
    {
     "name": "stdout",
     "output_type": "stream",
     "text": [
      "F1: 0.28728899242584277\n",
      "Presicion: 0.8965762022476117\n",
      "Recall: 0.1710490285587983\n",
      "IoU: 0.2066750354798036\n"
     ]
    },
    {
     "name": "stderr",
     "output_type": "stream",
     "text": [
      "INFO: Created TensorFlow Lite XNNPACK delegate for CPU.\n",
      "Error connect socket: : Connection refused\n",
      "Error: bind to port 40588 on 127.0.0.1 failed in file ../../sockethelper/sockethelper.cpp line 51. Exiting.\n",
      "Error connect socket: : Connection refused\n",
      "Error: bind to port 40588 on 127.0.0.1 failed in file ../../sockethelper/sockethelper.cpp line 51. Exiting.\n",
      "Error connect socket: : Connection refused\n",
      "Error: bind to port 40588 on 127.0.0.1 failed in file ../../sockethelper/sockethelper.cpp line 51. Exiting.\n",
      "Error connect socket: : Connection refused\n",
      "Error: bind to port 40588 on 127.0.0.1 failed in file ../../sockethelper/sockethelper.cpp line 51. Exiting.\n",
      "/home/ohm/PycharmProjects/FiFi/venv/lib/python3.8/site-packages/shapely/set_operations.py:426: RuntimeWarning: divide by zero encountered in unary_union\n",
      "  return lib.unary_union(collections, **kwargs)\n"
     ]
    },
    {
     "name": "stdout",
     "output_type": "stream",
     "text": [
      "F1: 0.29763699295329954\n",
      "Presicion: 0.9052714691925043\n",
      "Recall: 0.17809585500702554\n",
      "IoU: 0.2284973547551418\n"
     ]
    },
    {
     "name": "stderr",
     "output_type": "stream",
     "text": [
      "INFO: Created TensorFlow Lite XNNPACK delegate for CPU.\n",
      "Error connect socket: : Connection refused\n",
      "Error: bind to port 40588 on 127.0.0.1 failed in file ../../sockethelper/sockethelper.cpp line 51. Exiting.\n",
      "Error connect socket: : Connection refused\n",
      "Error: bind to port 40588 on 127.0.0.1 failed in file ../../sockethelper/sockethelper.cpp line 51. Exiting.\n",
      "Error connect socket: : Connection refused\n",
      "Error: bind to port 40588 on 127.0.0.1 failed in file ../../sockethelper/sockethelper.cpp line 51. Exiting.\n",
      "Error connect socket: : Connection refused\n",
      "Error: bind to port 40588 on 127.0.0.1 failed in file ../../sockethelper/sockethelper.cpp line 51. Exiting.\n",
      "/home/ohm/PycharmProjects/FiFi/venv/lib/python3.8/site-packages/shapely/set_operations.py:426: RuntimeWarning: divide by zero encountered in unary_union\n",
      "  return lib.unary_union(collections, **kwargs)\n",
      "/home/ohm/PycharmProjects/FiFi/venv/lib/python3.8/site-packages/shapely/set_operations.py:133: RuntimeWarning: invalid value encountered in intersection\n",
      "  return lib.intersection(a, b, **kwargs)\n"
     ]
    },
    {
     "name": "stdout",
     "output_type": "stream",
     "text": [
      "F1: 0.2900512728450699\n",
      "Presicion: 0.899045689679133\n",
      "Recall: 0.17291937098426524\n",
      "IoU: 0.23209300520286133\n"
     ]
    },
    {
     "name": "stderr",
     "output_type": "stream",
     "text": [
      "INFO: Created TensorFlow Lite XNNPACK delegate for CPU.\n",
      "Error connect socket: : Connection refused\n",
      "Error: bind to port 40588 on 127.0.0.1 failed in file ../../sockethelper/sockethelper.cpp line 51. Exiting.\n",
      "Error connect socket: : Connection refused\n",
      "Error: bind to port 40588 on 127.0.0.1 failed in file ../../sockethelper/sockethelper.cpp line 51. Exiting.\n",
      "Error connect socket: : Connection refused\n",
      "Error: bind to port 40588 on 127.0.0.1 failed in file ../../sockethelper/sockethelper.cpp line 51. Exiting.\n",
      "Error connect socket: : Connection refused\n",
      "Error: bind to port 40588 on 127.0.0.1 failed in file ../../sockethelper/sockethelper.cpp line 51. Exiting.\n",
      "/home/ohm/PycharmProjects/FiFi/venv/lib/python3.8/site-packages/shapely/set_operations.py:426: RuntimeWarning: divide by zero encountered in unary_union\n",
      "  return lib.unary_union(collections, **kwargs)\n",
      "/home/ohm/PycharmProjects/FiFi/venv/lib/python3.8/site-packages/shapely/set_operations.py:133: RuntimeWarning: invalid value encountered in intersection\n",
      "  return lib.intersection(a, b, **kwargs)\n"
     ]
    },
    {
     "name": "stdout",
     "output_type": "stream",
     "text": [
      "F1: 0.29987544613554434\n",
      "Presicion: 0.9211815673445728\n",
      "Recall: 0.17908715611099962\n",
      "IoU: 0.2340845238861632\n"
     ]
    },
    {
     "name": "stderr",
     "output_type": "stream",
     "text": [
      "INFO: Created TensorFlow Lite XNNPACK delegate for CPU.\n",
      "Error connect socket: : Connection refused\n",
      "Error: bind to port 40588 on 127.0.0.1 failed in file ../../sockethelper/sockethelper.cpp line 51. Exiting.\n",
      "Error connect socket: : Connection refused\n",
      "Error: bind to port 40588 on 127.0.0.1 failed in file ../../sockethelper/sockethelper.cpp line 51. Exiting.\n",
      "Error connect socket: : Connection refused\n",
      "Error: bind to port 40588 on 127.0.0.1 failed in file ../../sockethelper/sockethelper.cpp line 51. Exiting.\n",
      "Error connect socket: : Connection refused\n",
      "Error: bind to port 40588 on 127.0.0.1 failed in file ../../sockethelper/sockethelper.cpp line 51. Exiting.\n",
      "/home/ohm/PycharmProjects/FiFi/venv/lib/python3.8/site-packages/shapely/set_operations.py:426: RuntimeWarning: divide by zero encountered in unary_union\n",
      "  return lib.unary_union(collections, **kwargs)\n"
     ]
    },
    {
     "name": "stdout",
     "output_type": "stream",
     "text": [
      "F1: 0.30386104398477337\n",
      "Presicion: 0.9247804946708995\n",
      "Recall: 0.18179774632944576\n",
      "IoU: 0.23907322071105366\n"
     ]
    },
    {
     "name": "stderr",
     "output_type": "stream",
     "text": [
      "INFO: Created TensorFlow Lite XNNPACK delegate for CPU.\n",
      "Error connect socket: : Connection refused\n",
      "Error: bind to port 40588 on 127.0.0.1 failed in file ../../sockethelper/sockethelper.cpp line 51. Exiting.\n",
      "Error connect socket: : Connection refused\n",
      "Error: bind to port 40588 on 127.0.0.1 failed in file ../../sockethelper/sockethelper.cpp line 51. Exiting.\n",
      "Error connect socket: : Connection refused\n",
      "Error: bind to port 40588 on 127.0.0.1 failed in file ../../sockethelper/sockethelper.cpp line 51. Exiting.\n",
      "Error connect socket: : Connection refused\n",
      "Error: bind to port 40588 on 127.0.0.1 failed in file ../../sockethelper/sockethelper.cpp line 51. Exiting.\n",
      "/home/ohm/PycharmProjects/FiFi/venv/lib/python3.8/site-packages/shapely/set_operations.py:426: RuntimeWarning: divide by zero encountered in unary_union\n",
      "  return lib.unary_union(collections, **kwargs)\n",
      "/home/ohm/PycharmProjects/FiFi/venv/lib/python3.8/site-packages/shapely/set_operations.py:133: RuntimeWarning: invalid value encountered in intersection\n",
      "  return lib.intersection(a, b, **kwargs)\n"
     ]
    },
    {
     "name": "stdout",
     "output_type": "stream",
     "text": [
      "F1: 0.2791590251939891\n",
      "Presicion: 0.9210901472346121\n",
      "Recall: 0.16450871953715152\n",
      "IoU: 0.22112984635560828\n"
     ]
    },
    {
     "name": "stderr",
     "output_type": "stream",
     "text": [
      "INFO: Created TensorFlow Lite XNNPACK delegate for CPU.\n",
      "Error connect socket: : Connection refused\n",
      "Error: bind to port 40588 on 127.0.0.1 failed in file ../../sockethelper/sockethelper.cpp line 51. Exiting.\n",
      "Error connect socket: : Connection refused\n",
      "Error: bind to port 40588 on 127.0.0.1 failed in file ../../sockethelper/sockethelper.cpp line 51. Exiting.\n",
      "Error connect socket: : Connection refused\n",
      "Error: bind to port 40588 on 127.0.0.1 failed in file ../../sockethelper/sockethelper.cpp line 51. Exiting.\n",
      "Error connect socket: : Connection refused\n",
      "Error: bind to port 40588 on 127.0.0.1 failed in file ../../sockethelper/sockethelper.cpp line 51. Exiting.\n",
      "/home/ohm/PycharmProjects/FiFi/venv/lib/python3.8/site-packages/shapely/set_operations.py:426: RuntimeWarning: divide by zero encountered in unary_union\n",
      "  return lib.unary_union(collections, **kwargs)\n",
      "/home/ohm/PycharmProjects/FiFi/venv/lib/python3.8/site-packages/shapely/set_operations.py:133: RuntimeWarning: invalid value encountered in intersection\n",
      "  return lib.intersection(a, b, **kwargs)\n"
     ]
    },
    {
     "name": "stdout",
     "output_type": "stream",
     "text": [
      "F1: 0.30375963761564884\n",
      "Presicion: 0.9076341510717083\n",
      "Recall: 0.18240227614127863\n",
      "IoU: 0.22205362769131773\n"
     ]
    },
    {
     "name": "stderr",
     "output_type": "stream",
     "text": [
      "INFO: Created TensorFlow Lite XNNPACK delegate for CPU.\n",
      "Error connect socket: : Connection refused\n",
      "Error: bind to port 40588 on 127.0.0.1 failed in file ../../sockethelper/sockethelper.cpp line 51. Exiting.\n",
      "Error connect socket: : Connection refused\n",
      "Error: bind to port 40588 on 127.0.0.1 failed in file ../../sockethelper/sockethelper.cpp line 51. Exiting.\n",
      "Error connect socket: : Connection refused\n",
      "Error: bind to port 40588 on 127.0.0.1 failed in file ../../sockethelper/sockethelper.cpp line 51. Exiting.\n",
      "Error connect socket: : Connection refused\n",
      "Error: bind to port 40588 on 127.0.0.1 failed in file ../../sockethelper/sockethelper.cpp line 51. Exiting.\n",
      "/home/ohm/PycharmProjects/FiFi/venv/lib/python3.8/site-packages/shapely/set_operations.py:426: RuntimeWarning: divide by zero encountered in unary_union\n",
      "  return lib.unary_union(collections, **kwargs)\n",
      "/home/ohm/PycharmProjects/FiFi/venv/lib/python3.8/site-packages/shapely/set_operations.py:133: RuntimeWarning: invalid value encountered in intersection\n",
      "  return lib.intersection(a, b, **kwargs)\n"
     ]
    },
    {
     "name": "stdout",
     "output_type": "stream",
     "text": [
      "F1: 0.23824243459837952\n",
      "Presicion: 0.8928352995734306\n",
      "Recall: 0.13746115027434172\n",
      "IoU: 0.19899808854741996\n"
     ]
    },
    {
     "name": "stderr",
     "output_type": "stream",
     "text": [
      "INFO: Created TensorFlow Lite XNNPACK delegate for CPU.\n",
      "Error connect socket: : Connection refused\n",
      "Error: bind to port 40588 on 127.0.0.1 failed in file ../../sockethelper/sockethelper.cpp line 51. Exiting.\n",
      "Error connect socket: : Connection refused\n",
      "Error: bind to port 40588 on 127.0.0.1 failed in file ../../sockethelper/sockethelper.cpp line 51. Exiting.\n",
      "Error connect socket: : Connection refused\n",
      "Error: bind to port 40588 on 127.0.0.1 failed in file ../../sockethelper/sockethelper.cpp line 51. Exiting.\n",
      "Error connect socket: : Connection refused\n",
      "Error: bind to port 40588 on 127.0.0.1 failed in file ../../sockethelper/sockethelper.cpp line 51. Exiting.\n",
      "/home/ohm/PycharmProjects/FiFi/venv/lib/python3.8/site-packages/shapely/set_operations.py:426: RuntimeWarning: divide by zero encountered in unary_union\n",
      "  return lib.unary_union(collections, **kwargs)\n",
      "/home/ohm/PycharmProjects/FiFi/venv/lib/python3.8/site-packages/shapely/set_operations.py:133: RuntimeWarning: invalid value encountered in intersection\n",
      "  return lib.intersection(a, b, **kwargs)\n"
     ]
    },
    {
     "name": "stdout",
     "output_type": "stream",
     "text": [
      "F1: 0.3027659369089415\n",
      "Presicion: 0.9192537618441147\n",
      "Recall: 0.18122757686433708\n",
      "IoU: 0.2200673188871879\n"
     ]
    },
    {
     "name": "stderr",
     "output_type": "stream",
     "text": [
      "INFO: Created TensorFlow Lite XNNPACK delegate for CPU.\n",
      "Error connect socket: : Connection refused\n",
      "Error: bind to port 40588 on 127.0.0.1 failed in file ../../sockethelper/sockethelper.cpp line 51. Exiting.\n",
      "Error connect socket: : Connection refused\n",
      "Error: bind to port 40588 on 127.0.0.1 failed in file ../../sockethelper/sockethelper.cpp line 51. Exiting.\n",
      "Error connect socket: : Connection refused\n",
      "Error: bind to port 40588 on 127.0.0.1 failed in file ../../sockethelper/sockethelper.cpp line 51. Exiting.\n",
      "Error connect socket: : Connection refused\n",
      "Error: bind to port 40588 on 127.0.0.1 failed in file ../../sockethelper/sockethelper.cpp line 51. Exiting.\n",
      "/home/ohm/PycharmProjects/FiFi/venv/lib/python3.8/site-packages/shapely/set_operations.py:426: RuntimeWarning: divide by zero encountered in unary_union\n",
      "  return lib.unary_union(collections, **kwargs)\n",
      "/home/ohm/PycharmProjects/FiFi/venv/lib/python3.8/site-packages/shapely/set_operations.py:133: RuntimeWarning: invalid value encountered in intersection\n",
      "  return lib.intersection(a, b, **kwargs)\n"
     ]
    },
    {
     "name": "stdout",
     "output_type": "stream",
     "text": [
      "F1: 0.22059204218860393\n",
      "Presicion: 0.9473170462848823\n",
      "Recall: 0.12482995979251425\n",
      "IoU: 0.12944598471861038\n"
     ]
    },
    {
     "name": "stderr",
     "output_type": "stream",
     "text": [
      "INFO: Created TensorFlow Lite XNNPACK delegate for CPU.\n",
      "Error connect socket: : Connection refused\n",
      "Error: bind to port 40588 on 127.0.0.1 failed in file ../../sockethelper/sockethelper.cpp line 51. Exiting.\n",
      "Segmentation fault\n",
      "/home/ohm/PycharmProjects/FiFi/venv/lib/python3.8/site-packages/shapely/set_operations.py:426: RuntimeWarning: divide by zero encountered in unary_union\n",
      "  return lib.unary_union(collections, **kwargs)\n"
     ]
    },
    {
     "name": "stdout",
     "output_type": "stream",
     "text": [
      "F1: 0.09264541430350695\n",
      "Presicion: 0.9547369855369525\n",
      "Recall: 0.048684837788539014\n",
      "IoU: 0.06150830813786384\n"
     ]
    },
    {
     "name": "stderr",
     "output_type": "stream",
     "text": [
      "INFO: Created TensorFlow Lite XNNPACK delegate for CPU.\n",
      "Error connect socket: : Connection refused\n",
      "Error: bind to port 40588 on 127.0.0.1 failed in file ../../sockethelper/sockethelper.cpp line 51. Exiting.\n",
      "Error connect socket: : Connection refused\n",
      "Error: bind to port 40588 on 127.0.0.1 failed in file ../../sockethelper/sockethelper.cpp line 51. Exiting.\n",
      "Error connect socket: : Connection refused\n",
      "Error: bind to port 40588 on 127.0.0.1 failed in file ../../sockethelper/sockethelper.cpp line 51. Exiting.\n",
      "Error connect socket: : Connection refused\n",
      "Error: bind to port 40588 on 127.0.0.1 failed in file ../../sockethelper/sockethelper.cpp line 51. Exiting.\n",
      "/home/ohm/PycharmProjects/FiFi/venv/lib/python3.8/site-packages/shapely/set_operations.py:426: RuntimeWarning: divide by zero encountered in unary_union\n",
      "  return lib.unary_union(collections, **kwargs)\n"
     ]
    },
    {
     "name": "stdout",
     "output_type": "stream",
     "text": [
      "F1: 0.08904158516053173\n",
      "Presicion: 0.9528132492669349\n",
      "Recall: 0.04670302029490031\n",
      "IoU: 0.05793207074615064\n"
     ]
    },
    {
     "name": "stderr",
     "output_type": "stream",
     "text": [
      "INFO: Created TensorFlow Lite XNNPACK delegate for CPU.\n",
      "Error connect socket: : Connection refused\n",
      "Error: bind to port 40588 on 127.0.0.1 failed in file ../../sockethelper/sockethelper.cpp line 51. Exiting.\n",
      "Error connect socket: : Connection refused\n",
      "Error: bind to port 40588 on 127.0.0.1 failed in file ../../sockethelper/sockethelper.cpp line 51. Exiting.\n",
      "Error connect socket: : Connection refused\n",
      "Error: bind to port 40588 on 127.0.0.1 failed in file ../../sockethelper/sockethelper.cpp line 51. Exiting.\n",
      "Error connect socket: : Connection refused\n",
      "Error: bind to port 40588 on 127.0.0.1 failed in file ../../sockethelper/sockethelper.cpp line 51. Exiting.\n",
      "/home/ohm/PycharmProjects/FiFi/venv/lib/python3.8/site-packages/shapely/set_operations.py:426: RuntimeWarning: divide by zero encountered in unary_union\n",
      "  return lib.unary_union(collections, **kwargs)\n",
      "/home/ohm/PycharmProjects/FiFi/venv/lib/python3.8/site-packages/shapely/set_operations.py:133: RuntimeWarning: invalid value encountered in intersection\n",
      "  return lib.intersection(a, b, **kwargs)\n"
     ]
    },
    {
     "name": "stdout",
     "output_type": "stream",
     "text": [
      "F1: 0.29725282484628424\n",
      "Presicion: 0.9269053134473788\n",
      "Recall: 0.17700931017445357\n",
      "IoU: 0.22613940229697566\n"
     ]
    },
    {
     "name": "stderr",
     "output_type": "stream",
     "text": [
      "INFO: Created TensorFlow Lite XNNPACK delegate for CPU.\n",
      "Error connect socket: : Connection refused\n",
      "Error: bind to port 40588 on 127.0.0.1 failed in file ../../sockethelper/sockethelper.cpp line 51. Exiting.\n",
      "Segmentation fault\n",
      "/home/ohm/PycharmProjects/FiFi/venv/lib/python3.8/site-packages/shapely/set_operations.py:426: RuntimeWarning: divide by zero encountered in unary_union\n",
      "  return lib.unary_union(collections, **kwargs)\n"
     ]
    },
    {
     "name": "stdout",
     "output_type": "stream",
     "text": [
      "F1: 0.08904158516053173\n",
      "Presicion: 0.9528132492669349\n",
      "Recall: 0.04670302029490031\n",
      "IoU: 0.05793207074615064\n"
     ]
    },
    {
     "name": "stderr",
     "output_type": "stream",
     "text": [
      "INFO: Created TensorFlow Lite XNNPACK delegate for CPU.\n",
      "Segmentation fault\n",
      "/home/ohm/PycharmProjects/FiFi/venv/lib/python3.8/site-packages/shapely/set_operations.py:426: RuntimeWarning: divide by zero encountered in unary_union\n",
      "  return lib.unary_union(collections, **kwargs)\n"
     ]
    },
    {
     "name": "stdout",
     "output_type": "stream",
     "text": [
      "F1: 0.08904158516053173\n",
      "Presicion: 0.9528132492669349\n",
      "Recall: 0.04670302029490031\n",
      "IoU: 0.05793207074615064\n"
     ]
    },
    {
     "name": "stderr",
     "output_type": "stream",
     "text": [
      "INFO: Created TensorFlow Lite XNNPACK delegate for CPU.\n",
      "Error connect socket: : Connection refused\n",
      "Error: bind to port 40588 on 127.0.0.1 failed in file ../../sockethelper/sockethelper.cpp line 51. Exiting.\n",
      "Error connect socket: : Connection refused\n",
      "Error: bind to port 40588 on 127.0.0.1 failed in file ../../sockethelper/sockethelper.cpp line 51. Exiting.\n",
      "Error connect socket: : Connection refused\n",
      "Error: bind to port 40588 on 127.0.0.1 failed in file ../../sockethelper/sockethelper.cpp line 51. Exiting.\n",
      "Error connect socket: : Connection refused\n",
      "Error: bind to port 40588 on 127.0.0.1 failed in file ../../sockethelper/sockethelper.cpp line 51. Exiting.\n",
      "/home/ohm/PycharmProjects/FiFi/venv/lib/python3.8/site-packages/shapely/set_operations.py:426: RuntimeWarning: divide by zero encountered in unary_union\n",
      "  return lib.unary_union(collections, **kwargs)\n",
      "/home/ohm/PycharmProjects/FiFi/venv/lib/python3.8/site-packages/shapely/set_operations.py:133: RuntimeWarning: invalid value encountered in intersection\n",
      "  return lib.intersection(a, b, **kwargs)\n"
     ]
    },
    {
     "name": "stdout",
     "output_type": "stream",
     "text": [
      "F1: 0.3087882947381076\n",
      "Presicion: 0.9192008852885156\n",
      "Recall: 0.18556222102732656\n",
      "IoU: 0.23893929903634387\n"
     ]
    },
    {
     "name": "stderr",
     "output_type": "stream",
     "text": [
      "INFO: Created TensorFlow Lite XNNPACK delegate for CPU.\n",
      "Error connect socket: : Connection refused\n",
      "Error: bind to port 40588 on 127.0.0.1 failed in file ../../sockethelper/sockethelper.cpp line 51. Exiting.\n",
      "Error connect socket: : Connection refused\n",
      "Error: bind to port 40588 on 127.0.0.1 failed in file ../../sockethelper/sockethelper.cpp line 51. Exiting.\n",
      "Error connect socket: : Connection refused\n",
      "Error: bind to port 40588 on 127.0.0.1 failed in file ../../sockethelper/sockethelper.cpp line 51. Exiting.\n",
      "/home/ohm/PycharmProjects/FiFi/venv/lib/python3.8/site-packages/shapely/set_operations.py:426: RuntimeWarning: divide by zero encountered in unary_union\n",
      "  return lib.unary_union(collections, **kwargs)\n"
     ]
    },
    {
     "name": "stdout",
     "output_type": "stream",
     "text": [
      "F1: 0.08904158516053173\n",
      "Presicion: 0.9528132492669349\n",
      "Recall: 0.04670302029490031\n",
      "IoU: 0.05793207074615064\n"
     ]
    },
    {
     "name": "stderr",
     "output_type": "stream",
     "text": [
      "INFO: Created TensorFlow Lite XNNPACK delegate for CPU.\n",
      "Error connect socket: : Connection refused\n",
      "Error: bind to port 40588 on 127.0.0.1 failed in file ../../sockethelper/sockethelper.cpp line 51. Exiting.\n",
      "Error connect socket: : Connection refused\n",
      "Error: bind to port 40588 on 127.0.0.1 failed in file ../../sockethelper/sockethelper.cpp line 51. Exiting.\n",
      "Error connect socket: : Connection refused\n",
      "Error: bind to port 40588 on 127.0.0.1 failed in file ../../sockethelper/sockethelper.cpp line 51. Exiting.\n",
      "Error connect socket: : Connection refused\n",
      "Error: bind to port 40588 on 127.0.0.1 failed in file ../../sockethelper/sockethelper.cpp line 51. Exiting.\n",
      "/home/ohm/PycharmProjects/FiFi/venv/lib/python3.8/site-packages/shapely/set_operations.py:426: RuntimeWarning: divide by zero encountered in unary_union\n",
      "  return lib.unary_union(collections, **kwargs)\n",
      "/home/ohm/PycharmProjects/FiFi/venv/lib/python3.8/site-packages/shapely/set_operations.py:133: RuntimeWarning: invalid value encountered in intersection\n",
      "  return lib.intersection(a, b, **kwargs)\n"
     ]
    },
    {
     "name": "stdout",
     "output_type": "stream",
     "text": [
      "F1: 0.29386659340312354\n",
      "Presicion: 0.9250235103364359\n",
      "Recall: 0.17467994265760536\n",
      "IoU: 0.21973271131036548\n"
     ]
    },
    {
     "name": "stderr",
     "output_type": "stream",
     "text": [
      "INFO: Created TensorFlow Lite XNNPACK delegate for CPU.\n",
      "Error connect socket: : Connection refused\n",
      "Error: bind to port 40588 on 127.0.0.1 failed in file ../../sockethelper/sockethelper.cpp line 51. Exiting.\n",
      "Error connect socket: : Connection refused\n",
      "Error: bind to port 40588 on 127.0.0.1 failed in file ../../sockethelper/sockethelper.cpp line 51. Exiting.\n",
      "Error connect socket: : Connection refused\n",
      "Error: bind to port 40588 on 127.0.0.1 failed in file ../../sockethelper/sockethelper.cpp line 51. Exiting.\n",
      "Error connect socket: : Connection refused\n",
      "Error: bind to port 40588 on 127.0.0.1 failed in file ../../sockethelper/sockethelper.cpp line 51. Exiting.\n",
      "/home/ohm/PycharmProjects/FiFi/venv/lib/python3.8/site-packages/shapely/set_operations.py:426: RuntimeWarning: divide by zero encountered in unary_union\n",
      "  return lib.unary_union(collections, **kwargs)\n",
      "/home/ohm/PycharmProjects/FiFi/venv/lib/python3.8/site-packages/shapely/set_operations.py:133: RuntimeWarning: invalid value encountered in intersection\n",
      "  return lib.intersection(a, b, **kwargs)\n"
     ]
    },
    {
     "name": "stdout",
     "output_type": "stream",
     "text": [
      "F1: 0.2951061189127284\n",
      "Presicion: 0.9349767872632309\n",
      "Recall: 0.17520260135621585\n",
      "IoU: 0.22177736752758245\n"
     ]
    },
    {
     "name": "stderr",
     "output_type": "stream",
     "text": [
      "INFO: Created TensorFlow Lite XNNPACK delegate for CPU.\n",
      "Error connect socket: : Connection refused\n",
      "Error: bind to port 40588 on 127.0.0.1 failed in file ../../sockethelper/sockethelper.cpp line 51. Exiting.\n",
      "Error connect socket: : Connection refused\n",
      "Error: bind to port 40588 on 127.0.0.1 failed in file ../../sockethelper/sockethelper.cpp line 51. Exiting.\n",
      "Error connect socket: : Connection refused\n",
      "Error: bind to port 40588 on 127.0.0.1 failed in file ../../sockethelper/sockethelper.cpp line 51. Exiting.\n",
      "Error connect socket: : Connection refused\n",
      "Error: bind to port 40588 on 127.0.0.1 failed in file ../../sockethelper/sockethelper.cpp line 51. Exiting.\n",
      "/home/ohm/PycharmProjects/FiFi/venv/lib/python3.8/site-packages/shapely/set_operations.py:426: RuntimeWarning: divide by zero encountered in unary_union\n",
      "  return lib.unary_union(collections, **kwargs)\n"
     ]
    },
    {
     "name": "stdout",
     "output_type": "stream",
     "text": [
      "F1: 0.2757602055255428\n",
      "Presicion: 0.9428865386112478\n",
      "Recall: 0.16149596704817293\n",
      "IoU: 0.21640388693386547\n"
     ]
    },
    {
     "name": "stderr",
     "output_type": "stream",
     "text": [
      "INFO: Created TensorFlow Lite XNNPACK delegate for CPU.\n",
      "Error connect socket: : Connection refused\n",
      "Error: bind to port 40588 on 127.0.0.1 failed in file ../../sockethelper/sockethelper.cpp line 51. Exiting.\n",
      "Error connect socket: : Connection refused\n",
      "Error: bind to port 40588 on 127.0.0.1 failed in file ../../sockethelper/sockethelper.cpp line 51. Exiting.\n",
      "Error connect socket: : Connection refused\n",
      "Error: bind to port 40588 on 127.0.0.1 failed in file ../../sockethelper/sockethelper.cpp line 51. Exiting.\n",
      "Error connect socket: : Connection refused\n",
      "Error: bind to port 40588 on 127.0.0.1 failed in file ../../sockethelper/sockethelper.cpp line 51. Exiting.\n",
      "/home/ohm/PycharmProjects/FiFi/venv/lib/python3.8/site-packages/shapely/set_operations.py:426: RuntimeWarning: divide by zero encountered in unary_union\n",
      "  return lib.unary_union(collections, **kwargs)\n",
      "/home/ohm/PycharmProjects/FiFi/venv/lib/python3.8/site-packages/shapely/set_operations.py:133: RuntimeWarning: invalid value encountered in intersection\n",
      "  return lib.intersection(a, b, **kwargs)\n"
     ]
    },
    {
     "name": "stdout",
     "output_type": "stream",
     "text": [
      "F1: 0.22355461170766355\n",
      "Presicion: 0.8909963059339144\n",
      "Recall: 0.1278115222970358\n",
      "IoU: 0.18036265020962483\n"
     ]
    },
    {
     "name": "stderr",
     "output_type": "stream",
     "text": [
      "INFO: Created TensorFlow Lite XNNPACK delegate for CPU.\n",
      "Error connect socket: : Connection refused\n",
      "Error: bind to port 40588 on 127.0.0.1 failed in file ../../sockethelper/sockethelper.cpp line 51. Exiting.\n",
      "Error connect socket: : Connection refused\n",
      "Error: bind to port 40588 on 127.0.0.1 failed in file ../../sockethelper/sockethelper.cpp line 51. Exiting.\n",
      "Error connect socket: : Connection refused\n",
      "Error: bind to port 40588 on 127.0.0.1 failed in file ../../sockethelper/sockethelper.cpp line 51. Exiting.\n",
      "Error connect socket: : Connection refused\n",
      "Error: bind to port 40588 on 127.0.0.1 failed in file ../../sockethelper/sockethelper.cpp line 51. Exiting.\n",
      "/home/ohm/PycharmProjects/FiFi/venv/lib/python3.8/site-packages/shapely/set_operations.py:426: RuntimeWarning: divide by zero encountered in unary_union\n",
      "  return lib.unary_union(collections, **kwargs)\n",
      "/home/ohm/PycharmProjects/FiFi/venv/lib/python3.8/site-packages/shapely/set_operations.py:133: RuntimeWarning: invalid value encountered in intersection\n",
      "  return lib.intersection(a, b, **kwargs)\n"
     ]
    },
    {
     "name": "stdout",
     "output_type": "stream",
     "text": [
      "F1: 0.28083651543726407\n",
      "Presicion: 0.9173504615427455\n",
      "Recall: 0.1657966459533922\n",
      "IoU: 0.22255845480559688\n"
     ]
    },
    {
     "name": "stderr",
     "output_type": "stream",
     "text": [
      "INFO: Created TensorFlow Lite XNNPACK delegate for CPU.\n",
      "Error connect socket: : Connection refused\n",
      "Error: bind to port 40588 on 127.0.0.1 failed in file ../../sockethelper/sockethelper.cpp line 51. Exiting.\n",
      "Error connect socket: : Connection refused\n",
      "Error: bind to port 40588 on 127.0.0.1 failed in file ../../sockethelper/sockethelper.cpp line 51. Exiting.\n",
      "Error connect socket: : Connection refused\n",
      "Error: bind to port 40588 on 127.0.0.1 failed in file ../../sockethelper/sockethelper.cpp line 51. Exiting.\n",
      "Error connect socket: : Connection refused\n",
      "Error: bind to port 40588 on 127.0.0.1 failed in file ../../sockethelper/sockethelper.cpp line 51. Exiting.\n",
      "/home/ohm/PycharmProjects/FiFi/venv/lib/python3.8/site-packages/shapely/set_operations.py:426: RuntimeWarning: divide by zero encountered in unary_union\n",
      "  return lib.unary_union(collections, **kwargs)\n",
      "/home/ohm/PycharmProjects/FiFi/venv/lib/python3.8/site-packages/shapely/set_operations.py:133: RuntimeWarning: invalid value encountered in intersection\n",
      "  return lib.intersection(a, b, **kwargs)\n"
     ]
    },
    {
     "name": "stdout",
     "output_type": "stream",
     "text": [
      "F1: 0.2934081869674298\n",
      "Presicion: 0.9181708054074711\n",
      "Recall: 0.17460172109646094\n",
      "IoU: 0.22068656531844588\n"
     ]
    },
    {
     "name": "stderr",
     "output_type": "stream",
     "text": [
      "INFO: Created TensorFlow Lite XNNPACK delegate for CPU.\n",
      "Error connect socket: : Connection refused\n",
      "Error: bind to port 40588 on 127.0.0.1 failed in file ../../sockethelper/sockethelper.cpp line 51. Exiting.\n",
      "Error connect socket: : Connection refused\n",
      "Error: bind to port 40588 on 127.0.0.1 failed in file ../../sockethelper/sockethelper.cpp line 51. Exiting.\n",
      "Error connect socket: : Connection refused\n",
      "Error: bind to port 40588 on 127.0.0.1 failed in file ../../sockethelper/sockethelper.cpp line 51. Exiting.\n",
      "Error connect socket: : Connection refused\n",
      "Error: bind to port 40588 on 127.0.0.1 failed in file ../../sockethelper/sockethelper.cpp line 51. Exiting.\n",
      "/home/ohm/PycharmProjects/FiFi/venv/lib/python3.8/site-packages/shapely/set_operations.py:426: RuntimeWarning: divide by zero encountered in unary_union\n",
      "  return lib.unary_union(collections, **kwargs)\n",
      "/home/ohm/PycharmProjects/FiFi/venv/lib/python3.8/site-packages/shapely/set_operations.py:133: RuntimeWarning: invalid value encountered in intersection\n",
      "  return lib.intersection(a, b, **kwargs)\n"
     ]
    },
    {
     "name": "stdout",
     "output_type": "stream",
     "text": [
      "F1: 0.3139015600575867\n",
      "Presicion: 0.9258463423658058\n",
      "Recall: 0.18898835256565968\n",
      "IoU: 0.24442163318773238\n"
     ]
    },
    {
     "name": "stderr",
     "output_type": "stream",
     "text": [
      "INFO: Created TensorFlow Lite XNNPACK delegate for CPU.\n",
      "Error connect socket: : Connection refused\n",
      "Error: bind to port 40588 on 127.0.0.1 failed in file ../../sockethelper/sockethelper.cpp line 51. Exiting.\n",
      "Error connect socket: : Connection refused\n",
      "Error: bind to port 40588 on 127.0.0.1 failed in file ../../sockethelper/sockethelper.cpp line 51. Exiting.\n",
      "Error connect socket: : Connection refused\n",
      "Error: bind to port 40588 on 127.0.0.1 failed in file ../../sockethelper/sockethelper.cpp line 51. Exiting.\n",
      "Error connect socket: : Connection refused\n",
      "Error: bind to port 40588 on 127.0.0.1 failed in file ../../sockethelper/sockethelper.cpp line 51. Exiting.\n",
      "/home/ohm/PycharmProjects/FiFi/venv/lib/python3.8/site-packages/shapely/set_operations.py:426: RuntimeWarning: divide by zero encountered in unary_union\n",
      "  return lib.unary_union(collections, **kwargs)\n",
      "/home/ohm/PycharmProjects/FiFi/venv/lib/python3.8/site-packages/shapely/set_operations.py:133: RuntimeWarning: invalid value encountered in intersection\n",
      "  return lib.intersection(a, b, **kwargs)\n"
     ]
    },
    {
     "name": "stdout",
     "output_type": "stream",
     "text": [
      "F1: 0.16666388594053294\n",
      "Presicion: 0.8671426339406045\n",
      "Recall: 0.09219149643030282\n",
      "IoU: 0.12494337260826416\n"
     ]
    },
    {
     "name": "stderr",
     "output_type": "stream",
     "text": [
      "INFO: Created TensorFlow Lite XNNPACK delegate for CPU.\n",
      "Error connect socket: : Connection refused\n",
      "Error: bind to port 40588 on 127.0.0.1 failed in file ../../sockethelper/sockethelper.cpp line 51. Exiting.\n",
      "Error connect socket: : Connection refused\n",
      "Error: bind to port 40588 on 127.0.0.1 failed in file ../../sockethelper/sockethelper.cpp line 51. Exiting.\n",
      "Error connect socket: : Connection refused\n",
      "Error: bind to port 40588 on 127.0.0.1 failed in file ../../sockethelper/sockethelper.cpp line 51. Exiting.\n",
      "Error connect socket: : Connection refused\n",
      "Error: bind to port 40588 on 127.0.0.1 failed in file ../../sockethelper/sockethelper.cpp line 51. Exiting.\n",
      "/home/ohm/PycharmProjects/FiFi/venv/lib/python3.8/site-packages/shapely/set_operations.py:426: RuntimeWarning: divide by zero encountered in unary_union\n",
      "  return lib.unary_union(collections, **kwargs)\n"
     ]
    },
    {
     "name": "stdout",
     "output_type": "stream",
     "text": [
      "F1: 0.28578374004686835\n",
      "Presicion: 0.9173936093821121\n",
      "Recall: 0.1692547372465615\n",
      "IoU: 0.21177508045913704\n"
     ]
    },
    {
     "name": "stderr",
     "output_type": "stream",
     "text": [
      "INFO: Created TensorFlow Lite XNNPACK delegate for CPU.\n",
      "Error connect socket: : Connection refused\n",
      "Error: bind to port 40588 on 127.0.0.1 failed in file ../../sockethelper/sockethelper.cpp line 51. Exiting.\n",
      "Error connect socket: : Connection refused\n",
      "Error: bind to port 40588 on 127.0.0.1 failed in file ../../sockethelper/sockethelper.cpp line 51. Exiting.\n",
      "Error connect socket: : Connection refused\n",
      "Error: bind to port 40588 on 127.0.0.1 failed in file ../../sockethelper/sockethelper.cpp line 51. Exiting.\n",
      "Error connect socket: : Connection refused\n",
      "Error: bind to port 40588 on 127.0.0.1 failed in file ../../sockethelper/sockethelper.cpp line 51. Exiting.\n",
      "/home/ohm/PycharmProjects/FiFi/venv/lib/python3.8/site-packages/shapely/set_operations.py:426: RuntimeWarning: divide by zero encountered in unary_union\n",
      "  return lib.unary_union(collections, **kwargs)\n",
      "/home/ohm/PycharmProjects/FiFi/venv/lib/python3.8/site-packages/shapely/set_operations.py:133: RuntimeWarning: invalid value encountered in intersection\n",
      "  return lib.intersection(a, b, **kwargs)\n"
     ]
    },
    {
     "name": "stdout",
     "output_type": "stream",
     "text": [
      "F1: 0.17569966144675306\n",
      "Presicion: 0.7236408874163422\n",
      "Recall: 0.09998839838154487\n",
      "IoU: 0.13568961711496166\n"
     ]
    },
    {
     "name": "stderr",
     "output_type": "stream",
     "text": [
      "INFO: Created TensorFlow Lite XNNPACK delegate for CPU.\n",
      "Error connect socket: : Connection refused\n",
      "Error: bind to port 40588 on 127.0.0.1 failed in file ../../sockethelper/sockethelper.cpp line 51. Exiting.\n",
      "Error connect socket: : Connection refused\n",
      "Error: bind to port 40588 on 127.0.0.1 failed in file ../../sockethelper/sockethelper.cpp line 51. Exiting.\n",
      "Error connect socket: : Connection refused\n",
      "Error: bind to port 40588 on 127.0.0.1 failed in file ../../sockethelper/sockethelper.cpp line 51. Exiting.\n",
      "Error connect socket: : Connection refused\n",
      "Error: bind to port 40588 on 127.0.0.1 failed in file ../../sockethelper/sockethelper.cpp line 51. Exiting.\n",
      "/home/ohm/PycharmProjects/FiFi/venv/lib/python3.8/site-packages/shapely/set_operations.py:426: RuntimeWarning: divide by zero encountered in unary_union\n",
      "  return lib.unary_union(collections, **kwargs)\n"
     ]
    },
    {
     "name": "stdout",
     "output_type": "stream",
     "text": [
      "F1: 0.26251767123715036\n",
      "Presicion: 0.9259247933397857\n",
      "Recall: 0.1529394949705245\n",
      "IoU: 0.18693537502809857\n"
     ]
    },
    {
     "name": "stderr",
     "output_type": "stream",
     "text": [
      "INFO: Created TensorFlow Lite XNNPACK delegate for CPU.\n",
      "Error connect socket: : Connection refused\n",
      "Error: bind to port 40588 on 127.0.0.1 failed in file ../../sockethelper/sockethelper.cpp line 51. Exiting.\n",
      "Error connect socket: : Connection refused\n",
      "Error: bind to port 40588 on 127.0.0.1 failed in file ../../sockethelper/sockethelper.cpp line 51. Exiting.\n",
      "Error connect socket: : Connection refused\n",
      "Error: bind to port 40588 on 127.0.0.1 failed in file ../../sockethelper/sockethelper.cpp line 51. Exiting.\n",
      "Error connect socket: : Connection refused\n",
      "Error: bind to port 40588 on 127.0.0.1 failed in file ../../sockethelper/sockethelper.cpp line 51. Exiting.\n",
      "/home/ohm/PycharmProjects/FiFi/venv/lib/python3.8/site-packages/shapely/set_operations.py:426: RuntimeWarning: divide by zero encountered in unary_union\n",
      "  return lib.unary_union(collections, **kwargs)\n",
      "/home/ohm/PycharmProjects/FiFi/venv/lib/python3.8/site-packages/shapely/set_operations.py:133: RuntimeWarning: invalid value encountered in intersection\n",
      "  return lib.intersection(a, b, **kwargs)\n"
     ]
    },
    {
     "name": "stdout",
     "output_type": "stream",
     "text": [
      "F1: 0.3049787917705186\n",
      "Presicion: 0.9001780291390181\n",
      "Recall: 0.18358926128813413\n",
      "IoU: 0.23272424478872172\n"
     ]
    },
    {
     "name": "stderr",
     "output_type": "stream",
     "text": [
      "INFO: Created TensorFlow Lite XNNPACK delegate for CPU.\n",
      "Error connect socket: : Connection refused\n",
      "Error: bind to port 40588 on 127.0.0.1 failed in file ../../sockethelper/sockethelper.cpp line 51. Exiting.\n",
      "Error connect socket: : Connection refused\n",
      "Error: bind to port 40588 on 127.0.0.1 failed in file ../../sockethelper/sockethelper.cpp line 51. Exiting.\n",
      "Error connect socket: : Connection refused\n",
      "Error: bind to port 40588 on 127.0.0.1 failed in file ../../sockethelper/sockethelper.cpp line 51. Exiting.\n",
      "Error connect socket: : Connection refused\n",
      "Error: bind to port 40588 on 127.0.0.1 failed in file ../../sockethelper/sockethelper.cpp line 51. Exiting.\n",
      "/home/ohm/PycharmProjects/FiFi/venv/lib/python3.8/site-packages/shapely/set_operations.py:426: RuntimeWarning: divide by zero encountered in unary_union\n",
      "  return lib.unary_union(collections, **kwargs)\n",
      "/home/ohm/PycharmProjects/FiFi/venv/lib/python3.8/site-packages/shapely/set_operations.py:133: RuntimeWarning: invalid value encountered in intersection\n",
      "  return lib.intersection(a, b, **kwargs)\n"
     ]
    },
    {
     "name": "stdout",
     "output_type": "stream",
     "text": [
      "F1: 0.24662352311759647\n",
      "Presicion: 0.9192723110958179\n",
      "Recall: 0.14241546028806135\n",
      "IoU: 0.19829463740340322\n"
     ]
    },
    {
     "name": "stderr",
     "output_type": "stream",
     "text": [
      "INFO: Created TensorFlow Lite XNNPACK delegate for CPU.\n",
      "Error connect socket: : Connection refused\n",
      "Error: bind to port 40588 on 127.0.0.1 failed in file ../../sockethelper/sockethelper.cpp line 51. Exiting.\n",
      "Segmentation fault\n",
      "/home/ohm/PycharmProjects/FiFi/venv/lib/python3.8/site-packages/shapely/set_operations.py:426: RuntimeWarning: divide by zero encountered in unary_union\n",
      "  return lib.unary_union(collections, **kwargs)\n"
     ]
    },
    {
     "name": "stdout",
     "output_type": "stream",
     "text": [
      "F1: 0.08904158516053173\n",
      "Presicion: 0.9528132492669349\n",
      "Recall: 0.04670302029490031\n",
      "IoU: 0.05793207074615064\n"
     ]
    },
    {
     "name": "stderr",
     "output_type": "stream",
     "text": [
      "INFO: Created TensorFlow Lite XNNPACK delegate for CPU.\n",
      "Error connect socket: : Connection refused\n",
      "Error: bind to port 40588 on 127.0.0.1 failed in file ../../sockethelper/sockethelper.cpp line 51. Exiting.\n",
      "Error connect socket: : Connection refused\n",
      "Error: bind to port 40588 on 127.0.0.1 failed in file ../../sockethelper/sockethelper.cpp line 51. Exiting.\n",
      "Error connect socket: : Connection refused\n",
      "Error: bind to port 40588 on 127.0.0.1 failed in file ../../sockethelper/sockethelper.cpp line 51. Exiting.\n",
      "Error connect socket: : Connection refused\n",
      "Error: bind to port 40588 on 127.0.0.1 failed in file ../../sockethelper/sockethelper.cpp line 51. Exiting.\n",
      "/home/ohm/PycharmProjects/FiFi/venv/lib/python3.8/site-packages/shapely/set_operations.py:426: RuntimeWarning: divide by zero encountered in unary_union\n",
      "  return lib.unary_union(collections, **kwargs)\n",
      "/home/ohm/PycharmProjects/FiFi/venv/lib/python3.8/site-packages/shapely/set_operations.py:133: RuntimeWarning: invalid value encountered in intersection\n",
      "  return lib.intersection(a, b, **kwargs)\n"
     ]
    },
    {
     "name": "stdout",
     "output_type": "stream",
     "text": [
      "F1: 0.3040211911917574\n",
      "Presicion: 0.9164097357380017\n",
      "Recall: 0.18223985667160086\n",
      "IoU: 0.22480649563224303\n"
     ]
    },
    {
     "name": "stderr",
     "output_type": "stream",
     "text": [
      "INFO: Created TensorFlow Lite XNNPACK delegate for CPU.\n",
      "Error connect socket: : Connection refused\n",
      "Error: bind to port 40588 on 127.0.0.1 failed in file ../../sockethelper/sockethelper.cpp line 51. Exiting.\n",
      "Error connect socket: : Connection refused\n",
      "Error: bind to port 40588 on 127.0.0.1 failed in file ../../sockethelper/sockethelper.cpp line 51. Exiting.\n",
      "Error connect socket: : Connection refused\n",
      "Error: bind to port 40588 on 127.0.0.1 failed in file ../../sockethelper/sockethelper.cpp line 51. Exiting.\n",
      "Error connect socket: : Connection refused\n",
      "Error: bind to port 40588 on 127.0.0.1 failed in file ../../sockethelper/sockethelper.cpp line 51. Exiting.\n",
      "/home/ohm/PycharmProjects/FiFi/venv/lib/python3.8/site-packages/shapely/set_operations.py:426: RuntimeWarning: divide by zero encountered in unary_union\n",
      "  return lib.unary_union(collections, **kwargs)\n",
      "/home/ohm/PycharmProjects/FiFi/venv/lib/python3.8/site-packages/shapely/set_operations.py:133: RuntimeWarning: invalid value encountered in intersection\n",
      "  return lib.intersection(a, b, **kwargs)\n"
     ]
    },
    {
     "name": "stdout",
     "output_type": "stream",
     "text": [
      "F1: 0.2182027583178785\n",
      "Presicion: 0.9340685922741585\n",
      "Recall: 0.12352996582898933\n",
      "IoU: 0.17481119868119535\n"
     ]
    },
    {
     "name": "stderr",
     "output_type": "stream",
     "text": [
      "INFO: Created TensorFlow Lite XNNPACK delegate for CPU.\n",
      "Error connect socket: : Connection refused\n",
      "Error: bind to port 40588 on 127.0.0.1 failed in file ../../sockethelper/sockethelper.cpp line 51. Exiting.\n",
      "Error connect socket: : Connection refused\n",
      "Error: bind to port 40588 on 127.0.0.1 failed in file ../../sockethelper/sockethelper.cpp line 51. Exiting.\n",
      "Segmentation fault\n",
      "/home/ohm/PycharmProjects/FiFi/venv/lib/python3.8/site-packages/shapely/set_operations.py:426: RuntimeWarning: divide by zero encountered in unary_union\n",
      "  return lib.unary_union(collections, **kwargs)\n"
     ]
    },
    {
     "name": "stdout",
     "output_type": "stream",
     "text": [
      "F1: 0.2703921789328581\n",
      "Presicion: 0.9257964970363057\n",
      "Recall: 0.15831520556098938\n",
      "IoU: 0.1851139611081418\n"
     ]
    },
    {
     "name": "stderr",
     "output_type": "stream",
     "text": [
      "INFO: Created TensorFlow Lite XNNPACK delegate for CPU.\n",
      "Error connect socket: : Connection refused\n",
      "Error: bind to port 40588 on 127.0.0.1 failed in file ../../sockethelper/sockethelper.cpp line 51. Exiting.\n",
      "Error connect socket: : Connection refused\n",
      "Error: bind to port 40588 on 127.0.0.1 failed in file ../../sockethelper/sockethelper.cpp line 51. Exiting.\n",
      "Error connect socket: : Connection refused\n",
      "Error: bind to port 40588 on 127.0.0.1 failed in file ../../sockethelper/sockethelper.cpp line 51. Exiting.\n",
      "Error connect socket: : Connection refused\n",
      "Error: bind to port 40588 on 127.0.0.1 failed in file ../../sockethelper/sockethelper.cpp line 51. Exiting.\n",
      "/home/ohm/PycharmProjects/FiFi/venv/lib/python3.8/site-packages/shapely/set_operations.py:426: RuntimeWarning: divide by zero encountered in unary_union\n",
      "  return lib.unary_union(collections, **kwargs)\n"
     ]
    },
    {
     "name": "stdout",
     "output_type": "stream",
     "text": [
      "F1: 0.20105186959045934\n",
      "Presicion: 0.9718221725493181\n",
      "Recall: 0.11212412967841119\n",
      "IoU: 0.1191253339864107\n"
     ]
    },
    {
     "name": "stderr",
     "output_type": "stream",
     "text": [
      "INFO: Created TensorFlow Lite XNNPACK delegate for CPU.\n",
      "Error connect socket: : Connection refused\n",
      "Error: bind to port 40588 on 127.0.0.1 failed in file ../../sockethelper/sockethelper.cpp line 51. Exiting.\n",
      "Error connect socket: : Connection refused\n",
      "Error: bind to port 40588 on 127.0.0.1 failed in file ../../sockethelper/sockethelper.cpp line 51. Exiting.\n",
      "Error connect socket: : Connection refused\n",
      "Error: bind to port 40588 on 127.0.0.1 failed in file ../../sockethelper/sockethelper.cpp line 51. Exiting.\n",
      "Error connect socket: : Connection refused\n",
      "Error: bind to port 40588 on 127.0.0.1 failed in file ../../sockethelper/sockethelper.cpp line 51. Exiting.\n",
      "/home/ohm/PycharmProjects/FiFi/venv/lib/python3.8/site-packages/shapely/set_operations.py:426: RuntimeWarning: divide by zero encountered in unary_union\n",
      "  return lib.unary_union(collections, **kwargs)\n",
      "/home/ohm/PycharmProjects/FiFi/venv/lib/python3.8/site-packages/shapely/set_operations.py:133: RuntimeWarning: invalid value encountered in intersection\n",
      "  return lib.intersection(a, b, **kwargs)\n"
     ]
    },
    {
     "name": "stdout",
     "output_type": "stream",
     "text": [
      "F1: 0.2752502333956338\n",
      "Presicion: 0.9231972415458368\n",
      "Recall: 0.16173578985816112\n",
      "IoU: 0.21235081056215224\n"
     ]
    },
    {
     "name": "stderr",
     "output_type": "stream",
     "text": [
      "INFO: Created TensorFlow Lite XNNPACK delegate for CPU.\n",
      "Error connect socket: : Connection refused\n",
      "Error: bind to port 40588 on 127.0.0.1 failed in file ../../sockethelper/sockethelper.cpp line 51. Exiting.\n",
      "Error connect socket: : Connection refused\n",
      "Error: bind to port 40588 on 127.0.0.1 failed in file ../../sockethelper/sockethelper.cpp line 51. Exiting.\n",
      "Error connect socket: : Connection refused\n",
      "Error: bind to port 40588 on 127.0.0.1 failed in file ../../sockethelper/sockethelper.cpp line 51. Exiting.\n",
      "Error connect socket: : Connection refused\n",
      "Error: bind to port 40588 on 127.0.0.1 failed in file ../../sockethelper/sockethelper.cpp line 51. Exiting.\n",
      "/home/ohm/PycharmProjects/FiFi/venv/lib/python3.8/site-packages/shapely/set_operations.py:426: RuntimeWarning: divide by zero encountered in unary_union\n",
      "  return lib.unary_union(collections, **kwargs)\n",
      "/home/ohm/PycharmProjects/FiFi/venv/lib/python3.8/site-packages/shapely/set_operations.py:133: RuntimeWarning: invalid value encountered in intersection\n",
      "  return lib.intersection(a, b, **kwargs)\n"
     ]
    },
    {
     "name": "stdout",
     "output_type": "stream",
     "text": [
      "F1: 0.13405693620077727\n",
      "Presicion: 0.9226860717498014\n",
      "Recall: 0.07227918464486015\n",
      "IoU: 0.08925450066623045\n"
     ]
    },
    {
     "name": "stderr",
     "output_type": "stream",
     "text": [
      "INFO: Created TensorFlow Lite XNNPACK delegate for CPU.\n",
      "Error connect socket: : Connection refused\n",
      "Error: bind to port 40588 on 127.0.0.1 failed in file ../../sockethelper/sockethelper.cpp line 51. Exiting.\n",
      "Error connect socket: : Connection refused\n",
      "Error: bind to port 40588 on 127.0.0.1 failed in file ../../sockethelper/sockethelper.cpp line 51. Exiting.\n",
      "Error connect socket: : Connection refused\n",
      "Error: bind to port 40588 on 127.0.0.1 failed in file ../../sockethelper/sockethelper.cpp line 51. Exiting.\n",
      "Error connect socket: : Connection refused\n",
      "Error: bind to port 40588 on 127.0.0.1 failed in file ../../sockethelper/sockethelper.cpp line 51. Exiting.\n",
      "/home/ohm/PycharmProjects/FiFi/venv/lib/python3.8/site-packages/shapely/set_operations.py:426: RuntimeWarning: divide by zero encountered in unary_union\n",
      "  return lib.unary_union(collections, **kwargs)\n"
     ]
    },
    {
     "name": "stdout",
     "output_type": "stream",
     "text": [
      "F1: 0.09179069167666407\n",
      "Presicion: 0.9542937086829201\n",
      "Recall: 0.048214133339251904\n",
      "IoU: 0.05943931814850621\n"
     ]
    },
    {
     "name": "stderr",
     "output_type": "stream",
     "text": [
      "INFO: Created TensorFlow Lite XNNPACK delegate for CPU.\n",
      "Error connect socket: : Connection refused\n",
      "Error: bind to port 40588 on 127.0.0.1 failed in file ../../sockethelper/sockethelper.cpp line 51. Exiting.\n",
      "Error connect socket: : Connection refused\n",
      "Error: bind to port 40588 on 127.0.0.1 failed in file ../../sockethelper/sockethelper.cpp line 51. Exiting.\n",
      "Error connect socket: : Connection refused\n",
      "Error: bind to port 40588 on 127.0.0.1 failed in file ../../sockethelper/sockethelper.cpp line 51. Exiting.\n",
      "Error connect socket: : Connection refused\n",
      "Error: bind to port 40588 on 127.0.0.1 failed in file ../../sockethelper/sockethelper.cpp line 51. Exiting.\n",
      "/home/ohm/PycharmProjects/FiFi/venv/lib/python3.8/site-packages/shapely/set_operations.py:426: RuntimeWarning: divide by zero encountered in unary_union\n",
      "  return lib.unary_union(collections, **kwargs)\n",
      "/home/ohm/PycharmProjects/FiFi/venv/lib/python3.8/site-packages/shapely/set_operations.py:133: RuntimeWarning: invalid value encountered in intersection\n",
      "  return lib.intersection(a, b, **kwargs)\n"
     ]
    },
    {
     "name": "stdout",
     "output_type": "stream",
     "text": [
      "F1: 0.29327293749782374\n",
      "Presicion: 0.9112656939178222\n",
      "Recall: 0.1747576198367488\n",
      "IoU: 0.22726131997670163\n"
     ]
    },
    {
     "name": "stderr",
     "output_type": "stream",
     "text": [
      "INFO: Created TensorFlow Lite XNNPACK delegate for CPU.\n",
      "Error connect socket: : Connection refused\n",
      "Error: bind to port 40588 on 127.0.0.1 failed in file ../../sockethelper/sockethelper.cpp line 51. Exiting.\n",
      "Segmentation fault\n",
      "/home/ohm/PycharmProjects/FiFi/venv/lib/python3.8/site-packages/shapely/set_operations.py:426: RuntimeWarning: divide by zero encountered in unary_union\n",
      "  return lib.unary_union(collections, **kwargs)\n"
     ]
    },
    {
     "name": "stdout",
     "output_type": "stream",
     "text": [
      "F1: 0.09089135371592424\n",
      "Presicion: 0.9538187495496837\n",
      "Recall: 0.04771931266594388\n",
      "IoU: 0.059693307221963275\n"
     ]
    },
    {
     "name": "stderr",
     "output_type": "stream",
     "text": [
      "INFO: Created TensorFlow Lite XNNPACK delegate for CPU.\n",
      "Error connect socket: : Connection refused\n",
      "Error: bind to port 40588 on 127.0.0.1 failed in file ../../sockethelper/sockethelper.cpp line 51. Exiting.\n",
      "Error connect socket: : Connection refused\n",
      "Error: bind to port 40588 on 127.0.0.1 failed in file ../../sockethelper/sockethelper.cpp line 51. Exiting.\n",
      "Error connect socket: : Connection refused\n",
      "Error: bind to port 40588 on 127.0.0.1 failed in file ../../sockethelper/sockethelper.cpp line 51. Exiting.\n",
      "Error connect socket: : Connection refused\n",
      "Error: bind to port 40588 on 127.0.0.1 failed in file ../../sockethelper/sockethelper.cpp line 51. Exiting.\n",
      "/home/ohm/PycharmProjects/FiFi/venv/lib/python3.8/site-packages/shapely/set_operations.py:426: RuntimeWarning: divide by zero encountered in unary_union\n",
      "  return lib.unary_union(collections, **kwargs)\n"
     ]
    },
    {
     "name": "stdout",
     "output_type": "stream",
     "text": [
      "F1: 0.08904158516053173\n",
      "Presicion: 0.9528132492669349\n",
      "Recall: 0.04670302029490031\n",
      "IoU: 0.05793207074615064\n"
     ]
    },
    {
     "name": "stderr",
     "output_type": "stream",
     "text": [
      "INFO: Created TensorFlow Lite XNNPACK delegate for CPU.\n",
      "Segmentation fault\n",
      "/home/ohm/PycharmProjects/FiFi/venv/lib/python3.8/site-packages/shapely/set_operations.py:426: RuntimeWarning: divide by zero encountered in unary_union\n",
      "  return lib.unary_union(collections, **kwargs)\n"
     ]
    },
    {
     "name": "stdout",
     "output_type": "stream",
     "text": [
      "F1: 0.08904158516053173\n",
      "Presicion: 0.9528132492669349\n",
      "Recall: 0.04670302029490031\n",
      "IoU: 0.05793207074615064\n"
     ]
    },
    {
     "name": "stderr",
     "output_type": "stream",
     "text": [
      "INFO: Created TensorFlow Lite XNNPACK delegate for CPU.\n",
      "Error connect socket: : Connection refused\n",
      "Error: bind to port 40588 on 127.0.0.1 failed in file ../../sockethelper/sockethelper.cpp line 51. Exiting.\n",
      "Error connect socket: : Connection refused\n",
      "Error: bind to port 40588 on 127.0.0.1 failed in file ../../sockethelper/sockethelper.cpp line 51. Exiting.\n",
      "Error connect socket: : Connection refused\n",
      "Error: bind to port 40588 on 127.0.0.1 failed in file ../../sockethelper/sockethelper.cpp line 51. Exiting.\n",
      "Error connect socket: : Connection refused\n",
      "Error: bind to port 40588 on 127.0.0.1 failed in file ../../sockethelper/sockethelper.cpp line 51. Exiting.\n",
      "/home/ohm/PycharmProjects/FiFi/venv/lib/python3.8/site-packages/shapely/set_operations.py:426: RuntimeWarning: divide by zero encountered in unary_union\n",
      "  return lib.unary_union(collections, **kwargs)\n",
      "/home/ohm/PycharmProjects/FiFi/venv/lib/python3.8/site-packages/shapely/set_operations.py:133: RuntimeWarning: invalid value encountered in intersection\n",
      "  return lib.intersection(a, b, **kwargs)\n"
     ]
    },
    {
     "name": "stdout",
     "output_type": "stream",
     "text": [
      "F1: 0.28945748258581533\n",
      "Presicion: 0.932099052122489\n",
      "Recall: 0.17133173643779703\n",
      "IoU: 0.22500480575931614\n"
     ]
    },
    {
     "name": "stderr",
     "output_type": "stream",
     "text": [
      "INFO: Created TensorFlow Lite XNNPACK delegate for CPU.\n",
      "Error connect socket: : Connection refused\n",
      "Error: bind to port 40588 on 127.0.0.1 failed in file ../../sockethelper/sockethelper.cpp line 51. Exiting.\n",
      "Error connect socket: : Connection refused\n",
      "Error: bind to port 40588 on 127.0.0.1 failed in file ../../sockethelper/sockethelper.cpp line 51. Exiting.\n",
      "Error connect socket: : Connection refused\n",
      "Error: bind to port 40588 on 127.0.0.1 failed in file ../../sockethelper/sockethelper.cpp line 51. Exiting.\n",
      "Error connect socket: : Connection refused\n",
      "Error: bind to port 40588 on 127.0.0.1 failed in file ../../sockethelper/sockethelper.cpp line 51. Exiting.\n",
      "/home/ohm/PycharmProjects/FiFi/venv/lib/python3.8/site-packages/shapely/set_operations.py:426: RuntimeWarning: divide by zero encountered in unary_union\n",
      "  return lib.unary_union(collections, **kwargs)\n"
     ]
    },
    {
     "name": "stdout",
     "output_type": "stream",
     "text": [
      "F1: 0.21720285644905568\n",
      "Presicion: 0.9550385313683882\n",
      "Recall: 0.12253544667504312\n",
      "IoU: 0.12811400311257023\n"
     ]
    },
    {
     "name": "stderr",
     "output_type": "stream",
     "text": [
      "INFO: Created TensorFlow Lite XNNPACK delegate for CPU.\n",
      "Error connect socket: : Connection refused\n",
      "Error: bind to port 40588 on 127.0.0.1 failed in file ../../sockethelper/sockethelper.cpp line 51. Exiting.\n",
      "Error connect socket: : Connection refused\n",
      "Error: bind to port 40588 on 127.0.0.1 failed in file ../../sockethelper/sockethelper.cpp line 51. Exiting.\n",
      "Error connect socket: : Connection refused\n",
      "Error: bind to port 40588 on 127.0.0.1 failed in file ../../sockethelper/sockethelper.cpp line 51. Exiting.\n",
      "Error connect socket: : Connection refused\n",
      "Error: bind to port 40588 on 127.0.0.1 failed in file ../../sockethelper/sockethelper.cpp line 51. Exiting.\n",
      "/home/ohm/PycharmProjects/FiFi/venv/lib/python3.8/site-packages/shapely/set_operations.py:426: RuntimeWarning: divide by zero encountered in unary_union\n",
      "  return lib.unary_union(collections, **kwargs)\n",
      "/home/ohm/PycharmProjects/FiFi/venv/lib/python3.8/site-packages/shapely/set_operations.py:133: RuntimeWarning: invalid value encountered in intersection\n",
      "  return lib.intersection(a, b, **kwargs)\n"
     ]
    },
    {
     "name": "stdout",
     "output_type": "stream",
     "text": [
      "F1: 0.2923672085584239\n",
      "Presicion: 0.9401576456091246\n",
      "Recall: 0.17309839625939674\n",
      "IoU: 0.21984105255156255\n"
     ]
    },
    {
     "name": "stderr",
     "output_type": "stream",
     "text": [
      "INFO: Created TensorFlow Lite XNNPACK delegate for CPU.\n",
      "Error connect socket: : Connection refused\n",
      "Error: bind to port 40588 on 127.0.0.1 failed in file ../../sockethelper/sockethelper.cpp line 51. Exiting.\n",
      "Error connect socket: : Connection refused\n",
      "Error: bind to port 40588 on 127.0.0.1 failed in file ../../sockethelper/sockethelper.cpp line 51. Exiting.\n",
      "Error connect socket: : Connection refused\n",
      "Error: bind to port 40588 on 127.0.0.1 failed in file ../../sockethelper/sockethelper.cpp line 51. Exiting.\n",
      "Error connect socket: : Connection refused\n",
      "Error: bind to port 40588 on 127.0.0.1 failed in file ../../sockethelper/sockethelper.cpp line 51. Exiting.\n",
      "/home/ohm/PycharmProjects/FiFi/venv/lib/python3.8/site-packages/shapely/set_operations.py:426: RuntimeWarning: divide by zero encountered in unary_union\n",
      "  return lib.unary_union(collections, **kwargs)\n",
      "/home/ohm/PycharmProjects/FiFi/venv/lib/python3.8/site-packages/shapely/set_operations.py:133: RuntimeWarning: invalid value encountered in intersection\n",
      "  return lib.intersection(a, b, **kwargs)\n"
     ]
    },
    {
     "name": "stdout",
     "output_type": "stream",
     "text": [
      "F1: 0.27952646508683293\n",
      "Presicion: 0.922544306612786\n",
      "Recall: 0.16471754201520378\n",
      "IoU: 0.21304290880900534\n"
     ]
    },
    {
     "name": "stderr",
     "output_type": "stream",
     "text": [
      "INFO: Created TensorFlow Lite XNNPACK delegate for CPU.\n",
      "Error connect socket: : Connection refused\n",
      "Error: bind to port 40588 on 127.0.0.1 failed in file ../../sockethelper/sockethelper.cpp line 51. Exiting.\n",
      "Error connect socket: : Connection refused\n",
      "Error: bind to port 40588 on 127.0.0.1 failed in file ../../sockethelper/sockethelper.cpp line 51. Exiting.\n",
      "Error connect socket: : Connection refused\n",
      "Error: bind to port 40588 on 127.0.0.1 failed in file ../../sockethelper/sockethelper.cpp line 51. Exiting.\n",
      "Error connect socket: : Connection refused\n",
      "Error: bind to port 40588 on 127.0.0.1 failed in file ../../sockethelper/sockethelper.cpp line 51. Exiting.\n",
      "/home/ohm/PycharmProjects/FiFi/venv/lib/python3.8/site-packages/shapely/set_operations.py:426: RuntimeWarning: divide by zero encountered in unary_union\n",
      "  return lib.unary_union(collections, **kwargs)\n",
      "/home/ohm/PycharmProjects/FiFi/venv/lib/python3.8/site-packages/shapely/set_operations.py:133: RuntimeWarning: invalid value encountered in intersection\n",
      "  return lib.intersection(a, b, **kwargs)\n"
     ]
    },
    {
     "name": "stdout",
     "output_type": "stream",
     "text": [
      "F1: 0.2918809937687614\n",
      "Presicion: 0.9454681749398883\n",
      "Recall: 0.1725795104112911\n",
      "IoU: 0.23010086438214855\n"
     ]
    },
    {
     "name": "stderr",
     "output_type": "stream",
     "text": [
      "INFO: Created TensorFlow Lite XNNPACK delegate for CPU.\n",
      "Error connect socket: : Connection refused\n",
      "Error: bind to port 40588 on 127.0.0.1 failed in file ../../sockethelper/sockethelper.cpp line 51. Exiting.\n",
      "Error connect socket: : Connection refused\n",
      "Error: bind to port 40588 on 127.0.0.1 failed in file ../../sockethelper/sockethelper.cpp line 51. Exiting.\n",
      "Error connect socket: : Connection refused\n",
      "Error: bind to port 40588 on 127.0.0.1 failed in file ../../sockethelper/sockethelper.cpp line 51. Exiting.\n",
      "/home/ohm/PycharmProjects/FiFi/venv/lib/python3.8/site-packages/shapely/set_operations.py:426: RuntimeWarning: divide by zero encountered in unary_union\n",
      "  return lib.unary_union(collections, **kwargs)\n"
     ]
    },
    {
     "name": "stdout",
     "output_type": "stream",
     "text": [
      "F1: 0.08904158516053173\n",
      "Presicion: 0.9528132492669349\n",
      "Recall: 0.04670302029490031\n",
      "IoU: 0.05793207074615064\n"
     ]
    },
    {
     "name": "stderr",
     "output_type": "stream",
     "text": [
      "INFO: Created TensorFlow Lite XNNPACK delegate for CPU.\n",
      "Error connect socket: : Connection refused\n",
      "Error: bind to port 40588 on 127.0.0.1 failed in file ../../sockethelper/sockethelper.cpp line 51. Exiting.\n",
      "Error connect socket: : Connection refused\n",
      "Error: bind to port 40588 on 127.0.0.1 failed in file ../../sockethelper/sockethelper.cpp line 51. Exiting.\n",
      "Error connect socket: : Connection refused\n",
      "Error: bind to port 40588 on 127.0.0.1 failed in file ../../sockethelper/sockethelper.cpp line 51. Exiting.\n",
      "Error connect socket: : Connection refused\n",
      "Error: bind to port 40588 on 127.0.0.1 failed in file ../../sockethelper/sockethelper.cpp line 51. Exiting.\n",
      "/home/ohm/PycharmProjects/FiFi/venv/lib/python3.8/site-packages/shapely/set_operations.py:426: RuntimeWarning: divide by zero encountered in unary_union\n",
      "  return lib.unary_union(collections, **kwargs)\n"
     ]
    },
    {
     "name": "stdout",
     "output_type": "stream",
     "text": [
      "F1: 0.2711533075765574\n",
      "Presicion: 0.93554311298446\n",
      "Recall: 0.15855390344809112\n",
      "IoU: 0.21388428145880925\n"
     ]
    },
    {
     "name": "stderr",
     "output_type": "stream",
     "text": [
      "INFO: Created TensorFlow Lite XNNPACK delegate for CPU.\n",
      "Error connect socket: : Connection refused\n",
      "Error: bind to port 40588 on 127.0.0.1 failed in file ../../sockethelper/sockethelper.cpp line 51. Exiting.\n",
      "Error connect socket: : Connection refused\n",
      "Error: bind to port 40588 on 127.0.0.1 failed in file ../../sockethelper/sockethelper.cpp line 51. Exiting.\n",
      "Error connect socket: : Connection refused\n",
      "Error: bind to port 40588 on 127.0.0.1 failed in file ../../sockethelper/sockethelper.cpp line 51. Exiting.\n",
      "Error connect socket: : Connection refused\n",
      "Error: bind to port 40588 on 127.0.0.1 failed in file ../../sockethelper/sockethelper.cpp line 51. Exiting.\n",
      "/home/ohm/PycharmProjects/FiFi/venv/lib/python3.8/site-packages/shapely/set_operations.py:426: RuntimeWarning: divide by zero encountered in unary_union\n",
      "  return lib.unary_union(collections, **kwargs)\n"
     ]
    },
    {
     "name": "stdout",
     "output_type": "stream",
     "text": [
      "F1: 0.08904158516053173\n",
      "Presicion: 0.9528132492669349\n",
      "Recall: 0.04670302029490031\n",
      "IoU: 0.05793207074615064\n"
     ]
    },
    {
     "name": "stderr",
     "output_type": "stream",
     "text": [
      "INFO: Created TensorFlow Lite XNNPACK delegate for CPU.\n",
      "Segmentation fault\n",
      "/home/ohm/PycharmProjects/FiFi/venv/lib/python3.8/site-packages/shapely/set_operations.py:426: RuntimeWarning: divide by zero encountered in unary_union\n",
      "  return lib.unary_union(collections, **kwargs)\n"
     ]
    },
    {
     "name": "stdout",
     "output_type": "stream",
     "text": [
      "F1: 0.08904158516053173\n",
      "Presicion: 0.9528132492669349\n",
      "Recall: 0.04670302029490031\n",
      "IoU: 0.05793207074615064\n"
     ]
    },
    {
     "name": "stderr",
     "output_type": "stream",
     "text": [
      "INFO: Created TensorFlow Lite XNNPACK delegate for CPU.\n",
      "Error connect socket: : Connection refused\n",
      "Error: bind to port 40588 on 127.0.0.1 failed in file ../../sockethelper/sockethelper.cpp line 51. Exiting.\n",
      "Error connect socket: : Connection refused\n",
      "Error: bind to port 40588 on 127.0.0.1 failed in file ../../sockethelper/sockethelper.cpp line 51. Exiting.\n",
      "Error connect socket: : Connection refused\n",
      "Error: bind to port 40588 on 127.0.0.1 failed in file ../../sockethelper/sockethelper.cpp line 51. Exiting.\n",
      "Error connect socket: : Connection refused\n",
      "Error: bind to port 40588 on 127.0.0.1 failed in file ../../sockethelper/sockethelper.cpp line 51. Exiting.\n",
      "/home/ohm/PycharmProjects/FiFi/venv/lib/python3.8/site-packages/shapely/set_operations.py:426: RuntimeWarning: divide by zero encountered in unary_union\n",
      "  return lib.unary_union(collections, **kwargs)\n"
     ]
    },
    {
     "name": "stdout",
     "output_type": "stream",
     "text": [
      "F1: 0.23419385523789596\n",
      "Presicion: 0.9337411441763375\n",
      "Recall: 0.13388721423311095\n",
      "IoU: 0.1639409100729134\n"
     ]
    },
    {
     "name": "stderr",
     "output_type": "stream",
     "text": [
      "INFO: Created TensorFlow Lite XNNPACK delegate for CPU.\n",
      "Error connect socket: : Connection refused\n",
      "Error: bind to port 40588 on 127.0.0.1 failed in file ../../sockethelper/sockethelper.cpp line 51. Exiting.\n",
      "Error connect socket: : Connection refused\n",
      "Error: bind to port 40588 on 127.0.0.1 failed in file ../../sockethelper/sockethelper.cpp line 51. Exiting.\n",
      "Error connect socket: : Connection refused\n",
      "Error: bind to port 40588 on 127.0.0.1 failed in file ../../sockethelper/sockethelper.cpp line 51. Exiting.\n",
      "Error connect socket: : Connection refused\n",
      "Error: bind to port 40588 on 127.0.0.1 failed in file ../../sockethelper/sockethelper.cpp line 51. Exiting.\n",
      "/home/ohm/PycharmProjects/FiFi/venv/lib/python3.8/site-packages/shapely/set_operations.py:426: RuntimeWarning: divide by zero encountered in unary_union\n",
      "  return lib.unary_union(collections, **kwargs)\n"
     ]
    },
    {
     "name": "stdout",
     "output_type": "stream",
     "text": [
      "F1: 0.2800219449100089\n",
      "Presicion: 0.9251929643771165\n",
      "Recall: 0.1649772511132911\n",
      "IoU: 0.2077925093245519\n"
     ]
    },
    {
     "name": "stderr",
     "output_type": "stream",
     "text": [
      "INFO: Created TensorFlow Lite XNNPACK delegate for CPU.\n",
      "Error connect socket: : Connection refused\n",
      "Error: bind to port 40588 on 127.0.0.1 failed in file ../../sockethelper/sockethelper.cpp line 51. Exiting.\n",
      "Error connect socket: : Connection refused\n",
      "Error: bind to port 40588 on 127.0.0.1 failed in file ../../sockethelper/sockethelper.cpp line 51. Exiting.\n",
      "Error connect socket: : Connection refused\n",
      "Error: bind to port 40588 on 127.0.0.1 failed in file ../../sockethelper/sockethelper.cpp line 51. Exiting.\n",
      "Error connect socket: : Connection refused\n",
      "Error: bind to port 40588 on 127.0.0.1 failed in file ../../sockethelper/sockethelper.cpp line 51. Exiting.\n",
      "/home/ohm/PycharmProjects/FiFi/venv/lib/python3.8/site-packages/shapely/set_operations.py:426: RuntimeWarning: divide by zero encountered in unary_union\n",
      "  return lib.unary_union(collections, **kwargs)\n",
      "/home/ohm/PycharmProjects/FiFi/venv/lib/python3.8/site-packages/shapely/set_operations.py:133: RuntimeWarning: invalid value encountered in intersection\n",
      "  return lib.intersection(a, b, **kwargs)\n"
     ]
    },
    {
     "name": "stdout",
     "output_type": "stream",
     "text": [
      "F1: 0.23081198797556365\n",
      "Presicion: 0.9528068002571674\n",
      "Recall: 0.13131061618135476\n",
      "IoU: 0.16117278947409847\n"
     ]
    },
    {
     "name": "stderr",
     "output_type": "stream",
     "text": [
      "INFO: Created TensorFlow Lite XNNPACK delegate for CPU.\n",
      "Error connect socket: : Connection refused\n",
      "Error: bind to port 40588 on 127.0.0.1 failed in file ../../sockethelper/sockethelper.cpp line 51. Exiting.\n",
      "Error connect socket: : Connection refused\n",
      "Error: bind to port 40588 on 127.0.0.1 failed in file ../../sockethelper/sockethelper.cpp line 51. Exiting.\n",
      "Error connect socket: : Connection refused\n",
      "Error: bind to port 40588 on 127.0.0.1 failed in file ../../sockethelper/sockethelper.cpp line 51. Exiting.\n",
      "Error connect socket: : Connection refused\n",
      "Error: bind to port 40588 on 127.0.0.1 failed in file ../../sockethelper/sockethelper.cpp line 51. Exiting.\n",
      "/home/ohm/PycharmProjects/FiFi/venv/lib/python3.8/site-packages/shapely/set_operations.py:426: RuntimeWarning: divide by zero encountered in unary_union\n",
      "  return lib.unary_union(collections, **kwargs)\n"
     ]
    },
    {
     "name": "stdout",
     "output_type": "stream",
     "text": [
      "F1: 0.16282350697774695\n",
      "Presicion: 0.9630106113778386\n",
      "Recall: 0.08892976868004998\n",
      "IoU: 0.08993915965800771\n"
     ]
    },
    {
     "name": "stderr",
     "output_type": "stream",
     "text": [
      "INFO: Created TensorFlow Lite XNNPACK delegate for CPU.\n",
      "Error connect socket: : Connection refused\n",
      "Error: bind to port 40588 on 127.0.0.1 failed in file ../../sockethelper/sockethelper.cpp line 51. Exiting.\n",
      "Segmentation fault\n",
      "/home/ohm/PycharmProjects/FiFi/venv/lib/python3.8/site-packages/shapely/set_operations.py:426: RuntimeWarning: divide by zero encountered in unary_union\n",
      "  return lib.unary_union(collections, **kwargs)\n"
     ]
    },
    {
     "name": "stdout",
     "output_type": "stream",
     "text": [
      "F1: 0.08904158516053173\n",
      "Presicion: 0.9528132492669349\n",
      "Recall: 0.04670302029490031\n",
      "IoU: 0.05793207074615064\n"
     ]
    },
    {
     "name": "stderr",
     "output_type": "stream",
     "text": [
      "INFO: Created TensorFlow Lite XNNPACK delegate for CPU.\n",
      "Error connect socket: : Connection refused\n",
      "Error: bind to port 40588 on 127.0.0.1 failed in file ../../sockethelper/sockethelper.cpp line 51. Exiting.\n",
      "Error connect socket: : Connection refused\n",
      "Error: bind to port 40588 on 127.0.0.1 failed in file ../../sockethelper/sockethelper.cpp line 51. Exiting.\n",
      "Error connect socket: : Connection refused\n",
      "Error: bind to port 40588 on 127.0.0.1 failed in file ../../sockethelper/sockethelper.cpp line 51. Exiting.\n",
      "Error connect socket: : Connection refused\n",
      "Error: bind to port 40588 on 127.0.0.1 failed in file ../../sockethelper/sockethelper.cpp line 51. Exiting.\n",
      "/home/ohm/PycharmProjects/FiFi/venv/lib/python3.8/site-packages/shapely/set_operations.py:426: RuntimeWarning: divide by zero encountered in unary_union\n",
      "  return lib.unary_union(collections, **kwargs)\n"
     ]
    },
    {
     "name": "stdout",
     "output_type": "stream",
     "text": [
      "F1: 0.10069907500417043\n",
      "Presicion: 0.9234453158357965\n",
      "Recall: 0.05325308598964294\n",
      "IoU: 0.06560331899410195\n"
     ]
    },
    {
     "name": "stderr",
     "output_type": "stream",
     "text": [
      "INFO: Created TensorFlow Lite XNNPACK delegate for CPU.\n",
      "/home/ohm/PycharmProjects/FiFi/venv/lib/python3.8/site-packages/shapely/set_operations.py:426: RuntimeWarning: divide by zero encountered in unary_union\n",
      "  return lib.unary_union(collections, **kwargs)\n"
     ]
    },
    {
     "name": "stdout",
     "output_type": "stream",
     "text": [
      "F1: 0.08904158516053173\n",
      "Presicion: 0.9528132492669349\n",
      "Recall: 0.04670302029490031\n",
      "IoU: 0.05793207074615064\n"
     ]
    },
    {
     "name": "stderr",
     "output_type": "stream",
     "text": [
      "INFO: Created TensorFlow Lite XNNPACK delegate for CPU.\n",
      "Error connect socket: : Connection refused\n",
      "Error: bind to port 40588 on 127.0.0.1 failed in file ../../sockethelper/sockethelper.cpp line 51. Exiting.\n",
      "Segmentation fault\n",
      "/home/ohm/PycharmProjects/FiFi/venv/lib/python3.8/site-packages/shapely/set_operations.py:426: RuntimeWarning: divide by zero encountered in unary_union\n",
      "  return lib.unary_union(collections, **kwargs)\n"
     ]
    },
    {
     "name": "stdout",
     "output_type": "stream",
     "text": [
      "F1: 0.08904158516053173\n",
      "Presicion: 0.9528132492669349\n",
      "Recall: 0.04670302029490031\n",
      "IoU: 0.05793207074615064\n"
     ]
    },
    {
     "name": "stderr",
     "output_type": "stream",
     "text": [
      "INFO: Created TensorFlow Lite XNNPACK delegate for CPU.\n",
      "Error connect socket: : Connection refused\n",
      "Error: bind to port 40588 on 127.0.0.1 failed in file ../../sockethelper/sockethelper.cpp line 51. Exiting.\n",
      "Error connect socket: : Connection refused\n",
      "Error: bind to port 40588 on 127.0.0.1 failed in file ../../sockethelper/sockethelper.cpp line 51. Exiting.\n",
      "Error connect socket: : Connection refused\n",
      "Error: bind to port 40588 on 127.0.0.1 failed in file ../../sockethelper/sockethelper.cpp line 51. Exiting.\n",
      "Error connect socket: : Connection refused\n",
      "Error: bind to port 40588 on 127.0.0.1 failed in file ../../sockethelper/sockethelper.cpp line 51. Exiting.\n",
      "/home/ohm/PycharmProjects/FiFi/venv/lib/python3.8/site-packages/shapely/set_operations.py:426: RuntimeWarning: divide by zero encountered in unary_union\n",
      "  return lib.unary_union(collections, **kwargs)\n",
      "/home/ohm/PycharmProjects/FiFi/venv/lib/python3.8/site-packages/shapely/set_operations.py:133: RuntimeWarning: invalid value encountered in intersection\n",
      "  return lib.intersection(a, b, **kwargs)\n"
     ]
    },
    {
     "name": "stdout",
     "output_type": "stream",
     "text": [
      "F1: 0.22339041132637724\n",
      "Presicion: 0.9136002224259956\n",
      "Recall: 0.12725293221103512\n",
      "IoU: 0.162571876244707\n"
     ]
    },
    {
     "name": "stderr",
     "output_type": "stream",
     "text": [
      "INFO: Created TensorFlow Lite XNNPACK delegate for CPU.\n",
      "Error connect socket: : Connection refused\n",
      "Error: bind to port 40588 on 127.0.0.1 failed in file ../../sockethelper/sockethelper.cpp line 51. Exiting.\n",
      "Error connect socket: : Connection refused\n",
      "Error: bind to port 40588 on 127.0.0.1 failed in file ../../sockethelper/sockethelper.cpp line 51. Exiting.\n",
      "Error connect socket: : Connection refused\n",
      "Error: bind to port 40588 on 127.0.0.1 failed in file ../../sockethelper/sockethelper.cpp line 51. Exiting.\n",
      "Error connect socket: : Connection refused\n",
      "Error: bind to port 40588 on 127.0.0.1 failed in file ../../sockethelper/sockethelper.cpp line 51. Exiting.\n",
      "/home/ohm/PycharmProjects/FiFi/venv/lib/python3.8/site-packages/shapely/set_operations.py:426: RuntimeWarning: divide by zero encountered in unary_union\n",
      "  return lib.unary_union(collections, **kwargs)\n",
      "/home/ohm/PycharmProjects/FiFi/venv/lib/python3.8/site-packages/shapely/set_operations.py:133: RuntimeWarning: invalid value encountered in intersection\n",
      "  return lib.intersection(a, b, **kwargs)\n"
     ]
    },
    {
     "name": "stdout",
     "output_type": "stream",
     "text": [
      "F1: 0.2963080615594507\n",
      "Presicion: 0.9258273636536527\n",
      "Recall: 0.17637875690626487\n",
      "IoU: 0.22488144846251917\n"
     ]
    },
    {
     "name": "stderr",
     "output_type": "stream",
     "text": [
      "INFO: Created TensorFlow Lite XNNPACK delegate for CPU.\n",
      "Error connect socket: : Connection refused\n",
      "Error: bind to port 40588 on 127.0.0.1 failed in file ../../sockethelper/sockethelper.cpp line 51. Exiting.\n",
      "Error connect socket: : Connection refused\n",
      "Error: bind to port 40588 on 127.0.0.1 failed in file ../../sockethelper/sockethelper.cpp line 51. Exiting.\n",
      "Error connect socket: : Connection refused\n",
      "Error: bind to port 40588 on 127.0.0.1 failed in file ../../sockethelper/sockethelper.cpp line 51. Exiting.\n",
      "Error connect socket: : Connection refused\n",
      "Error: bind to port 40588 on 127.0.0.1 failed in file ../../sockethelper/sockethelper.cpp line 51. Exiting.\n",
      "/home/ohm/PycharmProjects/FiFi/venv/lib/python3.8/site-packages/shapely/set_operations.py:426: RuntimeWarning: divide by zero encountered in unary_union\n",
      "  return lib.unary_union(collections, **kwargs)\n",
      "/home/ohm/PycharmProjects/FiFi/venv/lib/python3.8/site-packages/shapely/set_operations.py:133: RuntimeWarning: invalid value encountered in intersection\n",
      "  return lib.intersection(a, b, **kwargs)\n"
     ]
    },
    {
     "name": "stdout",
     "output_type": "stream",
     "text": [
      "F1: 0.2881671107395462\n",
      "Presicion: 0.952186001343571\n",
      "Recall: 0.16977345524747697\n",
      "IoU: 0.2197858271345718\n"
     ]
    },
    {
     "name": "stderr",
     "output_type": "stream",
     "text": [
      "INFO: Created TensorFlow Lite XNNPACK delegate for CPU.\n",
      "Error connect socket: : Connection refused\n",
      "Error: bind to port 40588 on 127.0.0.1 failed in file ../../sockethelper/sockethelper.cpp line 51. Exiting.\n",
      "Error connect socket: : Connection refused\n",
      "Error: bind to port 40588 on 127.0.0.1 failed in file ../../sockethelper/sockethelper.cpp line 51. Exiting.\n",
      "Segmentation fault\n",
      "/home/ohm/PycharmProjects/FiFi/venv/lib/python3.8/site-packages/shapely/set_operations.py:426: RuntimeWarning: divide by zero encountered in unary_union\n",
      "  return lib.unary_union(collections, **kwargs)\n",
      "/home/ohm/PycharmProjects/FiFi/venv/lib/python3.8/site-packages/shapely/set_operations.py:133: RuntimeWarning: invalid value encountered in intersection\n",
      "  return lib.intersection(a, b, **kwargs)\n"
     ]
    },
    {
     "name": "stdout",
     "output_type": "stream",
     "text": [
      "F1: 0.2833746403792676\n",
      "Presicion: 0.9318460370285715\n",
      "Recall: 0.16709398378100926\n",
      "IoU: 0.2193469657479133\n"
     ]
    },
    {
     "name": "stderr",
     "output_type": "stream",
     "text": [
      "INFO: Created TensorFlow Lite XNNPACK delegate for CPU.\n",
      "Segmentation fault\n",
      "/home/ohm/PycharmProjects/FiFi/venv/lib/python3.8/site-packages/shapely/set_operations.py:426: RuntimeWarning: divide by zero encountered in unary_union\n",
      "  return lib.unary_union(collections, **kwargs)\n"
     ]
    },
    {
     "name": "stdout",
     "output_type": "stream",
     "text": [
      "F1: 0.08904158516053173\n",
      "Presicion: 0.9528132492669349\n",
      "Recall: 0.04670302029490031\n",
      "IoU: 0.05793207074615064\n"
     ]
    },
    {
     "name": "stderr",
     "output_type": "stream",
     "text": [
      "INFO: Created TensorFlow Lite XNNPACK delegate for CPU.\n",
      "Error connect socket: : Connection refused\n",
      "Error: bind to port 40588 on 127.0.0.1 failed in file ../../sockethelper/sockethelper.cpp line 51. Exiting.\n",
      "Error connect socket: : Connection refused\n",
      "Error: bind to port 40588 on 127.0.0.1 failed in file ../../sockethelper/sockethelper.cpp line 51. Exiting.\n",
      "Error connect socket: : Connection refused\n",
      "Error: bind to port 40588 on 127.0.0.1 failed in file ../../sockethelper/sockethelper.cpp line 51. Exiting.\n",
      "Error connect socket: : Connection refused\n",
      "Error: bind to port 40588 on 127.0.0.1 failed in file ../../sockethelper/sockethelper.cpp line 51. Exiting.\n",
      "/home/ohm/PycharmProjects/FiFi/venv/lib/python3.8/site-packages/shapely/set_operations.py:426: RuntimeWarning: divide by zero encountered in unary_union\n",
      "  return lib.unary_union(collections, **kwargs)\n",
      "/home/ohm/PycharmProjects/FiFi/venv/lib/python3.8/site-packages/shapely/set_operations.py:133: RuntimeWarning: invalid value encountered in intersection\n",
      "  return lib.intersection(a, b, **kwargs)\n"
     ]
    },
    {
     "name": "stdout",
     "output_type": "stream",
     "text": [
      "F1: 0.23100618328573902\n",
      "Presicion: 0.8950454407688683\n",
      "Recall: 0.13261693310897923\n",
      "IoU: 0.18637935283876336\n"
     ]
    },
    {
     "name": "stderr",
     "output_type": "stream",
     "text": [
      "INFO: Created TensorFlow Lite XNNPACK delegate for CPU.\n",
      "Error connect socket: : Connection refused\n",
      "Error: bind to port 40588 on 127.0.0.1 failed in file ../../sockethelper/sockethelper.cpp line 51. Exiting.\n",
      "Error connect socket: : Connection refused\n",
      "Error: bind to port 40588 on 127.0.0.1 failed in file ../../sockethelper/sockethelper.cpp line 51. Exiting.\n",
      "Error connect socket: : Connection refused\n",
      "Error: bind to port 40588 on 127.0.0.1 failed in file ../../sockethelper/sockethelper.cpp line 51. Exiting.\n",
      "Error connect socket: : Connection refused\n",
      "Error: bind to port 40588 on 127.0.0.1 failed in file ../../sockethelper/sockethelper.cpp line 51. Exiting.\n",
      "/home/ohm/PycharmProjects/FiFi/venv/lib/python3.8/site-packages/shapely/set_operations.py:426: RuntimeWarning: divide by zero encountered in unary_union\n",
      "  return lib.unary_union(collections, **kwargs)\n",
      "/home/ohm/PycharmProjects/FiFi/venv/lib/python3.8/site-packages/shapely/set_operations.py:133: RuntimeWarning: invalid value encountered in intersection\n",
      "  return lib.intersection(a, b, **kwargs)\n"
     ]
    },
    {
     "name": "stdout",
     "output_type": "stream",
     "text": [
      "F1: 0.28176402691040486\n",
      "Presicion: 0.9337161100798774\n",
      "Recall: 0.16591592887292908\n",
      "IoU: 0.21109459495481744\n"
     ]
    },
    {
     "name": "stderr",
     "output_type": "stream",
     "text": [
      "INFO: Created TensorFlow Lite XNNPACK delegate for CPU.\n",
      "Error connect socket: : Connection refused\n",
      "Error: bind to port 40588 on 127.0.0.1 failed in file ../../sockethelper/sockethelper.cpp line 51. Exiting.\n",
      "Error connect socket: : Connection refused\n",
      "Error: bind to port 40588 on 127.0.0.1 failed in file ../../sockethelper/sockethelper.cpp line 51. Exiting.\n",
      "Error connect socket: : Connection refused\n",
      "Error: bind to port 40588 on 127.0.0.1 failed in file ../../sockethelper/sockethelper.cpp line 51. Exiting.\n",
      "Error connect socket: : Connection refused\n",
      "Error: bind to port 40588 on 127.0.0.1 failed in file ../../sockethelper/sockethelper.cpp line 51. Exiting.\n",
      "/home/ohm/PycharmProjects/FiFi/venv/lib/python3.8/site-packages/shapely/set_operations.py:426: RuntimeWarning: divide by zero encountered in unary_union\n",
      "  return lib.unary_union(collections, **kwargs)\n",
      "/home/ohm/PycharmProjects/FiFi/venv/lib/python3.8/site-packages/shapely/set_operations.py:133: RuntimeWarning: invalid value encountered in intersection\n",
      "  return lib.intersection(a, b, **kwargs)\n"
     ]
    },
    {
     "name": "stdout",
     "output_type": "stream",
     "text": [
      "F1: 0.30329366115769013\n",
      "Presicion: 0.9350065845728152\n",
      "Recall: 0.18100340794621636\n",
      "IoU: 0.23887280061894384\n"
     ]
    },
    {
     "name": "stderr",
     "output_type": "stream",
     "text": [
      "INFO: Created TensorFlow Lite XNNPACK delegate for CPU.\n",
      "Error connect socket: : Connection refused\n",
      "Error: bind to port 40588 on 127.0.0.1 failed in file ../../sockethelper/sockethelper.cpp line 51. Exiting.\n",
      "Error connect socket: : Connection refused\n",
      "Error: bind to port 40588 on 127.0.0.1 failed in file ../../sockethelper/sockethelper.cpp line 51. Exiting.\n",
      "Error connect socket: : Connection refused\n",
      "Error: bind to port 40588 on 127.0.0.1 failed in file ../../sockethelper/sockethelper.cpp line 51. Exiting.\n",
      "Error connect socket: : Connection refused\n",
      "Error: bind to port 40588 on 127.0.0.1 failed in file ../../sockethelper/sockethelper.cpp line 51. Exiting.\n",
      "/home/ohm/PycharmProjects/FiFi/venv/lib/python3.8/site-packages/shapely/set_operations.py:426: RuntimeWarning: divide by zero encountered in unary_union\n",
      "  return lib.unary_union(collections, **kwargs)\n",
      "/home/ohm/PycharmProjects/FiFi/venv/lib/python3.8/site-packages/shapely/set_operations.py:133: RuntimeWarning: invalid value encountered in intersection\n",
      "  return lib.intersection(a, b, **kwargs)\n"
     ]
    },
    {
     "name": "stdout",
     "output_type": "stream",
     "text": [
      "F1: 0.3037318153018591\n",
      "Presicion: 0.9343452605277637\n",
      "Recall: 0.18134049227970878\n",
      "IoU: 0.2406200451201422\n"
     ]
    },
    {
     "name": "stderr",
     "output_type": "stream",
     "text": [
      "INFO: Created TensorFlow Lite XNNPACK delegate for CPU.\n",
      "Error connect socket: : Connection refused\n",
      "Error: bind to port 40588 on 127.0.0.1 failed in file ../../sockethelper/sockethelper.cpp line 51. Exiting.\n",
      "Error connect socket: : Connection refused\n",
      "Error: bind to port 40588 on 127.0.0.1 failed in file ../../sockethelper/sockethelper.cpp line 51. Exiting.\n",
      "Error connect socket: : Connection refused\n",
      "Error: bind to port 40588 on 127.0.0.1 failed in file ../../sockethelper/sockethelper.cpp line 51. Exiting.\n",
      "Error connect socket: : Connection refused\n",
      "Error: bind to port 40588 on 127.0.0.1 failed in file ../../sockethelper/sockethelper.cpp line 51. Exiting.\n",
      "/home/ohm/PycharmProjects/FiFi/venv/lib/python3.8/site-packages/shapely/set_operations.py:426: RuntimeWarning: divide by zero encountered in unary_union\n",
      "  return lib.unary_union(collections, **kwargs)\n",
      "/home/ohm/PycharmProjects/FiFi/venv/lib/python3.8/site-packages/shapely/set_operations.py:133: RuntimeWarning: invalid value encountered in intersection\n",
      "  return lib.intersection(a, b, **kwargs)\n"
     ]
    },
    {
     "name": "stdout",
     "output_type": "stream",
     "text": [
      "F1: 0.29791559969022163\n",
      "Presicion: 0.9213030978107922\n",
      "Recall: 0.1776864348133553\n",
      "IoU: 0.22869917487869929\n"
     ]
    },
    {
     "name": "stderr",
     "output_type": "stream",
     "text": [
      "INFO: Created TensorFlow Lite XNNPACK delegate for CPU.\n",
      "Error connect socket: : Connection refused\n",
      "Error: bind to port 40588 on 127.0.0.1 failed in file ../../sockethelper/sockethelper.cpp line 51. Exiting.\n",
      "Error connect socket: : Connection refused\n",
      "Error: bind to port 40588 on 127.0.0.1 failed in file ../../sockethelper/sockethelper.cpp line 51. Exiting.\n",
      "Error connect socket: : Connection refused\n",
      "Error: bind to port 40588 on 127.0.0.1 failed in file ../../sockethelper/sockethelper.cpp line 51. Exiting.\n",
      "Error connect socket: : Connection refused\n",
      "Error: bind to port 40588 on 127.0.0.1 failed in file ../../sockethelper/sockethelper.cpp line 51. Exiting.\n",
      "/home/ohm/PycharmProjects/FiFi/venv/lib/python3.8/site-packages/shapely/set_operations.py:426: RuntimeWarning: divide by zero encountered in unary_union\n",
      "  return lib.unary_union(collections, **kwargs)\n",
      "/home/ohm/PycharmProjects/FiFi/venv/lib/python3.8/site-packages/shapely/set_operations.py:133: RuntimeWarning: invalid value encountered in intersection\n",
      "  return lib.intersection(a, b, **kwargs)\n"
     ]
    },
    {
     "name": "stdout",
     "output_type": "stream",
     "text": [
      "F1: 0.2551804885259067\n",
      "Presicion: 0.892877914918129\n",
      "Recall: 0.1488623371703736\n",
      "IoU: 0.20686407249357552\n"
     ]
    },
    {
     "name": "stderr",
     "output_type": "stream",
     "text": [
      "INFO: Created TensorFlow Lite XNNPACK delegate for CPU.\n",
      "Error connect socket: : Connection refused\n",
      "Error: bind to port 40588 on 127.0.0.1 failed in file ../../sockethelper/sockethelper.cpp line 51. Exiting.\n",
      "Error connect socket: : Connection refused\n",
      "Error: bind to port 40588 on 127.0.0.1 failed in file ../../sockethelper/sockethelper.cpp line 51. Exiting.\n",
      "Error connect socket: : Connection refused\n",
      "Error: bind to port 40588 on 127.0.0.1 failed in file ../../sockethelper/sockethelper.cpp line 51. Exiting.\n",
      "Error connect socket: : Connection refused\n",
      "Error: bind to port 40588 on 127.0.0.1 failed in file ../../sockethelper/sockethelper.cpp line 51. Exiting.\n",
      "/home/ohm/PycharmProjects/FiFi/venv/lib/python3.8/site-packages/shapely/set_operations.py:426: RuntimeWarning: divide by zero encountered in unary_union\n",
      "  return lib.unary_union(collections, **kwargs)\n",
      "/home/ohm/PycharmProjects/FiFi/venv/lib/python3.8/site-packages/shapely/set_operations.py:133: RuntimeWarning: invalid value encountered in intersection\n",
      "  return lib.intersection(a, b, **kwargs)\n"
     ]
    },
    {
     "name": "stdout",
     "output_type": "stream",
     "text": [
      "F1: 0.3040121749874717\n",
      "Presicion: 0.9544523789884446\n",
      "Recall: 0.18080035183274132\n",
      "IoU: 0.24424218472947404\n"
     ]
    },
    {
     "name": "stderr",
     "output_type": "stream",
     "text": [
      "INFO: Created TensorFlow Lite XNNPACK delegate for CPU.\n",
      "Error connect socket: : Connection refused\n",
      "Error: bind to port 40588 on 127.0.0.1 failed in file ../../sockethelper/sockethelper.cpp line 51. Exiting.\n",
      "Error connect socket: : Connection refused\n",
      "Error: bind to port 40588 on 127.0.0.1 failed in file ../../sockethelper/sockethelper.cpp line 51. Exiting.\n",
      "Error connect socket: : Connection refused\n",
      "Error: bind to port 40588 on 127.0.0.1 failed in file ../../sockethelper/sockethelper.cpp line 51. Exiting.\n",
      "Error connect socket: : Connection refused\n",
      "Error: bind to port 40588 on 127.0.0.1 failed in file ../../sockethelper/sockethelper.cpp line 51. Exiting.\n",
      "/home/ohm/PycharmProjects/FiFi/venv/lib/python3.8/site-packages/shapely/set_operations.py:426: RuntimeWarning: divide by zero encountered in unary_union\n",
      "  return lib.unary_union(collections, **kwargs)\n"
     ]
    },
    {
     "name": "stdout",
     "output_type": "stream",
     "text": [
      "F1: 0.29325239228600175\n",
      "Presicion: 0.9450338067507662\n",
      "Recall: 0.17355384701922444\n",
      "IoU: 0.2262335894118743\n"
     ]
    },
    {
     "name": "stderr",
     "output_type": "stream",
     "text": [
      "INFO: Created TensorFlow Lite XNNPACK delegate for CPU.\n",
      "Error connect socket: : Connection refused\n",
      "Error: bind to port 40588 on 127.0.0.1 failed in file ../../sockethelper/sockethelper.cpp line 51. Exiting.\n",
      "Error connect socket: : Connection refused\n",
      "Error: bind to port 40588 on 127.0.0.1 failed in file ../../sockethelper/sockethelper.cpp line 51. Exiting.\n",
      "Error connect socket: : Connection refused\n",
      "Error: bind to port 40588 on 127.0.0.1 failed in file ../../sockethelper/sockethelper.cpp line 51. Exiting.\n",
      "Error connect socket: : Connection refused\n",
      "Error: bind to port 40588 on 127.0.0.1 failed in file ../../sockethelper/sockethelper.cpp line 51. Exiting.\n",
      "/home/ohm/PycharmProjects/FiFi/venv/lib/python3.8/site-packages/shapely/set_operations.py:426: RuntimeWarning: divide by zero encountered in unary_union\n",
      "  return lib.unary_union(collections, **kwargs)\n",
      "/home/ohm/PycharmProjects/FiFi/venv/lib/python3.8/site-packages/shapely/set_operations.py:133: RuntimeWarning: invalid value encountered in intersection\n",
      "  return lib.intersection(a, b, **kwargs)\n"
     ]
    },
    {
     "name": "stdout",
     "output_type": "stream",
     "text": [
      "F1: 0.30252205981197877\n",
      "Presicion: 0.9478770566493416\n",
      "Recall: 0.17998239427742438\n",
      "IoU: 0.23949102614381054\n"
     ]
    },
    {
     "name": "stderr",
     "output_type": "stream",
     "text": [
      "INFO: Created TensorFlow Lite XNNPACK delegate for CPU.\n",
      "Error connect socket: : Connection refused\n",
      "Error: bind to port 40588 on 127.0.0.1 failed in file ../../sockethelper/sockethelper.cpp line 51. Exiting.\n",
      "Error connect socket: : Connection refused\n",
      "Error: bind to port 40588 on 127.0.0.1 failed in file ../../sockethelper/sockethelper.cpp line 51. Exiting.\n",
      "Error connect socket: : Connection refused\n",
      "Error: bind to port 40588 on 127.0.0.1 failed in file ../../sockethelper/sockethelper.cpp line 51. Exiting.\n",
      "Error connect socket: : Connection refused\n",
      "Error: bind to port 40588 on 127.0.0.1 failed in file ../../sockethelper/sockethelper.cpp line 51. Exiting.\n",
      "/home/ohm/PycharmProjects/FiFi/venv/lib/python3.8/site-packages/shapely/set_operations.py:426: RuntimeWarning: divide by zero encountered in unary_union\n",
      "  return lib.unary_union(collections, **kwargs)\n",
      "/home/ohm/PycharmProjects/FiFi/venv/lib/python3.8/site-packages/shapely/set_operations.py:133: RuntimeWarning: invalid value encountered in intersection\n",
      "  return lib.intersection(a, b, **kwargs)\n"
     ]
    },
    {
     "name": "stdout",
     "output_type": "stream",
     "text": [
      "F1: 0.2460242947117777\n",
      "Presicion: 0.8838935580840305\n",
      "Recall: 0.1428995939195078\n",
      "IoU: 0.2059633350232475\n"
     ]
    },
    {
     "name": "stderr",
     "output_type": "stream",
     "text": [
      "INFO: Created TensorFlow Lite XNNPACK delegate for CPU.\n",
      "Segmentation fault\n",
      "/home/ohm/PycharmProjects/FiFi/venv/lib/python3.8/site-packages/shapely/set_operations.py:426: RuntimeWarning: divide by zero encountered in unary_union\n",
      "  return lib.unary_union(collections, **kwargs)\n"
     ]
    },
    {
     "name": "stdout",
     "output_type": "stream",
     "text": [
      "F1: 0.08904158516053173\n",
      "Presicion: 0.9528132492669349\n",
      "Recall: 0.04670302029490031\n",
      "IoU: 0.05793207074615064\n"
     ]
    },
    {
     "name": "stderr",
     "output_type": "stream",
     "text": [
      "INFO: Created TensorFlow Lite XNNPACK delegate for CPU.\n",
      "Error connect socket: : Connection refused\n",
      "Error: bind to port 40588 on 127.0.0.1 failed in file ../../sockethelper/sockethelper.cpp line 51. Exiting.\n",
      "Error connect socket: : Connection refused\n",
      "Error: bind to port 40588 on 127.0.0.1 failed in file ../../sockethelper/sockethelper.cpp line 51. Exiting.\n",
      "Error connect socket: : Connection refused\n",
      "Error: bind to port 40588 on 127.0.0.1 failed in file ../../sockethelper/sockethelper.cpp line 51. Exiting.\n",
      "Error connect socket: : Connection refused\n",
      "Error: bind to port 40588 on 127.0.0.1 failed in file ../../sockethelper/sockethelper.cpp line 51. Exiting.\n",
      "/home/ohm/PycharmProjects/FiFi/venv/lib/python3.8/site-packages/shapely/set_operations.py:426: RuntimeWarning: divide by zero encountered in unary_union\n",
      "  return lib.unary_union(collections, **kwargs)\n"
     ]
    },
    {
     "name": "stdout",
     "output_type": "stream",
     "text": [
      "F1: 0.09576460542099485\n",
      "Presicion: 0.9537646128219816\n",
      "Recall: 0.05041322188980843\n",
      "IoU: 0.05935129742390048\n"
     ]
    },
    {
     "name": "stderr",
     "output_type": "stream",
     "text": [
      "INFO: Created TensorFlow Lite XNNPACK delegate for CPU.\n",
      "Segmentation fault\n",
      "/home/ohm/PycharmProjects/FiFi/venv/lib/python3.8/site-packages/shapely/set_operations.py:426: RuntimeWarning: divide by zero encountered in unary_union\n",
      "  return lib.unary_union(collections, **kwargs)\n"
     ]
    },
    {
     "name": "stdout",
     "output_type": "stream",
     "text": [
      "F1: 0.08904158516053173\n",
      "Presicion: 0.9528132492669349\n",
      "Recall: 0.04670302029490031\n",
      "IoU: 0.05793207074615064\n"
     ]
    },
    {
     "name": "stderr",
     "output_type": "stream",
     "text": [
      "INFO: Created TensorFlow Lite XNNPACK delegate for CPU.\n",
      "Error connect socket: : Connection refused\n",
      "Error: bind to port 40588 on 127.0.0.1 failed in file ../../sockethelper/sockethelper.cpp line 51. Exiting.\n",
      "Error connect socket: : Connection refused\n",
      "Error: bind to port 40588 on 127.0.0.1 failed in file ../../sockethelper/sockethelper.cpp line 51. Exiting.\n",
      "Error connect socket: : Connection refused\n",
      "Error: bind to port 40588 on 127.0.0.1 failed in file ../../sockethelper/sockethelper.cpp line 51. Exiting.\n",
      "Error connect socket: : Connection refused\n",
      "Error: bind to port 40588 on 127.0.0.1 failed in file ../../sockethelper/sockethelper.cpp line 51. Exiting.\n",
      "/home/ohm/PycharmProjects/FiFi/venv/lib/python3.8/site-packages/shapely/set_operations.py:426: RuntimeWarning: divide by zero encountered in unary_union\n",
      "  return lib.unary_union(collections, **kwargs)\n"
     ]
    },
    {
     "name": "stdout",
     "output_type": "stream",
     "text": [
      "F1: 0.2794369505300987\n",
      "Presicion: 0.9321438480724639\n",
      "Recall: 0.16435329010096264\n",
      "IoU: 0.19328523160934394\n"
     ]
    },
    {
     "name": "stderr",
     "output_type": "stream",
     "text": [
      "INFO: Created TensorFlow Lite XNNPACK delegate for CPU.\n",
      "Error connect socket: : Connection refused\n",
      "Error: bind to port 40588 on 127.0.0.1 failed in file ../../sockethelper/sockethelper.cpp line 51. Exiting.\n",
      "Error connect socket: : Connection refused\n",
      "Error: bind to port 40588 on 127.0.0.1 failed in file ../../sockethelper/sockethelper.cpp line 51. Exiting.\n",
      "Error connect socket: : Connection refused\n",
      "Error: bind to port 40588 on 127.0.0.1 failed in file ../../sockethelper/sockethelper.cpp line 51. Exiting.\n",
      "Error connect socket: : Connection refused\n",
      "Error: bind to port 40588 on 127.0.0.1 failed in file ../../sockethelper/sockethelper.cpp line 51. Exiting.\n",
      "/home/ohm/PycharmProjects/FiFi/venv/lib/python3.8/site-packages/shapely/set_operations.py:426: RuntimeWarning: divide by zero encountered in unary_union\n",
      "  return lib.unary_union(collections, **kwargs)\n",
      "/home/ohm/PycharmProjects/FiFi/venv/lib/python3.8/site-packages/shapely/set_operations.py:133: RuntimeWarning: invalid value encountered in intersection\n",
      "  return lib.intersection(a, b, **kwargs)\n"
     ]
    },
    {
     "name": "stdout",
     "output_type": "stream",
     "text": [
      "F1: 0.2693870598965071\n",
      "Presicion: 0.9304237544025162\n",
      "Recall: 0.15749315028737493\n",
      "IoU: 0.18293548483916414\n"
     ]
    },
    {
     "name": "stderr",
     "output_type": "stream",
     "text": [
      "INFO: Created TensorFlow Lite XNNPACK delegate for CPU.\n",
      "Error connect socket: : Connection refused\n",
      "Error: bind to port 40588 on 127.0.0.1 failed in file ../../sockethelper/sockethelper.cpp line 51. Exiting.\n",
      "Error connect socket: : Connection refused\n",
      "Error: bind to port 40588 on 127.0.0.1 failed in file ../../sockethelper/sockethelper.cpp line 51. Exiting.\n",
      "Error connect socket: : Connection refused\n",
      "Error: bind to port 40588 on 127.0.0.1 failed in file ../../sockethelper/sockethelper.cpp line 51. Exiting.\n",
      "Error connect socket: : Connection refused\n",
      "Error: bind to port 40588 on 127.0.0.1 failed in file ../../sockethelper/sockethelper.cpp line 51. Exiting.\n",
      "/home/ohm/PycharmProjects/FiFi/venv/lib/python3.8/site-packages/shapely/set_operations.py:426: RuntimeWarning: divide by zero encountered in unary_union\n",
      "  return lib.unary_union(collections, **kwargs)\n"
     ]
    },
    {
     "name": "stdout",
     "output_type": "stream",
     "text": [
      "F1: 0.261105013419881\n",
      "Presicion: 0.944369181912391\n",
      "Recall: 0.15149574555916795\n",
      "IoU: 0.1727683069068583\n"
     ]
    },
    {
     "name": "stderr",
     "output_type": "stream",
     "text": [
      "INFO: Created TensorFlow Lite XNNPACK delegate for CPU.\n",
      "Error connect socket: : Connection refused\n",
      "Error: bind to port 40588 on 127.0.0.1 failed in file ../../sockethelper/sockethelper.cpp line 51. Exiting.\n",
      "Segmentation fault\n",
      "/home/ohm/PycharmProjects/FiFi/venv/lib/python3.8/site-packages/shapely/set_operations.py:426: RuntimeWarning: divide by zero encountered in unary_union\n",
      "  return lib.unary_union(collections, **kwargs)\n"
     ]
    },
    {
     "name": "stdout",
     "output_type": "stream",
     "text": [
      "F1: 0.0900858713668402\n",
      "Presicion: 0.9533857196476789\n",
      "Recall: 0.047276526449811375\n",
      "IoU: 0.05832349951783371\n"
     ]
    },
    {
     "name": "stderr",
     "output_type": "stream",
     "text": [
      "INFO: Created TensorFlow Lite XNNPACK delegate for CPU.\n",
      "Error connect socket: : Connection refused\n",
      "Error: bind to port 40588 on 127.0.0.1 failed in file ../../sockethelper/sockethelper.cpp line 51. Exiting.\n",
      "Error connect socket: : Connection refused\n",
      "Error: bind to port 40588 on 127.0.0.1 failed in file ../../sockethelper/sockethelper.cpp line 51. Exiting.\n",
      "Error connect socket: : Connection refused\n",
      "Error: bind to port 40588 on 127.0.0.1 failed in file ../../sockethelper/sockethelper.cpp line 51. Exiting.\n",
      "Error connect socket: : Connection refused\n",
      "Error: bind to port 40588 on 127.0.0.1 failed in file ../../sockethelper/sockethelper.cpp line 51. Exiting.\n",
      "/home/ohm/PycharmProjects/FiFi/venv/lib/python3.8/site-packages/shapely/set_operations.py:426: RuntimeWarning: divide by zero encountered in unary_union\n",
      "  return lib.unary_union(collections, **kwargs)\n",
      "/home/ohm/PycharmProjects/FiFi/venv/lib/python3.8/site-packages/shapely/set_operations.py:133: RuntimeWarning: invalid value encountered in intersection\n",
      "  return lib.intersection(a, b, **kwargs)\n"
     ]
    },
    {
     "name": "stdout",
     "output_type": "stream",
     "text": [
      "F1: 0.2989656730362544\n",
      "Presicion: 0.9468715712521334\n",
      "Recall: 0.17750570345887853\n",
      "IoU: 0.2246941757625236\n"
     ]
    },
    {
     "name": "stderr",
     "output_type": "stream",
     "text": [
      "INFO: Created TensorFlow Lite XNNPACK delegate for CPU.\n",
      "Error connect socket: : Connection refused\n",
      "Error: bind to port 40588 on 127.0.0.1 failed in file ../../sockethelper/sockethelper.cpp line 51. Exiting.\n",
      "Error connect socket: : Connection refused\n",
      "Error: bind to port 40588 on 127.0.0.1 failed in file ../../sockethelper/sockethelper.cpp line 51. Exiting.\n",
      "Error connect socket: : Connection refused\n",
      "Error: bind to port 40588 on 127.0.0.1 failed in file ../../sockethelper/sockethelper.cpp line 51. Exiting.\n",
      "Error connect socket: : Connection refused\n",
      "Error: bind to port 40588 on 127.0.0.1 failed in file ../../sockethelper/sockethelper.cpp line 51. Exiting.\n",
      "/home/ohm/PycharmProjects/FiFi/venv/lib/python3.8/site-packages/shapely/set_operations.py:426: RuntimeWarning: divide by zero encountered in unary_union\n",
      "  return lib.unary_union(collections, **kwargs)\n",
      "/home/ohm/PycharmProjects/FiFi/venv/lib/python3.8/site-packages/shapely/set_operations.py:133: RuntimeWarning: invalid value encountered in intersection\n",
      "  return lib.intersection(a, b, **kwargs)\n"
     ]
    },
    {
     "name": "stdout",
     "output_type": "stream",
     "text": [
      "F1: 0.31895944568834855\n",
      "Presicion: 0.9410105768394296\n",
      "Recall: 0.1920232646230239\n",
      "IoU: 0.24648893163855162\n"
     ]
    },
    {
     "name": "stderr",
     "output_type": "stream",
     "text": [
      "INFO: Created TensorFlow Lite XNNPACK delegate for CPU.\n",
      "Error connect socket: : Connection refused\n",
      "Error: bind to port 40588 on 127.0.0.1 failed in file ../../sockethelper/sockethelper.cpp line 51. Exiting.\n",
      "Error connect socket: : Connection refused\n",
      "Error: bind to port 40588 on 127.0.0.1 failed in file ../../sockethelper/sockethelper.cpp line 51. Exiting.\n",
      "Error connect socket: : Connection refused\n",
      "Error: bind to port 40588 on 127.0.0.1 failed in file ../../sockethelper/sockethelper.cpp line 51. Exiting.\n",
      "Error connect socket: : Connection refused\n",
      "Error: bind to port 40588 on 127.0.0.1 failed in file ../../sockethelper/sockethelper.cpp line 51. Exiting.\n",
      "/home/ohm/PycharmProjects/FiFi/venv/lib/python3.8/site-packages/shapely/set_operations.py:426: RuntimeWarning: divide by zero encountered in unary_union\n",
      "  return lib.unary_union(collections, **kwargs)\n",
      "/home/ohm/PycharmProjects/FiFi/venv/lib/python3.8/site-packages/shapely/set_operations.py:133: RuntimeWarning: invalid value encountered in intersection\n",
      "  return lib.intersection(a, b, **kwargs)\n"
     ]
    },
    {
     "name": "stdout",
     "output_type": "stream",
     "text": [
      "F1: 0.2906912916750931\n",
      "Presicion: 0.9331989503935284\n",
      "Recall: 0.1721594659253348\n",
      "IoU: 0.2273913642434552\n"
     ]
    },
    {
     "name": "stderr",
     "output_type": "stream",
     "text": [
      "INFO: Created TensorFlow Lite XNNPACK delegate for CPU.\n",
      "Error connect socket: : Connection refused\n",
      "Error: bind to port 40588 on 127.0.0.1 failed in file ../../sockethelper/sockethelper.cpp line 51. Exiting.\n",
      "Error connect socket: : Connection refused\n",
      "Error: bind to port 40588 on 127.0.0.1 failed in file ../../sockethelper/sockethelper.cpp line 51. Exiting.\n",
      "Error connect socket: : Connection refused\n",
      "Error: bind to port 40588 on 127.0.0.1 failed in file ../../sockethelper/sockethelper.cpp line 51. Exiting.\n",
      "Error connect socket: : Connection refused\n",
      "Error: bind to port 40588 on 127.0.0.1 failed in file ../../sockethelper/sockethelper.cpp line 51. Exiting.\n",
      "/home/ohm/PycharmProjects/FiFi/venv/lib/python3.8/site-packages/shapely/set_operations.py:426: RuntimeWarning: divide by zero encountered in unary_union\n",
      "  return lib.unary_union(collections, **kwargs)\n",
      "/home/ohm/PycharmProjects/FiFi/venv/lib/python3.8/site-packages/shapely/set_operations.py:133: RuntimeWarning: invalid value encountered in intersection\n",
      "  return lib.intersection(a, b, **kwargs)\n"
     ]
    },
    {
     "name": "stdout",
     "output_type": "stream",
     "text": [
      "F1: 0.19739833484072572\n",
      "Presicion: 0.9013085653361087\n",
      "Recall: 0.11083648561620017\n",
      "IoU: 0.1551497572987815\n"
     ]
    },
    {
     "name": "stderr",
     "output_type": "stream",
     "text": [
      "INFO: Created TensorFlow Lite XNNPACK delegate for CPU.\n",
      "Error connect socket: : Connection refused\n",
      "Error: bind to port 40588 on 127.0.0.1 failed in file ../../sockethelper/sockethelper.cpp line 51. Exiting.\n",
      "Error connect socket: : Connection refused\n",
      "Error: bind to port 40588 on 127.0.0.1 failed in file ../../sockethelper/sockethelper.cpp line 51. Exiting.\n",
      "Error connect socket: : Connection refused\n",
      "Error: bind to port 40588 on 127.0.0.1 failed in file ../../sockethelper/sockethelper.cpp line 51. Exiting.\n",
      "Error connect socket: : Connection refused\n",
      "Error: bind to port 40588 on 127.0.0.1 failed in file ../../sockethelper/sockethelper.cpp line 51. Exiting.\n",
      "/home/ohm/PycharmProjects/FiFi/venv/lib/python3.8/site-packages/shapely/set_operations.py:426: RuntimeWarning: divide by zero encountered in unary_union\n",
      "  return lib.unary_union(collections, **kwargs)\n",
      "/home/ohm/PycharmProjects/FiFi/venv/lib/python3.8/site-packages/shapely/set_operations.py:133: RuntimeWarning: invalid value encountered in intersection\n",
      "  return lib.intersection(a, b, **kwargs)\n"
     ]
    },
    {
     "name": "stdout",
     "output_type": "stream",
     "text": [
      "F1: 0.31112327294229025\n",
      "Presicion: 0.9309196687369402\n",
      "Recall: 0.18677227947030742\n",
      "IoU: 0.23494847794265625\n"
     ]
    },
    {
     "name": "stderr",
     "output_type": "stream",
     "text": [
      "INFO: Created TensorFlow Lite XNNPACK delegate for CPU.\n",
      "Error connect socket: : Connection refused\n",
      "Error: bind to port 40588 on 127.0.0.1 failed in file ../../sockethelper/sockethelper.cpp line 51. Exiting.\n",
      "Error connect socket: : Connection refused\n",
      "Error: bind to port 40588 on 127.0.0.1 failed in file ../../sockethelper/sockethelper.cpp line 51. Exiting.\n",
      "Error connect socket: : Connection refused\n",
      "Error: bind to port 40588 on 127.0.0.1 failed in file ../../sockethelper/sockethelper.cpp line 51. Exiting.\n",
      "Error connect socket: : Connection refused\n",
      "Error: bind to port 40588 on 127.0.0.1 failed in file ../../sockethelper/sockethelper.cpp line 51. Exiting.\n",
      "/home/ohm/PycharmProjects/FiFi/venv/lib/python3.8/site-packages/shapely/set_operations.py:426: RuntimeWarning: divide by zero encountered in unary_union\n",
      "  return lib.unary_union(collections, **kwargs)\n",
      "/home/ohm/PycharmProjects/FiFi/venv/lib/python3.8/site-packages/shapely/set_operations.py:133: RuntimeWarning: invalid value encountered in intersection\n",
      "  return lib.intersection(a, b, **kwargs)\n"
     ]
    },
    {
     "name": "stdout",
     "output_type": "stream",
     "text": [
      "F1: 0.3100721877538844\n",
      "Presicion: 0.9508457827912544\n",
      "Recall: 0.18523953414594865\n",
      "IoU: 0.22999386226758814\n"
     ]
    },
    {
     "name": "stderr",
     "output_type": "stream",
     "text": [
      "INFO: Created TensorFlow Lite XNNPACK delegate for CPU.\n",
      "Error connect socket: : Connection refused\n",
      "Error: bind to port 40588 on 127.0.0.1 failed in file ../../sockethelper/sockethelper.cpp line 51. Exiting.\n",
      "Error connect socket: : Connection refused\n",
      "Error: bind to port 40588 on 127.0.0.1 failed in file ../../sockethelper/sockethelper.cpp line 51. Exiting.\n",
      "Error connect socket: : Connection refused\n",
      "Error: bind to port 40588 on 127.0.0.1 failed in file ../../sockethelper/sockethelper.cpp line 51. Exiting.\n",
      "Error connect socket: : Connection refused\n",
      "Error: bind to port 40588 on 127.0.0.1 failed in file ../../sockethelper/sockethelper.cpp line 51. Exiting.\n",
      "/home/ohm/PycharmProjects/FiFi/venv/lib/python3.8/site-packages/shapely/set_operations.py:426: RuntimeWarning: divide by zero encountered in unary_union\n",
      "  return lib.unary_union(collections, **kwargs)\n",
      "/home/ohm/PycharmProjects/FiFi/venv/lib/python3.8/site-packages/shapely/set_operations.py:133: RuntimeWarning: invalid value encountered in intersection\n",
      "  return lib.intersection(a, b, **kwargs)\n"
     ]
    },
    {
     "name": "stdout",
     "output_type": "stream",
     "text": [
      "F1: 0.31691973902645043\n",
      "Presicion: 0.9484511320454678\n",
      "Recall: 0.19024443655471646\n",
      "IoU: 0.2387467044885411\n"
     ]
    },
    {
     "name": "stderr",
     "output_type": "stream",
     "text": [
      "INFO: Created TensorFlow Lite XNNPACK delegate for CPU.\n",
      "Segmentation fault\n",
      "/home/ohm/PycharmProjects/FiFi/venv/lib/python3.8/site-packages/shapely/set_operations.py:426: RuntimeWarning: divide by zero encountered in unary_union\n",
      "  return lib.unary_union(collections, **kwargs)\n"
     ]
    },
    {
     "name": "stdout",
     "output_type": "stream",
     "text": [
      "F1: 0.08904158516053173\n",
      "Presicion: 0.9528132492669349\n",
      "Recall: 0.04670302029490031\n",
      "IoU: 0.05793207074615064\n"
     ]
    },
    {
     "name": "stderr",
     "output_type": "stream",
     "text": [
      "INFO: Created TensorFlow Lite XNNPACK delegate for CPU.\n",
      "Error connect socket: : Connection refused\n",
      "Error: bind to port 40588 on 127.0.0.1 failed in file ../../sockethelper/sockethelper.cpp line 51. Exiting.\n",
      "Error connect socket: : Connection refused\n",
      "Error: bind to port 40588 on 127.0.0.1 failed in file ../../sockethelper/sockethelper.cpp line 51. Exiting.\n",
      "Error connect socket: : Connection refused\n",
      "Error: bind to port 40588 on 127.0.0.1 failed in file ../../sockethelper/sockethelper.cpp line 51. Exiting.\n",
      "Error connect socket: : Connection refused\n",
      "Error: bind to port 40588 on 127.0.0.1 failed in file ../../sockethelper/sockethelper.cpp line 51. Exiting.\n",
      "/home/ohm/PycharmProjects/FiFi/venv/lib/python3.8/site-packages/shapely/set_operations.py:426: RuntimeWarning: divide by zero encountered in unary_union\n",
      "  return lib.unary_union(collections, **kwargs)\n"
     ]
    },
    {
     "name": "stdout",
     "output_type": "stream",
     "text": [
      "F1: 0.2810725304785035\n",
      "Presicion: 0.9586010126384227\n",
      "Recall: 0.1646791486848333\n",
      "IoU: 0.19548609896618385\n"
     ]
    },
    {
     "name": "stderr",
     "output_type": "stream",
     "text": [
      "INFO: Created TensorFlow Lite XNNPACK delegate for CPU.\n",
      "Error connect socket: : Connection refused\n",
      "Error: bind to port 40588 on 127.0.0.1 failed in file ../../sockethelper/sockethelper.cpp line 51. Exiting.\n",
      "Error connect socket: : Connection refused\n",
      "Error: bind to port 40588 on 127.0.0.1 failed in file ../../sockethelper/sockethelper.cpp line 51. Exiting.\n",
      "Error connect socket: : Connection refused\n",
      "Error: bind to port 40588 on 127.0.0.1 failed in file ../../sockethelper/sockethelper.cpp line 51. Exiting.\n",
      "Error connect socket: : Connection refused\n",
      "Error: bind to port 40588 on 127.0.0.1 failed in file ../../sockethelper/sockethelper.cpp line 51. Exiting.\n",
      "/home/ohm/PycharmProjects/FiFi/venv/lib/python3.8/site-packages/shapely/set_operations.py:426: RuntimeWarning: divide by zero encountered in unary_union\n",
      "  return lib.unary_union(collections, **kwargs)\n",
      "/home/ohm/PycharmProjects/FiFi/venv/lib/python3.8/site-packages/shapely/set_operations.py:133: RuntimeWarning: invalid value encountered in intersection\n",
      "  return lib.intersection(a, b, **kwargs)\n"
     ]
    },
    {
     "name": "stdout",
     "output_type": "stream",
     "text": [
      "F1: 0.31259101327578936\n",
      "Presicion: 0.9114073896968922\n",
      "Recall: 0.1886460575208128\n",
      "IoU: 0.2402242329611524\n"
     ]
    },
    {
     "name": "stderr",
     "output_type": "stream",
     "text": [
      "INFO: Created TensorFlow Lite XNNPACK delegate for CPU.\n",
      "Error connect socket: : Connection refused\n",
      "Error: bind to port 40588 on 127.0.0.1 failed in file ../../sockethelper/sockethelper.cpp line 51. Exiting.\n",
      "Segmentation fault\n",
      "/home/ohm/PycharmProjects/FiFi/venv/lib/python3.8/site-packages/shapely/set_operations.py:426: RuntimeWarning: divide by zero encountered in unary_union\n",
      "  return lib.unary_union(collections, **kwargs)\n"
     ]
    },
    {
     "name": "stdout",
     "output_type": "stream",
     "text": [
      "F1: 0.09245525010912282\n",
      "Presicion: 0.9339638737755513\n",
      "Recall: 0.048634864052928314\n",
      "IoU: 0.05892520819520204\n"
     ]
    },
    {
     "name": "stderr",
     "output_type": "stream",
     "text": [
      "INFO: Created TensorFlow Lite XNNPACK delegate for CPU.\n",
      "Error connect socket: : Connection refused\n",
      "Error: bind to port 40588 on 127.0.0.1 failed in file ../../sockethelper/sockethelper.cpp line 51. Exiting.\n",
      "Error connect socket: : Connection refused\n",
      "Error: bind to port 40588 on 127.0.0.1 failed in file ../../sockethelper/sockethelper.cpp line 51. Exiting.\n",
      "Error connect socket: : Connection refused\n",
      "Error: bind to port 40588 on 127.0.0.1 failed in file ../../sockethelper/sockethelper.cpp line 51. Exiting.\n",
      "Error connect socket: : Connection refused\n",
      "Error: bind to port 40588 on 127.0.0.1 failed in file ../../sockethelper/sockethelper.cpp line 51. Exiting.\n",
      "/home/ohm/PycharmProjects/FiFi/venv/lib/python3.8/site-packages/shapely/set_operations.py:426: RuntimeWarning: divide by zero encountered in unary_union\n",
      "  return lib.unary_union(collections, **kwargs)\n"
     ]
    },
    {
     "name": "stdout",
     "output_type": "stream",
     "text": [
      "F1: 0.3102119068296201\n",
      "Presicion: 0.9384667922620907\n",
      "Recall: 0.18581703264123456\n",
      "IoU: 0.23786832490043144\n"
     ]
    },
    {
     "name": "stderr",
     "output_type": "stream",
     "text": [
      "INFO: Created TensorFlow Lite XNNPACK delegate for CPU.\n",
      "/home/ohm/PycharmProjects/FiFi/venv/lib/python3.8/site-packages/shapely/set_operations.py:426: RuntimeWarning: divide by zero encountered in unary_union\n",
      "  return lib.unary_union(collections, **kwargs)\n"
     ]
    },
    {
     "name": "stdout",
     "output_type": "stream",
     "text": [
      "F1: 0.08904158516053173\n",
      "Presicion: 0.9528132492669349\n",
      "Recall: 0.04670302029490031\n",
      "IoU: 0.05793207074615064\n"
     ]
    },
    {
     "name": "stderr",
     "output_type": "stream",
     "text": [
      "INFO: Created TensorFlow Lite XNNPACK delegate for CPU.\n",
      "Error connect socket: : Connection refused\n",
      "Error: bind to port 40588 on 127.0.0.1 failed in file ../../sockethelper/sockethelper.cpp line 51. Exiting.\n",
      "Error connect socket: : Connection refused\n",
      "Error: bind to port 40588 on 127.0.0.1 failed in file ../../sockethelper/sockethelper.cpp line 51. Exiting.\n",
      "Error connect socket: : Connection refused\n",
      "Error: bind to port 40588 on 127.0.0.1 failed in file ../../sockethelper/sockethelper.cpp line 51. Exiting.\n",
      "Error connect socket: : Connection refused\n",
      "Error: bind to port 40588 on 127.0.0.1 failed in file ../../sockethelper/sockethelper.cpp line 51. Exiting.\n",
      "/home/ohm/PycharmProjects/FiFi/venv/lib/python3.8/site-packages/shapely/set_operations.py:426: RuntimeWarning: divide by zero encountered in unary_union\n",
      "  return lib.unary_union(collections, **kwargs)\n",
      "/home/ohm/PycharmProjects/FiFi/venv/lib/python3.8/site-packages/shapely/set_operations.py:133: RuntimeWarning: invalid value encountered in intersection\n",
      "  return lib.intersection(a, b, **kwargs)\n"
     ]
    },
    {
     "name": "stdout",
     "output_type": "stream",
     "text": [
      "F1: 0.31410992147754546\n",
      "Presicion: 0.9352219032135913\n",
      "Recall: 0.18875286429428856\n",
      "IoU: 0.2391224688225063\n"
     ]
    },
    {
     "name": "stderr",
     "output_type": "stream",
     "text": [
      "INFO: Created TensorFlow Lite XNNPACK delegate for CPU.\n",
      "Error connect socket: : Connection refused\n",
      "Error: bind to port 40588 on 127.0.0.1 failed in file ../../sockethelper/sockethelper.cpp line 51. Exiting.\n",
      "Error connect socket: : Connection refused\n",
      "Error: bind to port 40588 on 127.0.0.1 failed in file ../../sockethelper/sockethelper.cpp line 51. Exiting.\n",
      "Error connect socket: : Connection refused\n",
      "Error: bind to port 40588 on 127.0.0.1 failed in file ../../sockethelper/sockethelper.cpp line 51. Exiting.\n",
      "Error connect socket: : Connection refused\n",
      "Error: bind to port 40588 on 127.0.0.1 failed in file ../../sockethelper/sockethelper.cpp line 51. Exiting.\n",
      "/home/ohm/PycharmProjects/FiFi/venv/lib/python3.8/site-packages/shapely/set_operations.py:426: RuntimeWarning: divide by zero encountered in unary_union\n",
      "  return lib.unary_union(collections, **kwargs)\n"
     ]
    },
    {
     "name": "stdout",
     "output_type": "stream",
     "text": [
      "F1: 0.31084849384382923\n",
      "Presicion: 0.9383031591602722\n",
      "Recall: 0.18628048299318262\n",
      "IoU: 0.23155276046033366\n"
     ]
    },
    {
     "name": "stderr",
     "output_type": "stream",
     "text": [
      "INFO: Created TensorFlow Lite XNNPACK delegate for CPU.\n",
      "Error connect socket: : Connection refused\n",
      "Error: bind to port 40588 on 127.0.0.1 failed in file ../../sockethelper/sockethelper.cpp line 51. Exiting.\n",
      "Error connect socket: : Connection refused\n",
      "Error: bind to port 40588 on 127.0.0.1 failed in file ../../sockethelper/sockethelper.cpp line 51. Exiting.\n",
      "Error connect socket: : Connection refused\n",
      "Error: bind to port 40588 on 127.0.0.1 failed in file ../../sockethelper/sockethelper.cpp line 51. Exiting.\n",
      "Error connect socket: : Connection refused\n",
      "Error: bind to port 40588 on 127.0.0.1 failed in file ../../sockethelper/sockethelper.cpp line 51. Exiting.\n",
      "/home/ohm/PycharmProjects/FiFi/venv/lib/python3.8/site-packages/shapely/set_operations.py:426: RuntimeWarning: divide by zero encountered in unary_union\n",
      "  return lib.unary_union(collections, **kwargs)\n"
     ]
    },
    {
     "name": "stdout",
     "output_type": "stream",
     "text": [
      "F1: 0.26990282615790234\n",
      "Presicion: 0.9335013799745097\n",
      "Recall: 0.15775760511074877\n",
      "IoU: 0.21779012119531918\n"
     ]
    },
    {
     "name": "stderr",
     "output_type": "stream",
     "text": [
      "INFO: Created TensorFlow Lite XNNPACK delegate for CPU.\n",
      "Error connect socket: : Connection refused\n",
      "Error: bind to port 40588 on 127.0.0.1 failed in file ../../sockethelper/sockethelper.cpp line 51. Exiting.\n",
      "Error connect socket: : Connection refused\n",
      "Error: bind to port 40588 on 127.0.0.1 failed in file ../../sockethelper/sockethelper.cpp line 51. Exiting.\n",
      "Error connect socket: : Connection refused\n",
      "Error: bind to port 40588 on 127.0.0.1 failed in file ../../sockethelper/sockethelper.cpp line 51. Exiting.\n",
      "Error connect socket: : Connection refused\n",
      "Error: bind to port 40588 on 127.0.0.1 failed in file ../../sockethelper/sockethelper.cpp line 51. Exiting.\n",
      "/home/ohm/PycharmProjects/FiFi/venv/lib/python3.8/site-packages/shapely/set_operations.py:426: RuntimeWarning: divide by zero encountered in unary_union\n",
      "  return lib.unary_union(collections, **kwargs)\n",
      "/home/ohm/PycharmProjects/FiFi/venv/lib/python3.8/site-packages/shapely/set_operations.py:133: RuntimeWarning: invalid value encountered in intersection\n",
      "  return lib.intersection(a, b, **kwargs)\n"
     ]
    },
    {
     "name": "stdout",
     "output_type": "stream",
     "text": [
      "F1: 0.3163650571404723\n",
      "Presicion: 0.9339792403372422\n",
      "Recall: 0.19043545251971056\n",
      "IoU: 0.2413143484562882\n"
     ]
    },
    {
     "name": "stderr",
     "output_type": "stream",
     "text": [
      "INFO: Created TensorFlow Lite XNNPACK delegate for CPU.\n",
      "Segmentation fault\n",
      "/home/ohm/PycharmProjects/FiFi/venv/lib/python3.8/site-packages/shapely/set_operations.py:426: RuntimeWarning: divide by zero encountered in unary_union\n",
      "  return lib.unary_union(collections, **kwargs)\n"
     ]
    },
    {
     "name": "stdout",
     "output_type": "stream",
     "text": [
      "F1: 0.08904158516053173\n",
      "Presicion: 0.9528132492669349\n",
      "Recall: 0.04670302029490031\n",
      "IoU: 0.05793207074615064\n"
     ]
    },
    {
     "name": "stderr",
     "output_type": "stream",
     "text": [
      "INFO: Created TensorFlow Lite XNNPACK delegate for CPU.\n",
      "Segmentation fault\n",
      "/home/ohm/PycharmProjects/FiFi/venv/lib/python3.8/site-packages/shapely/set_operations.py:426: RuntimeWarning: divide by zero encountered in unary_union\n",
      "  return lib.unary_union(collections, **kwargs)\n"
     ]
    },
    {
     "name": "stdout",
     "output_type": "stream",
     "text": [
      "F1: 0.08904158516053173\n",
      "Presicion: 0.9528132492669349\n",
      "Recall: 0.04670302029490031\n",
      "IoU: 0.05793207074615064\n"
     ]
    },
    {
     "name": "stderr",
     "output_type": "stream",
     "text": [
      "INFO: Created TensorFlow Lite XNNPACK delegate for CPU.\n",
      "Segmentation fault\n",
      "/home/ohm/PycharmProjects/FiFi/venv/lib/python3.8/site-packages/shapely/set_operations.py:426: RuntimeWarning: divide by zero encountered in unary_union\n",
      "  return lib.unary_union(collections, **kwargs)\n"
     ]
    },
    {
     "name": "stdout",
     "output_type": "stream",
     "text": [
      "F1: 0.08904158516053173\n",
      "Presicion: 0.9528132492669349\n",
      "Recall: 0.04670302029490031\n",
      "IoU: 0.05793207074615064\n"
     ]
    },
    {
     "name": "stderr",
     "output_type": "stream",
     "text": [
      "INFO: Created TensorFlow Lite XNNPACK delegate for CPU.\n",
      "Error connect socket: : Connection refused\n",
      "Error: bind to port 40588 on 127.0.0.1 failed in file ../../sockethelper/sockethelper.cpp line 51. Exiting.\n",
      "Error connect socket: : Connection refused\n",
      "Error: bind to port 40588 on 127.0.0.1 failed in file ../../sockethelper/sockethelper.cpp line 51. Exiting.\n",
      "Error connect socket: : Connection refused\n",
      "Error: bind to port 40588 on 127.0.0.1 failed in file ../../sockethelper/sockethelper.cpp line 51. Exiting.\n",
      "Error connect socket: : Connection refused\n",
      "Error: bind to port 40588 on 127.0.0.1 failed in file ../../sockethelper/sockethelper.cpp line 51. Exiting.\n",
      "/home/ohm/PycharmProjects/FiFi/venv/lib/python3.8/site-packages/shapely/set_operations.py:426: RuntimeWarning: divide by zero encountered in unary_union\n",
      "  return lib.unary_union(collections, **kwargs)\n",
      "/home/ohm/PycharmProjects/FiFi/venv/lib/python3.8/site-packages/shapely/set_operations.py:133: RuntimeWarning: invalid value encountered in intersection\n",
      "  return lib.intersection(a, b, **kwargs)\n"
     ]
    },
    {
     "name": "stdout",
     "output_type": "stream",
     "text": [
      "F1: 0.32224888766604953\n",
      "Presicion: 0.9498499400856754\n",
      "Recall: 0.1940396805330509\n",
      "IoU: 0.24750410991987115\n"
     ]
    },
    {
     "name": "stderr",
     "output_type": "stream",
     "text": [
      "INFO: Created TensorFlow Lite XNNPACK delegate for CPU.\n",
      "Error connect socket: : Connection refused\n",
      "Error: bind to port 40588 on 127.0.0.1 failed in file ../../sockethelper/sockethelper.cpp line 51. Exiting.\n",
      "Error connect socket: : Connection refused\n",
      "Error: bind to port 40588 on 127.0.0.1 failed in file ../../sockethelper/sockethelper.cpp line 51. Exiting.\n",
      "Error connect socket: : Connection refused\n",
      "Error: bind to port 40588 on 127.0.0.1 failed in file ../../sockethelper/sockethelper.cpp line 51. Exiting.\n",
      "Error connect socket: : Connection refused\n",
      "Error: bind to port 40588 on 127.0.0.1 failed in file ../../sockethelper/sockethelper.cpp line 51. Exiting.\n",
      "/home/ohm/PycharmProjects/FiFi/venv/lib/python3.8/site-packages/shapely/set_operations.py:426: RuntimeWarning: divide by zero encountered in unary_union\n",
      "  return lib.unary_union(collections, **kwargs)\n",
      "/home/ohm/PycharmProjects/FiFi/venv/lib/python3.8/site-packages/shapely/set_operations.py:133: RuntimeWarning: invalid value encountered in intersection\n",
      "  return lib.intersection(a, b, **kwargs)\n"
     ]
    },
    {
     "name": "stdout",
     "output_type": "stream",
     "text": [
      "F1: 0.3117462859499126\n",
      "Presicion: 0.9417862391994646\n",
      "Recall: 0.18678805814510702\n",
      "IoU: 0.23718939602806752\n"
     ]
    },
    {
     "name": "stderr",
     "output_type": "stream",
     "text": [
      "INFO: Created TensorFlow Lite XNNPACK delegate for CPU.\n",
      "Error connect socket: : Connection refused\n",
      "Error: bind to port 40588 on 127.0.0.1 failed in file ../../sockethelper/sockethelper.cpp line 51. Exiting.\n",
      "Segmentation fault\n",
      "/home/ohm/PycharmProjects/FiFi/venv/lib/python3.8/site-packages/shapely/set_operations.py:426: RuntimeWarning: divide by zero encountered in unary_union\n",
      "  return lib.unary_union(collections, **kwargs)\n"
     ]
    },
    {
     "name": "stdout",
     "output_type": "stream",
     "text": [
      "F1: 0.08904158516053173\n",
      "Presicion: 0.9528132492669349\n",
      "Recall: 0.04670302029490031\n",
      "IoU: 0.05793207074615064\n"
     ]
    },
    {
     "name": "stderr",
     "output_type": "stream",
     "text": [
      "INFO: Created TensorFlow Lite XNNPACK delegate for CPU.\n",
      "Error connect socket: : Connection refused\n",
      "Error: bind to port 40588 on 127.0.0.1 failed in file ../../sockethelper/sockethelper.cpp line 51. Exiting.\n",
      "Error connect socket: : Connection refused\n",
      "Error: bind to port 40588 on 127.0.0.1 failed in file ../../sockethelper/sockethelper.cpp line 51. Exiting.\n",
      "Error connect socket: : Connection refused\n",
      "Error: bind to port 40588 on 127.0.0.1 failed in file ../../sockethelper/sockethelper.cpp line 51. Exiting.\n",
      "Error connect socket: : Connection refused\n",
      "Error: bind to port 40588 on 127.0.0.1 failed in file ../../sockethelper/sockethelper.cpp line 51. Exiting.\n",
      "/home/ohm/PycharmProjects/FiFi/venv/lib/python3.8/site-packages/shapely/set_operations.py:426: RuntimeWarning: divide by zero encountered in unary_union\n",
      "  return lib.unary_union(collections, **kwargs)\n",
      "/home/ohm/PycharmProjects/FiFi/venv/lib/python3.8/site-packages/shapely/set_operations.py:133: RuntimeWarning: invalid value encountered in intersection\n",
      "  return lib.intersection(a, b, **kwargs)\n"
     ]
    },
    {
     "name": "stdout",
     "output_type": "stream",
     "text": [
      "F1: 0.32139558852505706\n",
      "Presicion: 0.9515241369006404\n",
      "Recall: 0.19335196836944632\n",
      "IoU: 0.24794897261546675\n"
     ]
    },
    {
     "name": "stderr",
     "output_type": "stream",
     "text": [
      "INFO: Created TensorFlow Lite XNNPACK delegate for CPU.\n",
      "Segmentation fault\n",
      "/home/ohm/PycharmProjects/FiFi/venv/lib/python3.8/site-packages/shapely/set_operations.py:426: RuntimeWarning: divide by zero encountered in unary_union\n",
      "  return lib.unary_union(collections, **kwargs)\n"
     ]
    },
    {
     "name": "stdout",
     "output_type": "stream",
     "text": [
      "F1: 0.08904158516053173\n",
      "Presicion: 0.9528132492669349\n",
      "Recall: 0.04670302029490031\n",
      "IoU: 0.05793207074615064\n"
     ]
    },
    {
     "name": "stderr",
     "output_type": "stream",
     "text": [
      "INFO: Created TensorFlow Lite XNNPACK delegate for CPU.\n",
      "Segmentation fault\n",
      "/home/ohm/PycharmProjects/FiFi/venv/lib/python3.8/site-packages/shapely/set_operations.py:426: RuntimeWarning: divide by zero encountered in unary_union\n",
      "  return lib.unary_union(collections, **kwargs)\n"
     ]
    },
    {
     "name": "stdout",
     "output_type": "stream",
     "text": [
      "F1: 0.08904158516053173\n",
      "Presicion: 0.9528132492669349\n",
      "Recall: 0.04670302029490031\n",
      "IoU: 0.05793207074615064\n"
     ]
    },
    {
     "name": "stderr",
     "output_type": "stream",
     "text": [
      "INFO: Created TensorFlow Lite XNNPACK delegate for CPU.\n",
      "Segmentation fault\n",
      "/home/ohm/PycharmProjects/FiFi/venv/lib/python3.8/site-packages/shapely/set_operations.py:426: RuntimeWarning: divide by zero encountered in unary_union\n",
      "  return lib.unary_union(collections, **kwargs)\n"
     ]
    },
    {
     "name": "stdout",
     "output_type": "stream",
     "text": [
      "F1: 0.08904158516053173\n",
      "Presicion: 0.9528132492669349\n",
      "Recall: 0.04670302029490031\n",
      "IoU: 0.05793207074615064\n"
     ]
    },
    {
     "name": "stderr",
     "output_type": "stream",
     "text": [
      "INFO: Created TensorFlow Lite XNNPACK delegate for CPU.\n",
      "Error connect socket: : Connection refused\n",
      "Error: bind to port 40588 on 127.0.0.1 failed in file ../../sockethelper/sockethelper.cpp line 51. Exiting.\n",
      "Error connect socket: : Connection refused\n",
      "Error: bind to port 40588 on 127.0.0.1 failed in file ../../sockethelper/sockethelper.cpp line 51. Exiting.\n",
      "Error connect socket: : Connection refused\n",
      "Error: bind to port 40588 on 127.0.0.1 failed in file ../../sockethelper/sockethelper.cpp line 51. Exiting.\n",
      "Error connect socket: : Connection refused\n",
      "Error: bind to port 40588 on 127.0.0.1 failed in file ../../sockethelper/sockethelper.cpp line 51. Exiting.\n",
      "/home/ohm/PycharmProjects/FiFi/venv/lib/python3.8/site-packages/shapely/set_operations.py:426: RuntimeWarning: divide by zero encountered in unary_union\n",
      "  return lib.unary_union(collections, **kwargs)\n"
     ]
    },
    {
     "name": "stdout",
     "output_type": "stream",
     "text": [
      "F1: 0.13792174337165317\n",
      "Presicion: 0.9662462177438139\n",
      "Recall: 0.0742608599722303\n",
      "IoU: 0.07935950086735184\n"
     ]
    },
    {
     "name": "stderr",
     "output_type": "stream",
     "text": [
      "INFO: Created TensorFlow Lite XNNPACK delegate for CPU.\n",
      "Error connect socket: : Connection refused\n",
      "Error: bind to port 40588 on 127.0.0.1 failed in file ../../sockethelper/sockethelper.cpp line 51. Exiting.\n",
      "Error connect socket: : Connection refused\n",
      "Error: bind to port 40588 on 127.0.0.1 failed in file ../../sockethelper/sockethelper.cpp line 51. Exiting.\n",
      "Error connect socket: : Connection refused\n",
      "Error: bind to port 40588 on 127.0.0.1 failed in file ../../sockethelper/sockethelper.cpp line 51. Exiting.\n",
      "Error connect socket: : Connection refused\n",
      "Error: bind to port 40588 on 127.0.0.1 failed in file ../../sockethelper/sockethelper.cpp line 51. Exiting.\n",
      "/home/ohm/PycharmProjects/FiFi/venv/lib/python3.8/site-packages/shapely/set_operations.py:426: RuntimeWarning: divide by zero encountered in unary_union\n",
      "  return lib.unary_union(collections, **kwargs)\n",
      "/home/ohm/PycharmProjects/FiFi/venv/lib/python3.8/site-packages/shapely/set_operations.py:133: RuntimeWarning: invalid value encountered in intersection\n",
      "  return lib.intersection(a, b, **kwargs)\n"
     ]
    },
    {
     "name": "stdout",
     "output_type": "stream",
     "text": [
      "F1: 0.31987207800615214\n",
      "Presicion: 0.9477155266274072\n",
      "Recall: 0.19240646629121536\n",
      "IoU: 0.24526114930849327\n"
     ]
    },
    {
     "name": "stderr",
     "output_type": "stream",
     "text": [
      "INFO: Created TensorFlow Lite XNNPACK delegate for CPU.\n",
      "Segmentation fault\n",
      "/home/ohm/PycharmProjects/FiFi/venv/lib/python3.8/site-packages/shapely/set_operations.py:426: RuntimeWarning: divide by zero encountered in unary_union\n",
      "  return lib.unary_union(collections, **kwargs)\n"
     ]
    },
    {
     "name": "stdout",
     "output_type": "stream",
     "text": [
      "F1: 0.08904158516053173\n",
      "Presicion: 0.9528132492669349\n",
      "Recall: 0.04670302029490031\n",
      "IoU: 0.05793207074615064\n"
     ]
    },
    {
     "name": "stderr",
     "output_type": "stream",
     "text": [
      "INFO: Created TensorFlow Lite XNNPACK delegate for CPU.\n",
      "Error connect socket: : Connection refused\n",
      "Error: bind to port 40588 on 127.0.0.1 failed in file ../../sockethelper/sockethelper.cpp line 51. Exiting.\n",
      "Error connect socket: : Connection refused\n",
      "Error: bind to port 40588 on 127.0.0.1 failed in file ../../sockethelper/sockethelper.cpp line 51. Exiting.\n",
      "Error connect socket: : Connection refused\n",
      "Error: bind to port 40588 on 127.0.0.1 failed in file ../../sockethelper/sockethelper.cpp line 51. Exiting.\n",
      "Error connect socket: : Connection refused\n",
      "Error: bind to port 40588 on 127.0.0.1 failed in file ../../sockethelper/sockethelper.cpp line 51. Exiting.\n",
      "/home/ohm/PycharmProjects/FiFi/venv/lib/python3.8/site-packages/shapely/set_operations.py:426: RuntimeWarning: divide by zero encountered in unary_union\n",
      "  return lib.unary_union(collections, **kwargs)\n",
      "/home/ohm/PycharmProjects/FiFi/venv/lib/python3.8/site-packages/shapely/set_operations.py:133: RuntimeWarning: invalid value encountered in intersection\n",
      "  return lib.intersection(a, b, **kwargs)\n"
     ]
    },
    {
     "name": "stdout",
     "output_type": "stream",
     "text": [
      "F1: 0.3227470611825872\n",
      "Presicion: 0.9459587438300936\n",
      "Recall: 0.19456484739931645\n",
      "IoU: 0.2466925565332137\n"
     ]
    },
    {
     "name": "stderr",
     "output_type": "stream",
     "text": [
      "INFO: Created TensorFlow Lite XNNPACK delegate for CPU.\n",
      "Error connect socket: : Connection refused\n",
      "Error: bind to port 40588 on 127.0.0.1 failed in file ../../sockethelper/sockethelper.cpp line 51. Exiting.\n",
      "Error connect socket: : Connection refused\n",
      "Error: bind to port 40588 on 127.0.0.1 failed in file ../../sockethelper/sockethelper.cpp line 51. Exiting.\n",
      "Error connect socket: : Connection refused\n",
      "Error: bind to port 40588 on 127.0.0.1 failed in file ../../sockethelper/sockethelper.cpp line 51. Exiting.\n",
      "Error connect socket: : Connection refused\n",
      "Error: bind to port 40588 on 127.0.0.1 failed in file ../../sockethelper/sockethelper.cpp line 51. Exiting.\n",
      "/home/ohm/PycharmProjects/FiFi/venv/lib/python3.8/site-packages/shapely/set_operations.py:426: RuntimeWarning: divide by zero encountered in unary_union\n",
      "  return lib.unary_union(collections, **kwargs)\n",
      "/home/ohm/PycharmProjects/FiFi/venv/lib/python3.8/site-packages/shapely/set_operations.py:133: RuntimeWarning: invalid value encountered in intersection\n",
      "  return lib.intersection(a, b, **kwargs)\n"
     ]
    },
    {
     "name": "stdout",
     "output_type": "stream",
     "text": [
      "F1: 0.320647054036651\n",
      "Presicion: 0.9391353508056981\n",
      "Recall: 0.1933271776185419\n",
      "IoU: 0.24448826810386162\n"
     ]
    },
    {
     "name": "stderr",
     "output_type": "stream",
     "text": [
      "INFO: Created TensorFlow Lite XNNPACK delegate for CPU.\n",
      "Error connect socket: : Connection refused\n",
      "Error: bind to port 40588 on 127.0.0.1 failed in file ../../sockethelper/sockethelper.cpp line 51. Exiting.\n",
      "Error connect socket: : Connection refused\n",
      "Error: bind to port 40588 on 127.0.0.1 failed in file ../../sockethelper/sockethelper.cpp line 51. Exiting.\n",
      "Error connect socket: : Connection refused\n",
      "Error: bind to port 40588 on 127.0.0.1 failed in file ../../sockethelper/sockethelper.cpp line 51. Exiting.\n",
      "Error connect socket: : Connection refused\n",
      "Error: bind to port 40588 on 127.0.0.1 failed in file ../../sockethelper/sockethelper.cpp line 51. Exiting.\n",
      "/home/ohm/PycharmProjects/FiFi/venv/lib/python3.8/site-packages/shapely/set_operations.py:426: RuntimeWarning: divide by zero encountered in unary_union\n",
      "  return lib.unary_union(collections, **kwargs)\n",
      "/home/ohm/PycharmProjects/FiFi/venv/lib/python3.8/site-packages/shapely/set_operations.py:133: RuntimeWarning: invalid value encountered in intersection\n",
      "  return lib.intersection(a, b, **kwargs)\n"
     ]
    },
    {
     "name": "stdout",
     "output_type": "stream",
     "text": [
      "F1: 0.2677108231637881\n",
      "Presicion: 0.930253735364786\n",
      "Recall: 0.1563532881779311\n",
      "IoU: 0.18199721665408145\n"
     ]
    },
    {
     "name": "stderr",
     "output_type": "stream",
     "text": [
      "INFO: Created TensorFlow Lite XNNPACK delegate for CPU.\n",
      "Error connect socket: : Connection refused\n",
      "Error: bind to port 40588 on 127.0.0.1 failed in file ../../sockethelper/sockethelper.cpp line 51. Exiting.\n",
      "Segmentation fault\n",
      "/home/ohm/PycharmProjects/FiFi/venv/lib/python3.8/site-packages/shapely/set_operations.py:426: RuntimeWarning: divide by zero encountered in unary_union\n",
      "  return lib.unary_union(collections, **kwargs)\n"
     ]
    },
    {
     "name": "stdout",
     "output_type": "stream",
     "text": [
      "F1: 0.09135949636814829\n",
      "Presicion: 0.9540670933548997\n",
      "Recall: 0.04797682927536568\n",
      "IoU: 0.0589192813206315\n"
     ]
    },
    {
     "name": "stderr",
     "output_type": "stream",
     "text": [
      "INFO: Created TensorFlow Lite XNNPACK delegate for CPU.\n",
      "Error connect socket: : Connection refused\n",
      "Error: bind to port 40588 on 127.0.0.1 failed in file ../../sockethelper/sockethelper.cpp line 51. Exiting.\n",
      "Error connect socket: : Connection refused\n",
      "Error: bind to port 40588 on 127.0.0.1 failed in file ../../sockethelper/sockethelper.cpp line 51. Exiting.\n",
      "Error connect socket: : Connection refused\n",
      "Error: bind to port 40588 on 127.0.0.1 failed in file ../../sockethelper/sockethelper.cpp line 51. Exiting.\n",
      "Error connect socket: : Connection refused\n",
      "Error: bind to port 40588 on 127.0.0.1 failed in file ../../sockethelper/sockethelper.cpp line 51. Exiting.\n",
      "/home/ohm/PycharmProjects/FiFi/venv/lib/python3.8/site-packages/shapely/set_operations.py:426: RuntimeWarning: divide by zero encountered in unary_union\n",
      "  return lib.unary_union(collections, **kwargs)\n"
     ]
    },
    {
     "name": "stdout",
     "output_type": "stream",
     "text": [
      "F1: 0.08904158516053173\n",
      "Presicion: 0.9528132492669349\n",
      "Recall: 0.04670302029490031\n",
      "IoU: 0.05793207074615064\n"
     ]
    },
    {
     "name": "stderr",
     "output_type": "stream",
     "text": [
      "INFO: Created TensorFlow Lite XNNPACK delegate for CPU.\n",
      "Segmentation fault\n",
      "/home/ohm/PycharmProjects/FiFi/venv/lib/python3.8/site-packages/shapely/set_operations.py:426: RuntimeWarning: divide by zero encountered in unary_union\n",
      "  return lib.unary_union(collections, **kwargs)\n"
     ]
    },
    {
     "name": "stdout",
     "output_type": "stream",
     "text": [
      "F1: 0.08904158516053173\n",
      "Presicion: 0.9528132492669349\n",
      "Recall: 0.04670302029490031\n",
      "IoU: 0.05793207074615064\n"
     ]
    },
    {
     "name": "stderr",
     "output_type": "stream",
     "text": [
      "INFO: Created TensorFlow Lite XNNPACK delegate for CPU.\n",
      "Error connect socket: : Connection refused\n",
      "Error: bind to port 40588 on 127.0.0.1 failed in file ../../sockethelper/sockethelper.cpp line 51. Exiting.\n",
      "Segmentation fault\n",
      "/home/ohm/PycharmProjects/FiFi/venv/lib/python3.8/site-packages/shapely/set_operations.py:426: RuntimeWarning: divide by zero encountered in unary_union\n",
      "  return lib.unary_union(collections, **kwargs)\n"
     ]
    },
    {
     "name": "stdout",
     "output_type": "stream",
     "text": [
      "F1: 0.08904158516053173\n",
      "Presicion: 0.9528132492669349\n",
      "Recall: 0.04670302029490031\n",
      "IoU: 0.05793207074615064\n"
     ]
    },
    {
     "name": "stderr",
     "output_type": "stream",
     "text": [
      "INFO: Created TensorFlow Lite XNNPACK delegate for CPU.\n",
      "Segmentation fault\n",
      "/home/ohm/PycharmProjects/FiFi/venv/lib/python3.8/site-packages/shapely/set_operations.py:426: RuntimeWarning: divide by zero encountered in unary_union\n",
      "  return lib.unary_union(collections, **kwargs)\n"
     ]
    },
    {
     "name": "stdout",
     "output_type": "stream",
     "text": [
      "F1: 0.08904158516053173\n",
      "Presicion: 0.9528132492669349\n",
      "Recall: 0.04670302029490031\n",
      "IoU: 0.05793207074615064\n"
     ]
    },
    {
     "name": "stderr",
     "output_type": "stream",
     "text": [
      "INFO: Created TensorFlow Lite XNNPACK delegate for CPU.\n",
      "Error connect socket: : Connection refused\n",
      "Error: bind to port 40588 on 127.0.0.1 failed in file ../../sockethelper/sockethelper.cpp line 51. Exiting.\n",
      "Error connect socket: : Connection refused\n",
      "Error: bind to port 40588 on 127.0.0.1 failed in file ../../sockethelper/sockethelper.cpp line 51. Exiting.\n",
      "Error connect socket: : Connection refused\n",
      "Error: bind to port 40588 on 127.0.0.1 failed in file ../../sockethelper/sockethelper.cpp line 51. Exiting.\n",
      "Error connect socket: : Connection refused\n",
      "Error: bind to port 40588 on 127.0.0.1 failed in file ../../sockethelper/sockethelper.cpp line 51. Exiting.\n",
      "/home/ohm/PycharmProjects/FiFi/venv/lib/python3.8/site-packages/shapely/set_operations.py:426: RuntimeWarning: divide by zero encountered in unary_union\n",
      "  return lib.unary_union(collections, **kwargs)\n"
     ]
    },
    {
     "name": "stdout",
     "output_type": "stream",
     "text": [
      "F1: 0.08904158516053173\n",
      "Presicion: 0.9528132492669349\n",
      "Recall: 0.04670302029490031\n",
      "IoU: 0.05793207074615064\n"
     ]
    },
    {
     "name": "stderr",
     "output_type": "stream",
     "text": [
      "INFO: Created TensorFlow Lite XNNPACK delegate for CPU.\n",
      "Error connect socket: : Connection refused\n",
      "Error: bind to port 40588 on 127.0.0.1 failed in file ../../sockethelper/sockethelper.cpp line 51. Exiting.\n",
      "Error connect socket: : Connection refused\n",
      "Error: bind to port 40588 on 127.0.0.1 failed in file ../../sockethelper/sockethelper.cpp line 51. Exiting.\n",
      "Error connect socket: : Connection refused\n",
      "Error: bind to port 40588 on 127.0.0.1 failed in file ../../sockethelper/sockethelper.cpp line 51. Exiting.\n",
      "Error connect socket: : Connection refused\n",
      "Error: bind to port 40588 on 127.0.0.1 failed in file ../../sockethelper/sockethelper.cpp line 51. Exiting.\n",
      "/home/ohm/PycharmProjects/FiFi/venv/lib/python3.8/site-packages/shapely/set_operations.py:426: RuntimeWarning: divide by zero encountered in unary_union\n",
      "  return lib.unary_union(collections, **kwargs)\n",
      "/home/ohm/PycharmProjects/FiFi/venv/lib/python3.8/site-packages/shapely/set_operations.py:133: RuntimeWarning: invalid value encountered in intersection\n",
      "  return lib.intersection(a, b, **kwargs)\n"
     ]
    },
    {
     "name": "stdout",
     "output_type": "stream",
     "text": [
      "F1: 0.1803208585884763\n",
      "Presicion: 0.9602747814653233\n",
      "Recall: 0.0995027680227493\n",
      "IoU: 0.11197195667047855\n"
     ]
    },
    {
     "name": "stderr",
     "output_type": "stream",
     "text": [
      "INFO: Created TensorFlow Lite XNNPACK delegate for CPU.\n",
      "/home/ohm/PycharmProjects/FiFi/venv/lib/python3.8/site-packages/shapely/set_operations.py:426: RuntimeWarning: divide by zero encountered in unary_union\n",
      "  return lib.unary_union(collections, **kwargs)\n"
     ]
    },
    {
     "name": "stdout",
     "output_type": "stream",
     "text": [
      "F1: 0.08904158516053173\n",
      "Presicion: 0.9528132492669349\n",
      "Recall: 0.04670302029490031\n",
      "IoU: 0.05793207074615064\n"
     ]
    },
    {
     "name": "stderr",
     "output_type": "stream",
     "text": [
      "INFO: Created TensorFlow Lite XNNPACK delegate for CPU.\n",
      "Error connect socket: : Connection refused\n",
      "Error: bind to port 40588 on 127.0.0.1 failed in file ../../sockethelper/sockethelper.cpp line 51. Exiting.\n",
      "Error connect socket: : Connection refused\n",
      "Error: bind to port 40588 on 127.0.0.1 failed in file ../../sockethelper/sockethelper.cpp line 51. Exiting.\n",
      "Error connect socket: : Connection refused\n",
      "Error: bind to port 40588 on 127.0.0.1 failed in file ../../sockethelper/sockethelper.cpp line 51. Exiting.\n",
      "Error connect socket: : Connection refused\n",
      "Error: bind to port 40588 on 127.0.0.1 failed in file ../../sockethelper/sockethelper.cpp line 51. Exiting.\n",
      "/home/ohm/PycharmProjects/FiFi/venv/lib/python3.8/site-packages/shapely/set_operations.py:426: RuntimeWarning: divide by zero encountered in unary_union\n",
      "  return lib.unary_union(collections, **kwargs)\n",
      "/home/ohm/PycharmProjects/FiFi/venv/lib/python3.8/site-packages/shapely/set_operations.py:133: RuntimeWarning: invalid value encountered in intersection\n",
      "  return lib.intersection(a, b, **kwargs)\n"
     ]
    },
    {
     "name": "stdout",
     "output_type": "stream",
     "text": [
      "F1: 0.3137723317838175\n",
      "Presicion: 0.9405364178376577\n",
      "Recall: 0.18829465327151526\n",
      "IoU: 0.2378633910891114\n"
     ]
    },
    {
     "name": "stderr",
     "output_type": "stream",
     "text": [
      "INFO: Created TensorFlow Lite XNNPACK delegate for CPU.\n",
      "Error connect socket: : Connection refused\n",
      "Error: bind to port 40588 on 127.0.0.1 failed in file ../../sockethelper/sockethelper.cpp line 51. Exiting.\n",
      "Error connect socket: : Connection refused\n",
      "Error: bind to port 40588 on 127.0.0.1 failed in file ../../sockethelper/sockethelper.cpp line 51. Exiting.\n",
      "Error connect socket: : Connection refused\n",
      "Error: bind to port 40588 on 127.0.0.1 failed in file ../../sockethelper/sockethelper.cpp line 51. Exiting.\n",
      "Error connect socket: : Connection refused\n",
      "Error: bind to port 40588 on 127.0.0.1 failed in file ../../sockethelper/sockethelper.cpp line 51. Exiting.\n",
      "/home/ohm/PycharmProjects/FiFi/venv/lib/python3.8/site-packages/shapely/set_operations.py:426: RuntimeWarning: divide by zero encountered in unary_union\n",
      "  return lib.unary_union(collections, **kwargs)\n"
     ]
    },
    {
     "name": "stdout",
     "output_type": "stream",
     "text": [
      "F1: 0.297418316548648\n",
      "Presicion: 0.9239462619464236\n",
      "Recall: 0.17723515844886104\n",
      "IoU: 0.2277531562596694\n"
     ]
    },
    {
     "name": "stderr",
     "output_type": "stream",
     "text": [
      "INFO: Created TensorFlow Lite XNNPACK delegate for CPU.\n",
      "Error connect socket: : Connection refused\n",
      "Error: bind to port 40588 on 127.0.0.1 failed in file ../../sockethelper/sockethelper.cpp line 51. Exiting.\n",
      "Error connect socket: : Connection refused\n",
      "Error: bind to port 40588 on 127.0.0.1 failed in file ../../sockethelper/sockethelper.cpp line 51. Exiting.\n",
      "Error connect socket: : Connection refused\n",
      "Error: bind to port 40588 on 127.0.0.1 failed in file ../../sockethelper/sockethelper.cpp line 51. Exiting.\n",
      "Error connect socket: : Connection refused\n",
      "Error: bind to port 40588 on 127.0.0.1 failed in file ../../sockethelper/sockethelper.cpp line 51. Exiting.\n",
      "/home/ohm/PycharmProjects/FiFi/venv/lib/python3.8/site-packages/shapely/set_operations.py:426: RuntimeWarning: divide by zero encountered in unary_union\n",
      "  return lib.unary_union(collections, **kwargs)\n",
      "/home/ohm/PycharmProjects/FiFi/venv/lib/python3.8/site-packages/shapely/set_operations.py:133: RuntimeWarning: invalid value encountered in intersection\n",
      "  return lib.intersection(a, b, **kwargs)\n"
     ]
    },
    {
     "name": "stdout",
     "output_type": "stream",
     "text": [
      "F1: 0.2820219152240703\n",
      "Presicion: 0.9281333627531845\n",
      "Recall: 0.16627270856308007\n",
      "IoU: 0.19973034220634514\n"
     ]
    },
    {
     "name": "stderr",
     "output_type": "stream",
     "text": [
      "INFO: Created TensorFlow Lite XNNPACK delegate for CPU.\n",
      "Error connect socket: : Connection refused\n",
      "Error: bind to port 40588 on 127.0.0.1 failed in file ../../sockethelper/sockethelper.cpp line 51. Exiting.\n",
      "Error connect socket: : Connection refused\n",
      "Error: bind to port 40588 on 127.0.0.1 failed in file ../../sockethelper/sockethelper.cpp line 51. Exiting.\n",
      "Error connect socket: : Connection refused\n",
      "Error: bind to port 40588 on 127.0.0.1 failed in file ../../sockethelper/sockethelper.cpp line 51. Exiting.\n",
      "Error connect socket: : Connection refused\n",
      "Error: bind to port 40588 on 127.0.0.1 failed in file ../../sockethelper/sockethelper.cpp line 51. Exiting.\n",
      "/home/ohm/PycharmProjects/FiFi/venv/lib/python3.8/site-packages/shapely/set_operations.py:426: RuntimeWarning: divide by zero encountered in unary_union\n",
      "  return lib.unary_union(collections, **kwargs)\n",
      "/home/ohm/PycharmProjects/FiFi/venv/lib/python3.8/site-packages/shapely/set_operations.py:133: RuntimeWarning: invalid value encountered in intersection\n",
      "  return lib.intersection(a, b, **kwargs)\n"
     ]
    },
    {
     "name": "stdout",
     "output_type": "stream",
     "text": [
      "F1: 0.2992943317546076\n",
      "Presicion: 0.9325786798392642\n",
      "Recall: 0.178250273372345\n",
      "IoU: 0.22852875750703983\n"
     ]
    },
    {
     "name": "stderr",
     "output_type": "stream",
     "text": [
      "INFO: Created TensorFlow Lite XNNPACK delegate for CPU.\n",
      "Error connect socket: : Connection refused\n",
      "Error: bind to port 40588 on 127.0.0.1 failed in file ../../sockethelper/sockethelper.cpp line 51. Exiting.\n",
      "Error connect socket: : Connection refused\n",
      "Error: bind to port 40588 on 127.0.0.1 failed in file ../../sockethelper/sockethelper.cpp line 51. Exiting.\n",
      "Error connect socket: : Connection refused\n",
      "Error: bind to port 40588 on 127.0.0.1 failed in file ../../sockethelper/sockethelper.cpp line 51. Exiting.\n",
      "Error connect socket: : Connection refused\n",
      "Error: bind to port 40588 on 127.0.0.1 failed in file ../../sockethelper/sockethelper.cpp line 51. Exiting.\n",
      "/home/ohm/PycharmProjects/FiFi/venv/lib/python3.8/site-packages/shapely/set_operations.py:426: RuntimeWarning: divide by zero encountered in unary_union\n",
      "  return lib.unary_union(collections, **kwargs)\n"
     ]
    },
    {
     "name": "stdout",
     "output_type": "stream",
     "text": [
      "F1: 0.2487513437062519\n",
      "Presicion: 0.9527786379432803\n",
      "Recall: 0.1430493226995583\n",
      "IoU: 0.17275291332328552\n"
     ]
    },
    {
     "name": "stderr",
     "output_type": "stream",
     "text": [
      "INFO: Created TensorFlow Lite XNNPACK delegate for CPU.\n",
      "Error connect socket: : Connection refused\n",
      "Error: bind to port 40588 on 127.0.0.1 failed in file ../../sockethelper/sockethelper.cpp line 51. Exiting.\n",
      "Error connect socket: : Connection refused\n",
      "Error: bind to port 40588 on 127.0.0.1 failed in file ../../sockethelper/sockethelper.cpp line 51. Exiting.\n",
      "Error connect socket: : Connection refused\n",
      "Error: bind to port 40588 on 127.0.0.1 failed in file ../../sockethelper/sockethelper.cpp line 51. Exiting.\n",
      "Error connect socket: : Connection refused\n",
      "Error: bind to port 40588 on 127.0.0.1 failed in file ../../sockethelper/sockethelper.cpp line 51. Exiting.\n",
      "/home/ohm/PycharmProjects/FiFi/venv/lib/python3.8/site-packages/shapely/set_operations.py:426: RuntimeWarning: divide by zero encountered in unary_union\n",
      "  return lib.unary_union(collections, **kwargs)\n"
     ]
    },
    {
     "name": "stdout",
     "output_type": "stream",
     "text": [
      "F1: 0.09436794904167652\n",
      "Presicion: 0.9556071258463256\n",
      "Recall: 0.04963473488326921\n",
      "IoU: 0.06070911318669882\n"
     ]
    },
    {
     "name": "stderr",
     "output_type": "stream",
     "text": [
      "INFO: Created TensorFlow Lite XNNPACK delegate for CPU.\n",
      "Error connect socket: : Connection refused\n",
      "Error: bind to port 40588 on 127.0.0.1 failed in file ../../sockethelper/sockethelper.cpp line 51. Exiting.\n",
      "Error connect socket: : Connection refused\n",
      "Error: bind to port 40588 on 127.0.0.1 failed in file ../../sockethelper/sockethelper.cpp line 51. Exiting.\n",
      "Error connect socket: : Connection refused\n",
      "Error: bind to port 40588 on 127.0.0.1 failed in file ../../sockethelper/sockethelper.cpp line 51. Exiting.\n",
      "/home/ohm/PycharmProjects/FiFi/venv/lib/python3.8/site-packages/shapely/set_operations.py:426: RuntimeWarning: divide by zero encountered in unary_union\n",
      "  return lib.unary_union(collections, **kwargs)\n"
     ]
    },
    {
     "name": "stdout",
     "output_type": "stream",
     "text": [
      "F1: 0.180254821280652\n",
      "Presicion: 0.9531199322571021\n",
      "Recall: 0.09953994892456511\n",
      "IoU: 0.09477379598780054\n"
     ]
    },
    {
     "name": "stderr",
     "output_type": "stream",
     "text": [
      "INFO: Created TensorFlow Lite XNNPACK delegate for CPU.\n",
      "Error connect socket: : Connection refused\n",
      "Error: bind to port 40588 on 127.0.0.1 failed in file ../../sockethelper/sockethelper.cpp line 51. Exiting.\n",
      "Error connect socket: : Connection refused\n",
      "Error: bind to port 40588 on 127.0.0.1 failed in file ../../sockethelper/sockethelper.cpp line 51. Exiting.\n",
      "Error connect socket: : Connection refused\n",
      "Error: bind to port 40588 on 127.0.0.1 failed in file ../../sockethelper/sockethelper.cpp line 51. Exiting.\n",
      "Error connect socket: : Connection refused\n",
      "Error: bind to port 40588 on 127.0.0.1 failed in file ../../sockethelper/sockethelper.cpp line 51. Exiting.\n",
      "/home/ohm/PycharmProjects/FiFi/venv/lib/python3.8/site-packages/shapely/set_operations.py:426: RuntimeWarning: divide by zero encountered in unary_union\n",
      "  return lib.unary_union(collections, **kwargs)\n",
      "/home/ohm/PycharmProjects/FiFi/venv/lib/python3.8/site-packages/shapely/set_operations.py:133: RuntimeWarning: invalid value encountered in intersection\n",
      "  return lib.intersection(a, b, **kwargs)\n"
     ]
    },
    {
     "name": "stdout",
     "output_type": "stream",
     "text": [
      "F1: 0.26790366186432707\n",
      "Presicion: 0.9174256155837714\n",
      "Recall: 0.1568538008022311\n",
      "IoU: 0.2172601635643169\n"
     ]
    },
    {
     "name": "stderr",
     "output_type": "stream",
     "text": [
      "INFO: Created TensorFlow Lite XNNPACK delegate for CPU.\n",
      "Error connect socket: : Connection refused\n",
      "Error: bind to port 40588 on 127.0.0.1 failed in file ../../sockethelper/sockethelper.cpp line 51. Exiting.\n",
      "Segmentation fault\n",
      "/home/ohm/PycharmProjects/FiFi/venv/lib/python3.8/site-packages/shapely/set_operations.py:426: RuntimeWarning: divide by zero encountered in unary_union\n",
      "  return lib.unary_union(collections, **kwargs)\n"
     ]
    },
    {
     "name": "stdout",
     "output_type": "stream",
     "text": [
      "F1: 0.08904158516053173\n",
      "Presicion: 0.9528132492669349\n",
      "Recall: 0.04670302029490031\n",
      "IoU: 0.05793207074615064\n"
     ]
    },
    {
     "name": "stderr",
     "output_type": "stream",
     "text": [
      "INFO: Created TensorFlow Lite XNNPACK delegate for CPU.\n",
      "Error connect socket: : Connection refused\n",
      "Error: bind to port 40588 on 127.0.0.1 failed in file ../../sockethelper/sockethelper.cpp line 51. Exiting.\n",
      "Segmentation fault\n",
      "/home/ohm/PycharmProjects/FiFi/venv/lib/python3.8/site-packages/shapely/set_operations.py:426: RuntimeWarning: divide by zero encountered in unary_union\n",
      "  return lib.unary_union(collections, **kwargs)\n"
     ]
    },
    {
     "name": "stdout",
     "output_type": "stream",
     "text": [
      "F1: 0.08904158516053173\n",
      "Presicion: 0.9528132492669349\n",
      "Recall: 0.04670302029490031\n",
      "IoU: 0.05793207074615064\n"
     ]
    },
    {
     "name": "stderr",
     "output_type": "stream",
     "text": [
      "INFO: Created TensorFlow Lite XNNPACK delegate for CPU.\n",
      "Error connect socket: : Connection refused\n",
      "Error: bind to port 40588 on 127.0.0.1 failed in file ../../sockethelper/sockethelper.cpp line 51. Exiting.\n",
      "Error connect socket: : Connection refused\n",
      "Error: bind to port 40588 on 127.0.0.1 failed in file ../../sockethelper/sockethelper.cpp line 51. Exiting.\n",
      "Error connect socket: : Connection refused\n",
      "Error: bind to port 40588 on 127.0.0.1 failed in file ../../sockethelper/sockethelper.cpp line 51. Exiting.\n",
      "Error connect socket: : Connection refused\n",
      "Error: bind to port 40588 on 127.0.0.1 failed in file ../../sockethelper/sockethelper.cpp line 51. Exiting.\n",
      "/home/ohm/PycharmProjects/FiFi/venv/lib/python3.8/site-packages/shapely/set_operations.py:426: RuntimeWarning: divide by zero encountered in unary_union\n",
      "  return lib.unary_union(collections, **kwargs)\n",
      "/home/ohm/PycharmProjects/FiFi/venv/lib/python3.8/site-packages/shapely/set_operations.py:133: RuntimeWarning: invalid value encountered in intersection\n",
      "  return lib.intersection(a, b, **kwargs)\n"
     ]
    },
    {
     "name": "stdout",
     "output_type": "stream",
     "text": [
      "F1: 0.31991552598926215\n",
      "Presicion: 0.9377874932193307\n",
      "Recall: 0.19285247625643342\n",
      "IoU: 0.2437060273362076\n"
     ]
    },
    {
     "name": "stderr",
     "output_type": "stream",
     "text": [
      "INFO: Created TensorFlow Lite XNNPACK delegate for CPU.\n",
      "Error connect socket: : Connection refused\n",
      "Error: bind to port 40588 on 127.0.0.1 failed in file ../../sockethelper/sockethelper.cpp line 51. Exiting.\n",
      "Error connect socket: : Connection refused\n",
      "Error: bind to port 40588 on 127.0.0.1 failed in file ../../sockethelper/sockethelper.cpp line 51. Exiting.\n",
      "Error connect socket: : Connection refused\n",
      "Error: bind to port 40588 on 127.0.0.1 failed in file ../../sockethelper/sockethelper.cpp line 51. Exiting.\n",
      "Error connect socket: : Connection refused\n",
      "Error: bind to port 40588 on 127.0.0.1 failed in file ../../sockethelper/sockethelper.cpp line 51. Exiting.\n",
      "/home/ohm/PycharmProjects/FiFi/venv/lib/python3.8/site-packages/shapely/set_operations.py:426: RuntimeWarning: divide by zero encountered in unary_union\n",
      "  return lib.unary_union(collections, **kwargs)\n",
      "/home/ohm/PycharmProjects/FiFi/venv/lib/python3.8/site-packages/shapely/set_operations.py:133: RuntimeWarning: invalid value encountered in intersection\n",
      "  return lib.intersection(a, b, **kwargs)\n"
     ]
    },
    {
     "name": "stdout",
     "output_type": "stream",
     "text": [
      "F1: 0.2969353005135945\n",
      "Presicion: 0.935491635983285\n",
      "Recall: 0.17647523779229976\n",
      "IoU: 0.22810297703273993\n"
     ]
    },
    {
     "name": "stderr",
     "output_type": "stream",
     "text": [
      "INFO: Created TensorFlow Lite XNNPACK delegate for CPU.\n",
      "Error connect socket: : Connection refused\n",
      "Error: bind to port 40588 on 127.0.0.1 failed in file ../../sockethelper/sockethelper.cpp line 51. Exiting.\n",
      "Error connect socket: : Connection refused\n",
      "Error: bind to port 40588 on 127.0.0.1 failed in file ../../sockethelper/sockethelper.cpp line 51. Exiting.\n",
      "Error connect socket: : Connection refused\n",
      "Error: bind to port 40588 on 127.0.0.1 failed in file ../../sockethelper/sockethelper.cpp line 51. Exiting.\n",
      "Error connect socket: : Connection refused\n",
      "Error: bind to port 40588 on 127.0.0.1 failed in file ../../sockethelper/sockethelper.cpp line 51. Exiting.\n",
      "/home/ohm/PycharmProjects/FiFi/venv/lib/python3.8/site-packages/shapely/set_operations.py:426: RuntimeWarning: divide by zero encountered in unary_union\n",
      "  return lib.unary_union(collections, **kwargs)\n"
     ]
    },
    {
     "name": "stdout",
     "output_type": "stream",
     "text": [
      "F1: 0.08979993891649225\n",
      "Presicion: 0.9532302291740485\n",
      "Recall: 0.04711943449949907\n",
      "IoU: 0.05837411643430743\n"
     ]
    },
    {
     "name": "stderr",
     "output_type": "stream",
     "text": [
      "INFO: Created TensorFlow Lite XNNPACK delegate for CPU.\n",
      "Error connect socket: : Connection refused\n",
      "Error: bind to port 40588 on 127.0.0.1 failed in file ../../sockethelper/sockethelper.cpp line 51. Exiting.\n",
      "Error connect socket: : Connection refused\n",
      "Error: bind to port 40588 on 127.0.0.1 failed in file ../../sockethelper/sockethelper.cpp line 51. Exiting.\n",
      "Error connect socket: : Connection refused\n",
      "Error: bind to port 40588 on 127.0.0.1 failed in file ../../sockethelper/sockethelper.cpp line 51. Exiting.\n",
      "Error connect socket: : Connection refused\n",
      "Error: bind to port 40588 on 127.0.0.1 failed in file ../../sockethelper/sockethelper.cpp line 51. Exiting.\n",
      "/home/ohm/PycharmProjects/FiFi/venv/lib/python3.8/site-packages/shapely/set_operations.py:426: RuntimeWarning: divide by zero encountered in unary_union\n",
      "  return lib.unary_union(collections, **kwargs)\n"
     ]
    },
    {
     "name": "stdout",
     "output_type": "stream",
     "text": [
      "F1: 0.1403602583033016\n",
      "Presicion: 0.9655653718113106\n",
      "Recall: 0.07568083465033913\n",
      "IoU: 0.08151580827922399\n"
     ]
    },
    {
     "name": "stderr",
     "output_type": "stream",
     "text": [
      "INFO: Created TensorFlow Lite XNNPACK delegate for CPU.\n",
      "Error connect socket: : Connection refused\n",
      "Error: bind to port 40588 on 127.0.0.1 failed in file ../../sockethelper/sockethelper.cpp line 51. Exiting.\n",
      "Error connect socket: : Connection refused\n",
      "Error: bind to port 40588 on 127.0.0.1 failed in file ../../sockethelper/sockethelper.cpp line 51. Exiting.\n",
      "Error connect socket: : Connection refused\n",
      "Error: bind to port 40588 on 127.0.0.1 failed in file ../../sockethelper/sockethelper.cpp line 51. Exiting.\n",
      "Error connect socket: : Connection refused\n",
      "Error: bind to port 40588 on 127.0.0.1 failed in file ../../sockethelper/sockethelper.cpp line 51. Exiting.\n",
      "/home/ohm/PycharmProjects/FiFi/venv/lib/python3.8/site-packages/shapely/set_operations.py:426: RuntimeWarning: divide by zero encountered in unary_union\n",
      "  return lib.unary_union(collections, **kwargs)\n",
      "/home/ohm/PycharmProjects/FiFi/venv/lib/python3.8/site-packages/shapely/set_operations.py:133: RuntimeWarning: invalid value encountered in intersection\n",
      "  return lib.intersection(a, b, **kwargs)\n"
     ]
    },
    {
     "name": "stdout",
     "output_type": "stream",
     "text": [
      "F1: 0.3214989749786602\n",
      "Presicion: 0.9465612247636541\n",
      "Recall: 0.1936331878750136\n",
      "IoU: 0.2444142269579905\n"
     ]
    },
    {
     "name": "stderr",
     "output_type": "stream",
     "text": [
      "INFO: Created TensorFlow Lite XNNPACK delegate for CPU.\n",
      "Segmentation fault\n",
      "/home/ohm/PycharmProjects/FiFi/venv/lib/python3.8/site-packages/shapely/set_operations.py:426: RuntimeWarning: divide by zero encountered in unary_union\n",
      "  return lib.unary_union(collections, **kwargs)\n"
     ]
    },
    {
     "name": "stdout",
     "output_type": "stream",
     "text": [
      "F1: 0.08904158516053173\n",
      "Presicion: 0.9528132492669349\n",
      "Recall: 0.04670302029490031\n",
      "IoU: 0.05793207074615064\n"
     ]
    },
    {
     "name": "stderr",
     "output_type": "stream",
     "text": [
      "INFO: Created TensorFlow Lite XNNPACK delegate for CPU.\n",
      "Error connect socket: : Connection refused\n",
      "Error: bind to port 40588 on 127.0.0.1 failed in file ../../sockethelper/sockethelper.cpp line 51. Exiting.\n",
      "Error connect socket: : Connection refused\n",
      "Error: bind to port 40588 on 127.0.0.1 failed in file ../../sockethelper/sockethelper.cpp line 51. Exiting.\n",
      "Error connect socket: : Connection refused\n",
      "Error: bind to port 40588 on 127.0.0.1 failed in file ../../sockethelper/sockethelper.cpp line 51. Exiting.\n",
      "Error connect socket: : Connection refused\n",
      "Error: bind to port 40588 on 127.0.0.1 failed in file ../../sockethelper/sockethelper.cpp line 51. Exiting.\n",
      "/home/ohm/PycharmProjects/FiFi/venv/lib/python3.8/site-packages/shapely/set_operations.py:426: RuntimeWarning: divide by zero encountered in unary_union\n",
      "  return lib.unary_union(collections, **kwargs)\n",
      "/home/ohm/PycharmProjects/FiFi/venv/lib/python3.8/site-packages/shapely/set_operations.py:133: RuntimeWarning: invalid value encountered in intersection\n",
      "  return lib.intersection(a, b, **kwargs)\n"
     ]
    },
    {
     "name": "stdout",
     "output_type": "stream",
     "text": [
      "F1: 0.2926890269743834\n",
      "Presicion: 0.9500686162539199\n",
      "Recall: 0.17299136475627552\n",
      "IoU: 0.22193826567318337\n"
     ]
    },
    {
     "name": "stderr",
     "output_type": "stream",
     "text": [
      "INFO: Created TensorFlow Lite XNNPACK delegate for CPU.\n",
      "Error connect socket: : Connection refused\n",
      "Error: bind to port 40588 on 127.0.0.1 failed in file ../../sockethelper/sockethelper.cpp line 51. Exiting.\n",
      "Segmentation fault\n",
      "/home/ohm/PycharmProjects/FiFi/venv/lib/python3.8/site-packages/shapely/set_operations.py:426: RuntimeWarning: divide by zero encountered in unary_union\n",
      "  return lib.unary_union(collections, **kwargs)\n"
     ]
    },
    {
     "name": "stdout",
     "output_type": "stream",
     "text": [
      "F1: 0.09007769639100545\n",
      "Presicion: 0.953381287089904\n",
      "Recall: 0.0472720344476463\n",
      "IoU: 0.05833712293704918\n"
     ]
    },
    {
     "name": "stderr",
     "output_type": "stream",
     "text": [
      "INFO: Created TensorFlow Lite XNNPACK delegate for CPU.\n",
      "Error connect socket: : Connection refused\n",
      "Error: bind to port 40588 on 127.0.0.1 failed in file ../../sockethelper/sockethelper.cpp line 51. Exiting.\n",
      "Error connect socket: : Connection refused\n",
      "Error: bind to port 40588 on 127.0.0.1 failed in file ../../sockethelper/sockethelper.cpp line 51. Exiting.\n",
      "Error connect socket: : Connection refused\n",
      "Error: bind to port 40588 on 127.0.0.1 failed in file ../../sockethelper/sockethelper.cpp line 51. Exiting.\n",
      "Error connect socket: : Connection refused\n",
      "Error: bind to port 40588 on 127.0.0.1 failed in file ../../sockethelper/sockethelper.cpp line 51. Exiting.\n",
      "/home/ohm/PycharmProjects/FiFi/venv/lib/python3.8/site-packages/shapely/set_operations.py:426: RuntimeWarning: divide by zero encountered in unary_union\n",
      "  return lib.unary_union(collections, **kwargs)\n",
      "/home/ohm/PycharmProjects/FiFi/venv/lib/python3.8/site-packages/shapely/set_operations.py:133: RuntimeWarning: invalid value encountered in intersection\n",
      "  return lib.intersection(a, b, **kwargs)\n"
     ]
    },
    {
     "name": "stdout",
     "output_type": "stream",
     "text": [
      "F1: 0.2480607479083788\n",
      "Presicion: 0.9547295165854858\n",
      "Recall: 0.1425491527439299\n",
      "IoU: 0.17353924786941835\n"
     ]
    },
    {
     "name": "stderr",
     "output_type": "stream",
     "text": [
      "INFO: Created TensorFlow Lite XNNPACK delegate for CPU.\n",
      "Error connect socket: : Connection refused\n",
      "Error: bind to port 40588 on 127.0.0.1 failed in file ../../sockethelper/sockethelper.cpp line 51. Exiting.\n",
      "Error connect socket: : Connection refused\n",
      "Error: bind to port 40588 on 127.0.0.1 failed in file ../../sockethelper/sockethelper.cpp line 51. Exiting.\n",
      "Error connect socket: : Connection refused\n",
      "Error: bind to port 40588 on 127.0.0.1 failed in file ../../sockethelper/sockethelper.cpp line 51. Exiting.\n",
      "Error connect socket: : Connection refused\n",
      "Error: bind to port 40588 on 127.0.0.1 failed in file ../../sockethelper/sockethelper.cpp line 51. Exiting.\n",
      "/home/ohm/PycharmProjects/FiFi/venv/lib/python3.8/site-packages/shapely/set_operations.py:426: RuntimeWarning: divide by zero encountered in unary_union\n",
      "  return lib.unary_union(collections, **kwargs)\n"
     ]
    },
    {
     "name": "stdout",
     "output_type": "stream",
     "text": [
      "F1: 0.0946149110807081\n",
      "Presicion: 0.9557294091170512\n",
      "Recall: 0.04977106327340255\n",
      "IoU: 0.060991423271391274\n"
     ]
    },
    {
     "name": "stderr",
     "output_type": "stream",
     "text": [
      "INFO: Created TensorFlow Lite XNNPACK delegate for CPU.\n",
      "Error connect socket: : Connection refused\n",
      "Error: bind to port 40588 on 127.0.0.1 failed in file ../../sockethelper/sockethelper.cpp line 51. Exiting.\n",
      "Error connect socket: : Connection refused\n",
      "Error: bind to port 40588 on 127.0.0.1 failed in file ../../sockethelper/sockethelper.cpp line 51. Exiting.\n",
      "Error connect socket: : Connection refused\n",
      "Error: bind to port 40588 on 127.0.0.1 failed in file ../../sockethelper/sockethelper.cpp line 51. Exiting.\n",
      "Error connect socket: : Connection refused\n",
      "Error: bind to port 40588 on 127.0.0.1 failed in file ../../sockethelper/sockethelper.cpp line 51. Exiting.\n",
      "/home/ohm/PycharmProjects/FiFi/venv/lib/python3.8/site-packages/shapely/set_operations.py:426: RuntimeWarning: divide by zero encountered in unary_union\n",
      "  return lib.unary_union(collections, **kwargs)\n",
      "/home/ohm/PycharmProjects/FiFi/venv/lib/python3.8/site-packages/shapely/set_operations.py:133: RuntimeWarning: invalid value encountered in intersection\n",
      "  return lib.intersection(a, b, **kwargs)\n"
     ]
    },
    {
     "name": "stdout",
     "output_type": "stream",
     "text": [
      "F1: 0.2878552860638212\n",
      "Presicion: 0.928921490290637\n",
      "Recall: 0.17031659690850526\n",
      "IoU: 0.22935092424514852\n"
     ]
    },
    {
     "name": "stderr",
     "output_type": "stream",
     "text": [
      "INFO: Created TensorFlow Lite XNNPACK delegate for CPU.\n",
      "Error connect socket: : Connection refused\n",
      "Error: bind to port 40588 on 127.0.0.1 failed in file ../../sockethelper/sockethelper.cpp line 51. Exiting.\n",
      "Error connect socket: : Connection refused\n",
      "Error: bind to port 40588 on 127.0.0.1 failed in file ../../sockethelper/sockethelper.cpp line 51. Exiting.\n",
      "Error connect socket: : Connection refused\n",
      "Error: bind to port 40588 on 127.0.0.1 failed in file ../../sockethelper/sockethelper.cpp line 51. Exiting.\n",
      "Error connect socket: : Connection refused\n",
      "Error: bind to port 40588 on 127.0.0.1 failed in file ../../sockethelper/sockethelper.cpp line 51. Exiting.\n",
      "/home/ohm/PycharmProjects/FiFi/venv/lib/python3.8/site-packages/shapely/set_operations.py:426: RuntimeWarning: divide by zero encountered in unary_union\n",
      "  return lib.unary_union(collections, **kwargs)\n",
      "/home/ohm/PycharmProjects/FiFi/venv/lib/python3.8/site-packages/shapely/set_operations.py:133: RuntimeWarning: invalid value encountered in intersection\n",
      "  return lib.intersection(a, b, **kwargs)\n"
     ]
    },
    {
     "name": "stdout",
     "output_type": "stream",
     "text": [
      "F1: 0.3148819358547519\n",
      "Presicion: 0.9395816188175234\n",
      "Recall: 0.18913304064306768\n",
      "IoU: 0.24083308284754704\n"
     ]
    },
    {
     "name": "stderr",
     "output_type": "stream",
     "text": [
      "INFO: Created TensorFlow Lite XNNPACK delegate for CPU.\n",
      "Error connect socket: : Connection refused\n",
      "Error: bind to port 40588 on 127.0.0.1 failed in file ../../sockethelper/sockethelper.cpp line 51. Exiting.\n",
      "Error connect socket: : Connection refused\n",
      "Error: bind to port 40588 on 127.0.0.1 failed in file ../../sockethelper/sockethelper.cpp line 51. Exiting.\n",
      "Error connect socket: : Connection refused\n",
      "Error: bind to port 40588 on 127.0.0.1 failed in file ../../sockethelper/sockethelper.cpp line 51. Exiting.\n",
      "Error connect socket: : Connection refused\n",
      "Error: bind to port 40588 on 127.0.0.1 failed in file ../../sockethelper/sockethelper.cpp line 51. Exiting.\n",
      "/home/ohm/PycharmProjects/FiFi/venv/lib/python3.8/site-packages/shapely/set_operations.py:426: RuntimeWarning: divide by zero encountered in unary_union\n",
      "  return lib.unary_union(collections, **kwargs)\n"
     ]
    },
    {
     "name": "stdout",
     "output_type": "stream",
     "text": [
      "F1: 0.097004368271508\n",
      "Presicion: 0.9568819286539634\n",
      "Recall: 0.051091918088029986\n",
      "IoU: 0.0635544889148518\n"
     ]
    },
    {
     "name": "stderr",
     "output_type": "stream",
     "text": [
      "INFO: Created TensorFlow Lite XNNPACK delegate for CPU.\n",
      "Segmentation fault\n",
      "/home/ohm/PycharmProjects/FiFi/venv/lib/python3.8/site-packages/shapely/set_operations.py:426: RuntimeWarning: divide by zero encountered in unary_union\n",
      "  return lib.unary_union(collections, **kwargs)\n"
     ]
    },
    {
     "name": "stdout",
     "output_type": "stream",
     "text": [
      "F1: 0.08904158516053173\n",
      "Presicion: 0.9528132492669349\n",
      "Recall: 0.04670302029490031\n",
      "IoU: 0.05793207074615064\n"
     ]
    },
    {
     "name": "stderr",
     "output_type": "stream",
     "text": [
      "INFO: Created TensorFlow Lite XNNPACK delegate for CPU.\n",
      "Error connect socket: : Connection refused\n",
      "Error: bind to port 40588 on 127.0.0.1 failed in file ../../sockethelper/sockethelper.cpp line 51. Exiting.\n",
      "Error connect socket: : Connection refused\n",
      "Error: bind to port 40588 on 127.0.0.1 failed in file ../../sockethelper/sockethelper.cpp line 51. Exiting.\n",
      "Error connect socket: : Connection refused\n",
      "Error: bind to port 40588 on 127.0.0.1 failed in file ../../sockethelper/sockethelper.cpp line 51. Exiting.\n",
      "Error connect socket: : Connection refused\n",
      "Error: bind to port 40588 on 127.0.0.1 failed in file ../../sockethelper/sockethelper.cpp line 51. Exiting.\n",
      "/home/ohm/PycharmProjects/FiFi/venv/lib/python3.8/site-packages/shapely/set_operations.py:426: RuntimeWarning: divide by zero encountered in unary_union\n",
      "  return lib.unary_union(collections, **kwargs)\n",
      "/home/ohm/PycharmProjects/FiFi/venv/lib/python3.8/site-packages/shapely/set_operations.py:133: RuntimeWarning: invalid value encountered in intersection\n",
      "  return lib.intersection(a, b, **kwargs)\n"
     ]
    },
    {
     "name": "stdout",
     "output_type": "stream",
     "text": [
      "F1: 0.3249361100801014\n",
      "Presicion: 0.9473800644358423\n",
      "Recall: 0.19609713523314898\n",
      "IoU: 0.2504391481710066\n"
     ]
    },
    {
     "name": "stderr",
     "output_type": "stream",
     "text": [
      "INFO: Created TensorFlow Lite XNNPACK delegate for CPU.\n",
      "Error connect socket: : Connection refused\n",
      "Error: bind to port 40588 on 127.0.0.1 failed in file ../../sockethelper/sockethelper.cpp line 51. Exiting.\n",
      "Error connect socket: : Connection refused\n",
      "Error: bind to port 40588 on 127.0.0.1 failed in file ../../sockethelper/sockethelper.cpp line 51. Exiting.\n",
      "Segmentation fault\n",
      "/home/ohm/PycharmProjects/FiFi/venv/lib/python3.8/site-packages/shapely/set_operations.py:426: RuntimeWarning: divide by zero encountered in unary_union\n",
      "  return lib.unary_union(collections, **kwargs)\n"
     ]
    },
    {
     "name": "stdout",
     "output_type": "stream",
     "text": [
      "F1: 0.1721987476525301\n",
      "Presicion: 0.9475833087088129\n",
      "Recall: 0.09470441203198111\n",
      "IoU: 0.12708014805795745\n"
     ]
    },
    {
     "name": "stderr",
     "output_type": "stream",
     "text": [
      "INFO: Created TensorFlow Lite XNNPACK delegate for CPU.\n",
      "Error connect socket: : Connection refused\n",
      "Error: bind to port 40588 on 127.0.0.1 failed in file ../../sockethelper/sockethelper.cpp line 51. Exiting.\n",
      "Error connect socket: : Connection refused\n",
      "Error: bind to port 40588 on 127.0.0.1 failed in file ../../sockethelper/sockethelper.cpp line 51. Exiting.\n",
      "Error connect socket: : Connection refused\n",
      "Error: bind to port 40588 on 127.0.0.1 failed in file ../../sockethelper/sockethelper.cpp line 51. Exiting.\n",
      "Error connect socket: : Connection refused\n",
      "Error: bind to port 40588 on 127.0.0.1 failed in file ../../sockethelper/sockethelper.cpp line 51. Exiting.\n",
      "/home/ohm/PycharmProjects/FiFi/venv/lib/python3.8/site-packages/shapely/set_operations.py:426: RuntimeWarning: divide by zero encountered in unary_union\n",
      "  return lib.unary_union(collections, **kwargs)\n",
      "/home/ohm/PycharmProjects/FiFi/venv/lib/python3.8/site-packages/shapely/set_operations.py:133: RuntimeWarning: invalid value encountered in intersection\n",
      "  return lib.intersection(a, b, **kwargs)\n"
     ]
    },
    {
     "name": "stdout",
     "output_type": "stream",
     "text": [
      "F1: 0.08824191532423885\n",
      "Presicion: 0.7980371796423673\n",
      "Recall: 0.04670302029490031\n",
      "IoU: 0.05576122849013791\n"
     ]
    },
    {
     "name": "stderr",
     "output_type": "stream",
     "text": [
      "INFO: Created TensorFlow Lite XNNPACK delegate for CPU.\n",
      "Error connect socket: : Connection refused\n",
      "Error: bind to port 40588 on 127.0.0.1 failed in file ../../sockethelper/sockethelper.cpp line 51. Exiting.\n",
      "Error connect socket: : Connection refused\n",
      "Error: bind to port 40588 on 127.0.0.1 failed in file ../../sockethelper/sockethelper.cpp line 51. Exiting.\n",
      "Error connect socket: : Connection refused\n",
      "Error: bind to port 40588 on 127.0.0.1 failed in file ../../sockethelper/sockethelper.cpp line 51. Exiting.\n",
      "Error connect socket: : Connection refused\n",
      "Error: bind to port 40588 on 127.0.0.1 failed in file ../../sockethelper/sockethelper.cpp line 51. Exiting.\n",
      "/home/ohm/PycharmProjects/FiFi/venv/lib/python3.8/site-packages/shapely/set_operations.py:426: RuntimeWarning: divide by zero encountered in unary_union\n",
      "  return lib.unary_union(collections, **kwargs)\n"
     ]
    },
    {
     "name": "stdout",
     "output_type": "stream",
     "text": [
      "F1: 0.19101198110572343\n",
      "Presicion: 0.9613878998681629\n",
      "Recall: 0.10604021483143117\n",
      "IoU: 0.10740749047824273\n"
     ]
    },
    {
     "name": "stderr",
     "output_type": "stream",
     "text": [
      "INFO: Created TensorFlow Lite XNNPACK delegate for CPU.\n",
      "Error connect socket: : Connection refused\n",
      "Error: bind to port 40588 on 127.0.0.1 failed in file ../../sockethelper/sockethelper.cpp line 51. Exiting.\n",
      "Error connect socket: : Connection refused\n",
      "Error: bind to port 40588 on 127.0.0.1 failed in file ../../sockethelper/sockethelper.cpp line 51. Exiting.\n",
      "Error connect socket: : Connection refused\n",
      "Error: bind to port 40588 on 127.0.0.1 failed in file ../../sockethelper/sockethelper.cpp line 51. Exiting.\n",
      "Error connect socket: : Connection refused\n",
      "Error: bind to port 40588 on 127.0.0.1 failed in file ../../sockethelper/sockethelper.cpp line 51. Exiting.\n",
      "/home/ohm/PycharmProjects/FiFi/venv/lib/python3.8/site-packages/shapely/set_operations.py:426: RuntimeWarning: divide by zero encountered in unary_union\n",
      "  return lib.unary_union(collections, **kwargs)\n"
     ]
    },
    {
     "name": "stdout",
     "output_type": "stream",
     "text": [
      "F1: 0.23599365478341344\n",
      "Presicion: 0.9034275347385247\n",
      "Recall: 0.13572372696957136\n",
      "IoU: 0.19245447678465818\n"
     ]
    },
    {
     "name": "stderr",
     "output_type": "stream",
     "text": [
      "INFO: Created TensorFlow Lite XNNPACK delegate for CPU.\n",
      "Segmentation fault\n",
      "/home/ohm/PycharmProjects/FiFi/venv/lib/python3.8/site-packages/shapely/set_operations.py:426: RuntimeWarning: divide by zero encountered in unary_union\n",
      "  return lib.unary_union(collections, **kwargs)\n"
     ]
    },
    {
     "name": "stdout",
     "output_type": "stream",
     "text": [
      "F1: 0.08904158516053173\n",
      "Presicion: 0.9528132492669349\n",
      "Recall: 0.04670302029490031\n",
      "IoU: 0.05793207074615064\n"
     ]
    },
    {
     "name": "stderr",
     "output_type": "stream",
     "text": [
      "INFO: Created TensorFlow Lite XNNPACK delegate for CPU.\n",
      "Error connect socket: : Connection refused\n",
      "Error: bind to port 40588 on 127.0.0.1 failed in file ../../sockethelper/sockethelper.cpp line 51. Exiting.\n",
      "Error connect socket: : Connection refused\n",
      "Error: bind to port 40588 on 127.0.0.1 failed in file ../../sockethelper/sockethelper.cpp line 51. Exiting.\n",
      "Error connect socket: : Connection refused\n",
      "Error: bind to port 40588 on 127.0.0.1 failed in file ../../sockethelper/sockethelper.cpp line 51. Exiting.\n",
      "Error connect socket: : Connection refused\n",
      "Error: bind to port 40588 on 127.0.0.1 failed in file ../../sockethelper/sockethelper.cpp line 51. Exiting.\n",
      "/home/ohm/PycharmProjects/FiFi/venv/lib/python3.8/site-packages/shapely/set_operations.py:426: RuntimeWarning: divide by zero encountered in unary_union\n",
      "  return lib.unary_union(collections, **kwargs)\n",
      "/home/ohm/PycharmProjects/FiFi/venv/lib/python3.8/site-packages/shapely/set_operations.py:133: RuntimeWarning: invalid value encountered in intersection\n",
      "  return lib.intersection(a, b, **kwargs)\n"
     ]
    },
    {
     "name": "stdout",
     "output_type": "stream",
     "text": [
      "F1: 0.1018396065692961\n",
      "Presicion: 0.8866858459251226\n",
      "Recall: 0.054022138429009284\n",
      "IoU: 0.06448197311959884\n"
     ]
    },
    {
     "name": "stderr",
     "output_type": "stream",
     "text": [
      "INFO: Created TensorFlow Lite XNNPACK delegate for CPU.\n",
      "Segmentation fault\n",
      "/home/ohm/PycharmProjects/FiFi/venv/lib/python3.8/site-packages/shapely/set_operations.py:426: RuntimeWarning: divide by zero encountered in unary_union\n",
      "  return lib.unary_union(collections, **kwargs)\n"
     ]
    },
    {
     "name": "stdout",
     "output_type": "stream",
     "text": [
      "F1: 0.08904158516053173\n",
      "Presicion: 0.9528132492669349\n",
      "Recall: 0.04670302029490031\n",
      "IoU: 0.05793207074615064\n"
     ]
    },
    {
     "name": "stderr",
     "output_type": "stream",
     "text": [
      "INFO: Created TensorFlow Lite XNNPACK delegate for CPU.\n",
      "Segmentation fault\n",
      "/home/ohm/PycharmProjects/FiFi/venv/lib/python3.8/site-packages/shapely/set_operations.py:426: RuntimeWarning: divide by zero encountered in unary_union\n",
      "  return lib.unary_union(collections, **kwargs)\n"
     ]
    },
    {
     "name": "stdout",
     "output_type": "stream",
     "text": [
      "F1: 0.08904158516053173\n",
      "Presicion: 0.9528132492669349\n",
      "Recall: 0.04670302029490031\n",
      "IoU: 0.05793207074615064\n"
     ]
    },
    {
     "name": "stderr",
     "output_type": "stream",
     "text": [
      "INFO: Created TensorFlow Lite XNNPACK delegate for CPU.\n",
      "Error connect socket: : Connection refused\n",
      "Error: bind to port 40588 on 127.0.0.1 failed in file ../../sockethelper/sockethelper.cpp line 51. Exiting.\n",
      "Error connect socket: : Connection refused\n",
      "Error: bind to port 40588 on 127.0.0.1 failed in file ../../sockethelper/sockethelper.cpp line 51. Exiting.\n",
      "Error connect socket: : Connection refused\n",
      "Error: bind to port 40588 on 127.0.0.1 failed in file ../../sockethelper/sockethelper.cpp line 51. Exiting.\n",
      "Error connect socket: : Connection refused\n",
      "Error: bind to port 40588 on 127.0.0.1 failed in file ../../sockethelper/sockethelper.cpp line 51. Exiting.\n",
      "/home/ohm/PycharmProjects/FiFi/venv/lib/python3.8/site-packages/shapely/set_operations.py:426: RuntimeWarning: divide by zero encountered in unary_union\n",
      "  return lib.unary_union(collections, **kwargs)\n"
     ]
    },
    {
     "name": "stdout",
     "output_type": "stream",
     "text": [
      "F1: 0.21837393349361506\n",
      "Presicion: 0.9596482016268169\n",
      "Recall: 0.12320499980748018\n",
      "IoU: 0.11300613479179696\n"
     ]
    },
    {
     "name": "stderr",
     "output_type": "stream",
     "text": [
      "INFO: Created TensorFlow Lite XNNPACK delegate for CPU.\n",
      "Error connect socket: : Connection refused\n",
      "Error: bind to port 40588 on 127.0.0.1 failed in file ../../sockethelper/sockethelper.cpp line 51. Exiting.\n",
      "Error connect socket: : Connection refused\n",
      "Error: bind to port 40588 on 127.0.0.1 failed in file ../../sockethelper/sockethelper.cpp line 51. Exiting.\n",
      "Error connect socket: : Connection refused\n",
      "Error: bind to port 40588 on 127.0.0.1 failed in file ../../sockethelper/sockethelper.cpp line 51. Exiting.\n",
      "Error connect socket: : Connection refused\n",
      "Error: bind to port 40588 on 127.0.0.1 failed in file ../../sockethelper/sockethelper.cpp line 51. Exiting.\n",
      "/home/ohm/PycharmProjects/FiFi/venv/lib/python3.8/site-packages/shapely/set_operations.py:426: RuntimeWarning: divide by zero encountered in unary_union\n",
      "  return lib.unary_union(collections, **kwargs)\n"
     ]
    },
    {
     "name": "stdout",
     "output_type": "stream",
     "text": [
      "F1: 0.30409808892663026\n",
      "Presicion: 0.9209400367990603\n",
      "Recall: 0.1821169112385212\n",
      "IoU: 0.23460913024035004\n"
     ]
    },
    {
     "name": "stderr",
     "output_type": "stream",
     "text": [
      "INFO: Created TensorFlow Lite XNNPACK delegate for CPU.\n",
      "Error connect socket: : Connection refused\n",
      "Error: bind to port 40588 on 127.0.0.1 failed in file ../../sockethelper/sockethelper.cpp line 51. Exiting.\n",
      "Error connect socket: : Connection refused\n",
      "Error: bind to port 40588 on 127.0.0.1 failed in file ../../sockethelper/sockethelper.cpp line 51. Exiting.\n",
      "Error connect socket: : Connection refused\n",
      "Error: bind to port 40588 on 127.0.0.1 failed in file ../../sockethelper/sockethelper.cpp line 51. Exiting.\n",
      "Error connect socket: : Connection refused\n",
      "Error: bind to port 40588 on 127.0.0.1 failed in file ../../sockethelper/sockethelper.cpp line 51. Exiting.\n",
      "/home/ohm/PycharmProjects/FiFi/venv/lib/python3.8/site-packages/shapely/set_operations.py:426: RuntimeWarning: divide by zero encountered in unary_union\n",
      "  return lib.unary_union(collections, **kwargs)\n",
      "/home/ohm/PycharmProjects/FiFi/venv/lib/python3.8/site-packages/shapely/set_operations.py:133: RuntimeWarning: invalid value encountered in intersection\n",
      "  return lib.intersection(a, b, **kwargs)\n"
     ]
    },
    {
     "name": "stdout",
     "output_type": "stream",
     "text": [
      "F1: 0.26262837934442695\n",
      "Presicion: 0.9213772304338288\n",
      "Recall: 0.1531395574209029\n",
      "IoU: 0.20243707305722855\n"
     ]
    },
    {
     "name": "stderr",
     "output_type": "stream",
     "text": [
      "INFO: Created TensorFlow Lite XNNPACK delegate for CPU.\n",
      "Error connect socket: : Connection refused\n",
      "Error: bind to port 40588 on 127.0.0.1 failed in file ../../sockethelper/sockethelper.cpp line 51. Exiting.\n",
      "Error connect socket: : Connection refused\n",
      "Error: bind to port 40588 on 127.0.0.1 failed in file ../../sockethelper/sockethelper.cpp line 51. Exiting.\n",
      "Error connect socket: : Connection refused\n",
      "Error: bind to port 40588 on 127.0.0.1 failed in file ../../sockethelper/sockethelper.cpp line 51. Exiting.\n",
      "Error connect socket: : Connection refused\n",
      "Error: bind to port 40588 on 127.0.0.1 failed in file ../../sockethelper/sockethelper.cpp line 51. Exiting.\n",
      "/home/ohm/PycharmProjects/FiFi/venv/lib/python3.8/site-packages/shapely/set_operations.py:426: RuntimeWarning: divide by zero encountered in unary_union\n",
      "  return lib.unary_union(collections, **kwargs)\n"
     ]
    },
    {
     "name": "stdout",
     "output_type": "stream",
     "text": [
      "F1: 0.09540723238340425\n",
      "Presicion: 0.9543610392368778\n",
      "Recall: 0.0502135333223887\n",
      "IoU: 0.061522870908914\n"
     ]
    },
    {
     "name": "stderr",
     "output_type": "stream",
     "text": [
      "INFO: Created TensorFlow Lite XNNPACK delegate for CPU.\n",
      "Error connect socket: : Connection refused\n",
      "Error: bind to port 40588 on 127.0.0.1 failed in file ../../sockethelper/sockethelper.cpp line 51. Exiting.\n",
      "Error connect socket: : Connection refused\n",
      "Error: bind to port 40588 on 127.0.0.1 failed in file ../../sockethelper/sockethelper.cpp line 51. Exiting.\n",
      "Error connect socket: : Connection refused\n",
      "Error: bind to port 40588 on 127.0.0.1 failed in file ../../sockethelper/sockethelper.cpp line 51. Exiting.\n",
      "Error connect socket: : Connection refused\n",
      "Error: bind to port 40588 on 127.0.0.1 failed in file ../../sockethelper/sockethelper.cpp line 51. Exiting.\n",
      "/home/ohm/PycharmProjects/FiFi/venv/lib/python3.8/site-packages/shapely/set_operations.py:426: RuntimeWarning: divide by zero encountered in unary_union\n",
      "  return lib.unary_union(collections, **kwargs)\n"
     ]
    },
    {
     "name": "stdout",
     "output_type": "stream",
     "text": [
      "F1: 0.08904158516053173\n",
      "Presicion: 0.9528132492669349\n",
      "Recall: 0.04670302029490031\n",
      "IoU: 0.05793207074615064\n"
     ]
    },
    {
     "name": "stderr",
     "output_type": "stream",
     "text": [
      "INFO: Created TensorFlow Lite XNNPACK delegate for CPU.\n",
      "Error connect socket: : Connection refused\n",
      "Error: bind to port 40588 on 127.0.0.1 failed in file ../../sockethelper/sockethelper.cpp line 51. Exiting.\n",
      "Segmentation fault\n",
      "/home/ohm/PycharmProjects/FiFi/venv/lib/python3.8/site-packages/shapely/set_operations.py:426: RuntimeWarning: divide by zero encountered in unary_union\n",
      "  return lib.unary_union(collections, **kwargs)\n"
     ]
    },
    {
     "name": "stdout",
     "output_type": "stream",
     "text": [
      "F1: 0.08904158516053173\n",
      "Presicion: 0.9528132492669349\n",
      "Recall: 0.04670302029490031\n",
      "IoU: 0.05793207074615064\n"
     ]
    },
    {
     "name": "stderr",
     "output_type": "stream",
     "text": [
      "INFO: Created TensorFlow Lite XNNPACK delegate for CPU.\n",
      "Segmentation fault\n",
      "/home/ohm/PycharmProjects/FiFi/venv/lib/python3.8/site-packages/shapely/set_operations.py:426: RuntimeWarning: divide by zero encountered in unary_union\n",
      "  return lib.unary_union(collections, **kwargs)\n"
     ]
    },
    {
     "name": "stdout",
     "output_type": "stream",
     "text": [
      "F1: 0.08904158516053173\n",
      "Presicion: 0.9528132492669349\n",
      "Recall: 0.04670302029490031\n",
      "IoU: 0.05793207074615064\n"
     ]
    },
    {
     "name": "stderr",
     "output_type": "stream",
     "text": [
      "INFO: Created TensorFlow Lite XNNPACK delegate for CPU.\n",
      "Error connect socket: : Connection refused\n",
      "Error: bind to port 40588 on 127.0.0.1 failed in file ../../sockethelper/sockethelper.cpp line 51. Exiting.\n",
      "Error connect socket: : Connection refused\n",
      "Error: bind to port 40588 on 127.0.0.1 failed in file ../../sockethelper/sockethelper.cpp line 51. Exiting.\n",
      "Error connect socket: : Connection refused\n",
      "Error: bind to port 40588 on 127.0.0.1 failed in file ../../sockethelper/sockethelper.cpp line 51. Exiting.\n",
      "Error connect socket: : Connection refused\n",
      "Error: bind to port 40588 on 127.0.0.1 failed in file ../../sockethelper/sockethelper.cpp line 51. Exiting.\n",
      "/home/ohm/PycharmProjects/FiFi/venv/lib/python3.8/site-packages/shapely/set_operations.py:426: RuntimeWarning: divide by zero encountered in unary_union\n",
      "  return lib.unary_union(collections, **kwargs)\n",
      "/home/ohm/PycharmProjects/FiFi/venv/lib/python3.8/site-packages/shapely/set_operations.py:133: RuntimeWarning: invalid value encountered in intersection\n",
      "  return lib.intersection(a, b, **kwargs)\n"
     ]
    },
    {
     "name": "stdout",
     "output_type": "stream",
     "text": [
      "F1: 0.31728521219015465\n",
      "Presicion: 0.9361396003616066\n",
      "Recall: 0.1910124758877962\n",
      "IoU: 0.24295836400932921\n"
     ]
    },
    {
     "name": "stderr",
     "output_type": "stream",
     "text": [
      "INFO: Created TensorFlow Lite XNNPACK delegate for CPU.\n",
      "Error connect socket: : Connection refused\n",
      "Error: bind to port 40588 on 127.0.0.1 failed in file ../../sockethelper/sockethelper.cpp line 51. Exiting.\n",
      "Error connect socket: : Connection refused\n",
      "Error: bind to port 40588 on 127.0.0.1 failed in file ../../sockethelper/sockethelper.cpp line 51. Exiting.\n",
      "Segmentation fault\n",
      "/home/ohm/PycharmProjects/FiFi/venv/lib/python3.8/site-packages/shapely/set_operations.py:426: RuntimeWarning: divide by zero encountered in unary_union\n",
      "  return lib.unary_union(collections, **kwargs)\n",
      "/home/ohm/PycharmProjects/FiFi/venv/lib/python3.8/site-packages/shapely/set_operations.py:133: RuntimeWarning: invalid value encountered in intersection\n",
      "  return lib.intersection(a, b, **kwargs)\n"
     ]
    },
    {
     "name": "stdout",
     "output_type": "stream",
     "text": [
      "F1: 0.3112867840711344\n",
      "Presicion: 0.9485930106470268\n",
      "Recall: 0.1861937131603287\n",
      "IoU: 0.23143383232962444\n"
     ]
    },
    {
     "name": "stderr",
     "output_type": "stream",
     "text": [
      "INFO: Created TensorFlow Lite XNNPACK delegate for CPU.\n",
      "Error connect socket: : Connection refused\n",
      "Error: bind to port 40588 on 127.0.0.1 failed in file ../../sockethelper/sockethelper.cpp line 51. Exiting.\n",
      "Error connect socket: : Connection refused\n",
      "Error: bind to port 40588 on 127.0.0.1 failed in file ../../sockethelper/sockethelper.cpp line 51. Exiting.\n",
      "Error connect socket: : Connection refused\n",
      "Error: bind to port 40588 on 127.0.0.1 failed in file ../../sockethelper/sockethelper.cpp line 51. Exiting.\n",
      "Error connect socket: : Connection refused\n",
      "Error: bind to port 40588 on 127.0.0.1 failed in file ../../sockethelper/sockethelper.cpp line 51. Exiting.\n",
      "/home/ohm/PycharmProjects/FiFi/venv/lib/python3.8/site-packages/shapely/set_operations.py:426: RuntimeWarning: divide by zero encountered in unary_union\n",
      "  return lib.unary_union(collections, **kwargs)\n"
     ]
    },
    {
     "name": "stdout",
     "output_type": "stream",
     "text": [
      "F1: 0.19907846290854592\n",
      "Presicion: 0.968269842168042\n",
      "Recall: 0.11094444554056679\n",
      "IoU: 0.11681505931749965\n"
     ]
    },
    {
     "name": "stderr",
     "output_type": "stream",
     "text": [
      "INFO: Created TensorFlow Lite XNNPACK delegate for CPU.\n",
      "Error connect socket: : Connection refused\n",
      "Error: bind to port 40588 on 127.0.0.1 failed in file ../../sockethelper/sockethelper.cpp line 51. Exiting.\n",
      "Error connect socket: : Connection refused\n",
      "Error: bind to port 40588 on 127.0.0.1 failed in file ../../sockethelper/sockethelper.cpp line 51. Exiting.\n",
      "Error connect socket: : Connection refused\n",
      "Error: bind to port 40588 on 127.0.0.1 failed in file ../../sockethelper/sockethelper.cpp line 51. Exiting.\n",
      "Error connect socket: : Connection refused\n",
      "Error: bind to port 40588 on 127.0.0.1 failed in file ../../sockethelper/sockethelper.cpp line 51. Exiting.\n",
      "/home/ohm/PycharmProjects/FiFi/venv/lib/python3.8/site-packages/shapely/set_operations.py:426: RuntimeWarning: divide by zero encountered in unary_union\n",
      "  return lib.unary_union(collections, **kwargs)\n",
      "/home/ohm/PycharmProjects/FiFi/venv/lib/python3.8/site-packages/shapely/set_operations.py:133: RuntimeWarning: invalid value encountered in intersection\n",
      "  return lib.intersection(a, b, **kwargs)\n"
     ]
    },
    {
     "name": "stdout",
     "output_type": "stream",
     "text": [
      "F1: 0.2858990873756788\n",
      "Presicion: 0.9080733361085329\n",
      "Recall: 0.1696570807465299\n",
      "IoU: 0.2189539718848396\n"
     ]
    },
    {
     "name": "stderr",
     "output_type": "stream",
     "text": [
      "INFO: Created TensorFlow Lite XNNPACK delegate for CPU.\n",
      "Error connect socket: : Connection refused\n",
      "Error: bind to port 40588 on 127.0.0.1 failed in file ../../sockethelper/sockethelper.cpp line 51. Exiting.\n",
      "Error connect socket: : Connection refused\n",
      "Error: bind to port 40588 on 127.0.0.1 failed in file ../../sockethelper/sockethelper.cpp line 51. Exiting.\n",
      "Error connect socket: : Connection refused\n",
      "Error: bind to port 40588 on 127.0.0.1 failed in file ../../sockethelper/sockethelper.cpp line 51. Exiting.\n",
      "Error connect socket: : Connection refused\n",
      "Error: bind to port 40588 on 127.0.0.1 failed in file ../../sockethelper/sockethelper.cpp line 51. Exiting.\n",
      "/home/ohm/PycharmProjects/FiFi/venv/lib/python3.8/site-packages/shapely/set_operations.py:426: RuntimeWarning: divide by zero encountered in unary_union\n",
      "  return lib.unary_union(collections, **kwargs)\n",
      "/home/ohm/PycharmProjects/FiFi/venv/lib/python3.8/site-packages/shapely/set_operations.py:133: RuntimeWarning: invalid value encountered in intersection\n",
      "  return lib.intersection(a, b, **kwargs)\n"
     ]
    },
    {
     "name": "stdout",
     "output_type": "stream",
     "text": [
      "F1: 0.3134768856486336\n",
      "Presicion: 0.9371669465806202\n",
      "Recall: 0.18821722575029626\n",
      "IoU: 0.23399837529701234\n"
     ]
    },
    {
     "name": "stderr",
     "output_type": "stream",
     "text": [
      "INFO: Created TensorFlow Lite XNNPACK delegate for CPU.\n",
      "Segmentation fault\n",
      "/home/ohm/PycharmProjects/FiFi/venv/lib/python3.8/site-packages/shapely/set_operations.py:426: RuntimeWarning: divide by zero encountered in unary_union\n",
      "  return lib.unary_union(collections, **kwargs)\n"
     ]
    },
    {
     "name": "stdout",
     "output_type": "stream",
     "text": [
      "F1: 0.08904158516053173\n",
      "Presicion: 0.9528132492669349\n",
      "Recall: 0.04670302029490031\n",
      "IoU: 0.05793207074615064\n"
     ]
    },
    {
     "name": "stderr",
     "output_type": "stream",
     "text": [
      "INFO: Created TensorFlow Lite XNNPACK delegate for CPU.\n",
      "Error connect socket: : Connection refused\n",
      "Error: bind to port 40588 on 127.0.0.1 failed in file ../../sockethelper/sockethelper.cpp line 51. Exiting.\n",
      "Error connect socket: : Connection refused\n",
      "Error: bind to port 40588 on 127.0.0.1 failed in file ../../sockethelper/sockethelper.cpp line 51. Exiting.\n",
      "Error connect socket: : Connection refused\n",
      "Error: bind to port 40588 on 127.0.0.1 failed in file ../../sockethelper/sockethelper.cpp line 51. Exiting.\n",
      "Error connect socket: : Connection refused\n",
      "Error: bind to port 40588 on 127.0.0.1 failed in file ../../sockethelper/sockethelper.cpp line 51. Exiting.\n",
      "/home/ohm/PycharmProjects/FiFi/venv/lib/python3.8/site-packages/shapely/set_operations.py:426: RuntimeWarning: divide by zero encountered in unary_union\n",
      "  return lib.unary_union(collections, **kwargs)\n"
     ]
    },
    {
     "name": "stdout",
     "output_type": "stream",
     "text": [
      "F1: 0.316259950641073\n",
      "Presicion: 0.9378992527333769\n",
      "Recall: 0.1901972672993083\n",
      "IoU: 0.23907684322668993\n"
     ]
    },
    {
     "name": "stderr",
     "output_type": "stream",
     "text": [
      "INFO: Created TensorFlow Lite XNNPACK delegate for CPU.\n",
      "Segmentation fault\n",
      "/home/ohm/PycharmProjects/FiFi/venv/lib/python3.8/site-packages/shapely/set_operations.py:426: RuntimeWarning: divide by zero encountered in unary_union\n",
      "  return lib.unary_union(collections, **kwargs)\n"
     ]
    },
    {
     "name": "stdout",
     "output_type": "stream",
     "text": [
      "F1: 0.08904158516053173\n",
      "Presicion: 0.9528132492669349\n",
      "Recall: 0.04670302029490031\n",
      "IoU: 0.05793207074615064\n"
     ]
    },
    {
     "name": "stderr",
     "output_type": "stream",
     "text": [
      "INFO: Created TensorFlow Lite XNNPACK delegate for CPU.\n",
      "Error connect socket: : Connection refused\n",
      "Error: bind to port 40588 on 127.0.0.1 failed in file ../../sockethelper/sockethelper.cpp line 51. Exiting.\n",
      "Segmentation fault\n",
      "/home/ohm/PycharmProjects/FiFi/venv/lib/python3.8/site-packages/shapely/set_operations.py:426: RuntimeWarning: divide by zero encountered in unary_union\n",
      "  return lib.unary_union(collections, **kwargs)\n"
     ]
    },
    {
     "name": "stdout",
     "output_type": "stream",
     "text": [
      "F1: 0.08904158516053173\n",
      "Presicion: 0.9528132492669349\n",
      "Recall: 0.04670302029490031\n",
      "IoU: 0.05793207074615064\n"
     ]
    },
    {
     "name": "stderr",
     "output_type": "stream",
     "text": [
      "INFO: Created TensorFlow Lite XNNPACK delegate for CPU.\n",
      "Error connect socket: : Connection refused\n",
      "Error: bind to port 40588 on 127.0.0.1 failed in file ../../sockethelper/sockethelper.cpp line 51. Exiting.\n",
      "Error connect socket: : Connection refused\n",
      "Error: bind to port 40588 on 127.0.0.1 failed in file ../../sockethelper/sockethelper.cpp line 51. Exiting.\n",
      "Segmentation fault\n",
      "/home/ohm/PycharmProjects/FiFi/venv/lib/python3.8/site-packages/shapely/set_operations.py:426: RuntimeWarning: divide by zero encountered in unary_union\n",
      "  return lib.unary_union(collections, **kwargs)\n"
     ]
    },
    {
     "name": "stdout",
     "output_type": "stream",
     "text": [
      "F1: 0.08904158516053173\n",
      "Presicion: 0.9528132492669349\n",
      "Recall: 0.04670302029490031\n",
      "IoU: 0.05793207074615064\n"
     ]
    },
    {
     "name": "stderr",
     "output_type": "stream",
     "text": [
      "INFO: Created TensorFlow Lite XNNPACK delegate for CPU.\n",
      "Error connect socket: : Connection refused\n",
      "Error: bind to port 40588 on 127.0.0.1 failed in file ../../sockethelper/sockethelper.cpp line 51. Exiting.\n",
      "Segmentation fault\n",
      "/home/ohm/PycharmProjects/FiFi/venv/lib/python3.8/site-packages/shapely/set_operations.py:426: RuntimeWarning: divide by zero encountered in unary_union\n",
      "  return lib.unary_union(collections, **kwargs)\n"
     ]
    },
    {
     "name": "stdout",
     "output_type": "stream",
     "text": [
      "F1: 0.08904158516053173\n",
      "Presicion: 0.9528132492669349\n",
      "Recall: 0.04670302029490031\n",
      "IoU: 0.05793207074615064\n"
     ]
    },
    {
     "name": "stderr",
     "output_type": "stream",
     "text": [
      "INFO: Created TensorFlow Lite XNNPACK delegate for CPU.\n",
      "Segmentation fault\n",
      "/home/ohm/PycharmProjects/FiFi/venv/lib/python3.8/site-packages/shapely/set_operations.py:426: RuntimeWarning: divide by zero encountered in unary_union\n",
      "  return lib.unary_union(collections, **kwargs)\n"
     ]
    },
    {
     "name": "stdout",
     "output_type": "stream",
     "text": [
      "F1: 0.08904158516053173\n",
      "Presicion: 0.9528132492669349\n",
      "Recall: 0.04670302029490031\n",
      "IoU: 0.05793207074615064\n"
     ]
    },
    {
     "name": "stderr",
     "output_type": "stream",
     "text": [
      "INFO: Created TensorFlow Lite XNNPACK delegate for CPU.\n",
      "Error connect socket: : Connection refused\n",
      "Error: bind to port 40588 on 127.0.0.1 failed in file ../../sockethelper/sockethelper.cpp line 51. Exiting.\n",
      "Error connect socket: : Connection refused\n",
      "Error: bind to port 40588 on 127.0.0.1 failed in file ../../sockethelper/sockethelper.cpp line 51. Exiting.\n",
      "Error connect socket: : Connection refused\n",
      "Error: bind to port 40588 on 127.0.0.1 failed in file ../../sockethelper/sockethelper.cpp line 51. Exiting.\n",
      "Error connect socket: : Connection refused\n",
      "Error: bind to port 40588 on 127.0.0.1 failed in file ../../sockethelper/sockethelper.cpp line 51. Exiting.\n",
      "/home/ohm/PycharmProjects/FiFi/venv/lib/python3.8/site-packages/shapely/set_operations.py:426: RuntimeWarning: divide by zero encountered in unary_union\n",
      "  return lib.unary_union(collections, **kwargs)\n",
      "/home/ohm/PycharmProjects/FiFi/venv/lib/python3.8/site-packages/shapely/set_operations.py:133: RuntimeWarning: invalid value encountered in intersection\n",
      "  return lib.intersection(a, b, **kwargs)\n"
     ]
    },
    {
     "name": "stdout",
     "output_type": "stream",
     "text": [
      "F1: 0.28244295124775665\n",
      "Presicion: 0.9500108098730733\n",
      "Recall: 0.16587994270900544\n",
      "IoU: 0.19729955901183363\n"
     ]
    },
    {
     "name": "stderr",
     "output_type": "stream",
     "text": [
      "INFO: Created TensorFlow Lite XNNPACK delegate for CPU.\n",
      "Error connect socket: : Connection refused\n",
      "Error: bind to port 40588 on 127.0.0.1 failed in file ../../sockethelper/sockethelper.cpp line 51. Exiting.\n",
      "Error connect socket: : Connection refused\n",
      "Error: bind to port 40588 on 127.0.0.1 failed in file ../../sockethelper/sockethelper.cpp line 51. Exiting.\n",
      "Error connect socket: : Connection refused\n",
      "Error: bind to port 40588 on 127.0.0.1 failed in file ../../sockethelper/sockethelper.cpp line 51. Exiting.\n",
      "Error connect socket: : Connection refused\n",
      "Error: bind to port 40588 on 127.0.0.1 failed in file ../../sockethelper/sockethelper.cpp line 51. Exiting.\n",
      "/home/ohm/PycharmProjects/FiFi/venv/lib/python3.8/site-packages/shapely/set_operations.py:426: RuntimeWarning: divide by zero encountered in unary_union\n",
      "  return lib.unary_union(collections, **kwargs)\n",
      "/home/ohm/PycharmProjects/FiFi/venv/lib/python3.8/site-packages/shapely/set_operations.py:133: RuntimeWarning: invalid value encountered in intersection\n",
      "  return lib.intersection(a, b, **kwargs)\n"
     ]
    },
    {
     "name": "stdout",
     "output_type": "stream",
     "text": [
      "F1: 0.2967788297327571\n",
      "Presicion: 0.9510977012854572\n",
      "Recall: 0.17582082278495867\n",
      "IoU: 0.22868359714658232\n"
     ]
    },
    {
     "name": "stderr",
     "output_type": "stream",
     "text": [
      "INFO: Created TensorFlow Lite XNNPACK delegate for CPU.\n",
      "Error connect socket: : Connection refused\n",
      "Error: bind to port 40588 on 127.0.0.1 failed in file ../../sockethelper/sockethelper.cpp line 51. Exiting.\n",
      "Error connect socket: : Connection refused\n",
      "Error: bind to port 40588 on 127.0.0.1 failed in file ../../sockethelper/sockethelper.cpp line 51. Exiting.\n",
      "Error connect socket: : Connection refused\n",
      "Error: bind to port 40588 on 127.0.0.1 failed in file ../../sockethelper/sockethelper.cpp line 51. Exiting.\n",
      "/home/ohm/PycharmProjects/FiFi/venv/lib/python3.8/site-packages/shapely/set_operations.py:426: RuntimeWarning: divide by zero encountered in unary_union\n",
      "  return lib.unary_union(collections, **kwargs)\n"
     ]
    },
    {
     "name": "stdout",
     "output_type": "stream",
     "text": [
      "F1: 0.08904158516053173\n",
      "Presicion: 0.9528132492669349\n",
      "Recall: 0.04670302029490031\n",
      "IoU: 0.05793207074615064\n"
     ]
    },
    {
     "name": "stderr",
     "output_type": "stream",
     "text": [
      "INFO: Created TensorFlow Lite XNNPACK delegate for CPU.\n",
      "Error connect socket: : Connection refused\n",
      "Error: bind to port 40588 on 127.0.0.1 failed in file ../../sockethelper/sockethelper.cpp line 51. Exiting.\n",
      "Error connect socket: : Connection refused\n",
      "Error: bind to port 40588 on 127.0.0.1 failed in file ../../sockethelper/sockethelper.cpp line 51. Exiting.\n",
      "Error connect socket: : Connection refused\n",
      "Error: bind to port 40588 on 127.0.0.1 failed in file ../../sockethelper/sockethelper.cpp line 51. Exiting.\n",
      "Error connect socket: : Connection refused\n",
      "Error: bind to port 40588 on 127.0.0.1 failed in file ../../sockethelper/sockethelper.cpp line 51. Exiting.\n",
      "/home/ohm/PycharmProjects/FiFi/venv/lib/python3.8/site-packages/shapely/set_operations.py:426: RuntimeWarning: divide by zero encountered in unary_union\n",
      "  return lib.unary_union(collections, **kwargs)\n",
      "/home/ohm/PycharmProjects/FiFi/venv/lib/python3.8/site-packages/shapely/set_operations.py:133: RuntimeWarning: invalid value encountered in intersection\n",
      "  return lib.intersection(a, b, **kwargs)\n"
     ]
    },
    {
     "name": "stdout",
     "output_type": "stream",
     "text": [
      "F1: 0.31707176490998057\n",
      "Presicion: 0.9431261586085685\n",
      "Recall: 0.19056996035485804\n",
      "IoU: 0.2471490252811206\n"
     ]
    },
    {
     "name": "stderr",
     "output_type": "stream",
     "text": [
      "INFO: Created TensorFlow Lite XNNPACK delegate for CPU.\n",
      "Error connect socket: : Connection refused\n",
      "Error: bind to port 40588 on 127.0.0.1 failed in file ../../sockethelper/sockethelper.cpp line 51. Exiting.\n",
      "Error connect socket: : Connection refused\n",
      "Error: bind to port 40588 on 127.0.0.1 failed in file ../../sockethelper/sockethelper.cpp line 51. Exiting.\n",
      "Error connect socket: : Connection refused\n",
      "Error: bind to port 40588 on 127.0.0.1 failed in file ../../sockethelper/sockethelper.cpp line 51. Exiting.\n",
      "Error connect socket: : Connection refused\n",
      "Error: bind to port 40588 on 127.0.0.1 failed in file ../../sockethelper/sockethelper.cpp line 51. Exiting.\n",
      "/home/ohm/PycharmProjects/FiFi/venv/lib/python3.8/site-packages/shapely/set_operations.py:426: RuntimeWarning: divide by zero encountered in unary_union\n",
      "  return lib.unary_union(collections, **kwargs)\n",
      "/home/ohm/PycharmProjects/FiFi/venv/lib/python3.8/site-packages/shapely/set_operations.py:133: RuntimeWarning: invalid value encountered in intersection\n",
      "  return lib.intersection(a, b, **kwargs)\n"
     ]
    },
    {
     "name": "stdout",
     "output_type": "stream",
     "text": [
      "F1: 0.2715961083713119\n",
      "Presicion: 0.9354778778514435\n",
      "Recall: 0.1588586729168814\n",
      "IoU: 0.19292577105205352\n"
     ]
    },
    {
     "name": "stderr",
     "output_type": "stream",
     "text": [
      "INFO: Created TensorFlow Lite XNNPACK delegate for CPU.\n",
      "Error connect socket: : Connection refused\n",
      "Error: bind to port 40588 on 127.0.0.1 failed in file ../../sockethelper/sockethelper.cpp line 51. Exiting.\n",
      "Error connect socket: : Connection refused\n",
      "Error: bind to port 40588 on 127.0.0.1 failed in file ../../sockethelper/sockethelper.cpp line 51. Exiting.\n",
      "Error connect socket: : Connection refused\n",
      "Error: bind to port 40588 on 127.0.0.1 failed in file ../../sockethelper/sockethelper.cpp line 51. Exiting.\n",
      "Error connect socket: : Connection refused\n",
      "Error: bind to port 40588 on 127.0.0.1 failed in file ../../sockethelper/sockethelper.cpp line 51. Exiting.\n",
      "/home/ohm/PycharmProjects/FiFi/venv/lib/python3.8/site-packages/shapely/set_operations.py:426: RuntimeWarning: divide by zero encountered in unary_union\n",
      "  return lib.unary_union(collections, **kwargs)\n"
     ]
    },
    {
     "name": "stdout",
     "output_type": "stream",
     "text": [
      "F1: 0.08898932193456\n",
      "Presicion: 0.9409859293183193\n",
      "Recall: 0.04670302029490031\n",
      "IoU: 0.05761024610241316\n"
     ]
    },
    {
     "name": "stderr",
     "output_type": "stream",
     "text": [
      "INFO: Created TensorFlow Lite XNNPACK delegate for CPU.\n",
      "Error connect socket: : Connection refused\n",
      "Error: bind to port 40588 on 127.0.0.1 failed in file ../../sockethelper/sockethelper.cpp line 51. Exiting.\n",
      "Error connect socket: : Connection refused\n",
      "Error: bind to port 40588 on 127.0.0.1 failed in file ../../sockethelper/sockethelper.cpp line 51. Exiting.\n",
      "Error connect socket: : Connection refused\n",
      "Error: bind to port 40588 on 127.0.0.1 failed in file ../../sockethelper/sockethelper.cpp line 51. Exiting.\n",
      "Error connect socket: : Connection refused\n",
      "Error: bind to port 40588 on 127.0.0.1 failed in file ../../sockethelper/sockethelper.cpp line 51. Exiting.\n",
      "/home/ohm/PycharmProjects/FiFi/venv/lib/python3.8/site-packages/shapely/set_operations.py:426: RuntimeWarning: divide by zero encountered in unary_union\n",
      "  return lib.unary_union(collections, **kwargs)\n",
      "/home/ohm/PycharmProjects/FiFi/venv/lib/python3.8/site-packages/shapely/set_operations.py:133: RuntimeWarning: invalid value encountered in intersection\n",
      "  return lib.intersection(a, b, **kwargs)\n"
     ]
    },
    {
     "name": "stdout",
     "output_type": "stream",
     "text": [
      "F1: 0.27634251861848247\n",
      "Presicion: 0.934210759663442\n",
      "Recall: 0.1621541105253013\n",
      "IoU: 0.1958189669335081\n"
     ]
    },
    {
     "name": "stderr",
     "output_type": "stream",
     "text": [
      "INFO: Created TensorFlow Lite XNNPACK delegate for CPU.\n",
      "Segmentation fault\n",
      "/home/ohm/PycharmProjects/FiFi/venv/lib/python3.8/site-packages/shapely/set_operations.py:426: RuntimeWarning: divide by zero encountered in unary_union\n",
      "  return lib.unary_union(collections, **kwargs)\n"
     ]
    },
    {
     "name": "stdout",
     "output_type": "stream",
     "text": [
      "F1: 0.08904158516053173\n",
      "Presicion: 0.9528132492669349\n",
      "Recall: 0.04670302029490031\n",
      "IoU: 0.05793207074615064\n"
     ]
    },
    {
     "name": "stderr",
     "output_type": "stream",
     "text": [
      "INFO: Created TensorFlow Lite XNNPACK delegate for CPU.\n",
      "/home/ohm/PycharmProjects/FiFi/venv/lib/python3.8/site-packages/shapely/set_operations.py:426: RuntimeWarning: divide by zero encountered in unary_union\n",
      "  return lib.unary_union(collections, **kwargs)\n"
     ]
    },
    {
     "name": "stdout",
     "output_type": "stream",
     "text": [
      "F1: 0.08904158516053173\n",
      "Presicion: 0.9528132492669349\n",
      "Recall: 0.04670302029490031\n",
      "IoU: 0.05793207074615064\n"
     ]
    },
    {
     "name": "stderr",
     "output_type": "stream",
     "text": [
      "INFO: Created TensorFlow Lite XNNPACK delegate for CPU.\n",
      "Error connect socket: : Connection refused\n",
      "Error: bind to port 40588 on 127.0.0.1 failed in file ../../sockethelper/sockethelper.cpp line 51. Exiting.\n",
      "Error connect socket: : Connection refused\n",
      "Error: bind to port 40588 on 127.0.0.1 failed in file ../../sockethelper/sockethelper.cpp line 51. Exiting.\n",
      "Error connect socket: : Connection refused\n",
      "Error: bind to port 40588 on 127.0.0.1 failed in file ../../sockethelper/sockethelper.cpp line 51. Exiting.\n",
      "Error connect socket: : Connection refused\n",
      "Error: bind to port 40588 on 127.0.0.1 failed in file ../../sockethelper/sockethelper.cpp line 51. Exiting.\n",
      "/home/ohm/PycharmProjects/FiFi/venv/lib/python3.8/site-packages/shapely/set_operations.py:426: RuntimeWarning: divide by zero encountered in unary_union\n",
      "  return lib.unary_union(collections, **kwargs)\n",
      "/home/ohm/PycharmProjects/FiFi/venv/lib/python3.8/site-packages/shapely/set_operations.py:133: RuntimeWarning: invalid value encountered in intersection\n",
      "  return lib.intersection(a, b, **kwargs)\n"
     ]
    },
    {
     "name": "stdout",
     "output_type": "stream",
     "text": [
      "F1: 0.28630978621663855\n",
      "Presicion: 0.9201259504041842\n",
      "Recall: 0.16953080921023733\n",
      "IoU: 0.22857545109124927\n"
     ]
    },
    {
     "name": "stderr",
     "output_type": "stream",
     "text": [
      "INFO: Created TensorFlow Lite XNNPACK delegate for CPU.\n",
      "Error connect socket: : Connection refused\n",
      "Error: bind to port 40588 on 127.0.0.1 failed in file ../../sockethelper/sockethelper.cpp line 51. Exiting.\n",
      "Error connect socket: : Connection refused\n",
      "Error: bind to port 40588 on 127.0.0.1 failed in file ../../sockethelper/sockethelper.cpp line 51. Exiting.\n",
      "Error connect socket: : Connection refused\n",
      "Error: bind to port 40588 on 127.0.0.1 failed in file ../../sockethelper/sockethelper.cpp line 51. Exiting.\n",
      "Error connect socket: : Connection refused\n",
      "Error: bind to port 40588 on 127.0.0.1 failed in file ../../sockethelper/sockethelper.cpp line 51. Exiting.\n",
      "/home/ohm/PycharmProjects/FiFi/venv/lib/python3.8/site-packages/shapely/set_operations.py:426: RuntimeWarning: divide by zero encountered in unary_union\n",
      "  return lib.unary_union(collections, **kwargs)\n",
      "/home/ohm/PycharmProjects/FiFi/venv/lib/python3.8/site-packages/shapely/set_operations.py:133: RuntimeWarning: invalid value encountered in intersection\n",
      "  return lib.intersection(a, b, **kwargs)\n"
     ]
    },
    {
     "name": "stdout",
     "output_type": "stream",
     "text": [
      "F1: 0.2879160697900604\n",
      "Presicion: 0.9242248101537317\n",
      "Recall: 0.17051807367659644\n",
      "IoU: 0.22026355349439675\n"
     ]
    },
    {
     "name": "stderr",
     "output_type": "stream",
     "text": [
      "INFO: Created TensorFlow Lite XNNPACK delegate for CPU.\n",
      "Error connect socket: : Connection refused\n",
      "Error: bind to port 40588 on 127.0.0.1 failed in file ../../sockethelper/sockethelper.cpp line 51. Exiting.\n",
      "Error connect socket: : Connection refused\n",
      "Error: bind to port 40588 on 127.0.0.1 failed in file ../../sockethelper/sockethelper.cpp line 51. Exiting.\n",
      "Error connect socket: : Connection refused\n",
      "Error: bind to port 40588 on 127.0.0.1 failed in file ../../sockethelper/sockethelper.cpp line 51. Exiting.\n",
      "Error connect socket: : Connection refused\n",
      "Error: bind to port 40588 on 127.0.0.1 failed in file ../../sockethelper/sockethelper.cpp line 51. Exiting.\n",
      "/home/ohm/PycharmProjects/FiFi/venv/lib/python3.8/site-packages/shapely/set_operations.py:426: RuntimeWarning: divide by zero encountered in unary_union\n",
      "  return lib.unary_union(collections, **kwargs)\n",
      "/home/ohm/PycharmProjects/FiFi/venv/lib/python3.8/site-packages/shapely/set_operations.py:133: RuntimeWarning: invalid value encountered in intersection\n",
      "  return lib.intersection(a, b, **kwargs)\n"
     ]
    },
    {
     "name": "stdout",
     "output_type": "stream",
     "text": [
      "F1: 0.2389960964299588\n",
      "Presicion: 0.9446307513064349\n",
      "Recall: 0.1368040930168503\n",
      "IoU: 0.1771903031360682\n"
     ]
    },
    {
     "name": "stderr",
     "output_type": "stream",
     "text": [
      "INFO: Created TensorFlow Lite XNNPACK delegate for CPU.\n",
      "Error connect socket: : Connection refused\n",
      "Error: bind to port 40588 on 127.0.0.1 failed in file ../../sockethelper/sockethelper.cpp line 51. Exiting.\n",
      "Error connect socket: : Connection refused\n",
      "Error: bind to port 40588 on 127.0.0.1 failed in file ../../sockethelper/sockethelper.cpp line 51. Exiting.\n",
      "Error connect socket: : Connection refused\n",
      "Error: bind to port 40588 on 127.0.0.1 failed in file ../../sockethelper/sockethelper.cpp line 51. Exiting.\n",
      "Error connect socket: : Connection refused\n",
      "Error: bind to port 40588 on 127.0.0.1 failed in file ../../sockethelper/sockethelper.cpp line 51. Exiting.\n",
      "/home/ohm/PycharmProjects/FiFi/venv/lib/python3.8/site-packages/shapely/set_operations.py:426: RuntimeWarning: divide by zero encountered in unary_union\n",
      "  return lib.unary_union(collections, **kwargs)\n"
     ]
    },
    {
     "name": "stdout",
     "output_type": "stream",
     "text": [
      "F1: 0.29955254675643395\n",
      "Presicion: 0.9361115894622308\n",
      "Recall: 0.17830472887069493\n",
      "IoU: 0.2351687469242114\n"
     ]
    },
    {
     "name": "stderr",
     "output_type": "stream",
     "text": [
      "INFO: Created TensorFlow Lite XNNPACK delegate for CPU.\n",
      "Segmentation fault\n",
      "/home/ohm/PycharmProjects/FiFi/venv/lib/python3.8/site-packages/shapely/set_operations.py:426: RuntimeWarning: divide by zero encountered in unary_union\n",
      "  return lib.unary_union(collections, **kwargs)\n"
     ]
    },
    {
     "name": "stdout",
     "output_type": "stream",
     "text": [
      "F1: 0.08904158516053173\n",
      "Presicion: 0.9528132492669349\n",
      "Recall: 0.04670302029490031\n",
      "IoU: 0.05793207074615064\n"
     ]
    },
    {
     "name": "stderr",
     "output_type": "stream",
     "text": [
      "INFO: Created TensorFlow Lite XNNPACK delegate for CPU.\n",
      "Error connect socket: : Connection refused\n",
      "Error: bind to port 40588 on 127.0.0.1 failed in file ../../sockethelper/sockethelper.cpp line 51. Exiting.\n",
      "Segmentation fault\n",
      "/home/ohm/PycharmProjects/FiFi/venv/lib/python3.8/site-packages/shapely/set_operations.py:426: RuntimeWarning: divide by zero encountered in unary_union\n",
      "  return lib.unary_union(collections, **kwargs)\n"
     ]
    },
    {
     "name": "stdout",
     "output_type": "stream",
     "text": [
      "F1: 0.08904158516053173\n",
      "Presicion: 0.9528132492669349\n",
      "Recall: 0.04670302029490031\n",
      "IoU: 0.05793207074615064\n"
     ]
    },
    {
     "name": "stderr",
     "output_type": "stream",
     "text": [
      "INFO: Created TensorFlow Lite XNNPACK delegate for CPU.\n",
      "Error connect socket: : Connection refused\n",
      "Error: bind to port 40588 on 127.0.0.1 failed in file ../../sockethelper/sockethelper.cpp line 51. Exiting.\n",
      "Error connect socket: : Connection refused\n",
      "Error: bind to port 40588 on 127.0.0.1 failed in file ../../sockethelper/sockethelper.cpp line 51. Exiting.\n",
      "Error connect socket: : Connection refused\n",
      "Error: bind to port 40588 on 127.0.0.1 failed in file ../../sockethelper/sockethelper.cpp line 51. Exiting.\n",
      "Error connect socket: : Connection refused\n",
      "Error: bind to port 40588 on 127.0.0.1 failed in file ../../sockethelper/sockethelper.cpp line 51. Exiting.\n",
      "/home/ohm/PycharmProjects/FiFi/venv/lib/python3.8/site-packages/shapely/set_operations.py:426: RuntimeWarning: divide by zero encountered in unary_union\n",
      "  return lib.unary_union(collections, **kwargs)\n"
     ]
    },
    {
     "name": "stdout",
     "output_type": "stream",
     "text": [
      "F1: 0.09247702190327037\n",
      "Presicion: 0.9546502695069369\n",
      "Recall: 0.04859206909846572\n",
      "IoU: 0.06014365845786101\n"
     ]
    },
    {
     "name": "stderr",
     "output_type": "stream",
     "text": [
      "INFO: Created TensorFlow Lite XNNPACK delegate for CPU.\n",
      "Error connect socket: : Connection refused\n",
      "Error: bind to port 40588 on 127.0.0.1 failed in file ../../sockethelper/sockethelper.cpp line 51. Exiting.\n",
      "Segmentation fault\n",
      "/home/ohm/PycharmProjects/FiFi/venv/lib/python3.8/site-packages/shapely/set_operations.py:426: RuntimeWarning: divide by zero encountered in unary_union\n",
      "  return lib.unary_union(collections, **kwargs)\n"
     ]
    },
    {
     "name": "stdout",
     "output_type": "stream",
     "text": [
      "F1: 0.08904158516053173\n",
      "Presicion: 0.9528132492669349\n",
      "Recall: 0.04670302029490031\n",
      "IoU: 0.05793207074615064\n"
     ]
    },
    {
     "name": "stderr",
     "output_type": "stream",
     "text": [
      "INFO: Created TensorFlow Lite XNNPACK delegate for CPU.\n",
      "Error connect socket: : Connection refused\n",
      "Error: bind to port 40588 on 127.0.0.1 failed in file ../../sockethelper/sockethelper.cpp line 51. Exiting.\n",
      "Error connect socket: : Connection refused\n",
      "Error: bind to port 40588 on 127.0.0.1 failed in file ../../sockethelper/sockethelper.cpp line 51. Exiting.\n",
      "Error connect socket: : Connection refused\n",
      "Error: bind to port 40588 on 127.0.0.1 failed in file ../../sockethelper/sockethelper.cpp line 51. Exiting.\n",
      "Error connect socket: : Connection refused\n",
      "Error: bind to port 40588 on 127.0.0.1 failed in file ../../sockethelper/sockethelper.cpp line 51. Exiting.\n",
      "/home/ohm/PycharmProjects/FiFi/venv/lib/python3.8/site-packages/shapely/set_operations.py:426: RuntimeWarning: divide by zero encountered in unary_union\n",
      "  return lib.unary_union(collections, **kwargs)\n",
      "/home/ohm/PycharmProjects/FiFi/venv/lib/python3.8/site-packages/shapely/set_operations.py:133: RuntimeWarning: invalid value encountered in intersection\n",
      "  return lib.intersection(a, b, **kwargs)\n"
     ]
    },
    {
     "name": "stdout",
     "output_type": "stream",
     "text": [
      "F1: 0.3154075638025261\n",
      "Presicion: 0.9407758523378605\n",
      "Recall: 0.18946392731430878\n",
      "IoU: 0.24132587030891692\n"
     ]
    },
    {
     "name": "stderr",
     "output_type": "stream",
     "text": [
      "INFO: Created TensorFlow Lite XNNPACK delegate for CPU.\n",
      "Error connect socket: : Connection refused\n",
      "Error: bind to port 40588 on 127.0.0.1 failed in file ../../sockethelper/sockethelper.cpp line 51. Exiting.\n",
      "Segmentation fault\n",
      "/home/ohm/PycharmProjects/FiFi/venv/lib/python3.8/site-packages/shapely/set_operations.py:426: RuntimeWarning: divide by zero encountered in unary_union\n",
      "  return lib.unary_union(collections, **kwargs)\n"
     ]
    },
    {
     "name": "stdout",
     "output_type": "stream",
     "text": [
      "F1: 0.08904158516053173\n",
      "Presicion: 0.9528132492669349\n",
      "Recall: 0.04670302029490031\n",
      "IoU: 0.05793207074615064\n"
     ]
    },
    {
     "name": "stderr",
     "output_type": "stream",
     "text": [
      "INFO: Created TensorFlow Lite XNNPACK delegate for CPU.\n",
      "Error connect socket: : Connection refused\n",
      "Error: bind to port 40588 on 127.0.0.1 failed in file ../../sockethelper/sockethelper.cpp line 51. Exiting.\n",
      "Error connect socket: : Connection refused\n",
      "Error: bind to port 40588 on 127.0.0.1 failed in file ../../sockethelper/sockethelper.cpp line 51. Exiting.\n",
      "Error connect socket: : Connection refused\n",
      "Error: bind to port 40588 on 127.0.0.1 failed in file ../../sockethelper/sockethelper.cpp line 51. Exiting.\n",
      "Error connect socket: : Connection refused\n",
      "Error: bind to port 40588 on 127.0.0.1 failed in file ../../sockethelper/sockethelper.cpp line 51. Exiting.\n",
      "/home/ohm/PycharmProjects/FiFi/venv/lib/python3.8/site-packages/shapely/set_operations.py:426: RuntimeWarning: divide by zero encountered in unary_union\n",
      "  return lib.unary_union(collections, **kwargs)\n",
      "/home/ohm/PycharmProjects/FiFi/venv/lib/python3.8/site-packages/shapely/set_operations.py:133: RuntimeWarning: invalid value encountered in intersection\n",
      "  return lib.intersection(a, b, **kwargs)\n"
     ]
    },
    {
     "name": "stdout",
     "output_type": "stream",
     "text": [
      "F1: 0.235679582656277\n",
      "Presicion: 0.9632379749618539\n",
      "Recall: 0.13426544339255753\n",
      "IoU: 0.16184674874739832\n"
     ]
    },
    {
     "name": "stderr",
     "output_type": "stream",
     "text": [
      "INFO: Created TensorFlow Lite XNNPACK delegate for CPU.\n",
      "Error connect socket: : Connection refused\n",
      "Error: bind to port 40588 on 127.0.0.1 failed in file ../../sockethelper/sockethelper.cpp line 51. Exiting.\n",
      "Error connect socket: : Connection refused\n",
      "Error: bind to port 40588 on 127.0.0.1 failed in file ../../sockethelper/sockethelper.cpp line 51. Exiting.\n",
      "Error connect socket: : Connection refused\n",
      "Error: bind to port 40588 on 127.0.0.1 failed in file ../../sockethelper/sockethelper.cpp line 51. Exiting.\n",
      "Error connect socket: : Connection refused\n",
      "Error: bind to port 40588 on 127.0.0.1 failed in file ../../sockethelper/sockethelper.cpp line 51. Exiting.\n",
      "/home/ohm/PycharmProjects/FiFi/venv/lib/python3.8/site-packages/shapely/set_operations.py:426: RuntimeWarning: divide by zero encountered in unary_union\n",
      "  return lib.unary_union(collections, **kwargs)\n",
      "/home/ohm/PycharmProjects/FiFi/venv/lib/python3.8/site-packages/shapely/set_operations.py:133: RuntimeWarning: invalid value encountered in intersection\n",
      "  return lib.intersection(a, b, **kwargs)\n"
     ]
    },
    {
     "name": "stdout",
     "output_type": "stream",
     "text": [
      "F1: 0.3047291655583092\n",
      "Presicion: 0.9297245237441234\n",
      "Recall: 0.18222843974179684\n",
      "IoU: 0.22265140213151732\n"
     ]
    },
    {
     "name": "stderr",
     "output_type": "stream",
     "text": [
      "INFO: Created TensorFlow Lite XNNPACK delegate for CPU.\n",
      "Error connect socket: : Connection refused\n",
      "Error: bind to port 40588 on 127.0.0.1 failed in file ../../sockethelper/sockethelper.cpp line 51. Exiting.\n",
      "Error connect socket: : Connection refused\n",
      "Error: bind to port 40588 on 127.0.0.1 failed in file ../../sockethelper/sockethelper.cpp line 51. Exiting.\n",
      "Error connect socket: : Connection refused\n",
      "Error: bind to port 40588 on 127.0.0.1 failed in file ../../sockethelper/sockethelper.cpp line 51. Exiting.\n",
      "Error connect socket: : Connection refused\n",
      "Error: bind to port 40588 on 127.0.0.1 failed in file ../../sockethelper/sockethelper.cpp line 51. Exiting.\n",
      "/home/ohm/PycharmProjects/FiFi/venv/lib/python3.8/site-packages/shapely/set_operations.py:426: RuntimeWarning: divide by zero encountered in unary_union\n",
      "  return lib.unary_union(collections, **kwargs)\n",
      "/home/ohm/PycharmProjects/FiFi/venv/lib/python3.8/site-packages/shapely/set_operations.py:133: RuntimeWarning: invalid value encountered in intersection\n",
      "  return lib.intersection(a, b, **kwargs)\n"
     ]
    },
    {
     "name": "stdout",
     "output_type": "stream",
     "text": [
      "F1: 0.30017146293345626\n",
      "Presicion: 0.9206054530578769\n",
      "Recall: 0.1793201899221022\n",
      "IoU: 0.21528983320185854\n"
     ]
    },
    {
     "name": "stderr",
     "output_type": "stream",
     "text": [
      "INFO: Created TensorFlow Lite XNNPACK delegate for CPU.\n",
      "Error connect socket: : Connection refused\n",
      "Error: bind to port 40588 on 127.0.0.1 failed in file ../../sockethelper/sockethelper.cpp line 51. Exiting.\n",
      "Error connect socket: : Connection refused\n",
      "Error: bind to port 40588 on 127.0.0.1 failed in file ../../sockethelper/sockethelper.cpp line 51. Exiting.\n",
      "Error connect socket: : Connection refused\n",
      "Error: bind to port 40588 on 127.0.0.1 failed in file ../../sockethelper/sockethelper.cpp line 51. Exiting.\n",
      "Error connect socket: : Connection refused\n",
      "Error: bind to port 40588 on 127.0.0.1 failed in file ../../sockethelper/sockethelper.cpp line 51. Exiting.\n",
      "/home/ohm/PycharmProjects/FiFi/venv/lib/python3.8/site-packages/shapely/set_operations.py:426: RuntimeWarning: divide by zero encountered in unary_union\n",
      "  return lib.unary_union(collections, **kwargs)\n"
     ]
    },
    {
     "name": "stdout",
     "output_type": "stream",
     "text": [
      "F1: 0.30746350282262475\n",
      "Presicion: 0.943480195561687\n",
      "Recall: 0.18365704163130744\n",
      "IoU: 0.230329841030067\n"
     ]
    },
    {
     "name": "stderr",
     "output_type": "stream",
     "text": [
      "INFO: Created TensorFlow Lite XNNPACK delegate for CPU.\n",
      "Error connect socket: : Connection refused\n",
      "Error: bind to port 40588 on 127.0.0.1 failed in file ../../sockethelper/sockethelper.cpp line 51. Exiting.\n",
      "Error connect socket: : Connection refused\n",
      "Error: bind to port 40588 on 127.0.0.1 failed in file ../../sockethelper/sockethelper.cpp line 51. Exiting.\n",
      "Error connect socket: : Connection refused\n",
      "Error: bind to port 40588 on 127.0.0.1 failed in file ../../sockethelper/sockethelper.cpp line 51. Exiting.\n",
      "Error connect socket: : Connection refused\n",
      "Error: bind to port 40588 on 127.0.0.1 failed in file ../../sockethelper/sockethelper.cpp line 51. Exiting.\n",
      "/home/ohm/PycharmProjects/FiFi/venv/lib/python3.8/site-packages/shapely/set_operations.py:426: RuntimeWarning: divide by zero encountered in unary_union\n",
      "  return lib.unary_union(collections, **kwargs)\n"
     ]
    },
    {
     "name": "stdout",
     "output_type": "stream",
     "text": [
      "F1: 0.2736009296115327\n",
      "Presicion: 0.9256875798023253\n",
      "Recall: 0.1605229554071692\n",
      "IoU: 0.20379648255243607\n"
     ]
    },
    {
     "name": "stderr",
     "output_type": "stream",
     "text": [
      "INFO: Created TensorFlow Lite XNNPACK delegate for CPU.\n",
      "Error connect socket: : Connection refused\n",
      "Error: bind to port 40588 on 127.0.0.1 failed in file ../../sockethelper/sockethelper.cpp line 51. Exiting.\n",
      "Error connect socket: : Connection refused\n",
      "Error: bind to port 40588 on 127.0.0.1 failed in file ../../sockethelper/sockethelper.cpp line 51. Exiting.\n",
      "Error connect socket: : Connection refused\n",
      "Error: bind to port 40588 on 127.0.0.1 failed in file ../../sockethelper/sockethelper.cpp line 51. Exiting.\n",
      "Error connect socket: : Connection refused\n",
      "Error: bind to port 40588 on 127.0.0.1 failed in file ../../sockethelper/sockethelper.cpp line 51. Exiting.\n",
      "/home/ohm/PycharmProjects/FiFi/venv/lib/python3.8/site-packages/shapely/set_operations.py:426: RuntimeWarning: divide by zero encountered in unary_union\n",
      "  return lib.unary_union(collections, **kwargs)\n"
     ]
    },
    {
     "name": "stdout",
     "output_type": "stream",
     "text": [
      "F1: 0.08904158516053173\n",
      "Presicion: 0.9528132492669349\n",
      "Recall: 0.04670302029490031\n",
      "IoU: 0.05793207074615064\n"
     ]
    },
    {
     "name": "stderr",
     "output_type": "stream",
     "text": [
      "INFO: Created TensorFlow Lite XNNPACK delegate for CPU.\n",
      "Segmentation fault\n",
      "/home/ohm/PycharmProjects/FiFi/venv/lib/python3.8/site-packages/shapely/set_operations.py:426: RuntimeWarning: divide by zero encountered in unary_union\n",
      "  return lib.unary_union(collections, **kwargs)\n"
     ]
    },
    {
     "name": "stdout",
     "output_type": "stream",
     "text": [
      "F1: 0.08904158516053173\n",
      "Presicion: 0.9528132492669349\n",
      "Recall: 0.04670302029490031\n",
      "IoU: 0.05793207074615064\n"
     ]
    },
    {
     "name": "stderr",
     "output_type": "stream",
     "text": [
      "INFO: Created TensorFlow Lite XNNPACK delegate for CPU.\n",
      "Error connect socket: : Connection refused\n",
      "Error: bind to port 40588 on 127.0.0.1 failed in file ../../sockethelper/sockethelper.cpp line 51. Exiting.\n",
      "Segmentation fault\n",
      "/home/ohm/PycharmProjects/FiFi/venv/lib/python3.8/site-packages/shapely/set_operations.py:426: RuntimeWarning: divide by zero encountered in unary_union\n",
      "  return lib.unary_union(collections, **kwargs)\n"
     ]
    },
    {
     "name": "stdout",
     "output_type": "stream",
     "text": [
      "F1: 0.08904158516053173\n",
      "Presicion: 0.9528132492669349\n",
      "Recall: 0.04670302029490031\n",
      "IoU: 0.05793207074615064\n"
     ]
    },
    {
     "name": "stderr",
     "output_type": "stream",
     "text": [
      "INFO: Created TensorFlow Lite XNNPACK delegate for CPU.\n",
      "Error connect socket: : Connection refused\n",
      "Error: bind to port 40588 on 127.0.0.1 failed in file ../../sockethelper/sockethelper.cpp line 51. Exiting.\n",
      "Error connect socket: : Connection refused\n",
      "Error: bind to port 40588 on 127.0.0.1 failed in file ../../sockethelper/sockethelper.cpp line 51. Exiting.\n",
      "Error connect socket: : Connection refused\n",
      "Error: bind to port 40588 on 127.0.0.1 failed in file ../../sockethelper/sockethelper.cpp line 51. Exiting.\n",
      "Error connect socket: : Connection refused\n",
      "Error: bind to port 40588 on 127.0.0.1 failed in file ../../sockethelper/sockethelper.cpp line 51. Exiting.\n",
      "/home/ohm/PycharmProjects/FiFi/venv/lib/python3.8/site-packages/shapely/set_operations.py:426: RuntimeWarning: divide by zero encountered in unary_union\n",
      "  return lib.unary_union(collections, **kwargs)\n",
      "/home/ohm/PycharmProjects/FiFi/venv/lib/python3.8/site-packages/shapely/set_operations.py:133: RuntimeWarning: invalid value encountered in intersection\n",
      "  return lib.intersection(a, b, **kwargs)\n"
     ]
    },
    {
     "name": "stdout",
     "output_type": "stream",
     "text": [
      "F1: 0.2834956540442664\n",
      "Presicion: 0.9143499873157582\n",
      "Recall: 0.1677540272350093\n",
      "IoU: 0.22159748378955385\n"
     ]
    },
    {
     "name": "stderr",
     "output_type": "stream",
     "text": [
      "INFO: Created TensorFlow Lite XNNPACK delegate for CPU.\n",
      "Error connect socket: : Connection refused\n",
      "Error: bind to port 40588 on 127.0.0.1 failed in file ../../sockethelper/sockethelper.cpp line 51. Exiting.\n",
      "Error connect socket: : Connection refused\n",
      "Error: bind to port 40588 on 127.0.0.1 failed in file ../../sockethelper/sockethelper.cpp line 51. Exiting.\n",
      "Error connect socket: : Connection refused\n",
      "Error: bind to port 40588 on 127.0.0.1 failed in file ../../sockethelper/sockethelper.cpp line 51. Exiting.\n",
      "Error connect socket: : Connection refused\n",
      "Error: bind to port 40588 on 127.0.0.1 failed in file ../../sockethelper/sockethelper.cpp line 51. Exiting.\n",
      "/home/ohm/PycharmProjects/FiFi/venv/lib/python3.8/site-packages/shapely/set_operations.py:426: RuntimeWarning: divide by zero encountered in unary_union\n",
      "  return lib.unary_union(collections, **kwargs)\n",
      "/home/ohm/PycharmProjects/FiFi/venv/lib/python3.8/site-packages/shapely/set_operations.py:133: RuntimeWarning: invalid value encountered in intersection\n",
      "  return lib.intersection(a, b, **kwargs)\n"
     ]
    },
    {
     "name": "stdout",
     "output_type": "stream",
     "text": [
      "F1: 0.24941819215428468\n",
      "Presicion: 0.9351757356639571\n",
      "Recall: 0.1438984838751481\n",
      "IoU: 0.16556471190003877\n"
     ]
    },
    {
     "name": "stderr",
     "output_type": "stream",
     "text": [
      "INFO: Created TensorFlow Lite XNNPACK delegate for CPU.\n",
      "Segmentation fault\n",
      "/home/ohm/PycharmProjects/FiFi/venv/lib/python3.8/site-packages/shapely/set_operations.py:426: RuntimeWarning: divide by zero encountered in unary_union\n",
      "  return lib.unary_union(collections, **kwargs)\n"
     ]
    },
    {
     "name": "stdout",
     "output_type": "stream",
     "text": [
      "F1: 0.08904158516053173\n",
      "Presicion: 0.9528132492669349\n",
      "Recall: 0.04670302029490031\n",
      "IoU: 0.05793207074615064\n"
     ]
    },
    {
     "name": "stderr",
     "output_type": "stream",
     "text": [
      "INFO: Created TensorFlow Lite XNNPACK delegate for CPU.\n",
      "Error connect socket: : Connection refused\n",
      "Error: bind to port 40588 on 127.0.0.1 failed in file ../../sockethelper/sockethelper.cpp line 51. Exiting.\n",
      "Error connect socket: : Connection refused\n",
      "Error: bind to port 40588 on 127.0.0.1 failed in file ../../sockethelper/sockethelper.cpp line 51. Exiting.\n",
      "Error connect socket: : Connection refused\n",
      "Error: bind to port 40588 on 127.0.0.1 failed in file ../../sockethelper/sockethelper.cpp line 51. Exiting.\n",
      "Error connect socket: : Connection refused\n",
      "Error: bind to port 40588 on 127.0.0.1 failed in file ../../sockethelper/sockethelper.cpp line 51. Exiting.\n",
      "/home/ohm/PycharmProjects/FiFi/venv/lib/python3.8/site-packages/shapely/set_operations.py:426: RuntimeWarning: divide by zero encountered in unary_union\n",
      "  return lib.unary_union(collections, **kwargs)\n",
      "/home/ohm/PycharmProjects/FiFi/venv/lib/python3.8/site-packages/shapely/set_operations.py:133: RuntimeWarning: invalid value encountered in intersection\n",
      "  return lib.intersection(a, b, **kwargs)\n"
     ]
    },
    {
     "name": "stdout",
     "output_type": "stream",
     "text": [
      "F1: 0.28250534267893224\n",
      "Presicion: 0.9250515192418669\n",
      "Recall: 0.1667085867365499\n",
      "IoU: 0.21331903269656782\n"
     ]
    },
    {
     "name": "stderr",
     "output_type": "stream",
     "text": [
      "INFO: Created TensorFlow Lite XNNPACK delegate for CPU.\n",
      "Error connect socket: : Connection refused\n",
      "Error: bind to port 40588 on 127.0.0.1 failed in file ../../sockethelper/sockethelper.cpp line 51. Exiting.\n",
      "Error connect socket: : Connection refused\n",
      "Error: bind to port 40588 on 127.0.0.1 failed in file ../../sockethelper/sockethelper.cpp line 51. Exiting.\n",
      "Error connect socket: : Connection refused\n",
      "Error: bind to port 40588 on 127.0.0.1 failed in file ../../sockethelper/sockethelper.cpp line 51. Exiting.\n",
      "Error connect socket: : Connection refused\n",
      "Error: bind to port 40588 on 127.0.0.1 failed in file ../../sockethelper/sockethelper.cpp line 51. Exiting.\n",
      "/home/ohm/PycharmProjects/FiFi/venv/lib/python3.8/site-packages/shapely/set_operations.py:426: RuntimeWarning: divide by zero encountered in unary_union\n",
      "  return lib.unary_union(collections, **kwargs)\n",
      "/home/ohm/PycharmProjects/FiFi/venv/lib/python3.8/site-packages/shapely/set_operations.py:133: RuntimeWarning: invalid value encountered in intersection\n",
      "  return lib.intersection(a, b, **kwargs)\n"
     ]
    },
    {
     "name": "stdout",
     "output_type": "stream",
     "text": [
      "F1: 0.2831937437506537\n",
      "Presicion: 0.9248782863011121\n",
      "Recall: 0.16719389710230215\n",
      "IoU: 0.2162199032660696\n"
     ]
    },
    {
     "name": "stderr",
     "output_type": "stream",
     "text": [
      "INFO: Created TensorFlow Lite XNNPACK delegate for CPU.\n",
      "Error connect socket: : Connection refused\n",
      "Error: bind to port 40588 on 127.0.0.1 failed in file ../../sockethelper/sockethelper.cpp line 51. Exiting.\n",
      "Segmentation fault\n",
      "/home/ohm/PycharmProjects/FiFi/venv/lib/python3.8/site-packages/shapely/set_operations.py:426: RuntimeWarning: divide by zero encountered in unary_union\n",
      "  return lib.unary_union(collections, **kwargs)\n"
     ]
    },
    {
     "name": "stdout",
     "output_type": "stream",
     "text": [
      "F1: 0.08904158516053173\n",
      "Presicion: 0.9528132492669349\n",
      "Recall: 0.04670302029490031\n",
      "IoU: 0.05793207074615064\n"
     ]
    },
    {
     "name": "stderr",
     "output_type": "stream",
     "text": [
      "INFO: Created TensorFlow Lite XNNPACK delegate for CPU.\n",
      "Segmentation fault\n",
      "/home/ohm/PycharmProjects/FiFi/venv/lib/python3.8/site-packages/shapely/set_operations.py:426: RuntimeWarning: divide by zero encountered in unary_union\n",
      "  return lib.unary_union(collections, **kwargs)\n"
     ]
    },
    {
     "name": "stdout",
     "output_type": "stream",
     "text": [
      "F1: 0.08904158516053173\n",
      "Presicion: 0.9528132492669349\n",
      "Recall: 0.04670302029490031\n",
      "IoU: 0.05793207074615064\n"
     ]
    },
    {
     "name": "stderr",
     "output_type": "stream",
     "text": [
      "INFO: Created TensorFlow Lite XNNPACK delegate for CPU.\n",
      "Error connect socket: : Connection refused\n",
      "Error: bind to port 40588 on 127.0.0.1 failed in file ../../sockethelper/sockethelper.cpp line 51. Exiting.\n",
      "Error connect socket: : Connection refused\n",
      "Error: bind to port 40588 on 127.0.0.1 failed in file ../../sockethelper/sockethelper.cpp line 51. Exiting.\n",
      "Error connect socket: : Connection refused\n",
      "Error: bind to port 40588 on 127.0.0.1 failed in file ../../sockethelper/sockethelper.cpp line 51. Exiting.\n",
      "Error connect socket: : Connection refused\n",
      "Error: bind to port 40588 on 127.0.0.1 failed in file ../../sockethelper/sockethelper.cpp line 51. Exiting.\n",
      "/home/ohm/PycharmProjects/FiFi/venv/lib/python3.8/site-packages/shapely/set_operations.py:426: RuntimeWarning: divide by zero encountered in unary_union\n",
      "  return lib.unary_union(collections, **kwargs)\n",
      "/home/ohm/PycharmProjects/FiFi/venv/lib/python3.8/site-packages/shapely/set_operations.py:133: RuntimeWarning: invalid value encountered in intersection\n",
      "  return lib.intersection(a, b, **kwargs)\n"
     ]
    },
    {
     "name": "stdout",
     "output_type": "stream",
     "text": [
      "F1: 0.26474620826658873\n",
      "Presicion: 0.9451085710472531\n",
      "Recall: 0.153933180457291\n",
      "IoU: 0.19026401982959512\n"
     ]
    },
    {
     "name": "stderr",
     "output_type": "stream",
     "text": [
      "INFO: Created TensorFlow Lite XNNPACK delegate for CPU.\n",
      "Error connect socket: : Connection refused\n",
      "Error: bind to port 40588 on 127.0.0.1 failed in file ../../sockethelper/sockethelper.cpp line 51. Exiting.\n",
      "Error connect socket: : Connection refused\n",
      "Error: bind to port 40588 on 127.0.0.1 failed in file ../../sockethelper/sockethelper.cpp line 51. Exiting.\n",
      "Error connect socket: : Connection refused\n",
      "Error: bind to port 40588 on 127.0.0.1 failed in file ../../sockethelper/sockethelper.cpp line 51. Exiting.\n",
      "Error connect socket: : Connection refused\n",
      "Error: bind to port 40588 on 127.0.0.1 failed in file ../../sockethelper/sockethelper.cpp line 51. Exiting.\n",
      "/home/ohm/PycharmProjects/FiFi/venv/lib/python3.8/site-packages/shapely/set_operations.py:426: RuntimeWarning: divide by zero encountered in unary_union\n",
      "  return lib.unary_union(collections, **kwargs)\n"
     ]
    },
    {
     "name": "stdout",
     "output_type": "stream",
     "text": [
      "F1: 0.14489470183824743\n",
      "Presicion: 0.9720500538457552\n",
      "Recall: 0.07828172495793397\n",
      "IoU: 0.0861056253676476\n"
     ]
    },
    {
     "name": "stderr",
     "output_type": "stream",
     "text": [
      "INFO: Created TensorFlow Lite XNNPACK delegate for CPU.\n",
      "Error connect socket: : Connection refused\n",
      "Error: bind to port 40588 on 127.0.0.1 failed in file ../../sockethelper/sockethelper.cpp line 51. Exiting.\n",
      "Error connect socket: : Connection refused\n",
      "Error: bind to port 40588 on 127.0.0.1 failed in file ../../sockethelper/sockethelper.cpp line 51. Exiting.\n",
      "Segmentation fault\n",
      "/home/ohm/PycharmProjects/FiFi/venv/lib/python3.8/site-packages/shapely/set_operations.py:426: RuntimeWarning: divide by zero encountered in unary_union\n",
      "  return lib.unary_union(collections, **kwargs)\n",
      "/home/ohm/PycharmProjects/FiFi/venv/lib/python3.8/site-packages/shapely/set_operations.py:133: RuntimeWarning: invalid value encountered in intersection\n",
      "  return lib.intersection(a, b, **kwargs)\n"
     ]
    },
    {
     "name": "stdout",
     "output_type": "stream",
     "text": [
      "F1: 0.10828849497308438\n",
      "Presicion: 0.9433626518411654\n",
      "Recall: 0.05744107481437019\n",
      "IoU: 0.070531567586919\n"
     ]
    },
    {
     "name": "stderr",
     "output_type": "stream",
     "text": [
      "INFO: Created TensorFlow Lite XNNPACK delegate for CPU.\n",
      "Error connect socket: : Connection refused\n",
      "Error: bind to port 40588 on 127.0.0.1 failed in file ../../sockethelper/sockethelper.cpp line 51. Exiting.\n",
      "Error connect socket: : Connection refused\n",
      "Error: bind to port 40588 on 127.0.0.1 failed in file ../../sockethelper/sockethelper.cpp line 51. Exiting.\n",
      "Error connect socket: : Connection refused\n",
      "Error: bind to port 40588 on 127.0.0.1 failed in file ../../sockethelper/sockethelper.cpp line 51. Exiting.\n",
      "Error connect socket: : Connection refused\n",
      "Error: bind to port 40588 on 127.0.0.1 failed in file ../../sockethelper/sockethelper.cpp line 51. Exiting.\n",
      "/home/ohm/PycharmProjects/FiFi/venv/lib/python3.8/site-packages/shapely/set_operations.py:426: RuntimeWarning: divide by zero encountered in unary_union\n",
      "  return lib.unary_union(collections, **kwargs)\n",
      "/home/ohm/PycharmProjects/FiFi/venv/lib/python3.8/site-packages/shapely/set_operations.py:133: RuntimeWarning: invalid value encountered in intersection\n",
      "  return lib.intersection(a, b, **kwargs)\n"
     ]
    },
    {
     "name": "stdout",
     "output_type": "stream",
     "text": [
      "F1: 0.3193269230650889\n",
      "Presicion: 0.9323841842205465\n",
      "Recall: 0.19265393299275824\n",
      "IoU: 0.24701003125512525\n"
     ]
    },
    {
     "name": "stderr",
     "output_type": "stream",
     "text": [
      "INFO: Created TensorFlow Lite XNNPACK delegate for CPU.\n",
      "Error connect socket: : Connection refused\n",
      "Error: bind to port 40588 on 127.0.0.1 failed in file ../../sockethelper/sockethelper.cpp line 51. Exiting.\n",
      "Error connect socket: : Connection refused\n",
      "Error: bind to port 40588 on 127.0.0.1 failed in file ../../sockethelper/sockethelper.cpp line 51. Exiting.\n",
      "Error connect socket: : Connection refused\n",
      "Error: bind to port 40588 on 127.0.0.1 failed in file ../../sockethelper/sockethelper.cpp line 51. Exiting.\n",
      "Error connect socket: : Connection refused\n",
      "Error: bind to port 40588 on 127.0.0.1 failed in file ../../sockethelper/sockethelper.cpp line 51. Exiting.\n",
      "/home/ohm/PycharmProjects/FiFi/venv/lib/python3.8/site-packages/shapely/set_operations.py:426: RuntimeWarning: divide by zero encountered in unary_union\n",
      "  return lib.unary_union(collections, **kwargs)\n",
      "/home/ohm/PycharmProjects/FiFi/venv/lib/python3.8/site-packages/shapely/set_operations.py:133: RuntimeWarning: invalid value encountered in intersection\n",
      "  return lib.intersection(a, b, **kwargs)\n"
     ]
    },
    {
     "name": "stdout",
     "output_type": "stream",
     "text": [
      "F1: 0.19388113163775614\n",
      "Presicion: 0.925239137612787\n",
      "Recall: 0.10828608013134562\n",
      "IoU: 0.14753380757798187\n"
     ]
    },
    {
     "name": "stderr",
     "output_type": "stream",
     "text": [
      "INFO: Created TensorFlow Lite XNNPACK delegate for CPU.\n",
      "Error connect socket: : Connection refused\n",
      "Error: bind to port 40588 on 127.0.0.1 failed in file ../../sockethelper/sockethelper.cpp line 51. Exiting.\n",
      "Error connect socket: : Connection refused\n",
      "Error: bind to port 40588 on 127.0.0.1 failed in file ../../sockethelper/sockethelper.cpp line 51. Exiting.\n",
      "Error connect socket: : Connection refused\n",
      "Error: bind to port 40588 on 127.0.0.1 failed in file ../../sockethelper/sockethelper.cpp line 51. Exiting.\n",
      "Error connect socket: : Connection refused\n",
      "Error: bind to port 40588 on 127.0.0.1 failed in file ../../sockethelper/sockethelper.cpp line 51. Exiting.\n",
      "/home/ohm/PycharmProjects/FiFi/venv/lib/python3.8/site-packages/shapely/set_operations.py:426: RuntimeWarning: divide by zero encountered in unary_union\n",
      "  return lib.unary_union(collections, **kwargs)\n",
      "/home/ohm/PycharmProjects/FiFi/venv/lib/python3.8/site-packages/shapely/set_operations.py:133: RuntimeWarning: invalid value encountered in intersection\n",
      "  return lib.intersection(a, b, **kwargs)\n"
     ]
    },
    {
     "name": "stdout",
     "output_type": "stream",
     "text": [
      "F1: 0.3018132112011149\n",
      "Presicion: 0.9284773540554675\n",
      "Recall: 0.18019372019319538\n",
      "IoU: 0.23524805544530153\n"
     ]
    },
    {
     "name": "stderr",
     "output_type": "stream",
     "text": [
      "INFO: Created TensorFlow Lite XNNPACK delegate for CPU.\n",
      "Error connect socket: : Connection refused\n",
      "Error: bind to port 40588 on 127.0.0.1 failed in file ../../sockethelper/sockethelper.cpp line 51. Exiting.\n",
      "Error connect socket: : Connection refused\n",
      "Error: bind to port 40588 on 127.0.0.1 failed in file ../../sockethelper/sockethelper.cpp line 51. Exiting.\n",
      "Segmentation fault\n",
      "/home/ohm/PycharmProjects/FiFi/venv/lib/python3.8/site-packages/shapely/set_operations.py:426: RuntimeWarning: divide by zero encountered in unary_union\n",
      "  return lib.unary_union(collections, **kwargs)\n"
     ]
    },
    {
     "name": "stdout",
     "output_type": "stream",
     "text": [
      "F1: 0.2412680698416309\n",
      "Presicion: 0.9584445797182551\n",
      "Recall: 0.13800379765732404\n",
      "IoU: 0.13637065527485412\n"
     ]
    },
    {
     "name": "stderr",
     "output_type": "stream",
     "text": [
      "INFO: Created TensorFlow Lite XNNPACK delegate for CPU.\n",
      "Error connect socket: : Connection refused\n",
      "Error: bind to port 40588 on 127.0.0.1 failed in file ../../sockethelper/sockethelper.cpp line 51. Exiting.\n",
      "Error connect socket: : Connection refused\n",
      "Error: bind to port 40588 on 127.0.0.1 failed in file ../../sockethelper/sockethelper.cpp line 51. Exiting.\n",
      "Error connect socket: : Connection refused\n",
      "Error: bind to port 40588 on 127.0.0.1 failed in file ../../sockethelper/sockethelper.cpp line 51. Exiting.\n",
      "Error connect socket: : Connection refused\n",
      "Error: bind to port 40588 on 127.0.0.1 failed in file ../../sockethelper/sockethelper.cpp line 51. Exiting.\n",
      "/home/ohm/PycharmProjects/FiFi/venv/lib/python3.8/site-packages/shapely/set_operations.py:426: RuntimeWarning: divide by zero encountered in unary_union\n",
      "  return lib.unary_union(collections, **kwargs)\n"
     ]
    },
    {
     "name": "stdout",
     "output_type": "stream",
     "text": [
      "F1: 0.08904158516053173\n",
      "Presicion: 0.9528132492669349\n",
      "Recall: 0.04670302029490031\n",
      "IoU: 0.05793207074615064\n"
     ]
    },
    {
     "name": "stderr",
     "output_type": "stream",
     "text": [
      "INFO: Created TensorFlow Lite XNNPACK delegate for CPU.\n",
      "Error connect socket: : Connection refused\n",
      "Error: bind to port 40588 on 127.0.0.1 failed in file ../../sockethelper/sockethelper.cpp line 51. Exiting.\n",
      "Segmentation fault\n",
      "/home/ohm/PycharmProjects/FiFi/venv/lib/python3.8/site-packages/shapely/set_operations.py:426: RuntimeWarning: divide by zero encountered in unary_union\n",
      "  return lib.unary_union(collections, **kwargs)\n"
     ]
    },
    {
     "name": "stdout",
     "output_type": "stream",
     "text": [
      "F1: 0.08904158516053173\n",
      "Presicion: 0.9528132492669349\n",
      "Recall: 0.04670302029490031\n",
      "IoU: 0.05793207074615064\n"
     ]
    },
    {
     "name": "stderr",
     "output_type": "stream",
     "text": [
      "INFO: Created TensorFlow Lite XNNPACK delegate for CPU.\n",
      "Error connect socket: : Connection refused\n",
      "Error: bind to port 40588 on 127.0.0.1 failed in file ../../sockethelper/sockethelper.cpp line 51. Exiting.\n",
      "Error connect socket: : Connection refused\n",
      "Error: bind to port 40588 on 127.0.0.1 failed in file ../../sockethelper/sockethelper.cpp line 51. Exiting.\n",
      "Error connect socket: : Connection refused\n",
      "Error: bind to port 40588 on 127.0.0.1 failed in file ../../sockethelper/sockethelper.cpp line 51. Exiting.\n",
      "Error connect socket: : Connection refused\n",
      "Error: bind to port 40588 on 127.0.0.1 failed in file ../../sockethelper/sockethelper.cpp line 51. Exiting.\n",
      "/home/ohm/PycharmProjects/FiFi/venv/lib/python3.8/site-packages/shapely/set_operations.py:426: RuntimeWarning: divide by zero encountered in unary_union\n",
      "  return lib.unary_union(collections, **kwargs)\n",
      "/home/ohm/PycharmProjects/FiFi/venv/lib/python3.8/site-packages/shapely/set_operations.py:133: RuntimeWarning: invalid value encountered in intersection\n",
      "  return lib.intersection(a, b, **kwargs)\n"
     ]
    },
    {
     "name": "stdout",
     "output_type": "stream",
     "text": [
      "F1: 0.31718069653671194\n",
      "Presicion: 0.9348202782395768\n",
      "Recall: 0.19099169945667066\n",
      "IoU: 0.2440382158052721\n"
     ]
    },
    {
     "name": "stderr",
     "output_type": "stream",
     "text": [
      "INFO: Created TensorFlow Lite XNNPACK delegate for CPU.\n",
      "Error connect socket: : Connection refused\n",
      "Error: bind to port 40588 on 127.0.0.1 failed in file ../../sockethelper/sockethelper.cpp line 51. Exiting.\n",
      "Error connect socket: : Connection refused\n",
      "Error: bind to port 40588 on 127.0.0.1 failed in file ../../sockethelper/sockethelper.cpp line 51. Exiting.\n",
      "Error connect socket: : Connection refused\n",
      "Error: bind to port 40588 on 127.0.0.1 failed in file ../../sockethelper/sockethelper.cpp line 51. Exiting.\n",
      "Error connect socket: : Connection refused\n",
      "Error: bind to port 40588 on 127.0.0.1 failed in file ../../sockethelper/sockethelper.cpp line 51. Exiting.\n",
      "/home/ohm/PycharmProjects/FiFi/venv/lib/python3.8/site-packages/shapely/set_operations.py:426: RuntimeWarning: divide by zero encountered in unary_union\n",
      "  return lib.unary_union(collections, **kwargs)\n",
      "/home/ohm/PycharmProjects/FiFi/venv/lib/python3.8/site-packages/shapely/set_operations.py:133: RuntimeWarning: invalid value encountered in intersection\n",
      "  return lib.intersection(a, b, **kwargs)\n"
     ]
    },
    {
     "name": "stdout",
     "output_type": "stream",
     "text": [
      "F1: 0.30342606730724714\n",
      "Presicion: 0.9256608390950051\n",
      "Recall: 0.1814525644314892\n",
      "IoU: 0.22793295707166245\n"
     ]
    },
    {
     "name": "stderr",
     "output_type": "stream",
     "text": [
      "INFO: Created TensorFlow Lite XNNPACK delegate for CPU.\n",
      "Segmentation fault\n",
      "/home/ohm/PycharmProjects/FiFi/venv/lib/python3.8/site-packages/shapely/set_operations.py:426: RuntimeWarning: divide by zero encountered in unary_union\n",
      "  return lib.unary_union(collections, **kwargs)\n"
     ]
    },
    {
     "name": "stdout",
     "output_type": "stream",
     "text": [
      "F1: 0.08904158516053173\n",
      "Presicion: 0.9528132492669349\n",
      "Recall: 0.04670302029490031\n",
      "IoU: 0.05793207074615064\n"
     ]
    },
    {
     "name": "stderr",
     "output_type": "stream",
     "text": [
      "INFO: Created TensorFlow Lite XNNPACK delegate for CPU.\n",
      "Error connect socket: : Connection refused\n",
      "Error: bind to port 40588 on 127.0.0.1 failed in file ../../sockethelper/sockethelper.cpp line 51. Exiting.\n",
      "Error connect socket: : Connection refused\n",
      "Error: bind to port 40588 on 127.0.0.1 failed in file ../../sockethelper/sockethelper.cpp line 51. Exiting.\n",
      "Error connect socket: : Connection refused\n",
      "Error: bind to port 40588 on 127.0.0.1 failed in file ../../sockethelper/sockethelper.cpp line 51. Exiting.\n",
      "Error connect socket: : Connection refused\n",
      "Error: bind to port 40588 on 127.0.0.1 failed in file ../../sockethelper/sockethelper.cpp line 51. Exiting.\n",
      "/home/ohm/PycharmProjects/FiFi/venv/lib/python3.8/site-packages/shapely/set_operations.py:426: RuntimeWarning: divide by zero encountered in unary_union\n",
      "  return lib.unary_union(collections, **kwargs)\n",
      "/home/ohm/PycharmProjects/FiFi/venv/lib/python3.8/site-packages/shapely/set_operations.py:133: RuntimeWarning: invalid value encountered in intersection\n",
      "  return lib.intersection(a, b, **kwargs)\n"
     ]
    },
    {
     "name": "stdout",
     "output_type": "stream",
     "text": [
      "F1: 0.11957120940616449\n",
      "Presicion: 0.7149268415050168\n",
      "Recall: 0.06524140313085518\n",
      "IoU: 0.08079817642543873\n"
     ]
    },
    {
     "name": "stderr",
     "output_type": "stream",
     "text": [
      "INFO: Created TensorFlow Lite XNNPACK delegate for CPU.\n",
      "Error connect socket: : Connection refused\n",
      "Error: bind to port 40588 on 127.0.0.1 failed in file ../../sockethelper/sockethelper.cpp line 51. Exiting.\n",
      "Segmentation fault\n",
      "/home/ohm/PycharmProjects/FiFi/venv/lib/python3.8/site-packages/shapely/set_operations.py:426: RuntimeWarning: divide by zero encountered in unary_union\n",
      "  return lib.unary_union(collections, **kwargs)\n"
     ]
    },
    {
     "name": "stdout",
     "output_type": "stream",
     "text": [
      "F1: 0.08904158516053173\n",
      "Presicion: 0.9528132492669349\n",
      "Recall: 0.04670302029490031\n",
      "IoU: 0.05793207074615064\n"
     ]
    },
    {
     "name": "stderr",
     "output_type": "stream",
     "text": [
      "INFO: Created TensorFlow Lite XNNPACK delegate for CPU.\n",
      "Error connect socket: : Connection refused\n",
      "Error: bind to port 40588 on 127.0.0.1 failed in file ../../sockethelper/sockethelper.cpp line 51. Exiting.\n",
      "Error connect socket: : Connection refused\n",
      "Error: bind to port 40588 on 127.0.0.1 failed in file ../../sockethelper/sockethelper.cpp line 51. Exiting.\n",
      "Error connect socket: : Connection refused\n",
      "Error: bind to port 40588 on 127.0.0.1 failed in file ../../sockethelper/sockethelper.cpp line 51. Exiting.\n",
      "Error connect socket: : Connection refused\n",
      "Error: bind to port 40588 on 127.0.0.1 failed in file ../../sockethelper/sockethelper.cpp line 51. Exiting.\n",
      "/home/ohm/PycharmProjects/FiFi/venv/lib/python3.8/site-packages/shapely/set_operations.py:426: RuntimeWarning: divide by zero encountered in unary_union\n",
      "  return lib.unary_union(collections, **kwargs)\n",
      "/home/ohm/PycharmProjects/FiFi/venv/lib/python3.8/site-packages/shapely/set_operations.py:133: RuntimeWarning: invalid value encountered in intersection\n",
      "  return lib.intersection(a, b, **kwargs)\n"
     ]
    },
    {
     "name": "stdout",
     "output_type": "stream",
     "text": [
      "F1: 0.09466705291469382\n",
      "Presicion: 0.5488448201198283\n",
      "Recall: 0.05180094873716539\n",
      "IoU: 0.054239795380355546\n"
     ]
    },
    {
     "name": "stderr",
     "output_type": "stream",
     "text": [
      "INFO: Created TensorFlow Lite XNNPACK delegate for CPU.\n",
      "Error connect socket: : Connection refused\n",
      "Error: bind to port 40588 on 127.0.0.1 failed in file ../../sockethelper/sockethelper.cpp line 51. Exiting.\n",
      "Error connect socket: : Connection refused\n",
      "Error: bind to port 40588 on 127.0.0.1 failed in file ../../sockethelper/sockethelper.cpp line 51. Exiting.\n",
      "Error connect socket: : Connection refused\n",
      "Error: bind to port 40588 on 127.0.0.1 failed in file ../../sockethelper/sockethelper.cpp line 51. Exiting.\n",
      "Error connect socket: : Connection refused\n",
      "Error: bind to port 40588 on 127.0.0.1 failed in file ../../sockethelper/sockethelper.cpp line 51. Exiting.\n",
      "/home/ohm/PycharmProjects/FiFi/venv/lib/python3.8/site-packages/shapely/set_operations.py:426: RuntimeWarning: divide by zero encountered in unary_union\n",
      "  return lib.unary_union(collections, **kwargs)\n",
      "/home/ohm/PycharmProjects/FiFi/venv/lib/python3.8/site-packages/shapely/set_operations.py:133: RuntimeWarning: invalid value encountered in intersection\n",
      "  return lib.intersection(a, b, **kwargs)\n"
     ]
    },
    {
     "name": "stdout",
     "output_type": "stream",
     "text": [
      "F1: 0.30734507543544826\n",
      "Presicion: 0.9187853186157363\n",
      "Recall: 0.18453759374369738\n",
      "IoU: 0.24230694211597797\n"
     ]
    },
    {
     "name": "stderr",
     "output_type": "stream",
     "text": [
      "INFO: Created TensorFlow Lite XNNPACK delegate for CPU.\n",
      "Error connect socket: : Connection refused\n",
      "Error: bind to port 40588 on 127.0.0.1 failed in file ../../sockethelper/sockethelper.cpp line 51. Exiting.\n",
      "Error connect socket: : Connection refused\n",
      "Error: bind to port 40588 on 127.0.0.1 failed in file ../../sockethelper/sockethelper.cpp line 51. Exiting.\n",
      "Error connect socket: : Connection refused\n",
      "Error: bind to port 40588 on 127.0.0.1 failed in file ../../sockethelper/sockethelper.cpp line 51. Exiting.\n",
      "Error connect socket: : Connection refused\n",
      "Error: bind to port 40588 on 127.0.0.1 failed in file ../../sockethelper/sockethelper.cpp line 51. Exiting.\n",
      "/home/ohm/PycharmProjects/FiFi/venv/lib/python3.8/site-packages/shapely/set_operations.py:426: RuntimeWarning: divide by zero encountered in unary_union\n",
      "  return lib.unary_union(collections, **kwargs)\n",
      "/home/ohm/PycharmProjects/FiFi/venv/lib/python3.8/site-packages/shapely/set_operations.py:133: RuntimeWarning: invalid value encountered in intersection\n",
      "  return lib.intersection(a, b, **kwargs)\n"
     ]
    },
    {
     "name": "stdout",
     "output_type": "stream",
     "text": [
      "F1: 0.27809726998577317\n",
      "Presicion: 0.9178553203656838\n",
      "Recall: 0.1638744656598768\n",
      "IoU: 0.19482529509544008\n"
     ]
    },
    {
     "name": "stderr",
     "output_type": "stream",
     "text": [
      "INFO: Created TensorFlow Lite XNNPACK delegate for CPU.\n",
      "Error connect socket: : Connection refused\n",
      "Error: bind to port 40588 on 127.0.0.1 failed in file ../../sockethelper/sockethelper.cpp line 51. Exiting.\n",
      "Error connect socket: : Connection refused\n",
      "Error: bind to port 40588 on 127.0.0.1 failed in file ../../sockethelper/sockethelper.cpp line 51. Exiting.\n",
      "Error connect socket: : Connection refused\n",
      "Error: bind to port 40588 on 127.0.0.1 failed in file ../../sockethelper/sockethelper.cpp line 51. Exiting.\n",
      "Error connect socket: : Connection refused\n",
      "Error: bind to port 40588 on 127.0.0.1 failed in file ../../sockethelper/sockethelper.cpp line 51. Exiting.\n",
      "/home/ohm/PycharmProjects/FiFi/venv/lib/python3.8/site-packages/shapely/set_operations.py:426: RuntimeWarning: divide by zero encountered in unary_union\n",
      "  return lib.unary_union(collections, **kwargs)\n",
      "/home/ohm/PycharmProjects/FiFi/venv/lib/python3.8/site-packages/shapely/set_operations.py:133: RuntimeWarning: invalid value encountered in intersection\n",
      "  return lib.intersection(a, b, **kwargs)\n"
     ]
    },
    {
     "name": "stdout",
     "output_type": "stream",
     "text": [
      "F1: 0.2988413889730468\n",
      "Presicion: 0.9207720409089574\n",
      "Recall: 0.1783654082598079\n",
      "IoU: 0.2337406605703385\n"
     ]
    },
    {
     "name": "stderr",
     "output_type": "stream",
     "text": [
      "INFO: Created TensorFlow Lite XNNPACK delegate for CPU.\n",
      "Error connect socket: : Connection refused\n",
      "Error: bind to port 40588 on 127.0.0.1 failed in file ../../sockethelper/sockethelper.cpp line 51. Exiting.\n",
      "Error connect socket: : Connection refused\n",
      "Error: bind to port 40588 on 127.0.0.1 failed in file ../../sockethelper/sockethelper.cpp line 51. Exiting.\n",
      "Error connect socket: : Connection refused\n",
      "Error: bind to port 40588 on 127.0.0.1 failed in file ../../sockethelper/sockethelper.cpp line 51. Exiting.\n",
      "Error connect socket: : Connection refused\n",
      "Error: bind to port 40588 on 127.0.0.1 failed in file ../../sockethelper/sockethelper.cpp line 51. Exiting.\n",
      "/home/ohm/PycharmProjects/FiFi/venv/lib/python3.8/site-packages/shapely/set_operations.py:426: RuntimeWarning: divide by zero encountered in unary_union\n",
      "  return lib.unary_union(collections, **kwargs)\n",
      "/home/ohm/PycharmProjects/FiFi/venv/lib/python3.8/site-packages/shapely/set_operations.py:133: RuntimeWarning: invalid value encountered in intersection\n",
      "  return lib.intersection(a, b, **kwargs)\n"
     ]
    },
    {
     "name": "stdout",
     "output_type": "stream",
     "text": [
      "F1: 0.3126476910775385\n",
      "Presicion: 0.9179024272079483\n",
      "Recall: 0.188411334961685\n",
      "IoU: 0.24347977994542389\n"
     ]
    },
    {
     "name": "stderr",
     "output_type": "stream",
     "text": [
      "INFO: Created TensorFlow Lite XNNPACK delegate for CPU.\n",
      "Error connect socket: : Connection refused\n",
      "Error: bind to port 40588 on 127.0.0.1 failed in file ../../sockethelper/sockethelper.cpp line 51. Exiting.\n",
      "Error connect socket: : Connection refused\n",
      "Error: bind to port 40588 on 127.0.0.1 failed in file ../../sockethelper/sockethelper.cpp line 51. Exiting.\n",
      "Error connect socket: : Connection refused\n",
      "Error: bind to port 40588 on 127.0.0.1 failed in file ../../sockethelper/sockethelper.cpp line 51. Exiting.\n",
      "Error connect socket: : Connection refused\n",
      "Error: bind to port 40588 on 127.0.0.1 failed in file ../../sockethelper/sockethelper.cpp line 51. Exiting.\n",
      "/home/ohm/PycharmProjects/FiFi/venv/lib/python3.8/site-packages/shapely/set_operations.py:426: RuntimeWarning: divide by zero encountered in unary_union\n",
      "  return lib.unary_union(collections, **kwargs)\n",
      "/home/ohm/PycharmProjects/FiFi/venv/lib/python3.8/site-packages/shapely/set_operations.py:133: RuntimeWarning: invalid value encountered in intersection\n",
      "  return lib.intersection(a, b, **kwargs)\n"
     ]
    },
    {
     "name": "stdout",
     "output_type": "stream",
     "text": [
      "F1: 0.30570444909204236\n",
      "Presicion: 0.9110739504567344\n",
      "Recall: 0.18366616953105128\n",
      "IoU: 0.2311129963466777\n"
     ]
    },
    {
     "name": "stderr",
     "output_type": "stream",
     "text": [
      "INFO: Created TensorFlow Lite XNNPACK delegate for CPU.\n",
      "Error connect socket: : Connection refused\n",
      "Error: bind to port 40588 on 127.0.0.1 failed in file ../../sockethelper/sockethelper.cpp line 51. Exiting.\n",
      "Error connect socket: : Connection refused\n",
      "Error: bind to port 40588 on 127.0.0.1 failed in file ../../sockethelper/sockethelper.cpp line 51. Exiting.\n",
      "Error connect socket: : Connection refused\n",
      "Error: bind to port 40588 on 127.0.0.1 failed in file ../../sockethelper/sockethelper.cpp line 51. Exiting.\n",
      "Error connect socket: : Connection refused\n",
      "Error: bind to port 40588 on 127.0.0.1 failed in file ../../sockethelper/sockethelper.cpp line 51. Exiting.\n",
      "/home/ohm/PycharmProjects/FiFi/venv/lib/python3.8/site-packages/shapely/set_operations.py:426: RuntimeWarning: divide by zero encountered in unary_union\n",
      "  return lib.unary_union(collections, **kwargs)\n"
     ]
    },
    {
     "name": "stdout",
     "output_type": "stream",
     "text": [
      "F1: 0.2029705776302724\n",
      "Presicion: 0.9480232240716032\n",
      "Recall: 0.11365162350251362\n",
      "IoU: 0.1146538398728851\n"
     ]
    },
    {
     "name": "stderr",
     "output_type": "stream",
     "text": [
      "INFO: Created TensorFlow Lite XNNPACK delegate for CPU.\n",
      "Segmentation fault\n",
      "/home/ohm/PycharmProjects/FiFi/venv/lib/python3.8/site-packages/shapely/set_operations.py:426: RuntimeWarning: divide by zero encountered in unary_union\n",
      "  return lib.unary_union(collections, **kwargs)\n"
     ]
    },
    {
     "name": "stdout",
     "output_type": "stream",
     "text": [
      "F1: 0.08904158516053173\n",
      "Presicion: 0.9528132492669349\n",
      "Recall: 0.04670302029490031\n",
      "IoU: 0.05793207074615064\n"
     ]
    },
    {
     "name": "stderr",
     "output_type": "stream",
     "text": [
      "INFO: Created TensorFlow Lite XNNPACK delegate for CPU.\n",
      "Error connect socket: : Connection refused\n",
      "Error: bind to port 40588 on 127.0.0.1 failed in file ../../sockethelper/sockethelper.cpp line 51. Exiting.\n",
      "Error connect socket: : Connection refused\n",
      "Error: bind to port 40588 on 127.0.0.1 failed in file ../../sockethelper/sockethelper.cpp line 51. Exiting.\n",
      "Error connect socket: : Connection refused\n",
      "Error: bind to port 40588 on 127.0.0.1 failed in file ../../sockethelper/sockethelper.cpp line 51. Exiting.\n",
      "Error connect socket: : Connection refused\n",
      "Error: bind to port 40588 on 127.0.0.1 failed in file ../../sockethelper/sockethelper.cpp line 51. Exiting.\n",
      "/home/ohm/PycharmProjects/FiFi/venv/lib/python3.8/site-packages/shapely/set_operations.py:426: RuntimeWarning: divide by zero encountered in unary_union\n",
      "  return lib.unary_union(collections, **kwargs)\n",
      "/home/ohm/PycharmProjects/FiFi/venv/lib/python3.8/site-packages/shapely/set_operations.py:133: RuntimeWarning: invalid value encountered in intersection\n",
      "  return lib.intersection(a, b, **kwargs)\n"
     ]
    },
    {
     "name": "stdout",
     "output_type": "stream",
     "text": [
      "F1: 0.2973737488227578\n",
      "Presicion: 0.9432138475398792\n",
      "Recall: 0.17651196703872465\n",
      "IoU: 0.22028258891391816\n"
     ]
    },
    {
     "name": "stderr",
     "output_type": "stream",
     "text": [
      "INFO: Created TensorFlow Lite XNNPACK delegate for CPU.\n",
      "Error connect socket: : Connection refused\n",
      "Error: bind to port 40588 on 127.0.0.1 failed in file ../../sockethelper/sockethelper.cpp line 51. Exiting.\n",
      "Error connect socket: : Connection refused\n",
      "Error: bind to port 40588 on 127.0.0.1 failed in file ../../sockethelper/sockethelper.cpp line 51. Exiting.\n",
      "Error connect socket: : Connection refused\n",
      "Error: bind to port 40588 on 127.0.0.1 failed in file ../../sockethelper/sockethelper.cpp line 51. Exiting.\n",
      "Error connect socket: : Connection refused\n",
      "Error: bind to port 40588 on 127.0.0.1 failed in file ../../sockethelper/sockethelper.cpp line 51. Exiting.\n",
      "/home/ohm/PycharmProjects/FiFi/venv/lib/python3.8/site-packages/shapely/set_operations.py:426: RuntimeWarning: divide by zero encountered in unary_union\n",
      "  return lib.unary_union(collections, **kwargs)\n",
      "/home/ohm/PycharmProjects/FiFi/venv/lib/python3.8/site-packages/shapely/set_operations.py:133: RuntimeWarning: invalid value encountered in intersection\n",
      "  return lib.intersection(a, b, **kwargs)\n"
     ]
    },
    {
     "name": "stdout",
     "output_type": "stream",
     "text": [
      "F1: 0.3115685090379733\n",
      "Presicion: 0.9236947994807934\n",
      "Recall: 0.1873878496450875\n",
      "IoU: 0.25315602994645053\n"
     ]
    },
    {
     "name": "stderr",
     "output_type": "stream",
     "text": [
      "INFO: Created TensorFlow Lite XNNPACK delegate for CPU.\n",
      "Error connect socket: : Connection refused\n",
      "Error: bind to port 40588 on 127.0.0.1 failed in file ../../sockethelper/sockethelper.cpp line 51. Exiting.\n",
      "Error connect socket: : Connection refused\n",
      "Error: bind to port 40588 on 127.0.0.1 failed in file ../../sockethelper/sockethelper.cpp line 51. Exiting.\n",
      "Error connect socket: : Connection refused\n",
      "Error: bind to port 40588 on 127.0.0.1 failed in file ../../sockethelper/sockethelper.cpp line 51. Exiting.\n",
      "Error connect socket: : Connection refused\n",
      "Error: bind to port 40588 on 127.0.0.1 failed in file ../../sockethelper/sockethelper.cpp line 51. Exiting.\n",
      "/home/ohm/PycharmProjects/FiFi/venv/lib/python3.8/site-packages/shapely/set_operations.py:426: RuntimeWarning: divide by zero encountered in unary_union\n",
      "  return lib.unary_union(collections, **kwargs)\n",
      "/home/ohm/PycharmProjects/FiFi/venv/lib/python3.8/site-packages/shapely/set_operations.py:133: RuntimeWarning: invalid value encountered in intersection\n",
      "  return lib.intersection(a, b, **kwargs)\n"
     ]
    },
    {
     "name": "stdout",
     "output_type": "stream",
     "text": [
      "F1: 0.3130616739550534\n",
      "Presicion: 0.9199992821252291\n",
      "Recall: 0.18862371924477592\n",
      "IoU: 0.24644523295483176\n"
     ]
    },
    {
     "name": "stderr",
     "output_type": "stream",
     "text": [
      "INFO: Created TensorFlow Lite XNNPACK delegate for CPU.\n",
      "/home/ohm/PycharmProjects/FiFi/venv/lib/python3.8/site-packages/shapely/set_operations.py:426: RuntimeWarning: divide by zero encountered in unary_union\n",
      "  return lib.unary_union(collections, **kwargs)\n"
     ]
    },
    {
     "name": "stdout",
     "output_type": "stream",
     "text": [
      "F1: 0.08904158516053173\n",
      "Presicion: 0.9528132492669349\n",
      "Recall: 0.04670302029490031\n",
      "IoU: 0.05793207074615064\n"
     ]
    },
    {
     "name": "stderr",
     "output_type": "stream",
     "text": [
      "INFO: Created TensorFlow Lite XNNPACK delegate for CPU.\n",
      "Error connect socket: : Connection refused\n",
      "Error: bind to port 40588 on 127.0.0.1 failed in file ../../sockethelper/sockethelper.cpp line 51. Exiting.\n",
      "Error connect socket: : Connection refused\n",
      "Error: bind to port 40588 on 127.0.0.1 failed in file ../../sockethelper/sockethelper.cpp line 51. Exiting.\n",
      "Error connect socket: : Connection refused\n",
      "Error: bind to port 40588 on 127.0.0.1 failed in file ../../sockethelper/sockethelper.cpp line 51. Exiting.\n",
      "Error connect socket: : Connection refused\n",
      "Error: bind to port 40588 on 127.0.0.1 failed in file ../../sockethelper/sockethelper.cpp line 51. Exiting.\n",
      "/home/ohm/PycharmProjects/FiFi/venv/lib/python3.8/site-packages/shapely/set_operations.py:426: RuntimeWarning: divide by zero encountered in unary_union\n",
      "  return lib.unary_union(collections, **kwargs)\n",
      "/home/ohm/PycharmProjects/FiFi/venv/lib/python3.8/site-packages/shapely/set_operations.py:133: RuntimeWarning: invalid value encountered in intersection\n",
      "  return lib.intersection(a, b, **kwargs)\n"
     ]
    },
    {
     "name": "stdout",
     "output_type": "stream",
     "text": [
      "F1: 0.31204764770759097\n",
      "Presicion: 0.9262216554232936\n",
      "Recall: 0.1876305521671608\n",
      "IoU: 0.24895082218247086\n"
     ]
    },
    {
     "name": "stderr",
     "output_type": "stream",
     "text": [
      "INFO: Created TensorFlow Lite XNNPACK delegate for CPU.\n",
      "Error connect socket: : Connection refused\n",
      "Error: bind to port 40588 on 127.0.0.1 failed in file ../../sockethelper/sockethelper.cpp line 51. Exiting.\n",
      "Segmentation fault\n",
      "/home/ohm/PycharmProjects/FiFi/venv/lib/python3.8/site-packages/shapely/set_operations.py:426: RuntimeWarning: divide by zero encountered in unary_union\n",
      "  return lib.unary_union(collections, **kwargs)\n"
     ]
    },
    {
     "name": "stdout",
     "output_type": "stream",
     "text": [
      "F1: 0.09058422003236336\n",
      "Presicion: 0.9536544955856217\n",
      "Recall: 0.04755043253405204\n",
      "IoU: 0.05926512961273684\n"
     ]
    },
    {
     "name": "stderr",
     "output_type": "stream",
     "text": [
      "INFO: Created TensorFlow Lite XNNPACK delegate for CPU.\n",
      "Error connect socket: : Connection refused\n",
      "Error: bind to port 40588 on 127.0.0.1 failed in file ../../sockethelper/sockethelper.cpp line 51. Exiting.\n",
      "Error connect socket: : Connection refused\n",
      "Error: bind to port 40588 on 127.0.0.1 failed in file ../../sockethelper/sockethelper.cpp line 51. Exiting.\n",
      "Error connect socket: : Connection refused\n",
      "Error: bind to port 40588 on 127.0.0.1 failed in file ../../sockethelper/sockethelper.cpp line 51. Exiting.\n",
      "Error connect socket: : Connection refused\n",
      "Error: bind to port 40588 on 127.0.0.1 failed in file ../../sockethelper/sockethelper.cpp line 51. Exiting.\n",
      "/home/ohm/PycharmProjects/FiFi/venv/lib/python3.8/site-packages/shapely/set_operations.py:426: RuntimeWarning: divide by zero encountered in unary_union\n",
      "  return lib.unary_union(collections, **kwargs)\n",
      "/home/ohm/PycharmProjects/FiFi/venv/lib/python3.8/site-packages/shapely/set_operations.py:133: RuntimeWarning: invalid value encountered in intersection\n",
      "  return lib.intersection(a, b, **kwargs)\n"
     ]
    },
    {
     "name": "stdout",
     "output_type": "stream",
     "text": [
      "F1: 0.3175884414120236\n",
      "Presicion: 0.9392194375922609\n",
      "Recall: 0.19110430498318975\n",
      "IoU: 0.24280022877102886\n"
     ]
    },
    {
     "name": "stderr",
     "output_type": "stream",
     "text": [
      "INFO: Created TensorFlow Lite XNNPACK delegate for CPU.\n",
      "Error connect socket: : Connection refused\n",
      "Error: bind to port 40588 on 127.0.0.1 failed in file ../../sockethelper/sockethelper.cpp line 51. Exiting.\n",
      "Error connect socket: : Connection refused\n",
      "Error: bind to port 40588 on 127.0.0.1 failed in file ../../sockethelper/sockethelper.cpp line 51. Exiting.\n",
      "Error connect socket: : Connection refused\n",
      "Error: bind to port 40588 on 127.0.0.1 failed in file ../../sockethelper/sockethelper.cpp line 51. Exiting.\n",
      "Error connect socket: : Connection refused\n",
      "Error: bind to port 40588 on 127.0.0.1 failed in file ../../sockethelper/sockethelper.cpp line 51. Exiting.\n",
      "/home/ohm/PycharmProjects/FiFi/venv/lib/python3.8/site-packages/shapely/set_operations.py:426: RuntimeWarning: divide by zero encountered in unary_union\n",
      "  return lib.unary_union(collections, **kwargs)\n",
      "/home/ohm/PycharmProjects/FiFi/venv/lib/python3.8/site-packages/shapely/set_operations.py:133: RuntimeWarning: invalid value encountered in intersection\n",
      "  return lib.intersection(a, b, **kwargs)\n"
     ]
    },
    {
     "name": "stdout",
     "output_type": "stream",
     "text": [
      "F1: 0.31895202837867387\n",
      "Presicion: 0.9222038822791879\n",
      "Recall: 0.19282027780646435\n",
      "IoU: 0.24240603590523194\n"
     ]
    },
    {
     "name": "stderr",
     "output_type": "stream",
     "text": [
      "INFO: Created TensorFlow Lite XNNPACK delegate for CPU.\n",
      "Segmentation fault\n",
      "/home/ohm/PycharmProjects/FiFi/venv/lib/python3.8/site-packages/shapely/set_operations.py:426: RuntimeWarning: divide by zero encountered in unary_union\n",
      "  return lib.unary_union(collections, **kwargs)\n"
     ]
    },
    {
     "name": "stdout",
     "output_type": "stream",
     "text": [
      "F1: 0.08904158516053173\n",
      "Presicion: 0.9528132492669349\n",
      "Recall: 0.04670302029490031\n",
      "IoU: 0.05793207074615064\n"
     ]
    },
    {
     "name": "stderr",
     "output_type": "stream",
     "text": [
      "INFO: Created TensorFlow Lite XNNPACK delegate for CPU.\n",
      "Error connect socket: : Connection refused\n",
      "Error: bind to port 40588 on 127.0.0.1 failed in file ../../sockethelper/sockethelper.cpp line 51. Exiting.\n",
      "Error connect socket: : Connection refused\n",
      "Error: bind to port 40588 on 127.0.0.1 failed in file ../../sockethelper/sockethelper.cpp line 51. Exiting.\n",
      "Error connect socket: : Connection refused\n",
      "Error: bind to port 40588 on 127.0.0.1 failed in file ../../sockethelper/sockethelper.cpp line 51. Exiting.\n",
      "Error connect socket: : Connection refused\n",
      "Error: bind to port 40588 on 127.0.0.1 failed in file ../../sockethelper/sockethelper.cpp line 51. Exiting.\n",
      "/home/ohm/PycharmProjects/FiFi/venv/lib/python3.8/site-packages/shapely/set_operations.py:426: RuntimeWarning: divide by zero encountered in unary_union\n",
      "  return lib.unary_union(collections, **kwargs)\n"
     ]
    },
    {
     "name": "stdout",
     "output_type": "stream",
     "text": [
      "F1: 0.3060468250034743\n",
      "Presicion: 0.9332575271075725\n",
      "Recall: 0.18303512864607208\n",
      "IoU: 0.2354162403908405\n"
     ]
    },
    {
     "name": "stderr",
     "output_type": "stream",
     "text": [
      "INFO: Created TensorFlow Lite XNNPACK delegate for CPU.\n",
      "Error connect socket: : Connection refused\n",
      "Error: bind to port 40588 on 127.0.0.1 failed in file ../../sockethelper/sockethelper.cpp line 51. Exiting.\n",
      "Segmentation fault\n",
      "/home/ohm/PycharmProjects/FiFi/venv/lib/python3.8/site-packages/shapely/set_operations.py:426: RuntimeWarning: divide by zero encountered in unary_union\n",
      "  return lib.unary_union(collections, **kwargs)\n"
     ]
    },
    {
     "name": "stdout",
     "output_type": "stream",
     "text": [
      "F1: 0.08904158516053173\n",
      "Presicion: 0.9528132492669349\n",
      "Recall: 0.04670302029490031\n",
      "IoU: 0.05793207074615064\n"
     ]
    }
   ],
   "source": [
    "SPACE = [\n",
    "    skopt.space.Integer(1, 30, name='V_TEDGEUP'),\n",
    "    skopt.space.Integer(1, 30, name='V_TEDGEDOWN'),\n",
    "    skopt.space.Integer(1, 30, name='V_LINESPACINGUP'),\n",
    "    skopt.space.Integer(1, 30, name='V_LINESPACINGDOWN'),\n",
    "    skopt.space.Integer(1, 10, name='V_MAXEDGESINLINE'),\n",
    "    skopt.space.Integer(50, 800, name='V_GREENREGIONCOLORDIST'),\n",
    "    skopt.space.Integer(1, 20, name='V_MAXLINEBORDER'),\n",
    "    skopt.space.Integer(100, 1000, name='V_MINFIELDAREA'),\n",
    "    skopt.space.Integer(1, 30, name='V_PIXELSPACING'),\n",
    "    skopt.space.Integer(1, 20, name='V_COLORBORDER'),\n",
    "    skopt.space.Real(1, 5, name='V_GREENGAIN', prior='uniform')\n",
    "]\n",
    "\n",
    "opt = skopt.Optimizer(SPACE, n_initial_points=10, acq_func=\"EI\", acq_optimizer=\"auto\", random_state=0)\n",
    "\n",
    "best_score = 0\n",
    "best_params = None\n",
    "for i in range(500):\n",
    "    params = opt.ask()\n",
    "    f1, presicion, recall, iou = evaluate(params)\n",
    "\n",
    "    if f1 > best_score:\n",
    "        best_score = f1\n",
    "        best_params = params\n",
    "\n",
    "    wandb.log({\n",
    "        \"best_score\": best_score,\n",
    "        \"F1\": f1,\n",
    "        \"Presicion\": presicion,\n",
    "        \"Recall\": recall,\n",
    "        \"IoU\": iou,\n",
    "        \"V_TEDGEUP\": params[0],\n",
    "        \"V_TEDGEDOWN\": params[1],\n",
    "        \"V_LINESPACINGUP\": params[2],\n",
    "        \"V_LINESPACINGDOWN\": params[3],\n",
    "        \"V_MAXEDGESINLINE\": params[4],\n",
    "        \"V_GREENREGIONCOLORDIST\": params[5],\n",
    "        \"V_MAXLINEBORDER\": params[6],\n",
    "        \"V_MINFIELDAREA\": params[7],\n",
    "        \"V_PIXELSPACING\": params[8],\n",
    "        \"V_COLORBORDER\": params[9],\n",
    "        \"V_GREENGAIN\": params[10]\n",
    "    })\n",
    "\n",
    "    opt.tell(params, -1*f1)"
   ],
   "metadata": {
    "collapsed": false,
    "ExecuteTime": {
     "end_time": "2023-05-26T17:38:12.727982933Z",
     "start_time": "2023-05-26T13:50:03.219498457Z"
    }
   }
  },
  {
   "cell_type": "code",
   "execution_count": 18,
   "outputs": [
    {
     "name": "stdout",
     "output_type": "stream",
     "text": [
      "0.25315602994645053\n"
     ]
    }
   ],
   "source": [
    "print(best_score)"
   ],
   "metadata": {
    "collapsed": false,
    "ExecuteTime": {
     "end_time": "2023-05-26T17:39:03.958239487Z",
     "start_time": "2023-05-26T17:39:03.948664195Z"
    }
   }
  },
  {
   "cell_type": "code",
   "execution_count": 19,
   "outputs": [
    {
     "name": "stderr",
     "output_type": "stream",
     "text": [
      "INFO: Created TensorFlow Lite XNNPACK delegate for CPU.\n",
      "Error connect socket: : Connection refused\n",
      "Error: bind to port 40588 on 127.0.0.1 failed in file ../../sockethelper/sockethelper.cpp line 51. Exiting.\n",
      "Error connect socket: : Connection refused\n",
      "Error: bind to port 40588 on 127.0.0.1 failed in file ../../sockethelper/sockethelper.cpp line 51. Exiting.\n",
      "Error connect socket: : Connection refused\n",
      "Error: bind to port 40588 on 127.0.0.1 failed in file ../../sockethelper/sockethelper.cpp line 51. Exiting.\n",
      "Error connect socket: : Connection refused\n",
      "Error: bind to port 40588 on 127.0.0.1 failed in file ../../sockethelper/sockethelper.cpp line 51. Exiting.\n",
      "/home/ohm/PycharmProjects/FiFi/venv/lib/python3.8/site-packages/shapely/set_operations.py:426: RuntimeWarning: divide by zero encountered in unary_union\n",
      "  return lib.unary_union(collections, **kwargs)\n",
      "/home/ohm/PycharmProjects/FiFi/venv/lib/python3.8/site-packages/shapely/set_operations.py:133: RuntimeWarning: invalid value encountered in intersection\n",
      "  return lib.intersection(a, b, **kwargs)\n"
     ]
    },
    {
     "name": "stdout",
     "output_type": "stream",
     "text": [
      "F1: 0.31634278361549195\n",
      "Presicion: 0.9246858537487302\n",
      "Recall: 0.19081029221811519\n",
      "IoU: 0.25258395565384417\n",
      "(0.31634278361549195, 0.9246858537487302, 0.19081029221811519, 0.25258395565384417)\n"
     ]
    }
   ],
   "source": [
    "print(evaluate(best_params))"
   ],
   "metadata": {
    "collapsed": false,
    "ExecuteTime": {
     "end_time": "2023-05-26T17:39:43.777438604Z",
     "start_time": "2023-05-26T17:39:28.671686508Z"
    }
   }
  },
  {
   "cell_type": "code",
   "execution_count": 16,
   "outputs": [],
   "source": [
    "wandb.run.summary[\"best_params\"] = best_params\n",
    "wandb.run.summary[\"best_score\"] = best_score"
   ],
   "metadata": {
    "collapsed": false,
    "ExecuteTime": {
     "end_time": "2023-05-26T17:38:12.738096783Z",
     "start_time": "2023-05-26T17:38:12.730114881Z"
    }
   }
  },
  {
   "cell_type": "code",
   "execution_count": 17,
   "outputs": [
    {
     "data": {
      "text/plain": "<IPython.core.display.HTML object>",
      "text/html": "Waiting for W&B process to finish... <strong style=\"color:green\">(success).</strong>"
     },
     "metadata": {},
     "output_type": "display_data"
    },
    {
     "data": {
      "text/plain": "VBox(children=(Label(value='0.003 MB of 0.003 MB uploaded (0.000 MB deduped)\\r'), FloatProgress(value=1.0, max…",
      "application/vnd.jupyter.widget-view+json": {
       "version_major": 2,
       "version_minor": 0,
       "model_id": "c7c9049bc65345e9adaa8e3246444719"
      }
     },
     "metadata": {},
     "output_type": "display_data"
    },
    {
     "data": {
      "text/plain": "<IPython.core.display.HTML object>",
      "text/html": "<style>\n    table.wandb td:nth-child(1) { padding: 0 10px; text-align: left ; width: auto;} td:nth-child(2) {text-align: left ; width: 100%}\n    .wandb-row { display: flex; flex-direction: row; flex-wrap: wrap; justify-content: flex-start; width: 100% }\n    .wandb-col { display: flex; flex-direction: column; flex-basis: 100%; flex: 1; padding: 10px; }\n    </style>\n<div class=\"wandb-row\"><div class=\"wandb-col\"><h3>Run history:</h3><br/><table class=\"wandb\"><tr><td>F1</td><td>▁▁▁▁▄▅▇▄▄▅▆▁▄▄▅▁▃▁▇▇▇▇▆▂▇▇█▅▁█▆█▁▁▁▁▁▄▆█</td></tr><tr><td>IoU</td><td>▁▁▁▁▄▄▆▄▅▅▆▁▃▄▅▁▄▁▇▇▇▇▅▂▆▇▇▄▁█▇█▁▁▁▁▁▄▇█</td></tr><tr><td>Presicion</td><td>▁▁▁▁▅▅▇▅▅▆▆▁▄▄▆▁▄▁▇▇▇▇▅▂▆▇▇▄▁█▇█▁▁▁▁▁▄▇█</td></tr><tr><td>Recall</td><td>████▇▂▇█▇█▇█▄▆████▇▅▆▆▅▇▇▇█▆█▇▇█▁████▇▆▇</td></tr><tr><td>V_COLORBORDER</td><td>▂███▅▅▁▅▆▄▃▂█▇▅▇▆▄▁▆▇▄█▇▄▅▆▄▇█▄▅█▄▃▁▃▂█▄</td></tr><tr><td>V_GREENGAIN</td><td>█▄▁▃▅▅▄▄▃▆▁▆▂▇▂▇▁▃▃▅▄▄▆▄▅▇▃▂▂▂▆▃▅▄▆▇▅▆▁▁</td></tr><tr><td>V_GREENREGIONCOLORDIST</td><td>▇▅▁▃▆▆▄▁▃▅▂▅█▁▆▄▄▁▃▂▇▃▅▃██▂▃▆▂▄█▇▄▄▄▂▄▅▅</td></tr><tr><td>V_LINESPACINGDOWN</td><td>▂▃▃▂▁▁▄▁▁▃▁▁▁▁▂█▁▃▁▂▁▂▃▄▂▃▃▃▃▃▁▃█▇▅▇▇▁▃▃</td></tr><tr><td>V_LINESPACINGUP</td><td>▂▅▄▅▁▁▁▁▁▁▁▁▁▃▁█▁▁▃▃▃▃▁▃▂▁▂▃▅▃▃▃▂█▃▃▂▁▃▄</td></tr><tr><td>V_MAXEDGESINLINE</td><td>▃█▅▅▆▁▆▂▃▇▁▅▅▄▅▃▃▅▃▅▇▃▄▁▂▅▅▄▆▆▄▅▃▇▁▂▄▅█▇</td></tr><tr><td>V_MAXLINEBORDER</td><td>▄██▁▆█▃▁▃▁▅▆▆▂▂▄▅▆▇██▇▂▁▁▆▇▇▅▇▆█▁█▅██▂▇▇</td></tr><tr><td>V_MINFIELDAREA</td><td>▅▃▇▇▂██▄▁▂▁▇▁▁██▁▆▁███▄█▁█▅█▁█▆█████▁▁▅▇</td></tr><tr><td>V_PIXELSPACING</td><td>▇█▆▅█▂▃▃█▄▇█▇█▂█▅▆▇▄▃▄▃▄▇▃▄▃▁▃▄▃▁▁█▁▁▄▄▃</td></tr><tr><td>V_TEDGEDOWN</td><td>▃▃█▇▇▂▆▄▄▆▄█▁▂▇▃█▅▄▃▅▆▂▂▄▅▄▁▁▅▄▅▁███▁▃█▄</td></tr><tr><td>V_TEDGEUP</td><td>▂▆▁▂▂█▃▆▆█▂▆█▂▂▁▄▄▁▃▁▆▇▁▁▁▁▂▅▃▄█▄▁▂▇▁▄██</td></tr><tr><td>best_score</td><td>▁▁▁▁▁▂▃▃▃▃▃▃▃▄▄▄▄▄▄▆▆▆▆▇▇▇▇▇▇▇▇▇████████</td></tr></table><br/></div><div class=\"wandb-col\"><h3>Run summary:</h3><br/><table class=\"wandb\"><tr><td>F1</td><td>0.05793</td></tr><tr><td>IoU</td><td>0.0467</td></tr><tr><td>Presicion</td><td>0.08904</td></tr><tr><td>Recall</td><td>0.95281</td></tr><tr><td>V_COLORBORDER</td><td>20</td></tr><tr><td>V_GREENGAIN</td><td>1.55072</td></tr><tr><td>V_GREENREGIONCOLORDIST</td><td>326</td></tr><tr><td>V_LINESPACINGDOWN</td><td>24</td></tr><tr><td>V_LINESPACINGUP</td><td>30</td></tr><tr><td>V_MAXEDGESINLINE</td><td>6</td></tr><tr><td>V_MAXLINEBORDER</td><td>19</td></tr><tr><td>V_MINFIELDAREA</td><td>100</td></tr><tr><td>V_PIXELSPACING</td><td>1</td></tr><tr><td>V_TEDGEDOWN</td><td>1</td></tr><tr><td>V_TEDGEUP</td><td>30</td></tr><tr><td>best_score</td><td>0.25316</td></tr></table><br/></div></div>"
     },
     "metadata": {},
     "output_type": "display_data"
    },
    {
     "data": {
      "text/plain": "<IPython.core.display.HTML object>",
      "text/html": " View run <strong style=\"color:#cdcd00\">snowy-plasma-7</strong> at: <a href='https://wandb.ai/htwk-robots/old-vision-parameter-optimisation/runs/jkgvg2w6' target=\"_blank\">https://wandb.ai/htwk-robots/old-vision-parameter-optimisation/runs/jkgvg2w6</a><br/>Synced 5 W&B file(s), 0 media file(s), 0 artifact file(s) and 0 other file(s)"
     },
     "metadata": {},
     "output_type": "display_data"
    },
    {
     "data": {
      "text/plain": "<IPython.core.display.HTML object>",
      "text/html": "Find logs at: <code>./wandb/run-20230526_154954-jkgvg2w6/logs</code>"
     },
     "metadata": {},
     "output_type": "display_data"
    }
   ],
   "source": [
    "wandb.finish()"
   ],
   "metadata": {
    "collapsed": false,
    "ExecuteTime": {
     "end_time": "2023-05-26T17:38:18.416686297Z",
     "start_time": "2023-05-26T17:38:12.730192756Z"
    }
   }
  },
  {
   "cell_type": "code",
   "execution_count": 17,
   "outputs": [],
   "source": [],
   "metadata": {
    "collapsed": false,
    "ExecuteTime": {
     "end_time": "2023-05-26T17:38:18.423226017Z",
     "start_time": "2023-05-26T17:38:18.418410573Z"
    }
   }
  }
 ],
 "metadata": {
  "kernelspec": {
   "display_name": "Python 3",
   "language": "python",
   "name": "python3"
  },
  "language_info": {
   "codemirror_mode": {
    "name": "ipython",
    "version": 2
   },
   "file_extension": ".py",
   "mimetype": "text/x-python",
   "name": "python",
   "nbconvert_exporter": "python",
   "pygments_lexer": "ipython2",
   "version": "2.7.6"
  }
 },
 "nbformat": 4,
 "nbformat_minor": 0
}
